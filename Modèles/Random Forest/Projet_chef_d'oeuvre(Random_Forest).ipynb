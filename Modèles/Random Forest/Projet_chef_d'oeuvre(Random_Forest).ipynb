{
  "nbformat": 4,
  "nbformat_minor": 0,
  "metadata": {
    "colab": {
      "name": " Projet_chef_d'oeuvre(Random Forest).ipynb",
      "provenance": []
    },
    "kernelspec": {
      "name": "python3",
      "display_name": "Python 3"
    },
    "language_info": {
      "name": "python"
    }
  },
  "cells": [
    {
      "cell_type": "code",
      "metadata": {
        "id": "xeORs_rVKhsV"
      },
      "source": [
        "import warnings\n",
        "import itertools\n",
        "import numpy as np\n",
        "import matplotlib.pyplot as plt\n",
        "warnings.filterwarnings(\"ignore\")\n",
        "plt.style.use('fivethirtyeight')\n",
        "import pandas as pd\n",
        "import statsmodels.api as sm\n",
        "import matplotlib\n",
        "matplotlib.rcParams['axes.labelsize'] = 14\n",
        "matplotlib.rcParams['xtick.labelsize'] = 12\n",
        "matplotlib.rcParams['ytick.labelsize'] = 12\n",
        "matplotlib.rcParams['text.color'] = 'k'\n",
        "import seaborn as sns\n",
        "sns.set(style=\"white\") #white background style for seaborn plots\n",
        "sns.set(style=\"whitegrid\", color_codes=True)\n",
        "from numpy import array\n",
        "from keras.preprocessing.text import one_hot\n",
        "from keras.preprocessing.sequence import pad_sequences\n",
        "from keras.models import Sequential\n",
        "from keras.layers.core import Activation, Dropout, Dense\n",
        "from keras.layers import Flatten, LSTM\n",
        "from keras.layers import GlobalMaxPooling1D\n",
        "from keras.models import Model\n",
        "from keras.layers.embeddings import Embedding\n",
        "from sklearn.model_selection import train_test_split\n",
        "from keras.preprocessing.text import Tokenizer\n",
        "from keras.layers import Input\n",
        "from keras.layers.merge import Concatenate\n",
        "from keras.layers import Bidirectional\n",
        "import re\n",
        "from statsmodels.tsa.stattools import adfuller\n",
        "from statsmodels.tsa.stattools import acf, pacf\n",
        "from statsmodels.tsa.seasonal import seasonal_decompose\n",
        "from statsmodels.tsa.arima_model import ARIMA\n",
        "from sklearn.model_selection import train_test_split, cross_val_score, GridSearchCV\n",
        "from sklearn.linear_model import LinearRegression\n",
        "import matplotlib.pyplot as plt\n",
        "from statsmodels.graphics.tsaplots import plot_acf,plot_pacf\n",
        "from sklearn.metrics import mean_absolute_error\n",
        "from sklearn.model_selection import train_test_split\n",
        "from sklearn.metrics import mean_squared_error, r2_score\n",
        "from sklearn.model_selection import GridSearchCV\n",
        "from sklearn.ensemble import RandomForestRegressor\n",
        "from math import sqrt\n",
        "from sklearn.metrics import r2_score\n"
      ],
      "execution_count": null,
      "outputs": []
    },
    {
      "cell_type": "code",
      "metadata": {
        "colab": {
          "base_uri": "https://localhost:8080/",
          "height": 803
        },
        "id": "Ja_GJ8ZEK0OZ",
        "outputId": "7dff9bcc-0d39-4ebe-fbf1-9b73505b2cbc"
      },
      "source": [
        "Pop = pd.read_csv(\"/content/Tomates+météo - Tableau 1 (1).csv\")\n",
        "Pop"
      ],
      "execution_count": null,
      "outputs": [
        {
          "output_type": "execute_result",
          "data": {
            "text/html": [
              "<div>\n",
              "<style scoped>\n",
              "    .dataframe tbody tr th:only-of-type {\n",
              "        vertical-align: middle;\n",
              "    }\n",
              "\n",
              "    .dataframe tbody tr th {\n",
              "        vertical-align: top;\n",
              "    }\n",
              "\n",
              "    .dataframe thead th {\n",
              "        text-align: right;\n",
              "    }\n",
              "</style>\n",
              "<table border=\"1\" class=\"dataframe\">\n",
              "  <thead>\n",
              "    <tr style=\"text-align: right;\">\n",
              "      <th></th>\n",
              "      <th>Date</th>\n",
              "      <th>prix moyen au kg</th>\n",
              "      <th>prix minimal</th>\n",
              "      <th>prix maximal</th>\n",
              "      <th>Production quantité \\ntonne(s)</th>\n",
              "      <th>Température minimale en °C</th>\n",
              "      <th>Température maximale en °C</th>\n",
              "      <th>précipitations en mm</th>\n",
              "      <th>Ensoleillement en min</th>\n",
              "      <th>Rafales (vitesse du vent) en km/h</th>\n",
              "      <th>catégorie tomates</th>\n",
              "    </tr>\n",
              "  </thead>\n",
              "  <tbody>\n",
              "    <tr>\n",
              "      <th>0</th>\n",
              "      <td>21/06/21</td>\n",
              "      <td>1.50</td>\n",
              "      <td>1.5</td>\n",
              "      <td>1.5</td>\n",
              "      <td>0.200</td>\n",
              "      <td>15.7</td>\n",
              "      <td>24.9</td>\n",
              "      <td>3.8</td>\n",
              "      <td>423</td>\n",
              "      <td>61.2</td>\n",
              "      <td>Tomate ronde  cat.I 57-67mm</td>\n",
              "    </tr>\n",
              "    <tr>\n",
              "      <th>1</th>\n",
              "      <td>04/12/20</td>\n",
              "      <td>1.50</td>\n",
              "      <td>NaN</td>\n",
              "      <td>NaN</td>\n",
              "      <td>0.100</td>\n",
              "      <td>2.9</td>\n",
              "      <td>6.6</td>\n",
              "      <td>0.8</td>\n",
              "      <td>256</td>\n",
              "      <td>65.9</td>\n",
              "      <td>Tomate ronde  cat.I 57-67mm</td>\n",
              "    </tr>\n",
              "    <tr>\n",
              "      <th>2</th>\n",
              "      <td>06/11/20</td>\n",
              "      <td>1.10</td>\n",
              "      <td>NaN</td>\n",
              "      <td>NaN</td>\n",
              "      <td>0.100</td>\n",
              "      <td>2.3</td>\n",
              "      <td>13.4</td>\n",
              "      <td>0.0</td>\n",
              "      <td>491</td>\n",
              "      <td>46.8</td>\n",
              "      <td>Tomate ronde  cat.I 57-67mm</td>\n",
              "    </tr>\n",
              "    <tr>\n",
              "      <th>3</th>\n",
              "      <td>05/11/20</td>\n",
              "      <td>1.10</td>\n",
              "      <td>NaN</td>\n",
              "      <td>NaN</td>\n",
              "      <td>0.100</td>\n",
              "      <td>1.8</td>\n",
              "      <td>11.5</td>\n",
              "      <td>0.0</td>\n",
              "      <td>533</td>\n",
              "      <td>32.4</td>\n",
              "      <td>Tomate ronde  cat.I 57-67mm</td>\n",
              "    </tr>\n",
              "    <tr>\n",
              "      <th>4</th>\n",
              "      <td>30/10/20</td>\n",
              "      <td>1.05</td>\n",
              "      <td>1.0</td>\n",
              "      <td>1.1</td>\n",
              "      <td>0.100</td>\n",
              "      <td>12.6</td>\n",
              "      <td>15.9</td>\n",
              "      <td>0.0</td>\n",
              "      <td>0</td>\n",
              "      <td>40.7</td>\n",
              "      <td>Tomate ronde  cat.I 57-67mm</td>\n",
              "    </tr>\n",
              "    <tr>\n",
              "      <th>...</th>\n",
              "      <td>...</td>\n",
              "      <td>...</td>\n",
              "      <td>...</td>\n",
              "      <td>...</td>\n",
              "      <td>...</td>\n",
              "      <td>...</td>\n",
              "      <td>...</td>\n",
              "      <td>...</td>\n",
              "      <td>...</td>\n",
              "      <td>...</td>\n",
              "      <td>...</td>\n",
              "    </tr>\n",
              "    <tr>\n",
              "      <th>419</th>\n",
              "      <td>24/06/13</td>\n",
              "      <td>1.10</td>\n",
              "      <td>1.1</td>\n",
              "      <td>1.1</td>\n",
              "      <td>1.120</td>\n",
              "      <td>10.5</td>\n",
              "      <td>19.1</td>\n",
              "      <td>0.0</td>\n",
              "      <td>342</td>\n",
              "      <td>42.6</td>\n",
              "      <td>Tomate ronde cat.I 67-82mm</td>\n",
              "    </tr>\n",
              "    <tr>\n",
              "      <th>420</th>\n",
              "      <td>20/06/13</td>\n",
              "      <td>1.50</td>\n",
              "      <td>1.5</td>\n",
              "      <td>1.5</td>\n",
              "      <td>0.075</td>\n",
              "      <td>14.0</td>\n",
              "      <td>21.5</td>\n",
              "      <td>0.8</td>\n",
              "      <td>216</td>\n",
              "      <td>37.1</td>\n",
              "      <td>Tomate ronde cat.I 67-82mm</td>\n",
              "    </tr>\n",
              "    <tr>\n",
              "      <th>421</th>\n",
              "      <td>17/06/13</td>\n",
              "      <td>1.50</td>\n",
              "      <td>1.5</td>\n",
              "      <td>1.5</td>\n",
              "      <td>0.020</td>\n",
              "      <td>15.0</td>\n",
              "      <td>27.2</td>\n",
              "      <td>6.8</td>\n",
              "      <td>210</td>\n",
              "      <td>61.1</td>\n",
              "      <td>Tomate ronde cat.I 67-82mm</td>\n",
              "    </tr>\n",
              "    <tr>\n",
              "      <th>422</th>\n",
              "      <td>18/09/12</td>\n",
              "      <td>1.10</td>\n",
              "      <td>1.1</td>\n",
              "      <td>1.1</td>\n",
              "      <td>0.180</td>\n",
              "      <td>10.3</td>\n",
              "      <td>20.1</td>\n",
              "      <td>0.0</td>\n",
              "      <td>126</td>\n",
              "      <td>34.2</td>\n",
              "      <td>Tomate ronde cat.I 67-82mm</td>\n",
              "    </tr>\n",
              "    <tr>\n",
              "      <th>423</th>\n",
              "      <td>29/06/12</td>\n",
              "      <td>1.20</td>\n",
              "      <td>1.2</td>\n",
              "      <td>1.2</td>\n",
              "      <td>0.400</td>\n",
              "      <td>14.3</td>\n",
              "      <td>24.4</td>\n",
              "      <td>0.0</td>\n",
              "      <td>180</td>\n",
              "      <td>37.8</td>\n",
              "      <td>Tomate ronde cat.I 67-82mm</td>\n",
              "    </tr>\n",
              "  </tbody>\n",
              "</table>\n",
              "<p>424 rows × 11 columns</p>\n",
              "</div>"
            ],
            "text/plain": [
              "         Date  ...            catégorie tomates\n",
              "0    21/06/21  ...  Tomate ronde  cat.I 57-67mm\n",
              "1    04/12/20  ...  Tomate ronde  cat.I 57-67mm\n",
              "2    06/11/20  ...  Tomate ronde  cat.I 57-67mm\n",
              "3    05/11/20  ...  Tomate ronde  cat.I 57-67mm\n",
              "4    30/10/20  ...  Tomate ronde  cat.I 57-67mm\n",
              "..        ...  ...                          ...\n",
              "419  24/06/13  ...   Tomate ronde cat.I 67-82mm\n",
              "420  20/06/13  ...   Tomate ronde cat.I 67-82mm\n",
              "421  17/06/13  ...   Tomate ronde cat.I 67-82mm\n",
              "422  18/09/12  ...   Tomate ronde cat.I 67-82mm\n",
              "423  29/06/12  ...   Tomate ronde cat.I 67-82mm\n",
              "\n",
              "[424 rows x 11 columns]"
            ]
          },
          "metadata": {},
          "execution_count": 123
        }
      ]
    },
    {
      "cell_type": "code",
      "metadata": {
        "colab": {
          "base_uri": "https://localhost:8080/",
          "height": 618
        },
        "id": "o8tuVhG7LFH1",
        "outputId": "3baa632f-ca49-4acd-c796-8930a0f0099e"
      },
      "source": [
        "Pop = Pop.drop([\"prix maximal\",\"prix minimal\"], axis=1)\n",
        "Pop"
      ],
      "execution_count": null,
      "outputs": [
        {
          "output_type": "execute_result",
          "data": {
            "text/html": [
              "<div>\n",
              "<style scoped>\n",
              "    .dataframe tbody tr th:only-of-type {\n",
              "        vertical-align: middle;\n",
              "    }\n",
              "\n",
              "    .dataframe tbody tr th {\n",
              "        vertical-align: top;\n",
              "    }\n",
              "\n",
              "    .dataframe thead th {\n",
              "        text-align: right;\n",
              "    }\n",
              "</style>\n",
              "<table border=\"1\" class=\"dataframe\">\n",
              "  <thead>\n",
              "    <tr style=\"text-align: right;\">\n",
              "      <th></th>\n",
              "      <th>Date</th>\n",
              "      <th>prix moyen au kg</th>\n",
              "      <th>Production quantité \\ntonne(s)</th>\n",
              "      <th>Température minimale en °C</th>\n",
              "      <th>Température maximale en °C</th>\n",
              "      <th>précipitations en mm</th>\n",
              "      <th>Ensoleillement en min</th>\n",
              "      <th>Rafales (vitesse du vent) en km/h</th>\n",
              "      <th>catégorie tomates</th>\n",
              "    </tr>\n",
              "  </thead>\n",
              "  <tbody>\n",
              "    <tr>\n",
              "      <th>0</th>\n",
              "      <td>21/06/21</td>\n",
              "      <td>1.50</td>\n",
              "      <td>0.200</td>\n",
              "      <td>15.7</td>\n",
              "      <td>24.9</td>\n",
              "      <td>3.8</td>\n",
              "      <td>423</td>\n",
              "      <td>61.2</td>\n",
              "      <td>Tomate ronde  cat.I 57-67mm</td>\n",
              "    </tr>\n",
              "    <tr>\n",
              "      <th>1</th>\n",
              "      <td>04/12/20</td>\n",
              "      <td>1.50</td>\n",
              "      <td>0.100</td>\n",
              "      <td>2.9</td>\n",
              "      <td>6.6</td>\n",
              "      <td>0.8</td>\n",
              "      <td>256</td>\n",
              "      <td>65.9</td>\n",
              "      <td>Tomate ronde  cat.I 57-67mm</td>\n",
              "    </tr>\n",
              "    <tr>\n",
              "      <th>2</th>\n",
              "      <td>06/11/20</td>\n",
              "      <td>1.10</td>\n",
              "      <td>0.100</td>\n",
              "      <td>2.3</td>\n",
              "      <td>13.4</td>\n",
              "      <td>0.0</td>\n",
              "      <td>491</td>\n",
              "      <td>46.8</td>\n",
              "      <td>Tomate ronde  cat.I 57-67mm</td>\n",
              "    </tr>\n",
              "    <tr>\n",
              "      <th>3</th>\n",
              "      <td>05/11/20</td>\n",
              "      <td>1.10</td>\n",
              "      <td>0.100</td>\n",
              "      <td>1.8</td>\n",
              "      <td>11.5</td>\n",
              "      <td>0.0</td>\n",
              "      <td>533</td>\n",
              "      <td>32.4</td>\n",
              "      <td>Tomate ronde  cat.I 57-67mm</td>\n",
              "    </tr>\n",
              "    <tr>\n",
              "      <th>4</th>\n",
              "      <td>30/10/20</td>\n",
              "      <td>1.05</td>\n",
              "      <td>0.100</td>\n",
              "      <td>12.6</td>\n",
              "      <td>15.9</td>\n",
              "      <td>0.0</td>\n",
              "      <td>0</td>\n",
              "      <td>40.7</td>\n",
              "      <td>Tomate ronde  cat.I 57-67mm</td>\n",
              "    </tr>\n",
              "    <tr>\n",
              "      <th>...</th>\n",
              "      <td>...</td>\n",
              "      <td>...</td>\n",
              "      <td>...</td>\n",
              "      <td>...</td>\n",
              "      <td>...</td>\n",
              "      <td>...</td>\n",
              "      <td>...</td>\n",
              "      <td>...</td>\n",
              "      <td>...</td>\n",
              "    </tr>\n",
              "    <tr>\n",
              "      <th>419</th>\n",
              "      <td>24/06/13</td>\n",
              "      <td>1.10</td>\n",
              "      <td>1.120</td>\n",
              "      <td>10.5</td>\n",
              "      <td>19.1</td>\n",
              "      <td>0.0</td>\n",
              "      <td>342</td>\n",
              "      <td>42.6</td>\n",
              "      <td>Tomate ronde cat.I 67-82mm</td>\n",
              "    </tr>\n",
              "    <tr>\n",
              "      <th>420</th>\n",
              "      <td>20/06/13</td>\n",
              "      <td>1.50</td>\n",
              "      <td>0.075</td>\n",
              "      <td>14.0</td>\n",
              "      <td>21.5</td>\n",
              "      <td>0.8</td>\n",
              "      <td>216</td>\n",
              "      <td>37.1</td>\n",
              "      <td>Tomate ronde cat.I 67-82mm</td>\n",
              "    </tr>\n",
              "    <tr>\n",
              "      <th>421</th>\n",
              "      <td>17/06/13</td>\n",
              "      <td>1.50</td>\n",
              "      <td>0.020</td>\n",
              "      <td>15.0</td>\n",
              "      <td>27.2</td>\n",
              "      <td>6.8</td>\n",
              "      <td>210</td>\n",
              "      <td>61.1</td>\n",
              "      <td>Tomate ronde cat.I 67-82mm</td>\n",
              "    </tr>\n",
              "    <tr>\n",
              "      <th>422</th>\n",
              "      <td>18/09/12</td>\n",
              "      <td>1.10</td>\n",
              "      <td>0.180</td>\n",
              "      <td>10.3</td>\n",
              "      <td>20.1</td>\n",
              "      <td>0.0</td>\n",
              "      <td>126</td>\n",
              "      <td>34.2</td>\n",
              "      <td>Tomate ronde cat.I 67-82mm</td>\n",
              "    </tr>\n",
              "    <tr>\n",
              "      <th>423</th>\n",
              "      <td>29/06/12</td>\n",
              "      <td>1.20</td>\n",
              "      <td>0.400</td>\n",
              "      <td>14.3</td>\n",
              "      <td>24.4</td>\n",
              "      <td>0.0</td>\n",
              "      <td>180</td>\n",
              "      <td>37.8</td>\n",
              "      <td>Tomate ronde cat.I 67-82mm</td>\n",
              "    </tr>\n",
              "  </tbody>\n",
              "</table>\n",
              "<p>424 rows × 9 columns</p>\n",
              "</div>"
            ],
            "text/plain": [
              "         Date  ...            catégorie tomates\n",
              "0    21/06/21  ...  Tomate ronde  cat.I 57-67mm\n",
              "1    04/12/20  ...  Tomate ronde  cat.I 57-67mm\n",
              "2    06/11/20  ...  Tomate ronde  cat.I 57-67mm\n",
              "3    05/11/20  ...  Tomate ronde  cat.I 57-67mm\n",
              "4    30/10/20  ...  Tomate ronde  cat.I 57-67mm\n",
              "..        ...  ...                          ...\n",
              "419  24/06/13  ...   Tomate ronde cat.I 67-82mm\n",
              "420  20/06/13  ...   Tomate ronde cat.I 67-82mm\n",
              "421  17/06/13  ...   Tomate ronde cat.I 67-82mm\n",
              "422  18/09/12  ...   Tomate ronde cat.I 67-82mm\n",
              "423  29/06/12  ...   Tomate ronde cat.I 67-82mm\n",
              "\n",
              "[424 rows x 9 columns]"
            ]
          },
          "metadata": {},
          "execution_count": 124
        }
      ]
    },
    {
      "cell_type": "code",
      "metadata": {
        "colab": {
          "base_uri": "https://localhost:8080/",
          "height": 312
        },
        "id": "Ab8aRs-hLFTT",
        "outputId": "e59263a0-6304-4fcf-842a-cd91950420fc"
      },
      "source": [
        "Pop.describe()"
      ],
      "execution_count": null,
      "outputs": [
        {
          "output_type": "execute_result",
          "data": {
            "text/html": [
              "<div>\n",
              "<style scoped>\n",
              "    .dataframe tbody tr th:only-of-type {\n",
              "        vertical-align: middle;\n",
              "    }\n",
              "\n",
              "    .dataframe tbody tr th {\n",
              "        vertical-align: top;\n",
              "    }\n",
              "\n",
              "    .dataframe thead th {\n",
              "        text-align: right;\n",
              "    }\n",
              "</style>\n",
              "<table border=\"1\" class=\"dataframe\">\n",
              "  <thead>\n",
              "    <tr style=\"text-align: right;\">\n",
              "      <th></th>\n",
              "      <th>prix moyen au kg</th>\n",
              "      <th>Production quantité \\ntonne(s)</th>\n",
              "      <th>Température minimale en °C</th>\n",
              "      <th>Température maximale en °C</th>\n",
              "      <th>précipitations en mm</th>\n",
              "      <th>Ensoleillement en min</th>\n",
              "      <th>Rafales (vitesse du vent) en km/h</th>\n",
              "    </tr>\n",
              "  </thead>\n",
              "  <tbody>\n",
              "    <tr>\n",
              "      <th>count</th>\n",
              "      <td>421.000000</td>\n",
              "      <td>424.000000</td>\n",
              "      <td>424.000000</td>\n",
              "      <td>424.000000</td>\n",
              "      <td>424.000000</td>\n",
              "      <td>424.000000</td>\n",
              "      <td>424.000000</td>\n",
              "    </tr>\n",
              "    <tr>\n",
              "      <th>mean</th>\n",
              "      <td>1.264798</td>\n",
              "      <td>0.464830</td>\n",
              "      <td>12.051651</td>\n",
              "      <td>23.908726</td>\n",
              "      <td>1.475236</td>\n",
              "      <td>436.160377</td>\n",
              "      <td>40.075472</td>\n",
              "    </tr>\n",
              "    <tr>\n",
              "      <th>std</th>\n",
              "      <td>0.288990</td>\n",
              "      <td>0.776784</td>\n",
              "      <td>3.965298</td>\n",
              "      <td>5.803186</td>\n",
              "      <td>4.417398</td>\n",
              "      <td>266.967955</td>\n",
              "      <td>12.427627</td>\n",
              "    </tr>\n",
              "    <tr>\n",
              "      <th>min</th>\n",
              "      <td>0.500000</td>\n",
              "      <td>0.016000</td>\n",
              "      <td>-0.100000</td>\n",
              "      <td>6.600000</td>\n",
              "      <td>0.000000</td>\n",
              "      <td>0.000000</td>\n",
              "      <td>14.400000</td>\n",
              "    </tr>\n",
              "    <tr>\n",
              "      <th>25%</th>\n",
              "      <td>1.050000</td>\n",
              "      <td>0.100000</td>\n",
              "      <td>9.800000</td>\n",
              "      <td>20.100000</td>\n",
              "      <td>0.000000</td>\n",
              "      <td>210.000000</td>\n",
              "      <td>31.500000</td>\n",
              "    </tr>\n",
              "    <tr>\n",
              "      <th>50%</th>\n",
              "      <td>1.200000</td>\n",
              "      <td>0.240000</td>\n",
              "      <td>12.300000</td>\n",
              "      <td>23.700000</td>\n",
              "      <td>0.000000</td>\n",
              "      <td>447.500000</td>\n",
              "      <td>38.900000</td>\n",
              "    </tr>\n",
              "    <tr>\n",
              "      <th>75%</th>\n",
              "      <td>1.500000</td>\n",
              "      <td>0.500000</td>\n",
              "      <td>14.700000</td>\n",
              "      <td>28.000000</td>\n",
              "      <td>0.400000</td>\n",
              "      <td>658.500000</td>\n",
              "      <td>46.800000</td>\n",
              "    </tr>\n",
              "    <tr>\n",
              "      <th>max</th>\n",
              "      <td>2.000000</td>\n",
              "      <td>7.680000</td>\n",
              "      <td>23.200000</td>\n",
              "      <td>41.300000</td>\n",
              "      <td>31.900000</td>\n",
              "      <td>906.000000</td>\n",
              "      <td>92.600000</td>\n",
              "    </tr>\n",
              "  </tbody>\n",
              "</table>\n",
              "</div>"
            ],
            "text/plain": [
              "       prix moyen au kg  ...  Rafales (vitesse du vent) en km/h\n",
              "count        421.000000  ...                         424.000000\n",
              "mean           1.264798  ...                          40.075472\n",
              "std            0.288990  ...                          12.427627\n",
              "min            0.500000  ...                          14.400000\n",
              "25%            1.050000  ...                          31.500000\n",
              "50%            1.200000  ...                          38.900000\n",
              "75%            1.500000  ...                          46.800000\n",
              "max            2.000000  ...                          92.600000\n",
              "\n",
              "[8 rows x 7 columns]"
            ]
          },
          "metadata": {},
          "execution_count": 125
        }
      ]
    },
    {
      "cell_type": "code",
      "metadata": {
        "colab": {
          "base_uri": "https://localhost:8080/",
          "height": 334
        },
        "id": "GalzdVVQLO19",
        "outputId": "ba3587ee-4db1-45d5-8aaf-f16d0d5dd955"
      },
      "source": [
        "plt.hist(Pop['prix moyen au kg'],color ='coral')\n",
        "plt.title('Distribution pour le prix')\n",
        "plt.xlabel('prix moyen au kg')\n",
        "plt.ylabel('Densité')\n",
        "plt.show()\n",
        "print (\"skew=\", Pop['prix moyen au kg'].skew())"
      ],
      "execution_count": null,
      "outputs": [
        {
          "output_type": "display_data",
          "data": {
            "image/png": "[encoded data removed]",
            "text/plain": [
              "<Figure size 432x288 with 1 Axes>"
            ]
          },
          "metadata": {}
        },
        {
          "output_type": "stream",
          "name": "stdout",
          "text": [
            "skew= 0.22827047693351454\n"
          ]
        }
      ]
    },
    {
      "cell_type": "code",
      "metadata": {
        "colab": {
          "base_uri": "https://localhost:8080/",
          "height": 334
        },
        "id": "-j6B6juPLO5A",
        "outputId": "3d48eb03-f6ad-4891-b79d-a153fb1b700d"
      },
      "source": [
        "plt.hist(Pop['Production quantité \\ntonne(s)'],color ='violet')\n",
        "plt.title('Distribution pour la production')\n",
        "plt.xlabel('production de tomates')\n",
        "plt.ylabel('Densité')\n",
        "plt.show()\n",
        "print (\"skew=\", Pop['Production quantité \\ntonne(s)'].skew())"
      ],
      "execution_count": null,
      "outputs": [
        {
          "output_type": "display_data",
          "data": {
            "image/png": "[encoded data removed]",
            "text/plain": [
              "<Figure size 432x288 with 1 Axes>"
            ]
          },
          "metadata": {}
        },
        {
          "output_type": "stream",
          "name": "stdout",
          "text": [
            "skew= 5.583569472053098\n"
          ]
        }
      ]
    },
    {
      "cell_type": "code",
      "metadata": {
        "colab": {
          "base_uri": "https://localhost:8080/",
          "height": 110
        },
        "id": "Y-nfCg2wLO8B",
        "outputId": "2b342762-e316-4021-bd30-92a110fc6d8c"
      },
      "source": [
        "Pop['catégorie tomates'].value_counts().to_frame()"
      ],
      "execution_count": null,
      "outputs": [
        {
          "output_type": "execute_result",
          "data": {
            "text/html": [
              "<div>\n",
              "<style scoped>\n",
              "    .dataframe tbody tr th:only-of-type {\n",
              "        vertical-align: middle;\n",
              "    }\n",
              "\n",
              "    .dataframe tbody tr th {\n",
              "        vertical-align: top;\n",
              "    }\n",
              "\n",
              "    .dataframe thead th {\n",
              "        text-align: right;\n",
              "    }\n",
              "</style>\n",
              "<table border=\"1\" class=\"dataframe\">\n",
              "  <thead>\n",
              "    <tr style=\"text-align: right;\">\n",
              "      <th></th>\n",
              "      <th>catégorie tomates</th>\n",
              "    </tr>\n",
              "  </thead>\n",
              "  <tbody>\n",
              "    <tr>\n",
              "      <th>Tomate ronde  cat.I 57-67mm</th>\n",
              "      <td>372</td>\n",
              "    </tr>\n",
              "    <tr>\n",
              "      <th>Tomate ronde cat.I 67-82mm</th>\n",
              "      <td>52</td>\n",
              "    </tr>\n",
              "  </tbody>\n",
              "</table>\n",
              "</div>"
            ],
            "text/plain": [
              "                             catégorie tomates\n",
              "Tomate ronde  cat.I 57-67mm                372\n",
              "Tomate ronde cat.I 67-82mm                  52"
            ]
          },
          "metadata": {},
          "execution_count": 128
        }
      ]
    },
    {
      "cell_type": "code",
      "metadata": {
        "colab": {
          "base_uri": "https://localhost:8080/",
          "height": 529
        },
        "id": "MEZuv3uMLO_O",
        "outputId": "666b586c-46ca-481a-a086-039226f8c5ab"
      },
      "source": [
        "Pop['catégorie tomates'].value_counts().plot(kind='bar',figsize=(5,5),title= 'catégorie tomates',color ='gold')\n",
        "plt.xlabel('catégorie tomates')\n",
        "plt.ylabel(\"nombre de fois ou la catégorie de tomates apparaît\")\n",
        "plt.show()"
      ],
      "execution_count": null,
      "outputs": [
        {
          "output_type": "display_data",
          "data": {
            "image/png": "[encoded data removed]",
            "text/plain": [
              "<Figure size 360x360 with 1 Axes>"
            ]
          },
          "metadata": {}
        }
      ]
    },
    {
      "cell_type": "code",
      "metadata": {
        "colab": {
          "base_uri": "https://localhost:8080/",
          "height": 340
        },
        "id": "ckV0_shiLPDE",
        "outputId": "e5b75373-4902-4261-c4af-adbb5fe5188d"
      },
      "source": [
        "Pop['catégorie tomates'].value_counts().plot(kind='pie', figsize=[5,5],\n",
        "          autopct=lambda p: '{:.0f}%'.format(p,(p/100)*Pop['catégorie tomates'].value_counts().sum()))"
      ],
      "execution_count": null,
      "outputs": [
        {
          "output_type": "execute_result",
          "data": {
            "text/plain": [
              "<matplotlib.axes._subplots.AxesSubplot at 0x7f96a1a01b10>"
            ]
          },
          "metadata": {},
          "execution_count": 130
        },
        {
          "output_type": "display_data",
          "data": {
            "image/png": "[encoded data removed]",
            "text/plain": [
              "<Figure size 360x360 with 1 Axes>"
            ]
          },
          "metadata": {}
        }
      ]
    },
    {
      "cell_type": "code",
      "metadata": {
        "colab": {
          "base_uri": "https://localhost:8080/",
          "height": 502
        },
        "id": "2As5fmSXLzlC",
        "outputId": "e09c9319-1927-4893-dfa5-5193b6321080"
      },
      "source": [
        "Corr = Pop.corr()\n",
        "\n",
        "\n",
        "f, ax = plt.subplots(figsize=(5,5))\n",
        "plt.title('Corrélation entre variables')\n",
        "\n",
        "\n",
        "sns.heatmap(Corr,linewidths=0.25,vmax=1.0, square=True, cmap=\"plasma\", linecolor='black', annot=True)\n",
        "plt.show()"
      ],
      "execution_count": null,
      "outputs": [
        {
          "output_type": "display_data",
          "data": {
            "image/png": "[encoded data removed]",
            "text/plain": [
              "<Figure size 360x360 with 2 Axes>"
            ]
          },
          "metadata": {}
        }
      ]
    },
    {
      "cell_type": "code",
      "metadata": {
        "colab": {
          "base_uri": "https://localhost:8080/",
          "height": 618
        },
        "id": "tKJ86869MQpD",
        "outputId": "61cdacea-4fb7-48f1-ecde-356ebf26625f"
      },
      "source": [
        "Pop =  Pop.interpolate() #pour remplacer les valeurs nulles par une valeur moyenne\n",
        "Pop"
      ],
      "execution_count": null,
      "outputs": [
        {
          "output_type": "execute_result",
          "data": {
            "text/html": [
              "<div>\n",
              "<style scoped>\n",
              "    .dataframe tbody tr th:only-of-type {\n",
              "        vertical-align: middle;\n",
              "    }\n",
              "\n",
              "    .dataframe tbody tr th {\n",
              "        vertical-align: top;\n",
              "    }\n",
              "\n",
              "    .dataframe thead th {\n",
              "        text-align: right;\n",
              "    }\n",
              "</style>\n",
              "<table border=\"1\" class=\"dataframe\">\n",
              "  <thead>\n",
              "    <tr style=\"text-align: right;\">\n",
              "      <th></th>\n",
              "      <th>Date</th>\n",
              "      <th>prix moyen au kg</th>\n",
              "      <th>Production quantité \\ntonne(s)</th>\n",
              "      <th>Température minimale en °C</th>\n",
              "      <th>Température maximale en °C</th>\n",
              "      <th>précipitations en mm</th>\n",
              "      <th>Ensoleillement en min</th>\n",
              "      <th>Rafales (vitesse du vent) en km/h</th>\n",
              "      <th>catégorie tomates</th>\n",
              "    </tr>\n",
              "  </thead>\n",
              "  <tbody>\n",
              "    <tr>\n",
              "      <th>0</th>\n",
              "      <td>21/06/21</td>\n",
              "      <td>1.50</td>\n",
              "      <td>0.200</td>\n",
              "      <td>15.7</td>\n",
              "      <td>24.9</td>\n",
              "      <td>3.8</td>\n",
              "      <td>423</td>\n",
              "      <td>61.2</td>\n",
              "      <td>Tomate ronde  cat.I 57-67mm</td>\n",
              "    </tr>\n",
              "    <tr>\n",
              "      <th>1</th>\n",
              "      <td>04/12/20</td>\n",
              "      <td>1.50</td>\n",
              "      <td>0.100</td>\n",
              "      <td>2.9</td>\n",
              "      <td>6.6</td>\n",
              "      <td>0.8</td>\n",
              "      <td>256</td>\n",
              "      <td>65.9</td>\n",
              "      <td>Tomate ronde  cat.I 57-67mm</td>\n",
              "    </tr>\n",
              "    <tr>\n",
              "      <th>2</th>\n",
              "      <td>06/11/20</td>\n",
              "      <td>1.10</td>\n",
              "      <td>0.100</td>\n",
              "      <td>2.3</td>\n",
              "      <td>13.4</td>\n",
              "      <td>0.0</td>\n",
              "      <td>491</td>\n",
              "      <td>46.8</td>\n",
              "      <td>Tomate ronde  cat.I 57-67mm</td>\n",
              "    </tr>\n",
              "    <tr>\n",
              "      <th>3</th>\n",
              "      <td>05/11/20</td>\n",
              "      <td>1.10</td>\n",
              "      <td>0.100</td>\n",
              "      <td>1.8</td>\n",
              "      <td>11.5</td>\n",
              "      <td>0.0</td>\n",
              "      <td>533</td>\n",
              "      <td>32.4</td>\n",
              "      <td>Tomate ronde  cat.I 57-67mm</td>\n",
              "    </tr>\n",
              "    <tr>\n",
              "      <th>4</th>\n",
              "      <td>30/10/20</td>\n",
              "      <td>1.05</td>\n",
              "      <td>0.100</td>\n",
              "      <td>12.6</td>\n",
              "      <td>15.9</td>\n",
              "      <td>0.0</td>\n",
              "      <td>0</td>\n",
              "      <td>40.7</td>\n",
              "      <td>Tomate ronde  cat.I 57-67mm</td>\n",
              "    </tr>\n",
              "    <tr>\n",
              "      <th>...</th>\n",
              "      <td>...</td>\n",
              "      <td>...</td>\n",
              "      <td>...</td>\n",
              "      <td>...</td>\n",
              "      <td>...</td>\n",
              "      <td>...</td>\n",
              "      <td>...</td>\n",
              "      <td>...</td>\n",
              "      <td>...</td>\n",
              "    </tr>\n",
              "    <tr>\n",
              "      <th>419</th>\n",
              "      <td>24/06/13</td>\n",
              "      <td>1.10</td>\n",
              "      <td>1.120</td>\n",
              "      <td>10.5</td>\n",
              "      <td>19.1</td>\n",
              "      <td>0.0</td>\n",
              "      <td>342</td>\n",
              "      <td>42.6</td>\n",
              "      <td>Tomate ronde cat.I 67-82mm</td>\n",
              "    </tr>\n",
              "    <tr>\n",
              "      <th>420</th>\n",
              "      <td>20/06/13</td>\n",
              "      <td>1.50</td>\n",
              "      <td>0.075</td>\n",
              "      <td>14.0</td>\n",
              "      <td>21.5</td>\n",
              "      <td>0.8</td>\n",
              "      <td>216</td>\n",
              "      <td>37.1</td>\n",
              "      <td>Tomate ronde cat.I 67-82mm</td>\n",
              "    </tr>\n",
              "    <tr>\n",
              "      <th>421</th>\n",
              "      <td>17/06/13</td>\n",
              "      <td>1.50</td>\n",
              "      <td>0.020</td>\n",
              "      <td>15.0</td>\n",
              "      <td>27.2</td>\n",
              "      <td>6.8</td>\n",
              "      <td>210</td>\n",
              "      <td>61.1</td>\n",
              "      <td>Tomate ronde cat.I 67-82mm</td>\n",
              "    </tr>\n",
              "    <tr>\n",
              "      <th>422</th>\n",
              "      <td>18/09/12</td>\n",
              "      <td>1.10</td>\n",
              "      <td>0.180</td>\n",
              "      <td>10.3</td>\n",
              "      <td>20.1</td>\n",
              "      <td>0.0</td>\n",
              "      <td>126</td>\n",
              "      <td>34.2</td>\n",
              "      <td>Tomate ronde cat.I 67-82mm</td>\n",
              "    </tr>\n",
              "    <tr>\n",
              "      <th>423</th>\n",
              "      <td>29/06/12</td>\n",
              "      <td>1.20</td>\n",
              "      <td>0.400</td>\n",
              "      <td>14.3</td>\n",
              "      <td>24.4</td>\n",
              "      <td>0.0</td>\n",
              "      <td>180</td>\n",
              "      <td>37.8</td>\n",
              "      <td>Tomate ronde cat.I 67-82mm</td>\n",
              "    </tr>\n",
              "  </tbody>\n",
              "</table>\n",
              "<p>424 rows × 9 columns</p>\n",
              "</div>"
            ],
            "text/plain": [
              "         Date  ...            catégorie tomates\n",
              "0    21/06/21  ...  Tomate ronde  cat.I 57-67mm\n",
              "1    04/12/20  ...  Tomate ronde  cat.I 57-67mm\n",
              "2    06/11/20  ...  Tomate ronde  cat.I 57-67mm\n",
              "3    05/11/20  ...  Tomate ronde  cat.I 57-67mm\n",
              "4    30/10/20  ...  Tomate ronde  cat.I 57-67mm\n",
              "..        ...  ...                          ...\n",
              "419  24/06/13  ...   Tomate ronde cat.I 67-82mm\n",
              "420  20/06/13  ...   Tomate ronde cat.I 67-82mm\n",
              "421  17/06/13  ...   Tomate ronde cat.I 67-82mm\n",
              "422  18/09/12  ...   Tomate ronde cat.I 67-82mm\n",
              "423  29/06/12  ...   Tomate ronde cat.I 67-82mm\n",
              "\n",
              "[424 rows x 9 columns]"
            ]
          },
          "metadata": {},
          "execution_count": 132
        }
      ]
    },
    {
      "cell_type": "code",
      "metadata": {
        "colab": {
          "base_uri": "https://localhost:8080/",
          "height": 417
        },
        "id": "XktchMk8MSJ8",
        "outputId": "e2d1314b-649d-401e-d60e-086487e4a351"
      },
      "source": [
        "dummy_tomate1 = pd.get_dummies(Pop['catégorie tomates'])\n",
        "dummy_tomate1"
      ],
      "execution_count": null,
      "outputs": [
        {
          "output_type": "execute_result",
          "data": {
            "text/html": [
              "<div>\n",
              "<style scoped>\n",
              "    .dataframe tbody tr th:only-of-type {\n",
              "        vertical-align: middle;\n",
              "    }\n",
              "\n",
              "    .dataframe tbody tr th {\n",
              "        vertical-align: top;\n",
              "    }\n",
              "\n",
              "    .dataframe thead th {\n",
              "        text-align: right;\n",
              "    }\n",
              "</style>\n",
              "<table border=\"1\" class=\"dataframe\">\n",
              "  <thead>\n",
              "    <tr style=\"text-align: right;\">\n",
              "      <th></th>\n",
              "      <th>Tomate ronde  cat.I 57-67mm</th>\n",
              "      <th>Tomate ronde cat.I 67-82mm</th>\n",
              "    </tr>\n",
              "  </thead>\n",
              "  <tbody>\n",
              "    <tr>\n",
              "      <th>0</th>\n",
              "      <td>1</td>\n",
              "      <td>0</td>\n",
              "    </tr>\n",
              "    <tr>\n",
              "      <th>1</th>\n",
              "      <td>1</td>\n",
              "      <td>0</td>\n",
              "    </tr>\n",
              "    <tr>\n",
              "      <th>2</th>\n",
              "      <td>1</td>\n",
              "      <td>0</td>\n",
              "    </tr>\n",
              "    <tr>\n",
              "      <th>3</th>\n",
              "      <td>1</td>\n",
              "      <td>0</td>\n",
              "    </tr>\n",
              "    <tr>\n",
              "      <th>4</th>\n",
              "      <td>1</td>\n",
              "      <td>0</td>\n",
              "    </tr>\n",
              "    <tr>\n",
              "      <th>...</th>\n",
              "      <td>...</td>\n",
              "      <td>...</td>\n",
              "    </tr>\n",
              "    <tr>\n",
              "      <th>419</th>\n",
              "      <td>0</td>\n",
              "      <td>1</td>\n",
              "    </tr>\n",
              "    <tr>\n",
              "      <th>420</th>\n",
              "      <td>0</td>\n",
              "      <td>1</td>\n",
              "    </tr>\n",
              "    <tr>\n",
              "      <th>421</th>\n",
              "      <td>0</td>\n",
              "      <td>1</td>\n",
              "    </tr>\n",
              "    <tr>\n",
              "      <th>422</th>\n",
              "      <td>0</td>\n",
              "      <td>1</td>\n",
              "    </tr>\n",
              "    <tr>\n",
              "      <th>423</th>\n",
              "      <td>0</td>\n",
              "      <td>1</td>\n",
              "    </tr>\n",
              "  </tbody>\n",
              "</table>\n",
              "<p>424 rows × 2 columns</p>\n",
              "</div>"
            ],
            "text/plain": [
              "     Tomate ronde  cat.I 57-67mm  Tomate ronde cat.I 67-82mm\n",
              "0                              1                           0\n",
              "1                              1                           0\n",
              "2                              1                           0\n",
              "3                              1                           0\n",
              "4                              1                           0\n",
              "..                           ...                         ...\n",
              "419                            0                           1\n",
              "420                            0                           1\n",
              "421                            0                           1\n",
              "422                            0                           1\n",
              "423                            0                           1\n",
              "\n",
              "[424 rows x 2 columns]"
            ]
          },
          "metadata": {},
          "execution_count": 133
        }
      ]
    },
    {
      "cell_type": "code",
      "metadata": {
        "colab": {
          "base_uri": "https://localhost:8080/",
          "height": 803
        },
        "id": "N3MMKKgzMSYG",
        "outputId": "d5af8176-23ae-4112-dbb7-4121390dcda1"
      },
      "source": [
        "T =  pd.merge(\n",
        "    left=Pop,\n",
        "    right=dummy_tomate1,\n",
        "    left_index=True,\n",
        "    right_index=True,\n",
        ")\n",
        "\n",
        "T"
      ],
      "execution_count": null,
      "outputs": [
        {
          "output_type": "execute_result",
          "data": {
            "text/html": [
              "<div>\n",
              "<style scoped>\n",
              "    .dataframe tbody tr th:only-of-type {\n",
              "        vertical-align: middle;\n",
              "    }\n",
              "\n",
              "    .dataframe tbody tr th {\n",
              "        vertical-align: top;\n",
              "    }\n",
              "\n",
              "    .dataframe thead th {\n",
              "        text-align: right;\n",
              "    }\n",
              "</style>\n",
              "<table border=\"1\" class=\"dataframe\">\n",
              "  <thead>\n",
              "    <tr style=\"text-align: right;\">\n",
              "      <th></th>\n",
              "      <th>Date</th>\n",
              "      <th>prix moyen au kg</th>\n",
              "      <th>Production quantité \\ntonne(s)</th>\n",
              "      <th>Température minimale en °C</th>\n",
              "      <th>Température maximale en °C</th>\n",
              "      <th>précipitations en mm</th>\n",
              "      <th>Ensoleillement en min</th>\n",
              "      <th>Rafales (vitesse du vent) en km/h</th>\n",
              "      <th>catégorie tomates</th>\n",
              "      <th>Tomate ronde  cat.I 57-67mm</th>\n",
              "      <th>Tomate ronde cat.I 67-82mm</th>\n",
              "    </tr>\n",
              "  </thead>\n",
              "  <tbody>\n",
              "    <tr>\n",
              "      <th>0</th>\n",
              "      <td>21/06/21</td>\n",
              "      <td>1.50</td>\n",
              "      <td>0.200</td>\n",
              "      <td>15.7</td>\n",
              "      <td>24.9</td>\n",
              "      <td>3.8</td>\n",
              "      <td>423</td>\n",
              "      <td>61.2</td>\n",
              "      <td>Tomate ronde  cat.I 57-67mm</td>\n",
              "      <td>1</td>\n",
              "      <td>0</td>\n",
              "    </tr>\n",
              "    <tr>\n",
              "      <th>1</th>\n",
              "      <td>04/12/20</td>\n",
              "      <td>1.50</td>\n",
              "      <td>0.100</td>\n",
              "      <td>2.9</td>\n",
              "      <td>6.6</td>\n",
              "      <td>0.8</td>\n",
              "      <td>256</td>\n",
              "      <td>65.9</td>\n",
              "      <td>Tomate ronde  cat.I 57-67mm</td>\n",
              "      <td>1</td>\n",
              "      <td>0</td>\n",
              "    </tr>\n",
              "    <tr>\n",
              "      <th>2</th>\n",
              "      <td>06/11/20</td>\n",
              "      <td>1.10</td>\n",
              "      <td>0.100</td>\n",
              "      <td>2.3</td>\n",
              "      <td>13.4</td>\n",
              "      <td>0.0</td>\n",
              "      <td>491</td>\n",
              "      <td>46.8</td>\n",
              "      <td>Tomate ronde  cat.I 57-67mm</td>\n",
              "      <td>1</td>\n",
              "      <td>0</td>\n",
              "    </tr>\n",
              "    <tr>\n",
              "      <th>3</th>\n",
              "      <td>05/11/20</td>\n",
              "      <td>1.10</td>\n",
              "      <td>0.100</td>\n",
              "      <td>1.8</td>\n",
              "      <td>11.5</td>\n",
              "      <td>0.0</td>\n",
              "      <td>533</td>\n",
              "      <td>32.4</td>\n",
              "      <td>Tomate ronde  cat.I 57-67mm</td>\n",
              "      <td>1</td>\n",
              "      <td>0</td>\n",
              "    </tr>\n",
              "    <tr>\n",
              "      <th>4</th>\n",
              "      <td>30/10/20</td>\n",
              "      <td>1.05</td>\n",
              "      <td>0.100</td>\n",
              "      <td>12.6</td>\n",
              "      <td>15.9</td>\n",
              "      <td>0.0</td>\n",
              "      <td>0</td>\n",
              "      <td>40.7</td>\n",
              "      <td>Tomate ronde  cat.I 57-67mm</td>\n",
              "      <td>1</td>\n",
              "      <td>0</td>\n",
              "    </tr>\n",
              "    <tr>\n",
              "      <th>...</th>\n",
              "      <td>...</td>\n",
              "      <td>...</td>\n",
              "      <td>...</td>\n",
              "      <td>...</td>\n",
              "      <td>...</td>\n",
              "      <td>...</td>\n",
              "      <td>...</td>\n",
              "      <td>...</td>\n",
              "      <td>...</td>\n",
              "      <td>...</td>\n",
              "      <td>...</td>\n",
              "    </tr>\n",
              "    <tr>\n",
              "      <th>419</th>\n",
              "      <td>24/06/13</td>\n",
              "      <td>1.10</td>\n",
              "      <td>1.120</td>\n",
              "      <td>10.5</td>\n",
              "      <td>19.1</td>\n",
              "      <td>0.0</td>\n",
              "      <td>342</td>\n",
              "      <td>42.6</td>\n",
              "      <td>Tomate ronde cat.I 67-82mm</td>\n",
              "      <td>0</td>\n",
              "      <td>1</td>\n",
              "    </tr>\n",
              "    <tr>\n",
              "      <th>420</th>\n",
              "      <td>20/06/13</td>\n",
              "      <td>1.50</td>\n",
              "      <td>0.075</td>\n",
              "      <td>14.0</td>\n",
              "      <td>21.5</td>\n",
              "      <td>0.8</td>\n",
              "      <td>216</td>\n",
              "      <td>37.1</td>\n",
              "      <td>Tomate ronde cat.I 67-82mm</td>\n",
              "      <td>0</td>\n",
              "      <td>1</td>\n",
              "    </tr>\n",
              "    <tr>\n",
              "      <th>421</th>\n",
              "      <td>17/06/13</td>\n",
              "      <td>1.50</td>\n",
              "      <td>0.020</td>\n",
              "      <td>15.0</td>\n",
              "      <td>27.2</td>\n",
              "      <td>6.8</td>\n",
              "      <td>210</td>\n",
              "      <td>61.1</td>\n",
              "      <td>Tomate ronde cat.I 67-82mm</td>\n",
              "      <td>0</td>\n",
              "      <td>1</td>\n",
              "    </tr>\n",
              "    <tr>\n",
              "      <th>422</th>\n",
              "      <td>18/09/12</td>\n",
              "      <td>1.10</td>\n",
              "      <td>0.180</td>\n",
              "      <td>10.3</td>\n",
              "      <td>20.1</td>\n",
              "      <td>0.0</td>\n",
              "      <td>126</td>\n",
              "      <td>34.2</td>\n",
              "      <td>Tomate ronde cat.I 67-82mm</td>\n",
              "      <td>0</td>\n",
              "      <td>1</td>\n",
              "    </tr>\n",
              "    <tr>\n",
              "      <th>423</th>\n",
              "      <td>29/06/12</td>\n",
              "      <td>1.20</td>\n",
              "      <td>0.400</td>\n",
              "      <td>14.3</td>\n",
              "      <td>24.4</td>\n",
              "      <td>0.0</td>\n",
              "      <td>180</td>\n",
              "      <td>37.8</td>\n",
              "      <td>Tomate ronde cat.I 67-82mm</td>\n",
              "      <td>0</td>\n",
              "      <td>1</td>\n",
              "    </tr>\n",
              "  </tbody>\n",
              "</table>\n",
              "<p>424 rows × 11 columns</p>\n",
              "</div>"
            ],
            "text/plain": [
              "         Date  ...  Tomate ronde cat.I 67-82mm\n",
              "0    21/06/21  ...                           0\n",
              "1    04/12/20  ...                           0\n",
              "2    06/11/20  ...                           0\n",
              "3    05/11/20  ...                           0\n",
              "4    30/10/20  ...                           0\n",
              "..        ...  ...                         ...\n",
              "419  24/06/13  ...                           1\n",
              "420  20/06/13  ...                           1\n",
              "421  17/06/13  ...                           1\n",
              "422  18/09/12  ...                           1\n",
              "423  29/06/12  ...                           1\n",
              "\n",
              "[424 rows x 11 columns]"
            ]
          },
          "metadata": {},
          "execution_count": 134
        }
      ]
    },
    {
      "cell_type": "code",
      "metadata": {
        "colab": {
          "base_uri": "https://localhost:8080/",
          "height": 467
        },
        "id": "JPKabzASMpKR",
        "outputId": "5afd37ec-e948-4c58-b295-cf6c9dcb4723"
      },
      "source": [
        "T = T.drop([\"catégorie tomates\"], axis=1)\n",
        "T"
      ],
      "execution_count": null,
      "outputs": [
        {
          "output_type": "execute_result",
          "data": {
            "text/html": [
              "<div>\n",
              "<style scoped>\n",
              "    .dataframe tbody tr th:only-of-type {\n",
              "        vertical-align: middle;\n",
              "    }\n",
              "\n",
              "    .dataframe tbody tr th {\n",
              "        vertical-align: top;\n",
              "    }\n",
              "\n",
              "    .dataframe thead th {\n",
              "        text-align: right;\n",
              "    }\n",
              "</style>\n",
              "<table border=\"1\" class=\"dataframe\">\n",
              "  <thead>\n",
              "    <tr style=\"text-align: right;\">\n",
              "      <th></th>\n",
              "      <th>Date</th>\n",
              "      <th>prix moyen au kg</th>\n",
              "      <th>Production quantité \\ntonne(s)</th>\n",
              "      <th>Température minimale en °C</th>\n",
              "      <th>Température maximale en °C</th>\n",
              "      <th>précipitations en mm</th>\n",
              "      <th>Ensoleillement en min</th>\n",
              "      <th>Rafales (vitesse du vent) en km/h</th>\n",
              "      <th>Tomate ronde  cat.I 57-67mm</th>\n",
              "      <th>Tomate ronde cat.I 67-82mm</th>\n",
              "    </tr>\n",
              "  </thead>\n",
              "  <tbody>\n",
              "    <tr>\n",
              "      <th>0</th>\n",
              "      <td>21/06/21</td>\n",
              "      <td>1.50</td>\n",
              "      <td>0.200</td>\n",
              "      <td>15.7</td>\n",
              "      <td>24.9</td>\n",
              "      <td>3.8</td>\n",
              "      <td>423</td>\n",
              "      <td>61.2</td>\n",
              "      <td>1</td>\n",
              "      <td>0</td>\n",
              "    </tr>\n",
              "    <tr>\n",
              "      <th>1</th>\n",
              "      <td>04/12/20</td>\n",
              "      <td>1.50</td>\n",
              "      <td>0.100</td>\n",
              "      <td>2.9</td>\n",
              "      <td>6.6</td>\n",
              "      <td>0.8</td>\n",
              "      <td>256</td>\n",
              "      <td>65.9</td>\n",
              "      <td>1</td>\n",
              "      <td>0</td>\n",
              "    </tr>\n",
              "    <tr>\n",
              "      <th>2</th>\n",
              "      <td>06/11/20</td>\n",
              "      <td>1.10</td>\n",
              "      <td>0.100</td>\n",
              "      <td>2.3</td>\n",
              "      <td>13.4</td>\n",
              "      <td>0.0</td>\n",
              "      <td>491</td>\n",
              "      <td>46.8</td>\n",
              "      <td>1</td>\n",
              "      <td>0</td>\n",
              "    </tr>\n",
              "    <tr>\n",
              "      <th>3</th>\n",
              "      <td>05/11/20</td>\n",
              "      <td>1.10</td>\n",
              "      <td>0.100</td>\n",
              "      <td>1.8</td>\n",
              "      <td>11.5</td>\n",
              "      <td>0.0</td>\n",
              "      <td>533</td>\n",
              "      <td>32.4</td>\n",
              "      <td>1</td>\n",
              "      <td>0</td>\n",
              "    </tr>\n",
              "    <tr>\n",
              "      <th>4</th>\n",
              "      <td>30/10/20</td>\n",
              "      <td>1.05</td>\n",
              "      <td>0.100</td>\n",
              "      <td>12.6</td>\n",
              "      <td>15.9</td>\n",
              "      <td>0.0</td>\n",
              "      <td>0</td>\n",
              "      <td>40.7</td>\n",
              "      <td>1</td>\n",
              "      <td>0</td>\n",
              "    </tr>\n",
              "    <tr>\n",
              "      <th>...</th>\n",
              "      <td>...</td>\n",
              "      <td>...</td>\n",
              "      <td>...</td>\n",
              "      <td>...</td>\n",
              "      <td>...</td>\n",
              "      <td>...</td>\n",
              "      <td>...</td>\n",
              "      <td>...</td>\n",
              "      <td>...</td>\n",
              "      <td>...</td>\n",
              "    </tr>\n",
              "    <tr>\n",
              "      <th>419</th>\n",
              "      <td>24/06/13</td>\n",
              "      <td>1.10</td>\n",
              "      <td>1.120</td>\n",
              "      <td>10.5</td>\n",
              "      <td>19.1</td>\n",
              "      <td>0.0</td>\n",
              "      <td>342</td>\n",
              "      <td>42.6</td>\n",
              "      <td>0</td>\n",
              "      <td>1</td>\n",
              "    </tr>\n",
              "    <tr>\n",
              "      <th>420</th>\n",
              "      <td>20/06/13</td>\n",
              "      <td>1.50</td>\n",
              "      <td>0.075</td>\n",
              "      <td>14.0</td>\n",
              "      <td>21.5</td>\n",
              "      <td>0.8</td>\n",
              "      <td>216</td>\n",
              "      <td>37.1</td>\n",
              "      <td>0</td>\n",
              "      <td>1</td>\n",
              "    </tr>\n",
              "    <tr>\n",
              "      <th>421</th>\n",
              "      <td>17/06/13</td>\n",
              "      <td>1.50</td>\n",
              "      <td>0.020</td>\n",
              "      <td>15.0</td>\n",
              "      <td>27.2</td>\n",
              "      <td>6.8</td>\n",
              "      <td>210</td>\n",
              "      <td>61.1</td>\n",
              "      <td>0</td>\n",
              "      <td>1</td>\n",
              "    </tr>\n",
              "    <tr>\n",
              "      <th>422</th>\n",
              "      <td>18/09/12</td>\n",
              "      <td>1.10</td>\n",
              "      <td>0.180</td>\n",
              "      <td>10.3</td>\n",
              "      <td>20.1</td>\n",
              "      <td>0.0</td>\n",
              "      <td>126</td>\n",
              "      <td>34.2</td>\n",
              "      <td>0</td>\n",
              "      <td>1</td>\n",
              "    </tr>\n",
              "    <tr>\n",
              "      <th>423</th>\n",
              "      <td>29/06/12</td>\n",
              "      <td>1.20</td>\n",
              "      <td>0.400</td>\n",
              "      <td>14.3</td>\n",
              "      <td>24.4</td>\n",
              "      <td>0.0</td>\n",
              "      <td>180</td>\n",
              "      <td>37.8</td>\n",
              "      <td>0</td>\n",
              "      <td>1</td>\n",
              "    </tr>\n",
              "  </tbody>\n",
              "</table>\n",
              "<p>424 rows × 10 columns</p>\n",
              "</div>"
            ],
            "text/plain": [
              "         Date  ...  Tomate ronde cat.I 67-82mm\n",
              "0    21/06/21  ...                           0\n",
              "1    04/12/20  ...                           0\n",
              "2    06/11/20  ...                           0\n",
              "3    05/11/20  ...                           0\n",
              "4    30/10/20  ...                           0\n",
              "..        ...  ...                         ...\n",
              "419  24/06/13  ...                           1\n",
              "420  20/06/13  ...                           1\n",
              "421  17/06/13  ...                           1\n",
              "422  18/09/12  ...                           1\n",
              "423  29/06/12  ...                           1\n",
              "\n",
              "[424 rows x 10 columns]"
            ]
          },
          "metadata": {},
          "execution_count": 135
        }
      ]
    },
    {
      "cell_type": "code",
      "metadata": {
        "colab": {
          "base_uri": "https://localhost:8080/",
          "height": 635
        },
        "id": "aJ1LHJgeMp3m",
        "outputId": "ad913c25-6e30-449d-c7d9-f3007672b263"
      },
      "source": [
        "T['Date'] = pd.to_datetime(T['Date'])\n",
        "T"
      ],
      "execution_count": null,
      "outputs": [
        {
          "output_type": "execute_result",
          "data": {
            "text/html": [
              "<div>\n",
              "<style scoped>\n",
              "    .dataframe tbody tr th:only-of-type {\n",
              "        vertical-align: middle;\n",
              "    }\n",
              "\n",
              "    .dataframe tbody tr th {\n",
              "        vertical-align: top;\n",
              "    }\n",
              "\n",
              "    .dataframe thead th {\n",
              "        text-align: right;\n",
              "    }\n",
              "</style>\n",
              "<table border=\"1\" class=\"dataframe\">\n",
              "  <thead>\n",
              "    <tr style=\"text-align: right;\">\n",
              "      <th></th>\n",
              "      <th>Date</th>\n",
              "      <th>prix moyen au kg</th>\n",
              "      <th>Production quantité \\ntonne(s)</th>\n",
              "      <th>Température minimale en °C</th>\n",
              "      <th>Température maximale en °C</th>\n",
              "      <th>précipitations en mm</th>\n",
              "      <th>Ensoleillement en min</th>\n",
              "      <th>Rafales (vitesse du vent) en km/h</th>\n",
              "      <th>Tomate ronde  cat.I 57-67mm</th>\n",
              "      <th>Tomate ronde cat.I 67-82mm</th>\n",
              "    </tr>\n",
              "  </thead>\n",
              "  <tbody>\n",
              "    <tr>\n",
              "      <th>0</th>\n",
              "      <td>2021-06-21</td>\n",
              "      <td>1.50</td>\n",
              "      <td>0.200</td>\n",
              "      <td>15.7</td>\n",
              "      <td>24.9</td>\n",
              "      <td>3.8</td>\n",
              "      <td>423</td>\n",
              "      <td>61.2</td>\n",
              "      <td>1</td>\n",
              "      <td>0</td>\n",
              "    </tr>\n",
              "    <tr>\n",
              "      <th>1</th>\n",
              "      <td>2020-04-12</td>\n",
              "      <td>1.50</td>\n",
              "      <td>0.100</td>\n",
              "      <td>2.9</td>\n",
              "      <td>6.6</td>\n",
              "      <td>0.8</td>\n",
              "      <td>256</td>\n",
              "      <td>65.9</td>\n",
              "      <td>1</td>\n",
              "      <td>0</td>\n",
              "    </tr>\n",
              "    <tr>\n",
              "      <th>2</th>\n",
              "      <td>2020-06-11</td>\n",
              "      <td>1.10</td>\n",
              "      <td>0.100</td>\n",
              "      <td>2.3</td>\n",
              "      <td>13.4</td>\n",
              "      <td>0.0</td>\n",
              "      <td>491</td>\n",
              "      <td>46.8</td>\n",
              "      <td>1</td>\n",
              "      <td>0</td>\n",
              "    </tr>\n",
              "    <tr>\n",
              "      <th>3</th>\n",
              "      <td>2020-05-11</td>\n",
              "      <td>1.10</td>\n",
              "      <td>0.100</td>\n",
              "      <td>1.8</td>\n",
              "      <td>11.5</td>\n",
              "      <td>0.0</td>\n",
              "      <td>533</td>\n",
              "      <td>32.4</td>\n",
              "      <td>1</td>\n",
              "      <td>0</td>\n",
              "    </tr>\n",
              "    <tr>\n",
              "      <th>4</th>\n",
              "      <td>2020-10-30</td>\n",
              "      <td>1.05</td>\n",
              "      <td>0.100</td>\n",
              "      <td>12.6</td>\n",
              "      <td>15.9</td>\n",
              "      <td>0.0</td>\n",
              "      <td>0</td>\n",
              "      <td>40.7</td>\n",
              "      <td>1</td>\n",
              "      <td>0</td>\n",
              "    </tr>\n",
              "    <tr>\n",
              "      <th>...</th>\n",
              "      <td>...</td>\n",
              "      <td>...</td>\n",
              "      <td>...</td>\n",
              "      <td>...</td>\n",
              "      <td>...</td>\n",
              "      <td>...</td>\n",
              "      <td>...</td>\n",
              "      <td>...</td>\n",
              "      <td>...</td>\n",
              "      <td>...</td>\n",
              "    </tr>\n",
              "    <tr>\n",
              "      <th>419</th>\n",
              "      <td>2013-06-24</td>\n",
              "      <td>1.10</td>\n",
              "      <td>1.120</td>\n",
              "      <td>10.5</td>\n",
              "      <td>19.1</td>\n",
              "      <td>0.0</td>\n",
              "      <td>342</td>\n",
              "      <td>42.6</td>\n",
              "      <td>0</td>\n",
              "      <td>1</td>\n",
              "    </tr>\n",
              "    <tr>\n",
              "      <th>420</th>\n",
              "      <td>2013-06-20</td>\n",
              "      <td>1.50</td>\n",
              "      <td>0.075</td>\n",
              "      <td>14.0</td>\n",
              "      <td>21.5</td>\n",
              "      <td>0.8</td>\n",
              "      <td>216</td>\n",
              "      <td>37.1</td>\n",
              "      <td>0</td>\n",
              "      <td>1</td>\n",
              "    </tr>\n",
              "    <tr>\n",
              "      <th>421</th>\n",
              "      <td>2013-06-17</td>\n",
              "      <td>1.50</td>\n",
              "      <td>0.020</td>\n",
              "      <td>15.0</td>\n",
              "      <td>27.2</td>\n",
              "      <td>6.8</td>\n",
              "      <td>210</td>\n",
              "      <td>61.1</td>\n",
              "      <td>0</td>\n",
              "      <td>1</td>\n",
              "    </tr>\n",
              "    <tr>\n",
              "      <th>422</th>\n",
              "      <td>2012-09-18</td>\n",
              "      <td>1.10</td>\n",
              "      <td>0.180</td>\n",
              "      <td>10.3</td>\n",
              "      <td>20.1</td>\n",
              "      <td>0.0</td>\n",
              "      <td>126</td>\n",
              "      <td>34.2</td>\n",
              "      <td>0</td>\n",
              "      <td>1</td>\n",
              "    </tr>\n",
              "    <tr>\n",
              "      <th>423</th>\n",
              "      <td>2012-06-29</td>\n",
              "      <td>1.20</td>\n",
              "      <td>0.400</td>\n",
              "      <td>14.3</td>\n",
              "      <td>24.4</td>\n",
              "      <td>0.0</td>\n",
              "      <td>180</td>\n",
              "      <td>37.8</td>\n",
              "      <td>0</td>\n",
              "      <td>1</td>\n",
              "    </tr>\n",
              "  </tbody>\n",
              "</table>\n",
              "<p>424 rows × 10 columns</p>\n",
              "</div>"
            ],
            "text/plain": [
              "          Date  ...  Tomate ronde cat.I 67-82mm\n",
              "0   2021-06-21  ...                           0\n",
              "1   2020-04-12  ...                           0\n",
              "2   2020-06-11  ...                           0\n",
              "3   2020-05-11  ...                           0\n",
              "4   2020-10-30  ...                           0\n",
              "..         ...  ...                         ...\n",
              "419 2013-06-24  ...                           1\n",
              "420 2013-06-20  ...                           1\n",
              "421 2013-06-17  ...                           1\n",
              "422 2012-09-18  ...                           1\n",
              "423 2012-06-29  ...                           1\n",
              "\n",
              "[424 rows x 10 columns]"
            ]
          },
          "metadata": {},
          "execution_count": 136
        }
      ]
    },
    {
      "cell_type": "code",
      "metadata": {
        "id": "vME9_4bgLzoE"
      },
      "source": [
        "T['mois'] = T['Date'].dt.month\n",
        "T['jour'] = T['Date'].dt.day\n",
        "T['année'] = T['Date'].dt.year"
      ],
      "execution_count": null,
      "outputs": []
    },
    {
      "cell_type": "code",
      "metadata": {
        "colab": {
          "base_uri": "https://localhost:8080/",
          "height": 467
        },
        "id": "3eiGr83zNPHS",
        "outputId": "3eb2594f-033a-4e2f-8b23-26b54f806597"
      },
      "source": [
        "T = T.drop([\"Date\"], axis=1)\n",
        "T"
      ],
      "execution_count": null,
      "outputs": [
        {
          "output_type": "execute_result",
          "data": {
            "text/html": [
              "<div>\n",
              "<style scoped>\n",
              "    .dataframe tbody tr th:only-of-type {\n",
              "        vertical-align: middle;\n",
              "    }\n",
              "\n",
              "    .dataframe tbody tr th {\n",
              "        vertical-align: top;\n",
              "    }\n",
              "\n",
              "    .dataframe thead th {\n",
              "        text-align: right;\n",
              "    }\n",
              "</style>\n",
              "<table border=\"1\" class=\"dataframe\">\n",
              "  <thead>\n",
              "    <tr style=\"text-align: right;\">\n",
              "      <th></th>\n",
              "      <th>prix moyen au kg</th>\n",
              "      <th>Production quantité \\ntonne(s)</th>\n",
              "      <th>Température minimale en °C</th>\n",
              "      <th>Température maximale en °C</th>\n",
              "      <th>précipitations en mm</th>\n",
              "      <th>Ensoleillement en min</th>\n",
              "      <th>Rafales (vitesse du vent) en km/h</th>\n",
              "      <th>Tomate ronde  cat.I 57-67mm</th>\n",
              "      <th>Tomate ronde cat.I 67-82mm</th>\n",
              "      <th>mois</th>\n",
              "      <th>jour</th>\n",
              "      <th>année</th>\n",
              "    </tr>\n",
              "  </thead>\n",
              "  <tbody>\n",
              "    <tr>\n",
              "      <th>0</th>\n",
              "      <td>1.50</td>\n",
              "      <td>0.200</td>\n",
              "      <td>15.7</td>\n",
              "      <td>24.9</td>\n",
              "      <td>3.8</td>\n",
              "      <td>423</td>\n",
              "      <td>61.2</td>\n",
              "      <td>1</td>\n",
              "      <td>0</td>\n",
              "      <td>6</td>\n",
              "      <td>21</td>\n",
              "      <td>2021</td>\n",
              "    </tr>\n",
              "    <tr>\n",
              "      <th>1</th>\n",
              "      <td>1.50</td>\n",
              "      <td>0.100</td>\n",
              "      <td>2.9</td>\n",
              "      <td>6.6</td>\n",
              "      <td>0.8</td>\n",
              "      <td>256</td>\n",
              "      <td>65.9</td>\n",
              "      <td>1</td>\n",
              "      <td>0</td>\n",
              "      <td>4</td>\n",
              "      <td>12</td>\n",
              "      <td>2020</td>\n",
              "    </tr>\n",
              "    <tr>\n",
              "      <th>2</th>\n",
              "      <td>1.10</td>\n",
              "      <td>0.100</td>\n",
              "      <td>2.3</td>\n",
              "      <td>13.4</td>\n",
              "      <td>0.0</td>\n",
              "      <td>491</td>\n",
              "      <td>46.8</td>\n",
              "      <td>1</td>\n",
              "      <td>0</td>\n",
              "      <td>6</td>\n",
              "      <td>11</td>\n",
              "      <td>2020</td>\n",
              "    </tr>\n",
              "    <tr>\n",
              "      <th>3</th>\n",
              "      <td>1.10</td>\n",
              "      <td>0.100</td>\n",
              "      <td>1.8</td>\n",
              "      <td>11.5</td>\n",
              "      <td>0.0</td>\n",
              "      <td>533</td>\n",
              "      <td>32.4</td>\n",
              "      <td>1</td>\n",
              "      <td>0</td>\n",
              "      <td>5</td>\n",
              "      <td>11</td>\n",
              "      <td>2020</td>\n",
              "    </tr>\n",
              "    <tr>\n",
              "      <th>4</th>\n",
              "      <td>1.05</td>\n",
              "      <td>0.100</td>\n",
              "      <td>12.6</td>\n",
              "      <td>15.9</td>\n",
              "      <td>0.0</td>\n",
              "      <td>0</td>\n",
              "      <td>40.7</td>\n",
              "      <td>1</td>\n",
              "      <td>0</td>\n",
              "      <td>10</td>\n",
              "      <td>30</td>\n",
              "      <td>2020</td>\n",
              "    </tr>\n",
              "    <tr>\n",
              "      <th>...</th>\n",
              "      <td>...</td>\n",
              "      <td>...</td>\n",
              "      <td>...</td>\n",
              "      <td>...</td>\n",
              "      <td>...</td>\n",
              "      <td>...</td>\n",
              "      <td>...</td>\n",
              "      <td>...</td>\n",
              "      <td>...</td>\n",
              "      <td>...</td>\n",
              "      <td>...</td>\n",
              "      <td>...</td>\n",
              "    </tr>\n",
              "    <tr>\n",
              "      <th>419</th>\n",
              "      <td>1.10</td>\n",
              "      <td>1.120</td>\n",
              "      <td>10.5</td>\n",
              "      <td>19.1</td>\n",
              "      <td>0.0</td>\n",
              "      <td>342</td>\n",
              "      <td>42.6</td>\n",
              "      <td>0</td>\n",
              "      <td>1</td>\n",
              "      <td>6</td>\n",
              "      <td>24</td>\n",
              "      <td>2013</td>\n",
              "    </tr>\n",
              "    <tr>\n",
              "      <th>420</th>\n",
              "      <td>1.50</td>\n",
              "      <td>0.075</td>\n",
              "      <td>14.0</td>\n",
              "      <td>21.5</td>\n",
              "      <td>0.8</td>\n",
              "      <td>216</td>\n",
              "      <td>37.1</td>\n",
              "      <td>0</td>\n",
              "      <td>1</td>\n",
              "      <td>6</td>\n",
              "      <td>20</td>\n",
              "      <td>2013</td>\n",
              "    </tr>\n",
              "    <tr>\n",
              "      <th>421</th>\n",
              "      <td>1.50</td>\n",
              "      <td>0.020</td>\n",
              "      <td>15.0</td>\n",
              "      <td>27.2</td>\n",
              "      <td>6.8</td>\n",
              "      <td>210</td>\n",
              "      <td>61.1</td>\n",
              "      <td>0</td>\n",
              "      <td>1</td>\n",
              "      <td>6</td>\n",
              "      <td>17</td>\n",
              "      <td>2013</td>\n",
              "    </tr>\n",
              "    <tr>\n",
              "      <th>422</th>\n",
              "      <td>1.10</td>\n",
              "      <td>0.180</td>\n",
              "      <td>10.3</td>\n",
              "      <td>20.1</td>\n",
              "      <td>0.0</td>\n",
              "      <td>126</td>\n",
              "      <td>34.2</td>\n",
              "      <td>0</td>\n",
              "      <td>1</td>\n",
              "      <td>9</td>\n",
              "      <td>18</td>\n",
              "      <td>2012</td>\n",
              "    </tr>\n",
              "    <tr>\n",
              "      <th>423</th>\n",
              "      <td>1.20</td>\n",
              "      <td>0.400</td>\n",
              "      <td>14.3</td>\n",
              "      <td>24.4</td>\n",
              "      <td>0.0</td>\n",
              "      <td>180</td>\n",
              "      <td>37.8</td>\n",
              "      <td>0</td>\n",
              "      <td>1</td>\n",
              "      <td>6</td>\n",
              "      <td>29</td>\n",
              "      <td>2012</td>\n",
              "    </tr>\n",
              "  </tbody>\n",
              "</table>\n",
              "<p>424 rows × 12 columns</p>\n",
              "</div>"
            ],
            "text/plain": [
              "     prix moyen au kg  Production quantité \\ntonne(s)  ...  jour  année\n",
              "0                1.50                           0.200  ...    21   2021\n",
              "1                1.50                           0.100  ...    12   2020\n",
              "2                1.10                           0.100  ...    11   2020\n",
              "3                1.10                           0.100  ...    11   2020\n",
              "4                1.05                           0.100  ...    30   2020\n",
              "..                ...                             ...  ...   ...    ...\n",
              "419              1.10                           1.120  ...    24   2013\n",
              "420              1.50                           0.075  ...    20   2013\n",
              "421              1.50                           0.020  ...    17   2013\n",
              "422              1.10                           0.180  ...    18   2012\n",
              "423              1.20                           0.400  ...    29   2012\n",
              "\n",
              "[424 rows x 12 columns]"
            ]
          },
          "metadata": {},
          "execution_count": 138
        }
      ]
    },
    {
      "cell_type": "code",
      "metadata": {
        "id": "76qvZZKTNPVR"
      },
      "source": [
        "dummy_mois = pd.get_dummies(T['mois'])\n",
        "dummy_jour = pd.get_dummies(T['jour'])\n",
        "dummy_a = pd.get_dummies(T['année'])"
      ],
      "execution_count": null,
      "outputs": []
    },
    {
      "cell_type": "code",
      "metadata": {
        "id": "njfRpqv_NPYn"
      },
      "source": [
        "\n",
        "T1 = pd.merge(\n",
        "    left=T,\n",
        "    right=dummy_mois,\n",
        "    left_index=True,\n",
        "    right_index=True,\n",
        ")\n",
        "\n",
        "T2 = pd.merge(\n",
        "    left=T1,\n",
        "    right=dummy_a,\n",
        "    left_index=True,\n",
        "    right_index=True,\n",
        ")\n",
        "\n",
        "T3 = pd.merge(\n",
        "    left=T2,\n",
        "    right=dummy_jour,\n",
        "    left_index=True,\n",
        "    right_index=True,\n",
        ")"
      ],
      "execution_count": null,
      "outputs": []
    },
    {
      "cell_type": "code",
      "metadata": {
        "colab": {
          "base_uri": "https://localhost:8080/",
          "height": 504
        },
        "id": "oHQMgbBlNPcd",
        "outputId": "739cee9e-7ef5-4272-e765-d83eec738162"
      },
      "source": [
        "T3 = T3.drop([\"mois\",\"jour\",\"année\"], axis=1)\n",
        "T3"
      ],
      "execution_count": null,
      "outputs": [
        {
          "output_type": "execute_result",
          "data": {
            "text/html": [
              "<div>\n",
              "<style scoped>\n",
              "    .dataframe tbody tr th:only-of-type {\n",
              "        vertical-align: middle;\n",
              "    }\n",
              "\n",
              "    .dataframe tbody tr th {\n",
              "        vertical-align: top;\n",
              "    }\n",
              "\n",
              "    .dataframe thead th {\n",
              "        text-align: right;\n",
              "    }\n",
              "</style>\n",
              "<table border=\"1\" class=\"dataframe\">\n",
              "  <thead>\n",
              "    <tr style=\"text-align: right;\">\n",
              "      <th></th>\n",
              "      <th>prix moyen au kg</th>\n",
              "      <th>Production quantité \\ntonne(s)</th>\n",
              "      <th>Température minimale en °C</th>\n",
              "      <th>Température maximale en °C</th>\n",
              "      <th>précipitations en mm</th>\n",
              "      <th>Ensoleillement en min</th>\n",
              "      <th>Rafales (vitesse du vent) en km/h</th>\n",
              "      <th>Tomate ronde  cat.I 57-67mm</th>\n",
              "      <th>Tomate ronde cat.I 67-82mm</th>\n",
              "      <th>1</th>\n",
              "      <th>2</th>\n",
              "      <th>3</th>\n",
              "      <th>4</th>\n",
              "      <th>5</th>\n",
              "      <th>6_x</th>\n",
              "      <th>7_x</th>\n",
              "      <th>8_x</th>\n",
              "      <th>9_x</th>\n",
              "      <th>10_x</th>\n",
              "      <th>11_x</th>\n",
              "      <th>12_x</th>\n",
              "      <th>2012</th>\n",
              "      <th>2013</th>\n",
              "      <th>2014</th>\n",
              "      <th>2015</th>\n",
              "      <th>2016</th>\n",
              "      <th>2017</th>\n",
              "      <th>2018</th>\n",
              "      <th>2019</th>\n",
              "      <th>2020</th>\n",
              "      <th>2021</th>\n",
              "      <th>6_y</th>\n",
              "      <th>7_y</th>\n",
              "      <th>8_y</th>\n",
              "      <th>9_y</th>\n",
              "      <th>10_y</th>\n",
              "      <th>11_y</th>\n",
              "      <th>12_y</th>\n",
              "      <th>13</th>\n",
              "      <th>14</th>\n",
              "      <th>15</th>\n",
              "      <th>16</th>\n",
              "      <th>17</th>\n",
              "      <th>18</th>\n",
              "      <th>19</th>\n",
              "      <th>20</th>\n",
              "      <th>21</th>\n",
              "      <th>22</th>\n",
              "      <th>23</th>\n",
              "      <th>24</th>\n",
              "      <th>25</th>\n",
              "      <th>26</th>\n",
              "      <th>27</th>\n",
              "      <th>28</th>\n",
              "      <th>29</th>\n",
              "      <th>30</th>\n",
              "      <th>31</th>\n",
              "    </tr>\n",
              "  </thead>\n",
              "  <tbody>\n",
              "    <tr>\n",
              "      <th>0</th>\n",
              "      <td>1.50</td>\n",
              "      <td>0.200</td>\n",
              "      <td>15.7</td>\n",
              "      <td>24.9</td>\n",
              "      <td>3.8</td>\n",
              "      <td>423</td>\n",
              "      <td>61.2</td>\n",
              "      <td>1</td>\n",
              "      <td>0</td>\n",
              "      <td>0</td>\n",
              "      <td>0</td>\n",
              "      <td>0</td>\n",
              "      <td>0</td>\n",
              "      <td>0</td>\n",
              "      <td>1</td>\n",
              "      <td>0</td>\n",
              "      <td>0</td>\n",
              "      <td>0</td>\n",
              "      <td>0</td>\n",
              "      <td>0</td>\n",
              "      <td>0</td>\n",
              "      <td>0</td>\n",
              "      <td>0</td>\n",
              "      <td>0</td>\n",
              "      <td>0</td>\n",
              "      <td>0</td>\n",
              "      <td>0</td>\n",
              "      <td>0</td>\n",
              "      <td>0</td>\n",
              "      <td>0</td>\n",
              "      <td>1</td>\n",
              "      <td>0</td>\n",
              "      <td>0</td>\n",
              "      <td>0</td>\n",
              "      <td>0</td>\n",
              "      <td>0</td>\n",
              "      <td>0</td>\n",
              "      <td>0</td>\n",
              "      <td>0</td>\n",
              "      <td>0</td>\n",
              "      <td>0</td>\n",
              "      <td>0</td>\n",
              "      <td>0</td>\n",
              "      <td>0</td>\n",
              "      <td>0</td>\n",
              "      <td>0</td>\n",
              "      <td>1</td>\n",
              "      <td>0</td>\n",
              "      <td>0</td>\n",
              "      <td>0</td>\n",
              "      <td>0</td>\n",
              "      <td>0</td>\n",
              "      <td>0</td>\n",
              "      <td>0</td>\n",
              "      <td>0</td>\n",
              "      <td>0</td>\n",
              "      <td>0</td>\n",
              "    </tr>\n",
              "    <tr>\n",
              "      <th>1</th>\n",
              "      <td>1.50</td>\n",
              "      <td>0.100</td>\n",
              "      <td>2.9</td>\n",
              "      <td>6.6</td>\n",
              "      <td>0.8</td>\n",
              "      <td>256</td>\n",
              "      <td>65.9</td>\n",
              "      <td>1</td>\n",
              "      <td>0</td>\n",
              "      <td>0</td>\n",
              "      <td>0</td>\n",
              "      <td>0</td>\n",
              "      <td>1</td>\n",
              "      <td>0</td>\n",
              "      <td>0</td>\n",
              "      <td>0</td>\n",
              "      <td>0</td>\n",
              "      <td>0</td>\n",
              "      <td>0</td>\n",
              "      <td>0</td>\n",
              "      <td>0</td>\n",
              "      <td>0</td>\n",
              "      <td>0</td>\n",
              "      <td>0</td>\n",
              "      <td>0</td>\n",
              "      <td>0</td>\n",
              "      <td>0</td>\n",
              "      <td>0</td>\n",
              "      <td>0</td>\n",
              "      <td>1</td>\n",
              "      <td>0</td>\n",
              "      <td>0</td>\n",
              "      <td>0</td>\n",
              "      <td>0</td>\n",
              "      <td>0</td>\n",
              "      <td>0</td>\n",
              "      <td>0</td>\n",
              "      <td>1</td>\n",
              "      <td>0</td>\n",
              "      <td>0</td>\n",
              "      <td>0</td>\n",
              "      <td>0</td>\n",
              "      <td>0</td>\n",
              "      <td>0</td>\n",
              "      <td>0</td>\n",
              "      <td>0</td>\n",
              "      <td>0</td>\n",
              "      <td>0</td>\n",
              "      <td>0</td>\n",
              "      <td>0</td>\n",
              "      <td>0</td>\n",
              "      <td>0</td>\n",
              "      <td>0</td>\n",
              "      <td>0</td>\n",
              "      <td>0</td>\n",
              "      <td>0</td>\n",
              "      <td>0</td>\n",
              "    </tr>\n",
              "    <tr>\n",
              "      <th>2</th>\n",
              "      <td>1.10</td>\n",
              "      <td>0.100</td>\n",
              "      <td>2.3</td>\n",
              "      <td>13.4</td>\n",
              "      <td>0.0</td>\n",
              "      <td>491</td>\n",
              "      <td>46.8</td>\n",
              "      <td>1</td>\n",
              "      <td>0</td>\n",
              "      <td>0</td>\n",
              "      <td>0</td>\n",
              "      <td>0</td>\n",
              "      <td>0</td>\n",
              "      <td>0</td>\n",
              "      <td>1</td>\n",
              "      <td>0</td>\n",
              "      <td>0</td>\n",
              "      <td>0</td>\n",
              "      <td>0</td>\n",
              "      <td>0</td>\n",
              "      <td>0</td>\n",
              "      <td>0</td>\n",
              "      <td>0</td>\n",
              "      <td>0</td>\n",
              "      <td>0</td>\n",
              "      <td>0</td>\n",
              "      <td>0</td>\n",
              "      <td>0</td>\n",
              "      <td>0</td>\n",
              "      <td>1</td>\n",
              "      <td>0</td>\n",
              "      <td>0</td>\n",
              "      <td>0</td>\n",
              "      <td>0</td>\n",
              "      <td>0</td>\n",
              "      <td>0</td>\n",
              "      <td>1</td>\n",
              "      <td>0</td>\n",
              "      <td>0</td>\n",
              "      <td>0</td>\n",
              "      <td>0</td>\n",
              "      <td>0</td>\n",
              "      <td>0</td>\n",
              "      <td>0</td>\n",
              "      <td>0</td>\n",
              "      <td>0</td>\n",
              "      <td>0</td>\n",
              "      <td>0</td>\n",
              "      <td>0</td>\n",
              "      <td>0</td>\n",
              "      <td>0</td>\n",
              "      <td>0</td>\n",
              "      <td>0</td>\n",
              "      <td>0</td>\n",
              "      <td>0</td>\n",
              "      <td>0</td>\n",
              "      <td>0</td>\n",
              "    </tr>\n",
              "    <tr>\n",
              "      <th>3</th>\n",
              "      <td>1.10</td>\n",
              "      <td>0.100</td>\n",
              "      <td>1.8</td>\n",
              "      <td>11.5</td>\n",
              "      <td>0.0</td>\n",
              "      <td>533</td>\n",
              "      <td>32.4</td>\n",
              "      <td>1</td>\n",
              "      <td>0</td>\n",
              "      <td>0</td>\n",
              "      <td>0</td>\n",
              "      <td>0</td>\n",
              "      <td>0</td>\n",
              "      <td>1</td>\n",
              "      <td>0</td>\n",
              "      <td>0</td>\n",
              "      <td>0</td>\n",
              "      <td>0</td>\n",
              "      <td>0</td>\n",
              "      <td>0</td>\n",
              "      <td>0</td>\n",
              "      <td>0</td>\n",
              "      <td>0</td>\n",
              "      <td>0</td>\n",
              "      <td>0</td>\n",
              "      <td>0</td>\n",
              "      <td>0</td>\n",
              "      <td>0</td>\n",
              "      <td>0</td>\n",
              "      <td>1</td>\n",
              "      <td>0</td>\n",
              "      <td>0</td>\n",
              "      <td>0</td>\n",
              "      <td>0</td>\n",
              "      <td>0</td>\n",
              "      <td>0</td>\n",
              "      <td>1</td>\n",
              "      <td>0</td>\n",
              "      <td>0</td>\n",
              "      <td>0</td>\n",
              "      <td>0</td>\n",
              "      <td>0</td>\n",
              "      <td>0</td>\n",
              "      <td>0</td>\n",
              "      <td>0</td>\n",
              "      <td>0</td>\n",
              "      <td>0</td>\n",
              "      <td>0</td>\n",
              "      <td>0</td>\n",
              "      <td>0</td>\n",
              "      <td>0</td>\n",
              "      <td>0</td>\n",
              "      <td>0</td>\n",
              "      <td>0</td>\n",
              "      <td>0</td>\n",
              "      <td>0</td>\n",
              "      <td>0</td>\n",
              "    </tr>\n",
              "    <tr>\n",
              "      <th>4</th>\n",
              "      <td>1.05</td>\n",
              "      <td>0.100</td>\n",
              "      <td>12.6</td>\n",
              "      <td>15.9</td>\n",
              "      <td>0.0</td>\n",
              "      <td>0</td>\n",
              "      <td>40.7</td>\n",
              "      <td>1</td>\n",
              "      <td>0</td>\n",
              "      <td>0</td>\n",
              "      <td>0</td>\n",
              "      <td>0</td>\n",
              "      <td>0</td>\n",
              "      <td>0</td>\n",
              "      <td>0</td>\n",
              "      <td>0</td>\n",
              "      <td>0</td>\n",
              "      <td>0</td>\n",
              "      <td>1</td>\n",
              "      <td>0</td>\n",
              "      <td>0</td>\n",
              "      <td>0</td>\n",
              "      <td>0</td>\n",
              "      <td>0</td>\n",
              "      <td>0</td>\n",
              "      <td>0</td>\n",
              "      <td>0</td>\n",
              "      <td>0</td>\n",
              "      <td>0</td>\n",
              "      <td>1</td>\n",
              "      <td>0</td>\n",
              "      <td>0</td>\n",
              "      <td>0</td>\n",
              "      <td>0</td>\n",
              "      <td>0</td>\n",
              "      <td>0</td>\n",
              "      <td>0</td>\n",
              "      <td>0</td>\n",
              "      <td>0</td>\n",
              "      <td>0</td>\n",
              "      <td>0</td>\n",
              "      <td>0</td>\n",
              "      <td>0</td>\n",
              "      <td>0</td>\n",
              "      <td>0</td>\n",
              "      <td>0</td>\n",
              "      <td>0</td>\n",
              "      <td>0</td>\n",
              "      <td>0</td>\n",
              "      <td>0</td>\n",
              "      <td>0</td>\n",
              "      <td>0</td>\n",
              "      <td>0</td>\n",
              "      <td>0</td>\n",
              "      <td>0</td>\n",
              "      <td>1</td>\n",
              "      <td>0</td>\n",
              "    </tr>\n",
              "    <tr>\n",
              "      <th>...</th>\n",
              "      <td>...</td>\n",
              "      <td>...</td>\n",
              "      <td>...</td>\n",
              "      <td>...</td>\n",
              "      <td>...</td>\n",
              "      <td>...</td>\n",
              "      <td>...</td>\n",
              "      <td>...</td>\n",
              "      <td>...</td>\n",
              "      <td>...</td>\n",
              "      <td>...</td>\n",
              "      <td>...</td>\n",
              "      <td>...</td>\n",
              "      <td>...</td>\n",
              "      <td>...</td>\n",
              "      <td>...</td>\n",
              "      <td>...</td>\n",
              "      <td>...</td>\n",
              "      <td>...</td>\n",
              "      <td>...</td>\n",
              "      <td>...</td>\n",
              "      <td>...</td>\n",
              "      <td>...</td>\n",
              "      <td>...</td>\n",
              "      <td>...</td>\n",
              "      <td>...</td>\n",
              "      <td>...</td>\n",
              "      <td>...</td>\n",
              "      <td>...</td>\n",
              "      <td>...</td>\n",
              "      <td>...</td>\n",
              "      <td>...</td>\n",
              "      <td>...</td>\n",
              "      <td>...</td>\n",
              "      <td>...</td>\n",
              "      <td>...</td>\n",
              "      <td>...</td>\n",
              "      <td>...</td>\n",
              "      <td>...</td>\n",
              "      <td>...</td>\n",
              "      <td>...</td>\n",
              "      <td>...</td>\n",
              "      <td>...</td>\n",
              "      <td>...</td>\n",
              "      <td>...</td>\n",
              "      <td>...</td>\n",
              "      <td>...</td>\n",
              "      <td>...</td>\n",
              "      <td>...</td>\n",
              "      <td>...</td>\n",
              "      <td>...</td>\n",
              "      <td>...</td>\n",
              "      <td>...</td>\n",
              "      <td>...</td>\n",
              "      <td>...</td>\n",
              "      <td>...</td>\n",
              "      <td>...</td>\n",
              "    </tr>\n",
              "    <tr>\n",
              "      <th>419</th>\n",
              "      <td>1.10</td>\n",
              "      <td>1.120</td>\n",
              "      <td>10.5</td>\n",
              "      <td>19.1</td>\n",
              "      <td>0.0</td>\n",
              "      <td>342</td>\n",
              "      <td>42.6</td>\n",
              "      <td>0</td>\n",
              "      <td>1</td>\n",
              "      <td>0</td>\n",
              "      <td>0</td>\n",
              "      <td>0</td>\n",
              "      <td>0</td>\n",
              "      <td>0</td>\n",
              "      <td>1</td>\n",
              "      <td>0</td>\n",
              "      <td>0</td>\n",
              "      <td>0</td>\n",
              "      <td>0</td>\n",
              "      <td>0</td>\n",
              "      <td>0</td>\n",
              "      <td>0</td>\n",
              "      <td>1</td>\n",
              "      <td>0</td>\n",
              "      <td>0</td>\n",
              "      <td>0</td>\n",
              "      <td>0</td>\n",
              "      <td>0</td>\n",
              "      <td>0</td>\n",
              "      <td>0</td>\n",
              "      <td>0</td>\n",
              "      <td>0</td>\n",
              "      <td>0</td>\n",
              "      <td>0</td>\n",
              "      <td>0</td>\n",
              "      <td>0</td>\n",
              "      <td>0</td>\n",
              "      <td>0</td>\n",
              "      <td>0</td>\n",
              "      <td>0</td>\n",
              "      <td>0</td>\n",
              "      <td>0</td>\n",
              "      <td>0</td>\n",
              "      <td>0</td>\n",
              "      <td>0</td>\n",
              "      <td>0</td>\n",
              "      <td>0</td>\n",
              "      <td>0</td>\n",
              "      <td>0</td>\n",
              "      <td>1</td>\n",
              "      <td>0</td>\n",
              "      <td>0</td>\n",
              "      <td>0</td>\n",
              "      <td>0</td>\n",
              "      <td>0</td>\n",
              "      <td>0</td>\n",
              "      <td>0</td>\n",
              "    </tr>\n",
              "    <tr>\n",
              "      <th>420</th>\n",
              "      <td>1.50</td>\n",
              "      <td>0.075</td>\n",
              "      <td>14.0</td>\n",
              "      <td>21.5</td>\n",
              "      <td>0.8</td>\n",
              "      <td>216</td>\n",
              "      <td>37.1</td>\n",
              "      <td>0</td>\n",
              "      <td>1</td>\n",
              "      <td>0</td>\n",
              "      <td>0</td>\n",
              "      <td>0</td>\n",
              "      <td>0</td>\n",
              "      <td>0</td>\n",
              "      <td>1</td>\n",
              "      <td>0</td>\n",
              "      <td>0</td>\n",
              "      <td>0</td>\n",
              "      <td>0</td>\n",
              "      <td>0</td>\n",
              "      <td>0</td>\n",
              "      <td>0</td>\n",
              "      <td>1</td>\n",
              "      <td>0</td>\n",
              "      <td>0</td>\n",
              "      <td>0</td>\n",
              "      <td>0</td>\n",
              "      <td>0</td>\n",
              "      <td>0</td>\n",
              "      <td>0</td>\n",
              "      <td>0</td>\n",
              "      <td>0</td>\n",
              "      <td>0</td>\n",
              "      <td>0</td>\n",
              "      <td>0</td>\n",
              "      <td>0</td>\n",
              "      <td>0</td>\n",
              "      <td>0</td>\n",
              "      <td>0</td>\n",
              "      <td>0</td>\n",
              "      <td>0</td>\n",
              "      <td>0</td>\n",
              "      <td>0</td>\n",
              "      <td>0</td>\n",
              "      <td>0</td>\n",
              "      <td>1</td>\n",
              "      <td>0</td>\n",
              "      <td>0</td>\n",
              "      <td>0</td>\n",
              "      <td>0</td>\n",
              "      <td>0</td>\n",
              "      <td>0</td>\n",
              "      <td>0</td>\n",
              "      <td>0</td>\n",
              "      <td>0</td>\n",
              "      <td>0</td>\n",
              "      <td>0</td>\n",
              "    </tr>\n",
              "    <tr>\n",
              "      <th>421</th>\n",
              "      <td>1.50</td>\n",
              "      <td>0.020</td>\n",
              "      <td>15.0</td>\n",
              "      <td>27.2</td>\n",
              "      <td>6.8</td>\n",
              "      <td>210</td>\n",
              "      <td>61.1</td>\n",
              "      <td>0</td>\n",
              "      <td>1</td>\n",
              "      <td>0</td>\n",
              "      <td>0</td>\n",
              "      <td>0</td>\n",
              "      <td>0</td>\n",
              "      <td>0</td>\n",
              "      <td>1</td>\n",
              "      <td>0</td>\n",
              "      <td>0</td>\n",
              "      <td>0</td>\n",
              "      <td>0</td>\n",
              "      <td>0</td>\n",
              "      <td>0</td>\n",
              "      <td>0</td>\n",
              "      <td>1</td>\n",
              "      <td>0</td>\n",
              "      <td>0</td>\n",
              "      <td>0</td>\n",
              "      <td>0</td>\n",
              "      <td>0</td>\n",
              "      <td>0</td>\n",
              "      <td>0</td>\n",
              "      <td>0</td>\n",
              "      <td>0</td>\n",
              "      <td>0</td>\n",
              "      <td>0</td>\n",
              "      <td>0</td>\n",
              "      <td>0</td>\n",
              "      <td>0</td>\n",
              "      <td>0</td>\n",
              "      <td>0</td>\n",
              "      <td>0</td>\n",
              "      <td>0</td>\n",
              "      <td>0</td>\n",
              "      <td>1</td>\n",
              "      <td>0</td>\n",
              "      <td>0</td>\n",
              "      <td>0</td>\n",
              "      <td>0</td>\n",
              "      <td>0</td>\n",
              "      <td>0</td>\n",
              "      <td>0</td>\n",
              "      <td>0</td>\n",
              "      <td>0</td>\n",
              "      <td>0</td>\n",
              "      <td>0</td>\n",
              "      <td>0</td>\n",
              "      <td>0</td>\n",
              "      <td>0</td>\n",
              "    </tr>\n",
              "    <tr>\n",
              "      <th>422</th>\n",
              "      <td>1.10</td>\n",
              "      <td>0.180</td>\n",
              "      <td>10.3</td>\n",
              "      <td>20.1</td>\n",
              "      <td>0.0</td>\n",
              "      <td>126</td>\n",
              "      <td>34.2</td>\n",
              "      <td>0</td>\n",
              "      <td>1</td>\n",
              "      <td>0</td>\n",
              "      <td>0</td>\n",
              "      <td>0</td>\n",
              "      <td>0</td>\n",
              "      <td>0</td>\n",
              "      <td>0</td>\n",
              "      <td>0</td>\n",
              "      <td>0</td>\n",
              "      <td>1</td>\n",
              "      <td>0</td>\n",
              "      <td>0</td>\n",
              "      <td>0</td>\n",
              "      <td>1</td>\n",
              "      <td>0</td>\n",
              "      <td>0</td>\n",
              "      <td>0</td>\n",
              "      <td>0</td>\n",
              "      <td>0</td>\n",
              "      <td>0</td>\n",
              "      <td>0</td>\n",
              "      <td>0</td>\n",
              "      <td>0</td>\n",
              "      <td>0</td>\n",
              "      <td>0</td>\n",
              "      <td>0</td>\n",
              "      <td>0</td>\n",
              "      <td>0</td>\n",
              "      <td>0</td>\n",
              "      <td>0</td>\n",
              "      <td>0</td>\n",
              "      <td>0</td>\n",
              "      <td>0</td>\n",
              "      <td>0</td>\n",
              "      <td>0</td>\n",
              "      <td>1</td>\n",
              "      <td>0</td>\n",
              "      <td>0</td>\n",
              "      <td>0</td>\n",
              "      <td>0</td>\n",
              "      <td>0</td>\n",
              "      <td>0</td>\n",
              "      <td>0</td>\n",
              "      <td>0</td>\n",
              "      <td>0</td>\n",
              "      <td>0</td>\n",
              "      <td>0</td>\n",
              "      <td>0</td>\n",
              "      <td>0</td>\n",
              "    </tr>\n",
              "    <tr>\n",
              "      <th>423</th>\n",
              "      <td>1.20</td>\n",
              "      <td>0.400</td>\n",
              "      <td>14.3</td>\n",
              "      <td>24.4</td>\n",
              "      <td>0.0</td>\n",
              "      <td>180</td>\n",
              "      <td>37.8</td>\n",
              "      <td>0</td>\n",
              "      <td>1</td>\n",
              "      <td>0</td>\n",
              "      <td>0</td>\n",
              "      <td>0</td>\n",
              "      <td>0</td>\n",
              "      <td>0</td>\n",
              "      <td>1</td>\n",
              "      <td>0</td>\n",
              "      <td>0</td>\n",
              "      <td>0</td>\n",
              "      <td>0</td>\n",
              "      <td>0</td>\n",
              "      <td>0</td>\n",
              "      <td>1</td>\n",
              "      <td>0</td>\n",
              "      <td>0</td>\n",
              "      <td>0</td>\n",
              "      <td>0</td>\n",
              "      <td>0</td>\n",
              "      <td>0</td>\n",
              "      <td>0</td>\n",
              "      <td>0</td>\n",
              "      <td>0</td>\n",
              "      <td>0</td>\n",
              "      <td>0</td>\n",
              "      <td>0</td>\n",
              "      <td>0</td>\n",
              "      <td>0</td>\n",
              "      <td>0</td>\n",
              "      <td>0</td>\n",
              "      <td>0</td>\n",
              "      <td>0</td>\n",
              "      <td>0</td>\n",
              "      <td>0</td>\n",
              "      <td>0</td>\n",
              "      <td>0</td>\n",
              "      <td>0</td>\n",
              "      <td>0</td>\n",
              "      <td>0</td>\n",
              "      <td>0</td>\n",
              "      <td>0</td>\n",
              "      <td>0</td>\n",
              "      <td>0</td>\n",
              "      <td>0</td>\n",
              "      <td>0</td>\n",
              "      <td>0</td>\n",
              "      <td>1</td>\n",
              "      <td>0</td>\n",
              "      <td>0</td>\n",
              "    </tr>\n",
              "  </tbody>\n",
              "</table>\n",
              "<p>424 rows × 57 columns</p>\n",
              "</div>"
            ],
            "text/plain": [
              "     prix moyen au kg  Production quantité \\ntonne(s)  ...  30  31\n",
              "0                1.50                           0.200  ...   0   0\n",
              "1                1.50                           0.100  ...   0   0\n",
              "2                1.10                           0.100  ...   0   0\n",
              "3                1.10                           0.100  ...   0   0\n",
              "4                1.05                           0.100  ...   1   0\n",
              "..                ...                             ...  ...  ..  ..\n",
              "419              1.10                           1.120  ...   0   0\n",
              "420              1.50                           0.075  ...   0   0\n",
              "421              1.50                           0.020  ...   0   0\n",
              "422              1.10                           0.180  ...   0   0\n",
              "423              1.20                           0.400  ...   0   0\n",
              "\n",
              "[424 rows x 57 columns]"
            ]
          },
          "metadata": {},
          "execution_count": 141
        }
      ]
    },
    {
      "cell_type": "code",
      "metadata": {
        "id": "NBpSr_vXNPgk"
      },
      "source": [
        "Prix = T3['prix moyen au kg'] \n",
        "Production = T3['Production quantité \\ntonne(s)']"
      ],
      "execution_count": null,
      "outputs": []
    },
    {
      "cell_type": "markdown",
      "metadata": {
        "id": "TwGNaDklWNWn"
      },
      "source": [
        "**Modélisation**"
      ]
    },
    {
      "cell_type": "code",
      "metadata": {
        "id": "QY4zhTmxOjfu"
      },
      "source": [
        "#pour le prix\n",
        "\n",
        "from sklearn.model_selection import train_test_split\n",
        "from sklearn.metrics import mean_squared_error, r2_score\n",
        "\n",
        "\n",
        "X =  T3.drop(['prix moyen au kg'], axis=1)\n",
        "y = Prix\n",
        "\n",
        "X_train, X_test, y_train, y_test = train_test_split(X, y, test_size=0.3, random_state=42)"
      ],
      "execution_count": null,
      "outputs": []
    },
    {
      "cell_type": "markdown",
      "metadata": {
        "id": "44DKUoTzYWix"
      },
      "source": [
        "**Prix**"
      ]
    },
    {
      "cell_type": "code",
      "metadata": {
        "colab": {
          "base_uri": "https://localhost:8080/"
        },
        "id": "9dukz_64YWLS",
        "outputId": "b4e37dc5-c452-400a-d2d5-afeb2b76cc43"
      },
      "source": [
        "forest_reg = RandomForestRegressor(random_state=42)\n",
        "forest_reg.fit(X_train, y_train)\n",
        "forest_reg.score(X_test, y_test)"
      ],
      "execution_count": null,
      "outputs": [
        {
          "output_type": "execute_result",
          "data": {
            "text/plain": [
              "0.5446516685100411"
            ]
          },
          "metadata": {},
          "execution_count": 144
        }
      ]
    },
    {
      "cell_type": "code",
      "metadata": {
        "colab": {
          "base_uri": "https://localhost:8080/"
        },
        "id": "EIEa3a4kaTpC",
        "outputId": "5490b600-dea3-45f3-db5f-25d907a342db"
      },
      "source": [
        "forest_reg.score(X_train, y_train)"
      ],
      "execution_count": null,
      "outputs": [
        {
          "output_type": "execute_result",
          "data": {
            "text/plain": [
              "0.951076888877461"
            ]
          },
          "metadata": {},
          "execution_count": 145
        }
      ]
    },
    {
      "cell_type": "code",
      "metadata": {
        "id": "hGJfPsnqaeA0"
      },
      "source": [
        "y_tr = forest_reg.predict(X_train)\n",
        "y_pred = forest_reg.predict(X_test)"
      ],
      "execution_count": null,
      "outputs": []
    },
    {
      "cell_type": "code",
      "metadata": {
        "colab": {
          "base_uri": "https://localhost:8080/"
        },
        "id": "jntQUSCvae40",
        "outputId": "f9423d01-1a4e-488b-929e-049e6bcbbd5f"
      },
      "source": [
        "np.sqrt(mean_squared_error(y_test, y_pred))"
      ],
      "execution_count": null,
      "outputs": [
        {
          "output_type": "execute_result",
          "data": {
            "text/plain": [
              "0.20366988354895205"
            ]
          },
          "metadata": {},
          "execution_count": 147
        }
      ]
    },
    {
      "cell_type": "code",
      "metadata": {
        "colab": {
          "base_uri": "https://localhost:8080/"
        },
        "id": "1q0xoCPHae-B",
        "outputId": "88567adf-ee9a-49da-d025-a3c485afc0d6"
      },
      "source": [
        "sqrt(mean_squared_error(y_train, y_tr))"
      ],
      "execution_count": null,
      "outputs": [
        {
          "output_type": "execute_result",
          "data": {
            "text/plain": [
              "0.062298458494117026"
            ]
          },
          "metadata": {},
          "execution_count": 148
        }
      ]
    },
    {
      "cell_type": "code",
      "metadata": {
        "colab": {
          "base_uri": "https://localhost:8080/"
        },
        "id": "ppr5SZZ4afB1",
        "outputId": "fcf8f2af-f852-4ed8-b2c4-cb12b7a5e1c4"
      },
      "source": [
        "mean_absolute_error(y_train, y_tr)"
      ],
      "execution_count": null,
      "outputs": [
        {
          "output_type": "execute_result",
          "data": {
            "text/plain": [
              "0.04590456081081065"
            ]
          },
          "metadata": {},
          "execution_count": 149
        }
      ]
    },
    {
      "cell_type": "code",
      "metadata": {
        "colab": {
          "base_uri": "https://localhost:8080/"
        },
        "id": "MFpG2hQYa87b",
        "outputId": "5ad45bfb-b69d-4a02-e370-727e62731216"
      },
      "source": [
        "mean_absolute_error(y_test, y_pred)"
      ],
      "execution_count": null,
      "outputs": [
        {
          "output_type": "execute_result",
          "data": {
            "text/plain": [
              "0.1530464843749998"
            ]
          },
          "metadata": {},
          "execution_count": 150
        }
      ]
    },
    {
      "cell_type": "code",
      "metadata": {
        "colab": {
          "base_uri": "https://localhost:8080/"
        },
        "id": "Wf1ISm1kwjT1",
        "outputId": "1b1dab7f-006c-4c95-d6e1-a8de765fb34b"
      },
      "source": [
        "print(r2_score(y_test, y_pred))\n",
        "print(r2_score(y_train, y_tr))"
      ],
      "execution_count": null,
      "outputs": [
        {
          "output_type": "stream",
          "name": "stdout",
          "text": [
            "0.5446516685100411\n",
            "0.9510768888774609\n"
          ]
        }
      ]
    },
    {
      "cell_type": "code",
      "metadata": {
        "colab": {
          "base_uri": "https://localhost:8080/",
          "height": 317
        },
        "id": "e5cTuHAObQl2",
        "outputId": "742aa88b-e7d9-49ba-f373-b047f54e224b"
      },
      "source": [
        "plt.scatter(y_test, y_pred, color = 'darkviolet')\n",
        "plt.title('Prix des tomates (random forest)')\n",
        "plt.xlabel('Prix prédit')\n",
        "plt.ylabel('Prix actuel')\n",
        "z = np.polyfit(y_test, y_pred, 1)\n",
        "p = np.poly1d(z)\n",
        "plt.plot(y_test,p(y_test), color='lightblue')\n",
        "plt.show()"
      ],
      "execution_count": null,
      "outputs": [
        {
          "output_type": "display_data",
          "data": {
            "image/png": "[encoded data removed]",
            "text/plain": [
              "<Figure size 432x288 with 1 Axes>"
            ]
          },
          "metadata": {}
        }
      ]
    },
    {
      "cell_type": "code",
      "metadata": {
        "id": "QaE3u1jzbz4t"
      },
      "source": [
        "param_grid = {  'bootstrap': [True], 'max_depth': [5, 10, None], 'max_features': ['auto', 'log2'], 'n_estimators': [19, 35, 46, 79, 98, 100, 115, 123]}"
      ],
      "execution_count": null,
      "outputs": []
    },
    {
      "cell_type": "code",
      "metadata": {
        "id": "_BRgq_ilh5Vs"
      },
      "source": [
        "from sklearn.metrics import make_scorer\n",
        "\n",
        "scorer = make_scorer(mean_squared_error, squared = False )\n",
        "g1 = GridSearchCV(estimator = forest_reg, param_grid = param_grid, \n",
        "cv = 5, n_jobs = 1, verbose = 0, return_train_score=True, scoring = scorer)"
      ],
      "execution_count": null,
      "outputs": []
    },
    {
      "cell_type": "code",
      "metadata": {
        "colab": {
          "base_uri": "https://localhost:8080/"
        },
        "id": "w_jy2BpRh_kT",
        "outputId": "4afcb5ae-9e12-4ad2-aeb4-471299817e36"
      },
      "source": [
        "g1.fit(X_train, y_train)"
      ],
      "execution_count": null,
      "outputs": [
        {
          "output_type": "execute_result",
          "data": {
            "text/plain": [
              "GridSearchCV(cv=5, error_score=nan,\n",
              "             estimator=RandomForestRegressor(bootstrap=True, ccp_alpha=0.0,\n",
              "                                             criterion='mse', max_depth=None,\n",
              "                                             max_features='auto',\n",
              "                                             max_leaf_nodes=None,\n",
              "                                             max_samples=None,\n",
              "                                             min_impurity_decrease=0.0,\n",
              "                                             min_impurity_split=None,\n",
              "                                             min_samples_leaf=1,\n",
              "                                             min_samples_split=2,\n",
              "                                             min_weight_fraction_leaf=0.0,\n",
              "                                             n_estimators=100, n_jobs=None,\n",
              "                                             oob_score=False, random_state=42,\n",
              "                                             verbose=0, warm_start=False),\n",
              "             iid='deprecated', n_jobs=1,\n",
              "             param_grid={'bootstrap': [True], 'max_depth': [5, 10, None],\n",
              "                         'max_features': ['auto', 'log2'],\n",
              "                         'n_estimators': [19, 35, 46, 79, 98, 100, 115, 123]},\n",
              "             pre_dispatch='2*n_jobs', refit=True, return_train_score=True,\n",
              "             scoring=make_scorer(mean_squared_error, squared=False), verbose=0)"
            ]
          },
          "metadata": {},
          "execution_count": 155
        }
      ]
    },
    {
      "cell_type": "code",
      "metadata": {
        "colab": {
          "base_uri": "https://localhost:8080/"
        },
        "id": "lYSopZZ4jEQc",
        "outputId": "f445efd9-47c6-4c5d-b7e1-3817d604c086"
      },
      "source": [
        "g1.best_score_"
      ],
      "execution_count": null,
      "outputs": [
        {
          "output_type": "execute_result",
          "data": {
            "text/plain": [
              "0.2253337220821961"
            ]
          },
          "metadata": {},
          "execution_count": 156
        }
      ]
    },
    {
      "cell_type": "code",
      "metadata": {
        "colab": {
          "base_uri": "https://localhost:8080/"
        },
        "id": "uzdA8ztDlAtV",
        "outputId": "34024f2a-1c9c-4de5-8068-1c9c1b5292e2"
      },
      "source": [
        "best_modl = g1.best_estimator_\n",
        "print(best_modl)\n",
        "best_preds = best_modl.predict(X_test)\n",
        "print(np.sqrt(mean_squared_error(y_test, best_preds)))"
      ],
      "execution_count": null,
      "outputs": [
        {
          "output_type": "stream",
          "name": "stdout",
          "text": [
            "RandomForestRegressor(bootstrap=True, ccp_alpha=0.0, criterion='mse',\n",
            "                      max_depth=5, max_features='log2', max_leaf_nodes=None,\n",
            "                      max_samples=None, min_impurity_decrease=0.0,\n",
            "                      min_impurity_split=None, min_samples_leaf=1,\n",
            "                      min_samples_split=2, min_weight_fraction_leaf=0.0,\n",
            "                      n_estimators=79, n_jobs=None, oob_score=False,\n",
            "                      random_state=42, verbose=0, warm_start=False)\n",
            "0.2436189296247927\n"
          ]
        }
      ]
    },
    {
      "cell_type": "code",
      "metadata": {
        "colab": {
          "base_uri": "https://localhost:8080/"
        },
        "id": "K2Hu55BNb0NE",
        "outputId": "7fcd327c-4ef4-46c2-81ff-83c92587813e"
      },
      "source": [
        "g1.best_params_"
      ],
      "execution_count": null,
      "outputs": [
        {
          "output_type": "execute_result",
          "data": {
            "text/plain": [
              "{'bootstrap': True, 'max_depth': 5, 'max_features': 'log2', 'n_estimators': 79}"
            ]
          },
          "metadata": {},
          "execution_count": 158
        }
      ]
    },
    {
      "cell_type": "code",
      "metadata": {
        "colab": {
          "base_uri": "https://localhost:8080/"
        },
        "id": "KPKl5nrWfNlh",
        "outputId": "0ee56cfe-d1b8-4523-fc01-4491526b7412"
      },
      "source": [
        "mean_absolute_error(y_test, best_preds)"
      ],
      "execution_count": null,
      "outputs": [
        {
          "output_type": "execute_result",
          "data": {
            "text/plain": [
              "0.20544370548143154"
            ]
          },
          "metadata": {},
          "execution_count": 159
        }
      ]
    },
    {
      "cell_type": "code",
      "metadata": {
        "colab": {
          "base_uri": "https://localhost:8080/",
          "height": 317
        },
        "id": "XuVQZUAAfN_n",
        "outputId": "1461cc13-160f-4733-f20f-f0e9fefca9af"
      },
      "source": [
        "plt.scatter(y_test, best_preds, color = 'darkviolet')\n",
        "plt.title('Prix des tomates (random forest)')\n",
        "plt.xlabel('Prix prédit')\n",
        "plt.ylabel('Prix actuel')\n",
        "z = np.polyfit(y_test, best_preds, 1)\n",
        "p = np.poly1d(z)\n",
        "plt.plot(y_test,p(y_test), color='lightblue')\n",
        "plt.show()"
      ],
      "execution_count": null,
      "outputs": [
        {
          "output_type": "display_data",
          "data": {
            "image/png": "[encoded data removed]",
            "text/plain": [
              "<Figure size 432x288 with 1 Axes>"
            ]
          },
          "metadata": {}
        }
      ]
    },
    {
      "cell_type": "markdown",
      "metadata": {
        "id": "fiZzYHD7f4hC"
      },
      "source": [
        "**Production**"
      ]
    },
    {
      "cell_type": "code",
      "metadata": {
        "colab": {
          "base_uri": "https://localhost:8080/"
        },
        "id": "MDmmqzMNf7Sr",
        "outputId": "dc388ebe-88b8-4c8c-a4d8-ca305383601d"
      },
      "source": [
        "X_train, X_test, y_train, y_test = train_test_split(X2, y2, test_size=0.3, random_state=42)\n",
        "\n",
        "forest_reg = RandomForestRegressor(random_state=42)\n",
        "forest_reg.fit(X_train, y_train)\n",
        "forest_reg.score(X_test, y_test)"
      ],
      "execution_count": null,
      "outputs": [
        {
          "output_type": "execute_result",
          "data": {
            "text/plain": [
              "0.17678458514400341"
            ]
          },
          "metadata": {},
          "execution_count": 161
        }
      ]
    },
    {
      "cell_type": "code",
      "metadata": {
        "colab": {
          "base_uri": "https://localhost:8080/"
        },
        "id": "vm1RAEFmmiyj",
        "outputId": "6a770d33-cbff-425b-dd14-a85467d8d80b"
      },
      "source": [
        "forest_reg.score(X_train, y_train)"
      ],
      "execution_count": null,
      "outputs": [
        {
          "output_type": "execute_result",
          "data": {
            "text/plain": [
              "0.8287841760591974"
            ]
          },
          "metadata": {},
          "execution_count": 162
        }
      ]
    },
    {
      "cell_type": "code",
      "metadata": {
        "id": "IAc_rYeRm5ll"
      },
      "source": [
        "y_pred = forest_reg.predict(X_test)\n",
        "y_tr = forest_reg.predict(X_train)"
      ],
      "execution_count": null,
      "outputs": []
    },
    {
      "cell_type": "code",
      "metadata": {
        "colab": {
          "base_uri": "https://localhost:8080/"
        },
        "id": "BtEfrNk-myM_",
        "outputId": "0bf7bc07-749c-4183-a347-552037876311"
      },
      "source": [
        "sqrt(mean_squared_error(y_test, y_pred))"
      ],
      "execution_count": null,
      "outputs": [
        {
          "output_type": "execute_result",
          "data": {
            "text/plain": [
              "0.7799181490532556"
            ]
          },
          "metadata": {},
          "execution_count": 164
        }
      ]
    },
    {
      "cell_type": "code",
      "metadata": {
        "colab": {
          "base_uri": "https://localhost:8080/"
        },
        "id": "2DGMwIeImyg4",
        "outputId": "97654e35-b13a-4bd9-98ee-bf7a3bd7d085"
      },
      "source": [
        "sqrt(mean_squared_error(y_train, y_tr))"
      ],
      "execution_count": null,
      "outputs": [
        {
          "output_type": "execute_result",
          "data": {
            "text/plain": [
              "0.30470574233151104"
            ]
          },
          "metadata": {},
          "execution_count": 165
        }
      ]
    },
    {
      "cell_type": "code",
      "metadata": {
        "colab": {
          "base_uri": "https://localhost:8080/"
        },
        "id": "17q6Oq9gnLdy",
        "outputId": "f2a82cb4-107a-448c-a861-8b7f6f39bf61"
      },
      "source": [
        "mean_absolute_error(y_train, y_tr)"
      ],
      "execution_count": null,
      "outputs": [
        {
          "output_type": "execute_result",
          "data": {
            "text/plain": [
              "0.1372663851351351"
            ]
          },
          "metadata": {},
          "execution_count": 166
        }
      ]
    },
    {
      "cell_type": "code",
      "metadata": {
        "colab": {
          "base_uri": "https://localhost:8080/"
        },
        "id": "WbDCOfx9nLjE",
        "outputId": "97a7d6f9-1071-4880-e91a-d51bc4b714ed"
      },
      "source": [
        "mean_absolute_error(y_test, y_pred)"
      ],
      "execution_count": null,
      "outputs": [
        {
          "output_type": "execute_result",
          "data": {
            "text/plain": [
              "0.3368321093750001"
            ]
          },
          "metadata": {},
          "execution_count": 167
        }
      ]
    },
    {
      "cell_type": "code",
      "metadata": {
        "colab": {
          "base_uri": "https://localhost:8080/"
        },
        "id": "O8MOcL3Dwuqo",
        "outputId": "bed654b7-e9fa-49ef-f830-8e0aeb4b5b48"
      },
      "source": [
        "print(r2_score(y_test, y_pred))\n",
        "print(r2_score(y_train, y_tr))"
      ],
      "execution_count": null,
      "outputs": [
        {
          "output_type": "stream",
          "name": "stdout",
          "text": [
            "0.17678458514400341\n",
            "0.8287841760591973\n"
          ]
        }
      ]
    },
    {
      "cell_type": "code",
      "metadata": {
        "colab": {
          "base_uri": "https://localhost:8080/",
          "height": 317
        },
        "id": "rqwqUYLqnLrs",
        "outputId": "b2696298-dac1-479c-96a9-9d26973d4716"
      },
      "source": [
        "plt.scatter(y_test, y_pred, color = 'gold')\n",
        "plt.title('Production des tomates (random forest)')\n",
        "plt.xlabel('Production prédite')\n",
        "plt.ylabel('Production actuelle')\n",
        "z = np.polyfit(y_test, y_pred, 1)\n",
        "p = np.poly1d(z)\n",
        "plt.plot(y_test,p(y_test), color='blue')\n",
        "plt.show()"
      ],
      "execution_count": null,
      "outputs": [
        {
          "output_type": "display_data",
          "data": {
            "image/png": "[encoded data removed]",
            "text/plain": [
              "<Figure size 432x288 with 1 Axes>"
            ]
          },
          "metadata": {}
        }
      ]
    },
    {
      "cell_type": "code",
      "metadata": {
        "id": "aTsJt7gEn6Y9"
      },
      "source": [
        "param_grid = {  'bootstrap': [True], 'max_depth': [5, 10, None], 'max_features': ['auto', 'log2'], 'n_estimators': [19, 35, 46, 79, 98, 100, 115, 123]}"
      ],
      "execution_count": null,
      "outputs": []
    },
    {
      "cell_type": "code",
      "metadata": {
        "id": "8UcYQmawn6dy"
      },
      "source": [
        "scorer = make_scorer(mean_squared_error, squared = False )\n",
        "g2 = GridSearchCV(estimator = forest_reg, param_grid = param_grid, \n",
        "cv = 5, n_jobs = 1, verbose = 0, return_train_score=True, scoring = scorer)"
      ],
      "execution_count": null,
      "outputs": []
    },
    {
      "cell_type": "code",
      "metadata": {
        "colab": {
          "base_uri": "https://localhost:8080/"
        },
        "id": "NlwcoZpnn6uR",
        "outputId": "689c97e5-0e1c-4e03-ca31-8ceeb23ab504"
      },
      "source": [
        "g2.fit(X_train, y_train)"
      ],
      "execution_count": null,
      "outputs": [
        {
          "output_type": "execute_result",
          "data": {
            "text/plain": [
              "GridSearchCV(cv=5, error_score=nan,\n",
              "             estimator=RandomForestRegressor(bootstrap=True, ccp_alpha=0.0,\n",
              "                                             criterion='mse', max_depth=None,\n",
              "                                             max_features='auto',\n",
              "                                             max_leaf_nodes=None,\n",
              "                                             max_samples=None,\n",
              "                                             min_impurity_decrease=0.0,\n",
              "                                             min_impurity_split=None,\n",
              "                                             min_samples_leaf=1,\n",
              "                                             min_samples_split=2,\n",
              "                                             min_weight_fraction_leaf=0.0,\n",
              "                                             n_estimators=100, n_jobs=None,\n",
              "                                             oob_score=False, random_state=42,\n",
              "                                             verbose=0, warm_start=False),\n",
              "             iid='deprecated', n_jobs=1,\n",
              "             param_grid={'bootstrap': [True], 'max_depth': [5, 10, None],\n",
              "                         'max_features': ['auto', 'log2'],\n",
              "                         'n_estimators': [19, 35, 46, 79, 98, 100, 115, 123]},\n",
              "             pre_dispatch='2*n_jobs', refit=True, return_train_score=True,\n",
              "             scoring=make_scorer(mean_squared_error, squared=False), verbose=0)"
            ]
          },
          "metadata": {},
          "execution_count": 172
        }
      ]
    },
    {
      "cell_type": "code",
      "metadata": {
        "colab": {
          "base_uri": "https://localhost:8080/"
        },
        "id": "qB9onAQun6yK",
        "outputId": "e0ad99ea-5608-4b48-9e8f-731467babb36"
      },
      "source": [
        "g2.best_score_"
      ],
      "execution_count": null,
      "outputs": [
        {
          "output_type": "execute_result",
          "data": {
            "text/plain": [
              "0.7540352335953744"
            ]
          },
          "metadata": {},
          "execution_count": 173
        }
      ]
    },
    {
      "cell_type": "code",
      "metadata": {
        "colab": {
          "base_uri": "https://localhost:8080/"
        },
        "id": "w9sWho8kn62-",
        "outputId": "e5fceac2-f602-435e-bbbe-ee56b04886ba"
      },
      "source": [
        "best_modl = g2.best_estimator_\n",
        "print(best_modl)\n",
        "best_preds = best_modl.predict(X_test)\n",
        "print(np.sqrt(mean_squared_error(y_test, best_preds)))"
      ],
      "execution_count": null,
      "outputs": [
        {
          "output_type": "stream",
          "name": "stdout",
          "text": [
            "RandomForestRegressor(bootstrap=True, ccp_alpha=0.0, criterion='mse',\n",
            "                      max_depth=None, max_features='auto', max_leaf_nodes=None,\n",
            "                      max_samples=None, min_impurity_decrease=0.0,\n",
            "                      min_impurity_split=None, min_samples_leaf=1,\n",
            "                      min_samples_split=2, min_weight_fraction_leaf=0.0,\n",
            "                      n_estimators=19, n_jobs=None, oob_score=False,\n",
            "                      random_state=42, verbose=0, warm_start=False)\n",
            "0.7956092769846022\n"
          ]
        }
      ]
    },
    {
      "cell_type": "code",
      "metadata": {
        "colab": {
          "base_uri": "https://localhost:8080/"
        },
        "id": "DJIdnBlqn67d",
        "outputId": "ac860ee1-a385-44b4-daf5-fead6563a67f"
      },
      "source": [
        "g2.best_params_"
      ],
      "execution_count": null,
      "outputs": [
        {
          "output_type": "execute_result",
          "data": {
            "text/plain": [
              "{'bootstrap': True,\n",
              " 'max_depth': None,\n",
              " 'max_features': 'auto',\n",
              " 'n_estimators': 19}"
            ]
          },
          "metadata": {},
          "execution_count": 175
        }
      ]
    },
    {
      "cell_type": "code",
      "metadata": {
        "colab": {
          "base_uri": "https://localhost:8080/"
        },
        "id": "_byKJKLdn7AG",
        "outputId": "de70d82d-d82c-4947-8173-ade9cd7642c8"
      },
      "source": [
        "mean_absolute_error(y_test, best_preds)"
      ],
      "execution_count": null,
      "outputs": [
        {
          "output_type": "execute_result",
          "data": {
            "text/plain": [
              "0.3524860197368421"
            ]
          },
          "metadata": {},
          "execution_count": 176
        }
      ]
    },
    {
      "cell_type": "code",
      "metadata": {
        "colab": {
          "base_uri": "https://localhost:8080/",
          "height": 317
        },
        "id": "h4MzW0NxpMdj",
        "outputId": "be75faf1-d0f0-4e24-ded9-af8340c7b6ff"
      },
      "source": [
        "plt.scatter(y_test, best_preds, color = 'gold')\n",
        "plt.title('Production des tomates (random forest)')\n",
        "plt.xlabel('Production prédite')\n",
        "plt.ylabel('Production actuelle')\n",
        "z = np.polyfit(y_test, best_preds, 1)\n",
        "p = np.poly1d(z)\n",
        "plt.plot(y_test,p(y_test), color='blue')\n",
        "plt.show()"
      ],
      "execution_count": null,
      "outputs": [
        {
          "output_type": "display_data",
          "data": {
            "image/png": "[encoded data removed]",
            "text/plain": [
              "<Figure size 432x288 with 1 Axes>"
            ]
          },
          "metadata": {}
        }
      ]
    }
  ]
}