{
  "nbformat": 4,
  "nbformat_minor": 0,
  "metadata": {
    "colab": {
      "name": " Projet_chef_d'oeuvre(Random Forest).ipynb",
      "provenance": [],
      "collapsed_sections": []
    },
    "kernelspec": {
      "name": "python3",
      "display_name": "Python 3"
    },
    "language_info": {
      "name": "python"
    }
  },
  "cells": [
    {
      "cell_type": "code",
      "metadata": {
        "id": "xeORs_rVKhsV"
      },
      "source": [
        "import warnings\n",
        "import itertools\n",
        "import numpy as np\n",
        "import matplotlib.pyplot as plt\n",
        "warnings.filterwarnings(\"ignore\")\n",
        "plt.style.use('fivethirtyeight')\n",
        "import pandas as pd\n",
        "import statsmodels.api as sm\n",
        "import matplotlib\n",
        "matplotlib.rcParams['axes.labelsize'] = 14\n",
        "matplotlib.rcParams['xtick.labelsize'] = 12\n",
        "matplotlib.rcParams['ytick.labelsize'] = 12\n",
        "matplotlib.rcParams['text.color'] = 'k'\n",
        "import seaborn as sns\n",
        "sns.set(style=\"white\") #white background style for seaborn plots\n",
        "sns.set(style=\"whitegrid\", color_codes=True)\n",
        "from numpy import array\n",
        "from keras.preprocessing.text import one_hot\n",
        "from keras.preprocessing.sequence import pad_sequences\n",
        "from keras.models import Sequential\n",
        "from keras.layers.core import Activation, Dropout, Dense\n",
        "from keras.layers import Flatten, LSTM\n",
        "from keras.layers import GlobalMaxPooling1D\n",
        "from keras.models import Model\n",
        "from keras.layers.embeddings import Embedding\n",
        "from sklearn.model_selection import train_test_split\n",
        "from keras.preprocessing.text import Tokenizer\n",
        "from keras.layers import Input\n",
        "from keras.layers.merge import Concatenate\n",
        "from keras.layers import Bidirectional\n",
        "import re\n",
        "from statsmodels.tsa.stattools import adfuller\n",
        "from statsmodels.tsa.stattools import acf, pacf\n",
        "from statsmodels.tsa.seasonal import seasonal_decompose\n",
        "from statsmodels.tsa.arima_model import ARIMA\n",
        "from sklearn.model_selection import train_test_split, cross_val_score, GridSearchCV\n",
        "from sklearn.linear_model import LinearRegression\n",
        "import matplotlib.pyplot as plt\n",
        "from statsmodels.graphics.tsaplots import plot_acf,plot_pacf\n",
        "from sklearn.metrics import mean_absolute_error\n",
        "from sklearn.model_selection import train_test_split\n",
        "from sklearn.metrics import mean_squared_error, r2_score\n",
        "from sklearn.model_selection import GridSearchCV\n",
        "from sklearn.ensemble import RandomForestRegressor\n",
        "from math import sqrt\n",
        "from sklearn.metrics import r2_score\n"
      ],
      "execution_count": 5,
      "outputs": []
    },
    {
      "cell_type": "code",
      "metadata": {
        "colab": {
          "base_uri": "https://localhost:8080/",
          "height": 822
        },
        "id": "Ja_GJ8ZEK0OZ",
        "outputId": "1c938bd1-cfd6-4d54-fd02-73340411552e"
      },
      "source": [
        "Pop = pd.read_csv(\"/content/Tomates+météo - Tableau 1 (1).csv\")\n",
        "Pop=Pop.iloc[pd.to_datetime(Pop.Date.astype(str)).argsort()]\n",
        "Pop"
      ],
      "execution_count": 6,
      "outputs": [
        {
          "output_type": "execute_result",
          "data": {
            "text/html": [
              "<div>\n",
              "<style scoped>\n",
              "    .dataframe tbody tr th:only-of-type {\n",
              "        vertical-align: middle;\n",
              "    }\n",
              "\n",
              "    .dataframe tbody tr th {\n",
              "        vertical-align: top;\n",
              "    }\n",
              "\n",
              "    .dataframe thead th {\n",
              "        text-align: right;\n",
              "    }\n",
              "</style>\n",
              "<table border=\"1\" class=\"dataframe\">\n",
              "  <thead>\n",
              "    <tr style=\"text-align: right;\">\n",
              "      <th></th>\n",
              "      <th>Date</th>\n",
              "      <th>prix moyen au kg</th>\n",
              "      <th>prix minimal</th>\n",
              "      <th>prix maximal</th>\n",
              "      <th>Production quantité \\ntonne(s)</th>\n",
              "      <th>Température minimale en °C</th>\n",
              "      <th>Température maximale en °C</th>\n",
              "      <th>précipitations en mm</th>\n",
              "      <th>Ensoleillement en min</th>\n",
              "      <th>Rafales (vitesse du vent) en km/h</th>\n",
              "      <th>catégorie tomates</th>\n",
              "    </tr>\n",
              "  </thead>\n",
              "  <tbody>\n",
              "    <tr>\n",
              "      <th>354</th>\n",
              "      <td>01/08/12</td>\n",
              "      <td>1.30</td>\n",
              "      <td>1.3</td>\n",
              "      <td>1.3</td>\n",
              "      <td>0.20</td>\n",
              "      <td>11.8</td>\n",
              "      <td>28.0</td>\n",
              "      <td>0.4</td>\n",
              "      <td>445</td>\n",
              "      <td>44.4</td>\n",
              "      <td>Tomate ronde  cat.I 57-67mm</td>\n",
              "    </tr>\n",
              "    <tr>\n",
              "      <th>333</th>\n",
              "      <td>01/10/12</td>\n",
              "      <td>1.10</td>\n",
              "      <td>1.1</td>\n",
              "      <td>1.1</td>\n",
              "      <td>0.20</td>\n",
              "      <td>3.5</td>\n",
              "      <td>19.1</td>\n",
              "      <td>0.8</td>\n",
              "      <td>536</td>\n",
              "      <td>40.7</td>\n",
              "      <td>Tomate ronde  cat.I 57-67mm</td>\n",
              "    </tr>\n",
              "    <tr>\n",
              "      <th>332</th>\n",
              "      <td>02/10/12</td>\n",
              "      <td>1.10</td>\n",
              "      <td>1.1</td>\n",
              "      <td>1.1</td>\n",
              "      <td>0.20</td>\n",
              "      <td>12.8</td>\n",
              "      <td>18.8</td>\n",
              "      <td>0.2</td>\n",
              "      <td>121</td>\n",
              "      <td>38.9</td>\n",
              "      <td>Tomate ronde  cat.I 57-67mm</td>\n",
              "    </tr>\n",
              "    <tr>\n",
              "      <th>353</th>\n",
              "      <td>03/08/12</td>\n",
              "      <td>1.25</td>\n",
              "      <td>1.2</td>\n",
              "      <td>1.3</td>\n",
              "      <td>0.30</td>\n",
              "      <td>12.0</td>\n",
              "      <td>24.1</td>\n",
              "      <td>0.4</td>\n",
              "      <td>330</td>\n",
              "      <td>42.8</td>\n",
              "      <td>Tomate ronde  cat.I 57-67mm</td>\n",
              "    </tr>\n",
              "    <tr>\n",
              "      <th>342</th>\n",
              "      <td>04/09/12</td>\n",
              "      <td>1.10</td>\n",
              "      <td>1.1</td>\n",
              "      <td>1.1</td>\n",
              "      <td>0.40</td>\n",
              "      <td>12.8</td>\n",
              "      <td>25.7</td>\n",
              "      <td>0.0</td>\n",
              "      <td>672</td>\n",
              "      <td>37.0</td>\n",
              "      <td>Tomate ronde  cat.I 57-67mm</td>\n",
              "    </tr>\n",
              "    <tr>\n",
              "      <th>...</th>\n",
              "      <td>...</td>\n",
              "      <td>...</td>\n",
              "      <td>...</td>\n",
              "      <td>...</td>\n",
              "      <td>...</td>\n",
              "      <td>...</td>\n",
              "      <td>...</td>\n",
              "      <td>...</td>\n",
              "      <td>...</td>\n",
              "      <td>...</td>\n",
              "      <td>...</td>\n",
              "    </tr>\n",
              "    <tr>\n",
              "      <th>388</th>\n",
              "      <td>11/09/20</td>\n",
              "      <td>1.75</td>\n",
              "      <td>1.7</td>\n",
              "      <td>1.8</td>\n",
              "      <td>0.50</td>\n",
              "      <td>14.1</td>\n",
              "      <td>28.2</td>\n",
              "      <td>0.0</td>\n",
              "      <td>552</td>\n",
              "      <td>29.5</td>\n",
              "      <td>Tomate ronde cat.I 67-82mm</td>\n",
              "    </tr>\n",
              "    <tr>\n",
              "      <th>19</th>\n",
              "      <td>11/09/20</td>\n",
              "      <td>1.05</td>\n",
              "      <td>1.0</td>\n",
              "      <td>1.1</td>\n",
              "      <td>0.50</td>\n",
              "      <td>14.1</td>\n",
              "      <td>28.2</td>\n",
              "      <td>0.0</td>\n",
              "      <td>552</td>\n",
              "      <td>29.5</td>\n",
              "      <td>Tomate ronde  cat.I 57-67mm</td>\n",
              "    </tr>\n",
              "    <tr>\n",
              "      <th>373</th>\n",
              "      <td>19/11/20</td>\n",
              "      <td>1.80</td>\n",
              "      <td>NaN</td>\n",
              "      <td>NaN</td>\n",
              "      <td>0.05</td>\n",
              "      <td>5.8</td>\n",
              "      <td>11.5</td>\n",
              "      <td>0.0</td>\n",
              "      <td>352</td>\n",
              "      <td>61.2</td>\n",
              "      <td>Tomate ronde cat.I 67-82mm</td>\n",
              "    </tr>\n",
              "    <tr>\n",
              "      <th>372</th>\n",
              "      <td>20/11/20</td>\n",
              "      <td>1.50</td>\n",
              "      <td>NaN</td>\n",
              "      <td>NaN</td>\n",
              "      <td>0.10</td>\n",
              "      <td>-0.1</td>\n",
              "      <td>10.6</td>\n",
              "      <td>0.0</td>\n",
              "      <td>297</td>\n",
              "      <td>26.3</td>\n",
              "      <td>Tomate ronde cat.I 67-82mm</td>\n",
              "    </tr>\n",
              "    <tr>\n",
              "      <th>0</th>\n",
              "      <td>21/06/21</td>\n",
              "      <td>1.50</td>\n",
              "      <td>1.5</td>\n",
              "      <td>1.5</td>\n",
              "      <td>0.20</td>\n",
              "      <td>15.7</td>\n",
              "      <td>24.9</td>\n",
              "      <td>3.8</td>\n",
              "      <td>423</td>\n",
              "      <td>61.2</td>\n",
              "      <td>Tomate ronde  cat.I 57-67mm</td>\n",
              "    </tr>\n",
              "  </tbody>\n",
              "</table>\n",
              "<p>424 rows × 11 columns</p>\n",
              "</div>"
            ],
            "text/plain": [
              "         Date  ...            catégorie tomates\n",
              "354  01/08/12  ...  Tomate ronde  cat.I 57-67mm\n",
              "333  01/10/12  ...  Tomate ronde  cat.I 57-67mm\n",
              "332  02/10/12  ...  Tomate ronde  cat.I 57-67mm\n",
              "353  03/08/12  ...  Tomate ronde  cat.I 57-67mm\n",
              "342  04/09/12  ...  Tomate ronde  cat.I 57-67mm\n",
              "..        ...  ...                          ...\n",
              "388  11/09/20  ...   Tomate ronde cat.I 67-82mm\n",
              "19   11/09/20  ...  Tomate ronde  cat.I 57-67mm\n",
              "373  19/11/20  ...   Tomate ronde cat.I 67-82mm\n",
              "372  20/11/20  ...   Tomate ronde cat.I 67-82mm\n",
              "0    21/06/21  ...  Tomate ronde  cat.I 57-67mm\n",
              "\n",
              "[424 rows x 11 columns]"
            ]
          },
          "metadata": {},
          "execution_count": 6
        }
      ]
    },
    {
      "cell_type": "code",
      "metadata": {
        "colab": {
          "base_uri": "https://localhost:8080/",
          "height": 632
        },
        "id": "o8tuVhG7LFH1",
        "outputId": "0ea95372-fda1-4b6a-e49b-bca8c98c67b9"
      },
      "source": [
        "Pop = Pop.drop([\"prix maximal\",\"prix minimal\"], axis=1)\n",
        "Pop"
      ],
      "execution_count": 7,
      "outputs": [
        {
          "output_type": "execute_result",
          "data": {
            "text/html": [
              "<div>\n",
              "<style scoped>\n",
              "    .dataframe tbody tr th:only-of-type {\n",
              "        vertical-align: middle;\n",
              "    }\n",
              "\n",
              "    .dataframe tbody tr th {\n",
              "        vertical-align: top;\n",
              "    }\n",
              "\n",
              "    .dataframe thead th {\n",
              "        text-align: right;\n",
              "    }\n",
              "</style>\n",
              "<table border=\"1\" class=\"dataframe\">\n",
              "  <thead>\n",
              "    <tr style=\"text-align: right;\">\n",
              "      <th></th>\n",
              "      <th>Date</th>\n",
              "      <th>prix moyen au kg</th>\n",
              "      <th>Production quantité \\ntonne(s)</th>\n",
              "      <th>Température minimale en °C</th>\n",
              "      <th>Température maximale en °C</th>\n",
              "      <th>précipitations en mm</th>\n",
              "      <th>Ensoleillement en min</th>\n",
              "      <th>Rafales (vitesse du vent) en km/h</th>\n",
              "      <th>catégorie tomates</th>\n",
              "    </tr>\n",
              "  </thead>\n",
              "  <tbody>\n",
              "    <tr>\n",
              "      <th>354</th>\n",
              "      <td>01/08/12</td>\n",
              "      <td>1.30</td>\n",
              "      <td>0.20</td>\n",
              "      <td>11.8</td>\n",
              "      <td>28.0</td>\n",
              "      <td>0.4</td>\n",
              "      <td>445</td>\n",
              "      <td>44.4</td>\n",
              "      <td>Tomate ronde  cat.I 57-67mm</td>\n",
              "    </tr>\n",
              "    <tr>\n",
              "      <th>333</th>\n",
              "      <td>01/10/12</td>\n",
              "      <td>1.10</td>\n",
              "      <td>0.20</td>\n",
              "      <td>3.5</td>\n",
              "      <td>19.1</td>\n",
              "      <td>0.8</td>\n",
              "      <td>536</td>\n",
              "      <td>40.7</td>\n",
              "      <td>Tomate ronde  cat.I 57-67mm</td>\n",
              "    </tr>\n",
              "    <tr>\n",
              "      <th>332</th>\n",
              "      <td>02/10/12</td>\n",
              "      <td>1.10</td>\n",
              "      <td>0.20</td>\n",
              "      <td>12.8</td>\n",
              "      <td>18.8</td>\n",
              "      <td>0.2</td>\n",
              "      <td>121</td>\n",
              "      <td>38.9</td>\n",
              "      <td>Tomate ronde  cat.I 57-67mm</td>\n",
              "    </tr>\n",
              "    <tr>\n",
              "      <th>353</th>\n",
              "      <td>03/08/12</td>\n",
              "      <td>1.25</td>\n",
              "      <td>0.30</td>\n",
              "      <td>12.0</td>\n",
              "      <td>24.1</td>\n",
              "      <td>0.4</td>\n",
              "      <td>330</td>\n",
              "      <td>42.8</td>\n",
              "      <td>Tomate ronde  cat.I 57-67mm</td>\n",
              "    </tr>\n",
              "    <tr>\n",
              "      <th>342</th>\n",
              "      <td>04/09/12</td>\n",
              "      <td>1.10</td>\n",
              "      <td>0.40</td>\n",
              "      <td>12.8</td>\n",
              "      <td>25.7</td>\n",
              "      <td>0.0</td>\n",
              "      <td>672</td>\n",
              "      <td>37.0</td>\n",
              "      <td>Tomate ronde  cat.I 57-67mm</td>\n",
              "    </tr>\n",
              "    <tr>\n",
              "      <th>...</th>\n",
              "      <td>...</td>\n",
              "      <td>...</td>\n",
              "      <td>...</td>\n",
              "      <td>...</td>\n",
              "      <td>...</td>\n",
              "      <td>...</td>\n",
              "      <td>...</td>\n",
              "      <td>...</td>\n",
              "      <td>...</td>\n",
              "    </tr>\n",
              "    <tr>\n",
              "      <th>388</th>\n",
              "      <td>11/09/20</td>\n",
              "      <td>1.75</td>\n",
              "      <td>0.50</td>\n",
              "      <td>14.1</td>\n",
              "      <td>28.2</td>\n",
              "      <td>0.0</td>\n",
              "      <td>552</td>\n",
              "      <td>29.5</td>\n",
              "      <td>Tomate ronde cat.I 67-82mm</td>\n",
              "    </tr>\n",
              "    <tr>\n",
              "      <th>19</th>\n",
              "      <td>11/09/20</td>\n",
              "      <td>1.05</td>\n",
              "      <td>0.50</td>\n",
              "      <td>14.1</td>\n",
              "      <td>28.2</td>\n",
              "      <td>0.0</td>\n",
              "      <td>552</td>\n",
              "      <td>29.5</td>\n",
              "      <td>Tomate ronde  cat.I 57-67mm</td>\n",
              "    </tr>\n",
              "    <tr>\n",
              "      <th>373</th>\n",
              "      <td>19/11/20</td>\n",
              "      <td>1.80</td>\n",
              "      <td>0.05</td>\n",
              "      <td>5.8</td>\n",
              "      <td>11.5</td>\n",
              "      <td>0.0</td>\n",
              "      <td>352</td>\n",
              "      <td>61.2</td>\n",
              "      <td>Tomate ronde cat.I 67-82mm</td>\n",
              "    </tr>\n",
              "    <tr>\n",
              "      <th>372</th>\n",
              "      <td>20/11/20</td>\n",
              "      <td>1.50</td>\n",
              "      <td>0.10</td>\n",
              "      <td>-0.1</td>\n",
              "      <td>10.6</td>\n",
              "      <td>0.0</td>\n",
              "      <td>297</td>\n",
              "      <td>26.3</td>\n",
              "      <td>Tomate ronde cat.I 67-82mm</td>\n",
              "    </tr>\n",
              "    <tr>\n",
              "      <th>0</th>\n",
              "      <td>21/06/21</td>\n",
              "      <td>1.50</td>\n",
              "      <td>0.20</td>\n",
              "      <td>15.7</td>\n",
              "      <td>24.9</td>\n",
              "      <td>3.8</td>\n",
              "      <td>423</td>\n",
              "      <td>61.2</td>\n",
              "      <td>Tomate ronde  cat.I 57-67mm</td>\n",
              "    </tr>\n",
              "  </tbody>\n",
              "</table>\n",
              "<p>424 rows × 9 columns</p>\n",
              "</div>"
            ],
            "text/plain": [
              "         Date  ...            catégorie tomates\n",
              "354  01/08/12  ...  Tomate ronde  cat.I 57-67mm\n",
              "333  01/10/12  ...  Tomate ronde  cat.I 57-67mm\n",
              "332  02/10/12  ...  Tomate ronde  cat.I 57-67mm\n",
              "353  03/08/12  ...  Tomate ronde  cat.I 57-67mm\n",
              "342  04/09/12  ...  Tomate ronde  cat.I 57-67mm\n",
              "..        ...  ...                          ...\n",
              "388  11/09/20  ...   Tomate ronde cat.I 67-82mm\n",
              "19   11/09/20  ...  Tomate ronde  cat.I 57-67mm\n",
              "373  19/11/20  ...   Tomate ronde cat.I 67-82mm\n",
              "372  20/11/20  ...   Tomate ronde cat.I 67-82mm\n",
              "0    21/06/21  ...  Tomate ronde  cat.I 57-67mm\n",
              "\n",
              "[424 rows x 9 columns]"
            ]
          },
          "metadata": {},
          "execution_count": 7
        }
      ]
    },
    {
      "cell_type": "code",
      "metadata": {
        "colab": {
          "base_uri": "https://localhost:8080/",
          "height": 318
        },
        "id": "Ab8aRs-hLFTT",
        "outputId": "5b51b431-c1c6-4384-a0e5-ab85d845b6a2"
      },
      "source": [
        "Pop.describe()"
      ],
      "execution_count": 8,
      "outputs": [
        {
          "output_type": "execute_result",
          "data": {
            "text/html": [
              "<div>\n",
              "<style scoped>\n",
              "    .dataframe tbody tr th:only-of-type {\n",
              "        vertical-align: middle;\n",
              "    }\n",
              "\n",
              "    .dataframe tbody tr th {\n",
              "        vertical-align: top;\n",
              "    }\n",
              "\n",
              "    .dataframe thead th {\n",
              "        text-align: right;\n",
              "    }\n",
              "</style>\n",
              "<table border=\"1\" class=\"dataframe\">\n",
              "  <thead>\n",
              "    <tr style=\"text-align: right;\">\n",
              "      <th></th>\n",
              "      <th>prix moyen au kg</th>\n",
              "      <th>Production quantité \\ntonne(s)</th>\n",
              "      <th>Température minimale en °C</th>\n",
              "      <th>Température maximale en °C</th>\n",
              "      <th>précipitations en mm</th>\n",
              "      <th>Ensoleillement en min</th>\n",
              "      <th>Rafales (vitesse du vent) en km/h</th>\n",
              "    </tr>\n",
              "  </thead>\n",
              "  <tbody>\n",
              "    <tr>\n",
              "      <th>count</th>\n",
              "      <td>421.000000</td>\n",
              "      <td>424.000000</td>\n",
              "      <td>424.000000</td>\n",
              "      <td>424.000000</td>\n",
              "      <td>424.000000</td>\n",
              "      <td>424.000000</td>\n",
              "      <td>424.000000</td>\n",
              "    </tr>\n",
              "    <tr>\n",
              "      <th>mean</th>\n",
              "      <td>1.264798</td>\n",
              "      <td>0.464830</td>\n",
              "      <td>12.051651</td>\n",
              "      <td>23.908726</td>\n",
              "      <td>1.475236</td>\n",
              "      <td>436.160377</td>\n",
              "      <td>40.075472</td>\n",
              "    </tr>\n",
              "    <tr>\n",
              "      <th>std</th>\n",
              "      <td>0.288990</td>\n",
              "      <td>0.776784</td>\n",
              "      <td>3.965298</td>\n",
              "      <td>5.803186</td>\n",
              "      <td>4.417398</td>\n",
              "      <td>266.967955</td>\n",
              "      <td>12.427627</td>\n",
              "    </tr>\n",
              "    <tr>\n",
              "      <th>min</th>\n",
              "      <td>0.500000</td>\n",
              "      <td>0.016000</td>\n",
              "      <td>-0.100000</td>\n",
              "      <td>6.600000</td>\n",
              "      <td>0.000000</td>\n",
              "      <td>0.000000</td>\n",
              "      <td>14.400000</td>\n",
              "    </tr>\n",
              "    <tr>\n",
              "      <th>25%</th>\n",
              "      <td>1.050000</td>\n",
              "      <td>0.100000</td>\n",
              "      <td>9.800000</td>\n",
              "      <td>20.100000</td>\n",
              "      <td>0.000000</td>\n",
              "      <td>210.000000</td>\n",
              "      <td>31.500000</td>\n",
              "    </tr>\n",
              "    <tr>\n",
              "      <th>50%</th>\n",
              "      <td>1.200000</td>\n",
              "      <td>0.240000</td>\n",
              "      <td>12.300000</td>\n",
              "      <td>23.700000</td>\n",
              "      <td>0.000000</td>\n",
              "      <td>447.500000</td>\n",
              "      <td>38.900000</td>\n",
              "    </tr>\n",
              "    <tr>\n",
              "      <th>75%</th>\n",
              "      <td>1.500000</td>\n",
              "      <td>0.500000</td>\n",
              "      <td>14.700000</td>\n",
              "      <td>28.000000</td>\n",
              "      <td>0.400000</td>\n",
              "      <td>658.500000</td>\n",
              "      <td>46.800000</td>\n",
              "    </tr>\n",
              "    <tr>\n",
              "      <th>max</th>\n",
              "      <td>2.000000</td>\n",
              "      <td>7.680000</td>\n",
              "      <td>23.200000</td>\n",
              "      <td>41.300000</td>\n",
              "      <td>31.900000</td>\n",
              "      <td>906.000000</td>\n",
              "      <td>92.600000</td>\n",
              "    </tr>\n",
              "  </tbody>\n",
              "</table>\n",
              "</div>"
            ],
            "text/plain": [
              "       prix moyen au kg  ...  Rafales (vitesse du vent) en km/h\n",
              "count        421.000000  ...                         424.000000\n",
              "mean           1.264798  ...                          40.075472\n",
              "std            0.288990  ...                          12.427627\n",
              "min            0.500000  ...                          14.400000\n",
              "25%            1.050000  ...                          31.500000\n",
              "50%            1.200000  ...                          38.900000\n",
              "75%            1.500000  ...                          46.800000\n",
              "max            2.000000  ...                          92.600000\n",
              "\n",
              "[8 rows x 7 columns]"
            ]
          },
          "metadata": {},
          "execution_count": 8
        }
      ]
    },
    {
      "cell_type": "code",
      "metadata": {
        "colab": {
          "base_uri": "https://localhost:8080/",
          "height": 334
        },
        "id": "GalzdVVQLO19",
        "outputId": "daacd84a-d3f0-4902-b251-852b7b3faf5f"
      },
      "source": [
        "plt.hist(Pop['prix moyen au kg'],color ='coral')\n",
        "plt.title('Distribution pour le prix')\n",
        "plt.xlabel('prix moyen au kg')\n",
        "plt.ylabel('Densité')\n",
        "plt.show()\n",
        "print (\"skew=\", Pop['prix moyen au kg'].skew())"
      ],
      "execution_count": 9,
      "outputs": [
        {
          "output_type": "display_data",
          "data": {
            "image/png": "[encoded data removed]",
            "text/plain": [
              "<Figure size 432x288 with 1 Axes>"
            ]
          },
          "metadata": {}
        },
        {
          "output_type": "stream",
          "name": "stdout",
          "text": [
            "skew= 0.22827047693351465\n"
          ]
        }
      ]
    },
    {
      "cell_type": "code",
      "metadata": {
        "colab": {
          "base_uri": "https://localhost:8080/",
          "height": 334
        },
        "id": "-j6B6juPLO5A",
        "outputId": "86b7cb7a-6cb0-4153-fc13-b4d2328a1788"
      },
      "source": [
        "plt.hist(Pop['Production quantité \\ntonne(s)'],color ='violet')\n",
        "plt.title('Distribution pour la production')\n",
        "plt.xlabel('production de tomates')\n",
        "plt.ylabel('Densité')\n",
        "plt.show()\n",
        "print (\"skew=\", Pop['Production quantité \\ntonne(s)'].skew())"
      ],
      "execution_count": 10,
      "outputs": [
        {
          "output_type": "display_data",
          "data": {
            "image/png": "[encoded data removed]",
            "text/plain": [
              "<Figure size 432x288 with 1 Axes>"
            ]
          },
          "metadata": {}
        },
        {
          "output_type": "stream",
          "name": "stdout",
          "text": [
            "skew= 5.583569472053098\n"
          ]
        }
      ]
    },
    {
      "cell_type": "code",
      "metadata": {
        "colab": {
          "base_uri": "https://localhost:8080/",
          "height": 112
        },
        "id": "Y-nfCg2wLO8B",
        "outputId": "6d8c14b9-8554-4e71-b5e4-9241006990c0"
      },
      "source": [
        "Pop['catégorie tomates'].value_counts().to_frame()"
      ],
      "execution_count": 11,
      "outputs": [
        {
          "output_type": "execute_result",
          "data": {
            "text/html": [
              "<div>\n",
              "<style scoped>\n",
              "    .dataframe tbody tr th:only-of-type {\n",
              "        vertical-align: middle;\n",
              "    }\n",
              "\n",
              "    .dataframe tbody tr th {\n",
              "        vertical-align: top;\n",
              "    }\n",
              "\n",
              "    .dataframe thead th {\n",
              "        text-align: right;\n",
              "    }\n",
              "</style>\n",
              "<table border=\"1\" class=\"dataframe\">\n",
              "  <thead>\n",
              "    <tr style=\"text-align: right;\">\n",
              "      <th></th>\n",
              "      <th>catégorie tomates</th>\n",
              "    </tr>\n",
              "  </thead>\n",
              "  <tbody>\n",
              "    <tr>\n",
              "      <th>Tomate ronde  cat.I 57-67mm</th>\n",
              "      <td>372</td>\n",
              "    </tr>\n",
              "    <tr>\n",
              "      <th>Tomate ronde cat.I 67-82mm</th>\n",
              "      <td>52</td>\n",
              "    </tr>\n",
              "  </tbody>\n",
              "</table>\n",
              "</div>"
            ],
            "text/plain": [
              "                             catégorie tomates\n",
              "Tomate ronde  cat.I 57-67mm                372\n",
              "Tomate ronde cat.I 67-82mm                  52"
            ]
          },
          "metadata": {},
          "execution_count": 11
        }
      ]
    },
    {
      "cell_type": "code",
      "metadata": {
        "colab": {
          "base_uri": "https://localhost:8080/",
          "height": 529
        },
        "id": "MEZuv3uMLO_O",
        "outputId": "082d08ac-a03d-4788-c5c9-74c9e202c216"
      },
      "source": [
        "Pop['catégorie tomates'].value_counts().plot(kind='bar',figsize=(5,5),title= 'catégorie tomates',color ='gold')\n",
        "plt.xlabel('catégorie tomates')\n",
        "plt.ylabel(\"nombre de fois ou la catégorie de tomates apparaît\")\n",
        "plt.show()"
      ],
      "execution_count": 12,
      "outputs": [
        {
          "output_type": "display_data",
          "data": {
            "image/png": "[encoded data removed]",
            "text/plain": [
              "<Figure size 360x360 with 1 Axes>"
            ]
          },
          "metadata": {}
        }
      ]
    },
    {
      "cell_type": "code",
      "metadata": {
        "colab": {
          "base_uri": "https://localhost:8080/",
          "height": 340
        },
        "id": "ckV0_shiLPDE",
        "outputId": "c386f9a3-d339-43c3-cdb4-8d5304e253f6"
      },
      "source": [
        "Pop['catégorie tomates'].value_counts().plot(kind='pie', figsize=[5,5],\n",
        "          autopct=lambda p: '{:.0f}%'.format(p,(p/100)*Pop['catégorie tomates'].value_counts().sum()))"
      ],
      "execution_count": 13,
      "outputs": [
        {
          "output_type": "execute_result",
          "data": {
            "text/plain": [
              "<matplotlib.axes._subplots.AxesSubplot at 0x7fd76393dad0>"
            ]
          },
          "metadata": {},
          "execution_count": 13
        },
        {
          "output_type": "display_data",
          "data": {
            "image/png": "[encoded data removed]",
            "text/plain": [
              "<Figure size 360x360 with 1 Axes>"
            ]
          },
          "metadata": {}
        }
      ]
    },
    {
      "cell_type": "code",
      "metadata": {
        "colab": {
          "base_uri": "https://localhost:8080/",
          "height": 502
        },
        "id": "2As5fmSXLzlC",
        "outputId": "82d5f9cb-de62-4290-e542-69d653cfa04d"
      },
      "source": [
        "Corr = Pop.corr()\n",
        "\n",
        "\n",
        "f, ax = plt.subplots(figsize=(5,5))\n",
        "plt.title('Corrélation entre variables')\n",
        "\n",
        "\n",
        "sns.heatmap(Corr,linewidths=0.25,vmax=1.0, square=True, cmap=\"plasma\", linecolor='black', annot=True)\n",
        "plt.show()"
      ],
      "execution_count": 14,
      "outputs": [
        {
          "output_type": "display_data",
          "data": {
            "image/png": "[encoded data removed]",
            "text/plain": [
              "<Figure size 360x360 with 2 Axes>"
            ]
          },
          "metadata": {}
        }
      ]
    },
    {
      "cell_type": "code",
      "metadata": {
        "colab": {
          "base_uri": "https://localhost:8080/",
          "height": 632
        },
        "id": "tKJ86869MQpD",
        "outputId": "1cb191cf-2852-4e2f-8f36-5f1be86393e1"
      },
      "source": [
        "Pop =  Pop.interpolate() #pour remplacer les valeurs nulles par une valeur moyenne\n",
        "Pop"
      ],
      "execution_count": 15,
      "outputs": [
        {
          "output_type": "execute_result",
          "data": {
            "text/html": [
              "<div>\n",
              "<style scoped>\n",
              "    .dataframe tbody tr th:only-of-type {\n",
              "        vertical-align: middle;\n",
              "    }\n",
              "\n",
              "    .dataframe tbody tr th {\n",
              "        vertical-align: top;\n",
              "    }\n",
              "\n",
              "    .dataframe thead th {\n",
              "        text-align: right;\n",
              "    }\n",
              "</style>\n",
              "<table border=\"1\" class=\"dataframe\">\n",
              "  <thead>\n",
              "    <tr style=\"text-align: right;\">\n",
              "      <th></th>\n",
              "      <th>Date</th>\n",
              "      <th>prix moyen au kg</th>\n",
              "      <th>Production quantité \\ntonne(s)</th>\n",
              "      <th>Température minimale en °C</th>\n",
              "      <th>Température maximale en °C</th>\n",
              "      <th>précipitations en mm</th>\n",
              "      <th>Ensoleillement en min</th>\n",
              "      <th>Rafales (vitesse du vent) en km/h</th>\n",
              "      <th>catégorie tomates</th>\n",
              "    </tr>\n",
              "  </thead>\n",
              "  <tbody>\n",
              "    <tr>\n",
              "      <th>354</th>\n",
              "      <td>01/08/12</td>\n",
              "      <td>1.30</td>\n",
              "      <td>0.20</td>\n",
              "      <td>11.8</td>\n",
              "      <td>28.0</td>\n",
              "      <td>0.4</td>\n",
              "      <td>445</td>\n",
              "      <td>44.4</td>\n",
              "      <td>Tomate ronde  cat.I 57-67mm</td>\n",
              "    </tr>\n",
              "    <tr>\n",
              "      <th>333</th>\n",
              "      <td>01/10/12</td>\n",
              "      <td>1.10</td>\n",
              "      <td>0.20</td>\n",
              "      <td>3.5</td>\n",
              "      <td>19.1</td>\n",
              "      <td>0.8</td>\n",
              "      <td>536</td>\n",
              "      <td>40.7</td>\n",
              "      <td>Tomate ronde  cat.I 57-67mm</td>\n",
              "    </tr>\n",
              "    <tr>\n",
              "      <th>332</th>\n",
              "      <td>02/10/12</td>\n",
              "      <td>1.10</td>\n",
              "      <td>0.20</td>\n",
              "      <td>12.8</td>\n",
              "      <td>18.8</td>\n",
              "      <td>0.2</td>\n",
              "      <td>121</td>\n",
              "      <td>38.9</td>\n",
              "      <td>Tomate ronde  cat.I 57-67mm</td>\n",
              "    </tr>\n",
              "    <tr>\n",
              "      <th>353</th>\n",
              "      <td>03/08/12</td>\n",
              "      <td>1.25</td>\n",
              "      <td>0.30</td>\n",
              "      <td>12.0</td>\n",
              "      <td>24.1</td>\n",
              "      <td>0.4</td>\n",
              "      <td>330</td>\n",
              "      <td>42.8</td>\n",
              "      <td>Tomate ronde  cat.I 57-67mm</td>\n",
              "    </tr>\n",
              "    <tr>\n",
              "      <th>342</th>\n",
              "      <td>04/09/12</td>\n",
              "      <td>1.10</td>\n",
              "      <td>0.40</td>\n",
              "      <td>12.8</td>\n",
              "      <td>25.7</td>\n",
              "      <td>0.0</td>\n",
              "      <td>672</td>\n",
              "      <td>37.0</td>\n",
              "      <td>Tomate ronde  cat.I 57-67mm</td>\n",
              "    </tr>\n",
              "    <tr>\n",
              "      <th>...</th>\n",
              "      <td>...</td>\n",
              "      <td>...</td>\n",
              "      <td>...</td>\n",
              "      <td>...</td>\n",
              "      <td>...</td>\n",
              "      <td>...</td>\n",
              "      <td>...</td>\n",
              "      <td>...</td>\n",
              "      <td>...</td>\n",
              "    </tr>\n",
              "    <tr>\n",
              "      <th>388</th>\n",
              "      <td>11/09/20</td>\n",
              "      <td>1.75</td>\n",
              "      <td>0.50</td>\n",
              "      <td>14.1</td>\n",
              "      <td>28.2</td>\n",
              "      <td>0.0</td>\n",
              "      <td>552</td>\n",
              "      <td>29.5</td>\n",
              "      <td>Tomate ronde cat.I 67-82mm</td>\n",
              "    </tr>\n",
              "    <tr>\n",
              "      <th>19</th>\n",
              "      <td>11/09/20</td>\n",
              "      <td>1.05</td>\n",
              "      <td>0.50</td>\n",
              "      <td>14.1</td>\n",
              "      <td>28.2</td>\n",
              "      <td>0.0</td>\n",
              "      <td>552</td>\n",
              "      <td>29.5</td>\n",
              "      <td>Tomate ronde  cat.I 57-67mm</td>\n",
              "    </tr>\n",
              "    <tr>\n",
              "      <th>373</th>\n",
              "      <td>19/11/20</td>\n",
              "      <td>1.80</td>\n",
              "      <td>0.05</td>\n",
              "      <td>5.8</td>\n",
              "      <td>11.5</td>\n",
              "      <td>0.0</td>\n",
              "      <td>352</td>\n",
              "      <td>61.2</td>\n",
              "      <td>Tomate ronde cat.I 67-82mm</td>\n",
              "    </tr>\n",
              "    <tr>\n",
              "      <th>372</th>\n",
              "      <td>20/11/20</td>\n",
              "      <td>1.50</td>\n",
              "      <td>0.10</td>\n",
              "      <td>-0.1</td>\n",
              "      <td>10.6</td>\n",
              "      <td>0.0</td>\n",
              "      <td>297</td>\n",
              "      <td>26.3</td>\n",
              "      <td>Tomate ronde cat.I 67-82mm</td>\n",
              "    </tr>\n",
              "    <tr>\n",
              "      <th>0</th>\n",
              "      <td>21/06/21</td>\n",
              "      <td>1.50</td>\n",
              "      <td>0.20</td>\n",
              "      <td>15.7</td>\n",
              "      <td>24.9</td>\n",
              "      <td>3.8</td>\n",
              "      <td>423</td>\n",
              "      <td>61.2</td>\n",
              "      <td>Tomate ronde  cat.I 57-67mm</td>\n",
              "    </tr>\n",
              "  </tbody>\n",
              "</table>\n",
              "<p>424 rows × 9 columns</p>\n",
              "</div>"
            ],
            "text/plain": [
              "         Date  ...            catégorie tomates\n",
              "354  01/08/12  ...  Tomate ronde  cat.I 57-67mm\n",
              "333  01/10/12  ...  Tomate ronde  cat.I 57-67mm\n",
              "332  02/10/12  ...  Tomate ronde  cat.I 57-67mm\n",
              "353  03/08/12  ...  Tomate ronde  cat.I 57-67mm\n",
              "342  04/09/12  ...  Tomate ronde  cat.I 57-67mm\n",
              "..        ...  ...                          ...\n",
              "388  11/09/20  ...   Tomate ronde cat.I 67-82mm\n",
              "19   11/09/20  ...  Tomate ronde  cat.I 57-67mm\n",
              "373  19/11/20  ...   Tomate ronde cat.I 67-82mm\n",
              "372  20/11/20  ...   Tomate ronde cat.I 67-82mm\n",
              "0    21/06/21  ...  Tomate ronde  cat.I 57-67mm\n",
              "\n",
              "[424 rows x 9 columns]"
            ]
          },
          "metadata": {},
          "execution_count": 15
        }
      ]
    },
    {
      "cell_type": "code",
      "metadata": {
        "colab": {
          "base_uri": "https://localhost:8080/",
          "height": 423
        },
        "id": "XktchMk8MSJ8",
        "outputId": "55fdac03-dae1-4fbc-d9c8-386a6698ae38"
      },
      "source": [
        "dummy_tomate1 = pd.get_dummies(Pop['catégorie tomates'])\n",
        "dummy_tomate1"
      ],
      "execution_count": 16,
      "outputs": [
        {
          "output_type": "execute_result",
          "data": {
            "text/html": [
              "<div>\n",
              "<style scoped>\n",
              "    .dataframe tbody tr th:only-of-type {\n",
              "        vertical-align: middle;\n",
              "    }\n",
              "\n",
              "    .dataframe tbody tr th {\n",
              "        vertical-align: top;\n",
              "    }\n",
              "\n",
              "    .dataframe thead th {\n",
              "        text-align: right;\n",
              "    }\n",
              "</style>\n",
              "<table border=\"1\" class=\"dataframe\">\n",
              "  <thead>\n",
              "    <tr style=\"text-align: right;\">\n",
              "      <th></th>\n",
              "      <th>Tomate ronde  cat.I 57-67mm</th>\n",
              "      <th>Tomate ronde cat.I 67-82mm</th>\n",
              "    </tr>\n",
              "  </thead>\n",
              "  <tbody>\n",
              "    <tr>\n",
              "      <th>354</th>\n",
              "      <td>1</td>\n",
              "      <td>0</td>\n",
              "    </tr>\n",
              "    <tr>\n",
              "      <th>333</th>\n",
              "      <td>1</td>\n",
              "      <td>0</td>\n",
              "    </tr>\n",
              "    <tr>\n",
              "      <th>332</th>\n",
              "      <td>1</td>\n",
              "      <td>0</td>\n",
              "    </tr>\n",
              "    <tr>\n",
              "      <th>353</th>\n",
              "      <td>1</td>\n",
              "      <td>0</td>\n",
              "    </tr>\n",
              "    <tr>\n",
              "      <th>342</th>\n",
              "      <td>1</td>\n",
              "      <td>0</td>\n",
              "    </tr>\n",
              "    <tr>\n",
              "      <th>...</th>\n",
              "      <td>...</td>\n",
              "      <td>...</td>\n",
              "    </tr>\n",
              "    <tr>\n",
              "      <th>388</th>\n",
              "      <td>0</td>\n",
              "      <td>1</td>\n",
              "    </tr>\n",
              "    <tr>\n",
              "      <th>19</th>\n",
              "      <td>1</td>\n",
              "      <td>0</td>\n",
              "    </tr>\n",
              "    <tr>\n",
              "      <th>373</th>\n",
              "      <td>0</td>\n",
              "      <td>1</td>\n",
              "    </tr>\n",
              "    <tr>\n",
              "      <th>372</th>\n",
              "      <td>0</td>\n",
              "      <td>1</td>\n",
              "    </tr>\n",
              "    <tr>\n",
              "      <th>0</th>\n",
              "      <td>1</td>\n",
              "      <td>0</td>\n",
              "    </tr>\n",
              "  </tbody>\n",
              "</table>\n",
              "<p>424 rows × 2 columns</p>\n",
              "</div>"
            ],
            "text/plain": [
              "     Tomate ronde  cat.I 57-67mm  Tomate ronde cat.I 67-82mm\n",
              "354                            1                           0\n",
              "333                            1                           0\n",
              "332                            1                           0\n",
              "353                            1                           0\n",
              "342                            1                           0\n",
              "..                           ...                         ...\n",
              "388                            0                           1\n",
              "19                             1                           0\n",
              "373                            0                           1\n",
              "372                            0                           1\n",
              "0                              1                           0\n",
              "\n",
              "[424 rows x 2 columns]"
            ]
          },
          "metadata": {},
          "execution_count": 16
        }
      ]
    },
    {
      "cell_type": "code",
      "metadata": {
        "colab": {
          "base_uri": "https://localhost:8080/",
          "height": 822
        },
        "id": "N3MMKKgzMSYG",
        "outputId": "1d3ccdff-9020-46ea-e9e5-c7efdd6e64da"
      },
      "source": [
        "T =  pd.merge(\n",
        "    left=Pop,\n",
        "    right=dummy_tomate1,\n",
        "    left_index=True,\n",
        "    right_index=True,\n",
        ")\n",
        "\n",
        "T"
      ],
      "execution_count": 17,
      "outputs": [
        {
          "output_type": "execute_result",
          "data": {
            "text/html": [
              "<div>\n",
              "<style scoped>\n",
              "    .dataframe tbody tr th:only-of-type {\n",
              "        vertical-align: middle;\n",
              "    }\n",
              "\n",
              "    .dataframe tbody tr th {\n",
              "        vertical-align: top;\n",
              "    }\n",
              "\n",
              "    .dataframe thead th {\n",
              "        text-align: right;\n",
              "    }\n",
              "</style>\n",
              "<table border=\"1\" class=\"dataframe\">\n",
              "  <thead>\n",
              "    <tr style=\"text-align: right;\">\n",
              "      <th></th>\n",
              "      <th>Date</th>\n",
              "      <th>prix moyen au kg</th>\n",
              "      <th>Production quantité \\ntonne(s)</th>\n",
              "      <th>Température minimale en °C</th>\n",
              "      <th>Température maximale en °C</th>\n",
              "      <th>précipitations en mm</th>\n",
              "      <th>Ensoleillement en min</th>\n",
              "      <th>Rafales (vitesse du vent) en km/h</th>\n",
              "      <th>catégorie tomates</th>\n",
              "      <th>Tomate ronde  cat.I 57-67mm</th>\n",
              "      <th>Tomate ronde cat.I 67-82mm</th>\n",
              "    </tr>\n",
              "  </thead>\n",
              "  <tbody>\n",
              "    <tr>\n",
              "      <th>354</th>\n",
              "      <td>01/08/12</td>\n",
              "      <td>1.30</td>\n",
              "      <td>0.20</td>\n",
              "      <td>11.8</td>\n",
              "      <td>28.0</td>\n",
              "      <td>0.4</td>\n",
              "      <td>445</td>\n",
              "      <td>44.4</td>\n",
              "      <td>Tomate ronde  cat.I 57-67mm</td>\n",
              "      <td>1</td>\n",
              "      <td>0</td>\n",
              "    </tr>\n",
              "    <tr>\n",
              "      <th>333</th>\n",
              "      <td>01/10/12</td>\n",
              "      <td>1.10</td>\n",
              "      <td>0.20</td>\n",
              "      <td>3.5</td>\n",
              "      <td>19.1</td>\n",
              "      <td>0.8</td>\n",
              "      <td>536</td>\n",
              "      <td>40.7</td>\n",
              "      <td>Tomate ronde  cat.I 57-67mm</td>\n",
              "      <td>1</td>\n",
              "      <td>0</td>\n",
              "    </tr>\n",
              "    <tr>\n",
              "      <th>332</th>\n",
              "      <td>02/10/12</td>\n",
              "      <td>1.10</td>\n",
              "      <td>0.20</td>\n",
              "      <td>12.8</td>\n",
              "      <td>18.8</td>\n",
              "      <td>0.2</td>\n",
              "      <td>121</td>\n",
              "      <td>38.9</td>\n",
              "      <td>Tomate ronde  cat.I 57-67mm</td>\n",
              "      <td>1</td>\n",
              "      <td>0</td>\n",
              "    </tr>\n",
              "    <tr>\n",
              "      <th>353</th>\n",
              "      <td>03/08/12</td>\n",
              "      <td>1.25</td>\n",
              "      <td>0.30</td>\n",
              "      <td>12.0</td>\n",
              "      <td>24.1</td>\n",
              "      <td>0.4</td>\n",
              "      <td>330</td>\n",
              "      <td>42.8</td>\n",
              "      <td>Tomate ronde  cat.I 57-67mm</td>\n",
              "      <td>1</td>\n",
              "      <td>0</td>\n",
              "    </tr>\n",
              "    <tr>\n",
              "      <th>342</th>\n",
              "      <td>04/09/12</td>\n",
              "      <td>1.10</td>\n",
              "      <td>0.40</td>\n",
              "      <td>12.8</td>\n",
              "      <td>25.7</td>\n",
              "      <td>0.0</td>\n",
              "      <td>672</td>\n",
              "      <td>37.0</td>\n",
              "      <td>Tomate ronde  cat.I 57-67mm</td>\n",
              "      <td>1</td>\n",
              "      <td>0</td>\n",
              "    </tr>\n",
              "    <tr>\n",
              "      <th>...</th>\n",
              "      <td>...</td>\n",
              "      <td>...</td>\n",
              "      <td>...</td>\n",
              "      <td>...</td>\n",
              "      <td>...</td>\n",
              "      <td>...</td>\n",
              "      <td>...</td>\n",
              "      <td>...</td>\n",
              "      <td>...</td>\n",
              "      <td>...</td>\n",
              "      <td>...</td>\n",
              "    </tr>\n",
              "    <tr>\n",
              "      <th>388</th>\n",
              "      <td>11/09/20</td>\n",
              "      <td>1.75</td>\n",
              "      <td>0.50</td>\n",
              "      <td>14.1</td>\n",
              "      <td>28.2</td>\n",
              "      <td>0.0</td>\n",
              "      <td>552</td>\n",
              "      <td>29.5</td>\n",
              "      <td>Tomate ronde cat.I 67-82mm</td>\n",
              "      <td>0</td>\n",
              "      <td>1</td>\n",
              "    </tr>\n",
              "    <tr>\n",
              "      <th>19</th>\n",
              "      <td>11/09/20</td>\n",
              "      <td>1.05</td>\n",
              "      <td>0.50</td>\n",
              "      <td>14.1</td>\n",
              "      <td>28.2</td>\n",
              "      <td>0.0</td>\n",
              "      <td>552</td>\n",
              "      <td>29.5</td>\n",
              "      <td>Tomate ronde  cat.I 57-67mm</td>\n",
              "      <td>1</td>\n",
              "      <td>0</td>\n",
              "    </tr>\n",
              "    <tr>\n",
              "      <th>373</th>\n",
              "      <td>19/11/20</td>\n",
              "      <td>1.80</td>\n",
              "      <td>0.05</td>\n",
              "      <td>5.8</td>\n",
              "      <td>11.5</td>\n",
              "      <td>0.0</td>\n",
              "      <td>352</td>\n",
              "      <td>61.2</td>\n",
              "      <td>Tomate ronde cat.I 67-82mm</td>\n",
              "      <td>0</td>\n",
              "      <td>1</td>\n",
              "    </tr>\n",
              "    <tr>\n",
              "      <th>372</th>\n",
              "      <td>20/11/20</td>\n",
              "      <td>1.50</td>\n",
              "      <td>0.10</td>\n",
              "      <td>-0.1</td>\n",
              "      <td>10.6</td>\n",
              "      <td>0.0</td>\n",
              "      <td>297</td>\n",
              "      <td>26.3</td>\n",
              "      <td>Tomate ronde cat.I 67-82mm</td>\n",
              "      <td>0</td>\n",
              "      <td>1</td>\n",
              "    </tr>\n",
              "    <tr>\n",
              "      <th>0</th>\n",
              "      <td>21/06/21</td>\n",
              "      <td>1.50</td>\n",
              "      <td>0.20</td>\n",
              "      <td>15.7</td>\n",
              "      <td>24.9</td>\n",
              "      <td>3.8</td>\n",
              "      <td>423</td>\n",
              "      <td>61.2</td>\n",
              "      <td>Tomate ronde  cat.I 57-67mm</td>\n",
              "      <td>1</td>\n",
              "      <td>0</td>\n",
              "    </tr>\n",
              "  </tbody>\n",
              "</table>\n",
              "<p>424 rows × 11 columns</p>\n",
              "</div>"
            ],
            "text/plain": [
              "         Date  ...  Tomate ronde cat.I 67-82mm\n",
              "354  01/08/12  ...                           0\n",
              "333  01/10/12  ...                           0\n",
              "332  02/10/12  ...                           0\n",
              "353  03/08/12  ...                           0\n",
              "342  04/09/12  ...                           0\n",
              "..        ...  ...                         ...\n",
              "388  11/09/20  ...                           1\n",
              "19   11/09/20  ...                           0\n",
              "373  19/11/20  ...                           1\n",
              "372  20/11/20  ...                           1\n",
              "0    21/06/21  ...                           0\n",
              "\n",
              "[424 rows x 11 columns]"
            ]
          },
          "metadata": {},
          "execution_count": 17
        }
      ]
    },
    {
      "cell_type": "code",
      "metadata": {
        "colab": {
          "base_uri": "https://localhost:8080/",
          "height": 476
        },
        "id": "JPKabzASMpKR",
        "outputId": "e0a6f4e1-9f2c-4ead-feda-279ff5374267"
      },
      "source": [
        "T = T.drop([\"catégorie tomates\"], axis=1)\n",
        "T"
      ],
      "execution_count": 18,
      "outputs": [
        {
          "output_type": "execute_result",
          "data": {
            "text/html": [
              "<div>\n",
              "<style scoped>\n",
              "    .dataframe tbody tr th:only-of-type {\n",
              "        vertical-align: middle;\n",
              "    }\n",
              "\n",
              "    .dataframe tbody tr th {\n",
              "        vertical-align: top;\n",
              "    }\n",
              "\n",
              "    .dataframe thead th {\n",
              "        text-align: right;\n",
              "    }\n",
              "</style>\n",
              "<table border=\"1\" class=\"dataframe\">\n",
              "  <thead>\n",
              "    <tr style=\"text-align: right;\">\n",
              "      <th></th>\n",
              "      <th>Date</th>\n",
              "      <th>prix moyen au kg</th>\n",
              "      <th>Production quantité \\ntonne(s)</th>\n",
              "      <th>Température minimale en °C</th>\n",
              "      <th>Température maximale en °C</th>\n",
              "      <th>précipitations en mm</th>\n",
              "      <th>Ensoleillement en min</th>\n",
              "      <th>Rafales (vitesse du vent) en km/h</th>\n",
              "      <th>Tomate ronde  cat.I 57-67mm</th>\n",
              "      <th>Tomate ronde cat.I 67-82mm</th>\n",
              "    </tr>\n",
              "  </thead>\n",
              "  <tbody>\n",
              "    <tr>\n",
              "      <th>354</th>\n",
              "      <td>01/08/12</td>\n",
              "      <td>1.30</td>\n",
              "      <td>0.20</td>\n",
              "      <td>11.8</td>\n",
              "      <td>28.0</td>\n",
              "      <td>0.4</td>\n",
              "      <td>445</td>\n",
              "      <td>44.4</td>\n",
              "      <td>1</td>\n",
              "      <td>0</td>\n",
              "    </tr>\n",
              "    <tr>\n",
              "      <th>333</th>\n",
              "      <td>01/10/12</td>\n",
              "      <td>1.10</td>\n",
              "      <td>0.20</td>\n",
              "      <td>3.5</td>\n",
              "      <td>19.1</td>\n",
              "      <td>0.8</td>\n",
              "      <td>536</td>\n",
              "      <td>40.7</td>\n",
              "      <td>1</td>\n",
              "      <td>0</td>\n",
              "    </tr>\n",
              "    <tr>\n",
              "      <th>332</th>\n",
              "      <td>02/10/12</td>\n",
              "      <td>1.10</td>\n",
              "      <td>0.20</td>\n",
              "      <td>12.8</td>\n",
              "      <td>18.8</td>\n",
              "      <td>0.2</td>\n",
              "      <td>121</td>\n",
              "      <td>38.9</td>\n",
              "      <td>1</td>\n",
              "      <td>0</td>\n",
              "    </tr>\n",
              "    <tr>\n",
              "      <th>353</th>\n",
              "      <td>03/08/12</td>\n",
              "      <td>1.25</td>\n",
              "      <td>0.30</td>\n",
              "      <td>12.0</td>\n",
              "      <td>24.1</td>\n",
              "      <td>0.4</td>\n",
              "      <td>330</td>\n",
              "      <td>42.8</td>\n",
              "      <td>1</td>\n",
              "      <td>0</td>\n",
              "    </tr>\n",
              "    <tr>\n",
              "      <th>342</th>\n",
              "      <td>04/09/12</td>\n",
              "      <td>1.10</td>\n",
              "      <td>0.40</td>\n",
              "      <td>12.8</td>\n",
              "      <td>25.7</td>\n",
              "      <td>0.0</td>\n",
              "      <td>672</td>\n",
              "      <td>37.0</td>\n",
              "      <td>1</td>\n",
              "      <td>0</td>\n",
              "    </tr>\n",
              "    <tr>\n",
              "      <th>...</th>\n",
              "      <td>...</td>\n",
              "      <td>...</td>\n",
              "      <td>...</td>\n",
              "      <td>...</td>\n",
              "      <td>...</td>\n",
              "      <td>...</td>\n",
              "      <td>...</td>\n",
              "      <td>...</td>\n",
              "      <td>...</td>\n",
              "      <td>...</td>\n",
              "    </tr>\n",
              "    <tr>\n",
              "      <th>388</th>\n",
              "      <td>11/09/20</td>\n",
              "      <td>1.75</td>\n",
              "      <td>0.50</td>\n",
              "      <td>14.1</td>\n",
              "      <td>28.2</td>\n",
              "      <td>0.0</td>\n",
              "      <td>552</td>\n",
              "      <td>29.5</td>\n",
              "      <td>0</td>\n",
              "      <td>1</td>\n",
              "    </tr>\n",
              "    <tr>\n",
              "      <th>19</th>\n",
              "      <td>11/09/20</td>\n",
              "      <td>1.05</td>\n",
              "      <td>0.50</td>\n",
              "      <td>14.1</td>\n",
              "      <td>28.2</td>\n",
              "      <td>0.0</td>\n",
              "      <td>552</td>\n",
              "      <td>29.5</td>\n",
              "      <td>1</td>\n",
              "      <td>0</td>\n",
              "    </tr>\n",
              "    <tr>\n",
              "      <th>373</th>\n",
              "      <td>19/11/20</td>\n",
              "      <td>1.80</td>\n",
              "      <td>0.05</td>\n",
              "      <td>5.8</td>\n",
              "      <td>11.5</td>\n",
              "      <td>0.0</td>\n",
              "      <td>352</td>\n",
              "      <td>61.2</td>\n",
              "      <td>0</td>\n",
              "      <td>1</td>\n",
              "    </tr>\n",
              "    <tr>\n",
              "      <th>372</th>\n",
              "      <td>20/11/20</td>\n",
              "      <td>1.50</td>\n",
              "      <td>0.10</td>\n",
              "      <td>-0.1</td>\n",
              "      <td>10.6</td>\n",
              "      <td>0.0</td>\n",
              "      <td>297</td>\n",
              "      <td>26.3</td>\n",
              "      <td>0</td>\n",
              "      <td>1</td>\n",
              "    </tr>\n",
              "    <tr>\n",
              "      <th>0</th>\n",
              "      <td>21/06/21</td>\n",
              "      <td>1.50</td>\n",
              "      <td>0.20</td>\n",
              "      <td>15.7</td>\n",
              "      <td>24.9</td>\n",
              "      <td>3.8</td>\n",
              "      <td>423</td>\n",
              "      <td>61.2</td>\n",
              "      <td>1</td>\n",
              "      <td>0</td>\n",
              "    </tr>\n",
              "  </tbody>\n",
              "</table>\n",
              "<p>424 rows × 10 columns</p>\n",
              "</div>"
            ],
            "text/plain": [
              "         Date  ...  Tomate ronde cat.I 67-82mm\n",
              "354  01/08/12  ...                           0\n",
              "333  01/10/12  ...                           0\n",
              "332  02/10/12  ...                           0\n",
              "353  03/08/12  ...                           0\n",
              "342  04/09/12  ...                           0\n",
              "..        ...  ...                         ...\n",
              "388  11/09/20  ...                           1\n",
              "19   11/09/20  ...                           0\n",
              "373  19/11/20  ...                           1\n",
              "372  20/11/20  ...                           1\n",
              "0    21/06/21  ...                           0\n",
              "\n",
              "[424 rows x 10 columns]"
            ]
          },
          "metadata": {},
          "execution_count": 18
        }
      ]
    },
    {
      "cell_type": "code",
      "metadata": {
        "colab": {
          "base_uri": "https://localhost:8080/",
          "height": 649
        },
        "id": "aJ1LHJgeMp3m",
        "outputId": "a0b87fe7-c7cd-42c1-c26f-aae825003e29"
      },
      "source": [
        "T['Date'] = pd.to_datetime(T['Date'])\n",
        "T"
      ],
      "execution_count": 19,
      "outputs": [
        {
          "output_type": "execute_result",
          "data": {
            "text/html": [
              "<div>\n",
              "<style scoped>\n",
              "    .dataframe tbody tr th:only-of-type {\n",
              "        vertical-align: middle;\n",
              "    }\n",
              "\n",
              "    .dataframe tbody tr th {\n",
              "        vertical-align: top;\n",
              "    }\n",
              "\n",
              "    .dataframe thead th {\n",
              "        text-align: right;\n",
              "    }\n",
              "</style>\n",
              "<table border=\"1\" class=\"dataframe\">\n",
              "  <thead>\n",
              "    <tr style=\"text-align: right;\">\n",
              "      <th></th>\n",
              "      <th>Date</th>\n",
              "      <th>prix moyen au kg</th>\n",
              "      <th>Production quantité \\ntonne(s)</th>\n",
              "      <th>Température minimale en °C</th>\n",
              "      <th>Température maximale en °C</th>\n",
              "      <th>précipitations en mm</th>\n",
              "      <th>Ensoleillement en min</th>\n",
              "      <th>Rafales (vitesse du vent) en km/h</th>\n",
              "      <th>Tomate ronde  cat.I 57-67mm</th>\n",
              "      <th>Tomate ronde cat.I 67-82mm</th>\n",
              "    </tr>\n",
              "  </thead>\n",
              "  <tbody>\n",
              "    <tr>\n",
              "      <th>354</th>\n",
              "      <td>2012-01-08</td>\n",
              "      <td>1.30</td>\n",
              "      <td>0.20</td>\n",
              "      <td>11.8</td>\n",
              "      <td>28.0</td>\n",
              "      <td>0.4</td>\n",
              "      <td>445</td>\n",
              "      <td>44.4</td>\n",
              "      <td>1</td>\n",
              "      <td>0</td>\n",
              "    </tr>\n",
              "    <tr>\n",
              "      <th>333</th>\n",
              "      <td>2012-01-10</td>\n",
              "      <td>1.10</td>\n",
              "      <td>0.20</td>\n",
              "      <td>3.5</td>\n",
              "      <td>19.1</td>\n",
              "      <td>0.8</td>\n",
              "      <td>536</td>\n",
              "      <td>40.7</td>\n",
              "      <td>1</td>\n",
              "      <td>0</td>\n",
              "    </tr>\n",
              "    <tr>\n",
              "      <th>332</th>\n",
              "      <td>2012-02-10</td>\n",
              "      <td>1.10</td>\n",
              "      <td>0.20</td>\n",
              "      <td>12.8</td>\n",
              "      <td>18.8</td>\n",
              "      <td>0.2</td>\n",
              "      <td>121</td>\n",
              "      <td>38.9</td>\n",
              "      <td>1</td>\n",
              "      <td>0</td>\n",
              "    </tr>\n",
              "    <tr>\n",
              "      <th>353</th>\n",
              "      <td>2012-03-08</td>\n",
              "      <td>1.25</td>\n",
              "      <td>0.30</td>\n",
              "      <td>12.0</td>\n",
              "      <td>24.1</td>\n",
              "      <td>0.4</td>\n",
              "      <td>330</td>\n",
              "      <td>42.8</td>\n",
              "      <td>1</td>\n",
              "      <td>0</td>\n",
              "    </tr>\n",
              "    <tr>\n",
              "      <th>342</th>\n",
              "      <td>2012-04-09</td>\n",
              "      <td>1.10</td>\n",
              "      <td>0.40</td>\n",
              "      <td>12.8</td>\n",
              "      <td>25.7</td>\n",
              "      <td>0.0</td>\n",
              "      <td>672</td>\n",
              "      <td>37.0</td>\n",
              "      <td>1</td>\n",
              "      <td>0</td>\n",
              "    </tr>\n",
              "    <tr>\n",
              "      <th>...</th>\n",
              "      <td>...</td>\n",
              "      <td>...</td>\n",
              "      <td>...</td>\n",
              "      <td>...</td>\n",
              "      <td>...</td>\n",
              "      <td>...</td>\n",
              "      <td>...</td>\n",
              "      <td>...</td>\n",
              "      <td>...</td>\n",
              "      <td>...</td>\n",
              "    </tr>\n",
              "    <tr>\n",
              "      <th>388</th>\n",
              "      <td>2020-11-09</td>\n",
              "      <td>1.75</td>\n",
              "      <td>0.50</td>\n",
              "      <td>14.1</td>\n",
              "      <td>28.2</td>\n",
              "      <td>0.0</td>\n",
              "      <td>552</td>\n",
              "      <td>29.5</td>\n",
              "      <td>0</td>\n",
              "      <td>1</td>\n",
              "    </tr>\n",
              "    <tr>\n",
              "      <th>19</th>\n",
              "      <td>2020-11-09</td>\n",
              "      <td>1.05</td>\n",
              "      <td>0.50</td>\n",
              "      <td>14.1</td>\n",
              "      <td>28.2</td>\n",
              "      <td>0.0</td>\n",
              "      <td>552</td>\n",
              "      <td>29.5</td>\n",
              "      <td>1</td>\n",
              "      <td>0</td>\n",
              "    </tr>\n",
              "    <tr>\n",
              "      <th>373</th>\n",
              "      <td>2020-11-19</td>\n",
              "      <td>1.80</td>\n",
              "      <td>0.05</td>\n",
              "      <td>5.8</td>\n",
              "      <td>11.5</td>\n",
              "      <td>0.0</td>\n",
              "      <td>352</td>\n",
              "      <td>61.2</td>\n",
              "      <td>0</td>\n",
              "      <td>1</td>\n",
              "    </tr>\n",
              "    <tr>\n",
              "      <th>372</th>\n",
              "      <td>2020-11-20</td>\n",
              "      <td>1.50</td>\n",
              "      <td>0.10</td>\n",
              "      <td>-0.1</td>\n",
              "      <td>10.6</td>\n",
              "      <td>0.0</td>\n",
              "      <td>297</td>\n",
              "      <td>26.3</td>\n",
              "      <td>0</td>\n",
              "      <td>1</td>\n",
              "    </tr>\n",
              "    <tr>\n",
              "      <th>0</th>\n",
              "      <td>2021-06-21</td>\n",
              "      <td>1.50</td>\n",
              "      <td>0.20</td>\n",
              "      <td>15.7</td>\n",
              "      <td>24.9</td>\n",
              "      <td>3.8</td>\n",
              "      <td>423</td>\n",
              "      <td>61.2</td>\n",
              "      <td>1</td>\n",
              "      <td>0</td>\n",
              "    </tr>\n",
              "  </tbody>\n",
              "</table>\n",
              "<p>424 rows × 10 columns</p>\n",
              "</div>"
            ],
            "text/plain": [
              "          Date  ...  Tomate ronde cat.I 67-82mm\n",
              "354 2012-01-08  ...                           0\n",
              "333 2012-01-10  ...                           0\n",
              "332 2012-02-10  ...                           0\n",
              "353 2012-03-08  ...                           0\n",
              "342 2012-04-09  ...                           0\n",
              "..         ...  ...                         ...\n",
              "388 2020-11-09  ...                           1\n",
              "19  2020-11-09  ...                           0\n",
              "373 2020-11-19  ...                           1\n",
              "372 2020-11-20  ...                           1\n",
              "0   2021-06-21  ...                           0\n",
              "\n",
              "[424 rows x 10 columns]"
            ]
          },
          "metadata": {},
          "execution_count": 19
        }
      ]
    },
    {
      "cell_type": "code",
      "metadata": {
        "id": "vME9_4bgLzoE"
      },
      "source": [
        "T['mois'] = T['Date'].dt.month\n",
        "T['jour'] = T['Date'].dt.day\n",
        "T['année'] = T['Date'].dt.year"
      ],
      "execution_count": 20,
      "outputs": []
    },
    {
      "cell_type": "code",
      "metadata": {
        "colab": {
          "base_uri": "https://localhost:8080/",
          "height": 476
        },
        "id": "3eiGr83zNPHS",
        "outputId": "80a80cc0-a262-4c18-e047-3aca5edcdb61"
      },
      "source": [
        "T = T.drop([\"Date\"], axis=1)\n",
        "T"
      ],
      "execution_count": 21,
      "outputs": [
        {
          "output_type": "execute_result",
          "data": {
            "text/html": [
              "<div>\n",
              "<style scoped>\n",
              "    .dataframe tbody tr th:only-of-type {\n",
              "        vertical-align: middle;\n",
              "    }\n",
              "\n",
              "    .dataframe tbody tr th {\n",
              "        vertical-align: top;\n",
              "    }\n",
              "\n",
              "    .dataframe thead th {\n",
              "        text-align: right;\n",
              "    }\n",
              "</style>\n",
              "<table border=\"1\" class=\"dataframe\">\n",
              "  <thead>\n",
              "    <tr style=\"text-align: right;\">\n",
              "      <th></th>\n",
              "      <th>prix moyen au kg</th>\n",
              "      <th>Production quantité \\ntonne(s)</th>\n",
              "      <th>Température minimale en °C</th>\n",
              "      <th>Température maximale en °C</th>\n",
              "      <th>précipitations en mm</th>\n",
              "      <th>Ensoleillement en min</th>\n",
              "      <th>Rafales (vitesse du vent) en km/h</th>\n",
              "      <th>Tomate ronde  cat.I 57-67mm</th>\n",
              "      <th>Tomate ronde cat.I 67-82mm</th>\n",
              "      <th>mois</th>\n",
              "      <th>jour</th>\n",
              "      <th>année</th>\n",
              "    </tr>\n",
              "  </thead>\n",
              "  <tbody>\n",
              "    <tr>\n",
              "      <th>354</th>\n",
              "      <td>1.30</td>\n",
              "      <td>0.20</td>\n",
              "      <td>11.8</td>\n",
              "      <td>28.0</td>\n",
              "      <td>0.4</td>\n",
              "      <td>445</td>\n",
              "      <td>44.4</td>\n",
              "      <td>1</td>\n",
              "      <td>0</td>\n",
              "      <td>1</td>\n",
              "      <td>8</td>\n",
              "      <td>2012</td>\n",
              "    </tr>\n",
              "    <tr>\n",
              "      <th>333</th>\n",
              "      <td>1.10</td>\n",
              "      <td>0.20</td>\n",
              "      <td>3.5</td>\n",
              "      <td>19.1</td>\n",
              "      <td>0.8</td>\n",
              "      <td>536</td>\n",
              "      <td>40.7</td>\n",
              "      <td>1</td>\n",
              "      <td>0</td>\n",
              "      <td>1</td>\n",
              "      <td>10</td>\n",
              "      <td>2012</td>\n",
              "    </tr>\n",
              "    <tr>\n",
              "      <th>332</th>\n",
              "      <td>1.10</td>\n",
              "      <td>0.20</td>\n",
              "      <td>12.8</td>\n",
              "      <td>18.8</td>\n",
              "      <td>0.2</td>\n",
              "      <td>121</td>\n",
              "      <td>38.9</td>\n",
              "      <td>1</td>\n",
              "      <td>0</td>\n",
              "      <td>2</td>\n",
              "      <td>10</td>\n",
              "      <td>2012</td>\n",
              "    </tr>\n",
              "    <tr>\n",
              "      <th>353</th>\n",
              "      <td>1.25</td>\n",
              "      <td>0.30</td>\n",
              "      <td>12.0</td>\n",
              "      <td>24.1</td>\n",
              "      <td>0.4</td>\n",
              "      <td>330</td>\n",
              "      <td>42.8</td>\n",
              "      <td>1</td>\n",
              "      <td>0</td>\n",
              "      <td>3</td>\n",
              "      <td>8</td>\n",
              "      <td>2012</td>\n",
              "    </tr>\n",
              "    <tr>\n",
              "      <th>342</th>\n",
              "      <td>1.10</td>\n",
              "      <td>0.40</td>\n",
              "      <td>12.8</td>\n",
              "      <td>25.7</td>\n",
              "      <td>0.0</td>\n",
              "      <td>672</td>\n",
              "      <td>37.0</td>\n",
              "      <td>1</td>\n",
              "      <td>0</td>\n",
              "      <td>4</td>\n",
              "      <td>9</td>\n",
              "      <td>2012</td>\n",
              "    </tr>\n",
              "    <tr>\n",
              "      <th>...</th>\n",
              "      <td>...</td>\n",
              "      <td>...</td>\n",
              "      <td>...</td>\n",
              "      <td>...</td>\n",
              "      <td>...</td>\n",
              "      <td>...</td>\n",
              "      <td>...</td>\n",
              "      <td>...</td>\n",
              "      <td>...</td>\n",
              "      <td>...</td>\n",
              "      <td>...</td>\n",
              "      <td>...</td>\n",
              "    </tr>\n",
              "    <tr>\n",
              "      <th>388</th>\n",
              "      <td>1.75</td>\n",
              "      <td>0.50</td>\n",
              "      <td>14.1</td>\n",
              "      <td>28.2</td>\n",
              "      <td>0.0</td>\n",
              "      <td>552</td>\n",
              "      <td>29.5</td>\n",
              "      <td>0</td>\n",
              "      <td>1</td>\n",
              "      <td>11</td>\n",
              "      <td>9</td>\n",
              "      <td>2020</td>\n",
              "    </tr>\n",
              "    <tr>\n",
              "      <th>19</th>\n",
              "      <td>1.05</td>\n",
              "      <td>0.50</td>\n",
              "      <td>14.1</td>\n",
              "      <td>28.2</td>\n",
              "      <td>0.0</td>\n",
              "      <td>552</td>\n",
              "      <td>29.5</td>\n",
              "      <td>1</td>\n",
              "      <td>0</td>\n",
              "      <td>11</td>\n",
              "      <td>9</td>\n",
              "      <td>2020</td>\n",
              "    </tr>\n",
              "    <tr>\n",
              "      <th>373</th>\n",
              "      <td>1.80</td>\n",
              "      <td>0.05</td>\n",
              "      <td>5.8</td>\n",
              "      <td>11.5</td>\n",
              "      <td>0.0</td>\n",
              "      <td>352</td>\n",
              "      <td>61.2</td>\n",
              "      <td>0</td>\n",
              "      <td>1</td>\n",
              "      <td>11</td>\n",
              "      <td>19</td>\n",
              "      <td>2020</td>\n",
              "    </tr>\n",
              "    <tr>\n",
              "      <th>372</th>\n",
              "      <td>1.50</td>\n",
              "      <td>0.10</td>\n",
              "      <td>-0.1</td>\n",
              "      <td>10.6</td>\n",
              "      <td>0.0</td>\n",
              "      <td>297</td>\n",
              "      <td>26.3</td>\n",
              "      <td>0</td>\n",
              "      <td>1</td>\n",
              "      <td>11</td>\n",
              "      <td>20</td>\n",
              "      <td>2020</td>\n",
              "    </tr>\n",
              "    <tr>\n",
              "      <th>0</th>\n",
              "      <td>1.50</td>\n",
              "      <td>0.20</td>\n",
              "      <td>15.7</td>\n",
              "      <td>24.9</td>\n",
              "      <td>3.8</td>\n",
              "      <td>423</td>\n",
              "      <td>61.2</td>\n",
              "      <td>1</td>\n",
              "      <td>0</td>\n",
              "      <td>6</td>\n",
              "      <td>21</td>\n",
              "      <td>2021</td>\n",
              "    </tr>\n",
              "  </tbody>\n",
              "</table>\n",
              "<p>424 rows × 12 columns</p>\n",
              "</div>"
            ],
            "text/plain": [
              "     prix moyen au kg  Production quantité \\ntonne(s)  ...  jour  année\n",
              "354              1.30                            0.20  ...     8   2012\n",
              "333              1.10                            0.20  ...    10   2012\n",
              "332              1.10                            0.20  ...    10   2012\n",
              "353              1.25                            0.30  ...     8   2012\n",
              "342              1.10                            0.40  ...     9   2012\n",
              "..                ...                             ...  ...   ...    ...\n",
              "388              1.75                            0.50  ...     9   2020\n",
              "19               1.05                            0.50  ...     9   2020\n",
              "373              1.80                            0.05  ...    19   2020\n",
              "372              1.50                            0.10  ...    20   2020\n",
              "0                1.50                            0.20  ...    21   2021\n",
              "\n",
              "[424 rows x 12 columns]"
            ]
          },
          "metadata": {},
          "execution_count": 21
        }
      ]
    },
    {
      "cell_type": "code",
      "metadata": {
        "id": "76qvZZKTNPVR"
      },
      "source": [
        "dummy_mois = pd.get_dummies(T['mois'])\n",
        "dummy_jour = pd.get_dummies(T['jour'])\n",
        "dummy_a = pd.get_dummies(T['année'])"
      ],
      "execution_count": 22,
      "outputs": []
    },
    {
      "cell_type": "code",
      "metadata": {
        "id": "njfRpqv_NPYn"
      },
      "source": [
        "\n",
        "T1 = pd.merge(\n",
        "    left=T,\n",
        "    right=dummy_mois,\n",
        "    left_index=True,\n",
        "    right_index=True,\n",
        ")\n",
        "\n",
        "T2 = pd.merge(\n",
        "    left=T1,\n",
        "    right=dummy_a,\n",
        "    left_index=True,\n",
        "    right_index=True,\n",
        ")\n",
        "\n",
        "T3 = pd.merge(\n",
        "    left=T2,\n",
        "    right=dummy_jour,\n",
        "    left_index=True,\n",
        "    right_index=True,\n",
        ")"
      ],
      "execution_count": 23,
      "outputs": []
    },
    {
      "cell_type": "code",
      "metadata": {
        "colab": {
          "base_uri": "https://localhost:8080/",
          "height": 513
        },
        "id": "oHQMgbBlNPcd",
        "outputId": "7317990a-b70d-4802-de10-b5ebe82607a2"
      },
      "source": [
        "T3 = T3.drop([\"mois\",\"jour\",\"année\"], axis=1)\n",
        "T3"
      ],
      "execution_count": 24,
      "outputs": [
        {
          "output_type": "execute_result",
          "data": {
            "text/html": [
              "<div>\n",
              "<style scoped>\n",
              "    .dataframe tbody tr th:only-of-type {\n",
              "        vertical-align: middle;\n",
              "    }\n",
              "\n",
              "    .dataframe tbody tr th {\n",
              "        vertical-align: top;\n",
              "    }\n",
              "\n",
              "    .dataframe thead th {\n",
              "        text-align: right;\n",
              "    }\n",
              "</style>\n",
              "<table border=\"1\" class=\"dataframe\">\n",
              "  <thead>\n",
              "    <tr style=\"text-align: right;\">\n",
              "      <th></th>\n",
              "      <th>prix moyen au kg</th>\n",
              "      <th>Production quantité \\ntonne(s)</th>\n",
              "      <th>Température minimale en °C</th>\n",
              "      <th>Température maximale en °C</th>\n",
              "      <th>précipitations en mm</th>\n",
              "      <th>Ensoleillement en min</th>\n",
              "      <th>Rafales (vitesse du vent) en km/h</th>\n",
              "      <th>Tomate ronde  cat.I 57-67mm</th>\n",
              "      <th>Tomate ronde cat.I 67-82mm</th>\n",
              "      <th>1</th>\n",
              "      <th>2</th>\n",
              "      <th>3</th>\n",
              "      <th>4</th>\n",
              "      <th>5</th>\n",
              "      <th>6_x</th>\n",
              "      <th>7_x</th>\n",
              "      <th>8_x</th>\n",
              "      <th>9_x</th>\n",
              "      <th>10_x</th>\n",
              "      <th>11_x</th>\n",
              "      <th>12_x</th>\n",
              "      <th>2012</th>\n",
              "      <th>2013</th>\n",
              "      <th>2014</th>\n",
              "      <th>2015</th>\n",
              "      <th>2016</th>\n",
              "      <th>2017</th>\n",
              "      <th>2018</th>\n",
              "      <th>2019</th>\n",
              "      <th>2020</th>\n",
              "      <th>2021</th>\n",
              "      <th>6_y</th>\n",
              "      <th>7_y</th>\n",
              "      <th>8_y</th>\n",
              "      <th>9_y</th>\n",
              "      <th>10_y</th>\n",
              "      <th>11_y</th>\n",
              "      <th>12_y</th>\n",
              "      <th>13</th>\n",
              "      <th>14</th>\n",
              "      <th>15</th>\n",
              "      <th>16</th>\n",
              "      <th>17</th>\n",
              "      <th>18</th>\n",
              "      <th>19</th>\n",
              "      <th>20</th>\n",
              "      <th>21</th>\n",
              "      <th>22</th>\n",
              "      <th>23</th>\n",
              "      <th>24</th>\n",
              "      <th>25</th>\n",
              "      <th>26</th>\n",
              "      <th>27</th>\n",
              "      <th>28</th>\n",
              "      <th>29</th>\n",
              "      <th>30</th>\n",
              "      <th>31</th>\n",
              "    </tr>\n",
              "  </thead>\n",
              "  <tbody>\n",
              "    <tr>\n",
              "      <th>354</th>\n",
              "      <td>1.30</td>\n",
              "      <td>0.20</td>\n",
              "      <td>11.8</td>\n",
              "      <td>28.0</td>\n",
              "      <td>0.4</td>\n",
              "      <td>445</td>\n",
              "      <td>44.4</td>\n",
              "      <td>1</td>\n",
              "      <td>0</td>\n",
              "      <td>1</td>\n",
              "      <td>0</td>\n",
              "      <td>0</td>\n",
              "      <td>0</td>\n",
              "      <td>0</td>\n",
              "      <td>0</td>\n",
              "      <td>0</td>\n",
              "      <td>0</td>\n",
              "      <td>0</td>\n",
              "      <td>0</td>\n",
              "      <td>0</td>\n",
              "      <td>0</td>\n",
              "      <td>1</td>\n",
              "      <td>0</td>\n",
              "      <td>0</td>\n",
              "      <td>0</td>\n",
              "      <td>0</td>\n",
              "      <td>0</td>\n",
              "      <td>0</td>\n",
              "      <td>0</td>\n",
              "      <td>0</td>\n",
              "      <td>0</td>\n",
              "      <td>0</td>\n",
              "      <td>0</td>\n",
              "      <td>1</td>\n",
              "      <td>0</td>\n",
              "      <td>0</td>\n",
              "      <td>0</td>\n",
              "      <td>0</td>\n",
              "      <td>0</td>\n",
              "      <td>0</td>\n",
              "      <td>0</td>\n",
              "      <td>0</td>\n",
              "      <td>0</td>\n",
              "      <td>0</td>\n",
              "      <td>0</td>\n",
              "      <td>0</td>\n",
              "      <td>0</td>\n",
              "      <td>0</td>\n",
              "      <td>0</td>\n",
              "      <td>0</td>\n",
              "      <td>0</td>\n",
              "      <td>0</td>\n",
              "      <td>0</td>\n",
              "      <td>0</td>\n",
              "      <td>0</td>\n",
              "      <td>0</td>\n",
              "      <td>0</td>\n",
              "    </tr>\n",
              "    <tr>\n",
              "      <th>333</th>\n",
              "      <td>1.10</td>\n",
              "      <td>0.20</td>\n",
              "      <td>3.5</td>\n",
              "      <td>19.1</td>\n",
              "      <td>0.8</td>\n",
              "      <td>536</td>\n",
              "      <td>40.7</td>\n",
              "      <td>1</td>\n",
              "      <td>0</td>\n",
              "      <td>1</td>\n",
              "      <td>0</td>\n",
              "      <td>0</td>\n",
              "      <td>0</td>\n",
              "      <td>0</td>\n",
              "      <td>0</td>\n",
              "      <td>0</td>\n",
              "      <td>0</td>\n",
              "      <td>0</td>\n",
              "      <td>0</td>\n",
              "      <td>0</td>\n",
              "      <td>0</td>\n",
              "      <td>1</td>\n",
              "      <td>0</td>\n",
              "      <td>0</td>\n",
              "      <td>0</td>\n",
              "      <td>0</td>\n",
              "      <td>0</td>\n",
              "      <td>0</td>\n",
              "      <td>0</td>\n",
              "      <td>0</td>\n",
              "      <td>0</td>\n",
              "      <td>0</td>\n",
              "      <td>0</td>\n",
              "      <td>0</td>\n",
              "      <td>0</td>\n",
              "      <td>1</td>\n",
              "      <td>0</td>\n",
              "      <td>0</td>\n",
              "      <td>0</td>\n",
              "      <td>0</td>\n",
              "      <td>0</td>\n",
              "      <td>0</td>\n",
              "      <td>0</td>\n",
              "      <td>0</td>\n",
              "      <td>0</td>\n",
              "      <td>0</td>\n",
              "      <td>0</td>\n",
              "      <td>0</td>\n",
              "      <td>0</td>\n",
              "      <td>0</td>\n",
              "      <td>0</td>\n",
              "      <td>0</td>\n",
              "      <td>0</td>\n",
              "      <td>0</td>\n",
              "      <td>0</td>\n",
              "      <td>0</td>\n",
              "      <td>0</td>\n",
              "    </tr>\n",
              "    <tr>\n",
              "      <th>332</th>\n",
              "      <td>1.10</td>\n",
              "      <td>0.20</td>\n",
              "      <td>12.8</td>\n",
              "      <td>18.8</td>\n",
              "      <td>0.2</td>\n",
              "      <td>121</td>\n",
              "      <td>38.9</td>\n",
              "      <td>1</td>\n",
              "      <td>0</td>\n",
              "      <td>0</td>\n",
              "      <td>1</td>\n",
              "      <td>0</td>\n",
              "      <td>0</td>\n",
              "      <td>0</td>\n",
              "      <td>0</td>\n",
              "      <td>0</td>\n",
              "      <td>0</td>\n",
              "      <td>0</td>\n",
              "      <td>0</td>\n",
              "      <td>0</td>\n",
              "      <td>0</td>\n",
              "      <td>1</td>\n",
              "      <td>0</td>\n",
              "      <td>0</td>\n",
              "      <td>0</td>\n",
              "      <td>0</td>\n",
              "      <td>0</td>\n",
              "      <td>0</td>\n",
              "      <td>0</td>\n",
              "      <td>0</td>\n",
              "      <td>0</td>\n",
              "      <td>0</td>\n",
              "      <td>0</td>\n",
              "      <td>0</td>\n",
              "      <td>0</td>\n",
              "      <td>1</td>\n",
              "      <td>0</td>\n",
              "      <td>0</td>\n",
              "      <td>0</td>\n",
              "      <td>0</td>\n",
              "      <td>0</td>\n",
              "      <td>0</td>\n",
              "      <td>0</td>\n",
              "      <td>0</td>\n",
              "      <td>0</td>\n",
              "      <td>0</td>\n",
              "      <td>0</td>\n",
              "      <td>0</td>\n",
              "      <td>0</td>\n",
              "      <td>0</td>\n",
              "      <td>0</td>\n",
              "      <td>0</td>\n",
              "      <td>0</td>\n",
              "      <td>0</td>\n",
              "      <td>0</td>\n",
              "      <td>0</td>\n",
              "      <td>0</td>\n",
              "    </tr>\n",
              "    <tr>\n",
              "      <th>353</th>\n",
              "      <td>1.25</td>\n",
              "      <td>0.30</td>\n",
              "      <td>12.0</td>\n",
              "      <td>24.1</td>\n",
              "      <td>0.4</td>\n",
              "      <td>330</td>\n",
              "      <td>42.8</td>\n",
              "      <td>1</td>\n",
              "      <td>0</td>\n",
              "      <td>0</td>\n",
              "      <td>0</td>\n",
              "      <td>1</td>\n",
              "      <td>0</td>\n",
              "      <td>0</td>\n",
              "      <td>0</td>\n",
              "      <td>0</td>\n",
              "      <td>0</td>\n",
              "      <td>0</td>\n",
              "      <td>0</td>\n",
              "      <td>0</td>\n",
              "      <td>0</td>\n",
              "      <td>1</td>\n",
              "      <td>0</td>\n",
              "      <td>0</td>\n",
              "      <td>0</td>\n",
              "      <td>0</td>\n",
              "      <td>0</td>\n",
              "      <td>0</td>\n",
              "      <td>0</td>\n",
              "      <td>0</td>\n",
              "      <td>0</td>\n",
              "      <td>0</td>\n",
              "      <td>0</td>\n",
              "      <td>1</td>\n",
              "      <td>0</td>\n",
              "      <td>0</td>\n",
              "      <td>0</td>\n",
              "      <td>0</td>\n",
              "      <td>0</td>\n",
              "      <td>0</td>\n",
              "      <td>0</td>\n",
              "      <td>0</td>\n",
              "      <td>0</td>\n",
              "      <td>0</td>\n",
              "      <td>0</td>\n",
              "      <td>0</td>\n",
              "      <td>0</td>\n",
              "      <td>0</td>\n",
              "      <td>0</td>\n",
              "      <td>0</td>\n",
              "      <td>0</td>\n",
              "      <td>0</td>\n",
              "      <td>0</td>\n",
              "      <td>0</td>\n",
              "      <td>0</td>\n",
              "      <td>0</td>\n",
              "      <td>0</td>\n",
              "    </tr>\n",
              "    <tr>\n",
              "      <th>342</th>\n",
              "      <td>1.10</td>\n",
              "      <td>0.40</td>\n",
              "      <td>12.8</td>\n",
              "      <td>25.7</td>\n",
              "      <td>0.0</td>\n",
              "      <td>672</td>\n",
              "      <td>37.0</td>\n",
              "      <td>1</td>\n",
              "      <td>0</td>\n",
              "      <td>0</td>\n",
              "      <td>0</td>\n",
              "      <td>0</td>\n",
              "      <td>1</td>\n",
              "      <td>0</td>\n",
              "      <td>0</td>\n",
              "      <td>0</td>\n",
              "      <td>0</td>\n",
              "      <td>0</td>\n",
              "      <td>0</td>\n",
              "      <td>0</td>\n",
              "      <td>0</td>\n",
              "      <td>1</td>\n",
              "      <td>0</td>\n",
              "      <td>0</td>\n",
              "      <td>0</td>\n",
              "      <td>0</td>\n",
              "      <td>0</td>\n",
              "      <td>0</td>\n",
              "      <td>0</td>\n",
              "      <td>0</td>\n",
              "      <td>0</td>\n",
              "      <td>0</td>\n",
              "      <td>0</td>\n",
              "      <td>0</td>\n",
              "      <td>1</td>\n",
              "      <td>0</td>\n",
              "      <td>0</td>\n",
              "      <td>0</td>\n",
              "      <td>0</td>\n",
              "      <td>0</td>\n",
              "      <td>0</td>\n",
              "      <td>0</td>\n",
              "      <td>0</td>\n",
              "      <td>0</td>\n",
              "      <td>0</td>\n",
              "      <td>0</td>\n",
              "      <td>0</td>\n",
              "      <td>0</td>\n",
              "      <td>0</td>\n",
              "      <td>0</td>\n",
              "      <td>0</td>\n",
              "      <td>0</td>\n",
              "      <td>0</td>\n",
              "      <td>0</td>\n",
              "      <td>0</td>\n",
              "      <td>0</td>\n",
              "      <td>0</td>\n",
              "    </tr>\n",
              "    <tr>\n",
              "      <th>...</th>\n",
              "      <td>...</td>\n",
              "      <td>...</td>\n",
              "      <td>...</td>\n",
              "      <td>...</td>\n",
              "      <td>...</td>\n",
              "      <td>...</td>\n",
              "      <td>...</td>\n",
              "      <td>...</td>\n",
              "      <td>...</td>\n",
              "      <td>...</td>\n",
              "      <td>...</td>\n",
              "      <td>...</td>\n",
              "      <td>...</td>\n",
              "      <td>...</td>\n",
              "      <td>...</td>\n",
              "      <td>...</td>\n",
              "      <td>...</td>\n",
              "      <td>...</td>\n",
              "      <td>...</td>\n",
              "      <td>...</td>\n",
              "      <td>...</td>\n",
              "      <td>...</td>\n",
              "      <td>...</td>\n",
              "      <td>...</td>\n",
              "      <td>...</td>\n",
              "      <td>...</td>\n",
              "      <td>...</td>\n",
              "      <td>...</td>\n",
              "      <td>...</td>\n",
              "      <td>...</td>\n",
              "      <td>...</td>\n",
              "      <td>...</td>\n",
              "      <td>...</td>\n",
              "      <td>...</td>\n",
              "      <td>...</td>\n",
              "      <td>...</td>\n",
              "      <td>...</td>\n",
              "      <td>...</td>\n",
              "      <td>...</td>\n",
              "      <td>...</td>\n",
              "      <td>...</td>\n",
              "      <td>...</td>\n",
              "      <td>...</td>\n",
              "      <td>...</td>\n",
              "      <td>...</td>\n",
              "      <td>...</td>\n",
              "      <td>...</td>\n",
              "      <td>...</td>\n",
              "      <td>...</td>\n",
              "      <td>...</td>\n",
              "      <td>...</td>\n",
              "      <td>...</td>\n",
              "      <td>...</td>\n",
              "      <td>...</td>\n",
              "      <td>...</td>\n",
              "      <td>...</td>\n",
              "      <td>...</td>\n",
              "    </tr>\n",
              "    <tr>\n",
              "      <th>388</th>\n",
              "      <td>1.75</td>\n",
              "      <td>0.50</td>\n",
              "      <td>14.1</td>\n",
              "      <td>28.2</td>\n",
              "      <td>0.0</td>\n",
              "      <td>552</td>\n",
              "      <td>29.5</td>\n",
              "      <td>0</td>\n",
              "      <td>1</td>\n",
              "      <td>0</td>\n",
              "      <td>0</td>\n",
              "      <td>0</td>\n",
              "      <td>0</td>\n",
              "      <td>0</td>\n",
              "      <td>0</td>\n",
              "      <td>0</td>\n",
              "      <td>0</td>\n",
              "      <td>0</td>\n",
              "      <td>0</td>\n",
              "      <td>1</td>\n",
              "      <td>0</td>\n",
              "      <td>0</td>\n",
              "      <td>0</td>\n",
              "      <td>0</td>\n",
              "      <td>0</td>\n",
              "      <td>0</td>\n",
              "      <td>0</td>\n",
              "      <td>0</td>\n",
              "      <td>0</td>\n",
              "      <td>1</td>\n",
              "      <td>0</td>\n",
              "      <td>0</td>\n",
              "      <td>0</td>\n",
              "      <td>0</td>\n",
              "      <td>1</td>\n",
              "      <td>0</td>\n",
              "      <td>0</td>\n",
              "      <td>0</td>\n",
              "      <td>0</td>\n",
              "      <td>0</td>\n",
              "      <td>0</td>\n",
              "      <td>0</td>\n",
              "      <td>0</td>\n",
              "      <td>0</td>\n",
              "      <td>0</td>\n",
              "      <td>0</td>\n",
              "      <td>0</td>\n",
              "      <td>0</td>\n",
              "      <td>0</td>\n",
              "      <td>0</td>\n",
              "      <td>0</td>\n",
              "      <td>0</td>\n",
              "      <td>0</td>\n",
              "      <td>0</td>\n",
              "      <td>0</td>\n",
              "      <td>0</td>\n",
              "      <td>0</td>\n",
              "    </tr>\n",
              "    <tr>\n",
              "      <th>19</th>\n",
              "      <td>1.05</td>\n",
              "      <td>0.50</td>\n",
              "      <td>14.1</td>\n",
              "      <td>28.2</td>\n",
              "      <td>0.0</td>\n",
              "      <td>552</td>\n",
              "      <td>29.5</td>\n",
              "      <td>1</td>\n",
              "      <td>0</td>\n",
              "      <td>0</td>\n",
              "      <td>0</td>\n",
              "      <td>0</td>\n",
              "      <td>0</td>\n",
              "      <td>0</td>\n",
              "      <td>0</td>\n",
              "      <td>0</td>\n",
              "      <td>0</td>\n",
              "      <td>0</td>\n",
              "      <td>0</td>\n",
              "      <td>1</td>\n",
              "      <td>0</td>\n",
              "      <td>0</td>\n",
              "      <td>0</td>\n",
              "      <td>0</td>\n",
              "      <td>0</td>\n",
              "      <td>0</td>\n",
              "      <td>0</td>\n",
              "      <td>0</td>\n",
              "      <td>0</td>\n",
              "      <td>1</td>\n",
              "      <td>0</td>\n",
              "      <td>0</td>\n",
              "      <td>0</td>\n",
              "      <td>0</td>\n",
              "      <td>1</td>\n",
              "      <td>0</td>\n",
              "      <td>0</td>\n",
              "      <td>0</td>\n",
              "      <td>0</td>\n",
              "      <td>0</td>\n",
              "      <td>0</td>\n",
              "      <td>0</td>\n",
              "      <td>0</td>\n",
              "      <td>0</td>\n",
              "      <td>0</td>\n",
              "      <td>0</td>\n",
              "      <td>0</td>\n",
              "      <td>0</td>\n",
              "      <td>0</td>\n",
              "      <td>0</td>\n",
              "      <td>0</td>\n",
              "      <td>0</td>\n",
              "      <td>0</td>\n",
              "      <td>0</td>\n",
              "      <td>0</td>\n",
              "      <td>0</td>\n",
              "      <td>0</td>\n",
              "    </tr>\n",
              "    <tr>\n",
              "      <th>373</th>\n",
              "      <td>1.80</td>\n",
              "      <td>0.05</td>\n",
              "      <td>5.8</td>\n",
              "      <td>11.5</td>\n",
              "      <td>0.0</td>\n",
              "      <td>352</td>\n",
              "      <td>61.2</td>\n",
              "      <td>0</td>\n",
              "      <td>1</td>\n",
              "      <td>0</td>\n",
              "      <td>0</td>\n",
              "      <td>0</td>\n",
              "      <td>0</td>\n",
              "      <td>0</td>\n",
              "      <td>0</td>\n",
              "      <td>0</td>\n",
              "      <td>0</td>\n",
              "      <td>0</td>\n",
              "      <td>0</td>\n",
              "      <td>1</td>\n",
              "      <td>0</td>\n",
              "      <td>0</td>\n",
              "      <td>0</td>\n",
              "      <td>0</td>\n",
              "      <td>0</td>\n",
              "      <td>0</td>\n",
              "      <td>0</td>\n",
              "      <td>0</td>\n",
              "      <td>0</td>\n",
              "      <td>1</td>\n",
              "      <td>0</td>\n",
              "      <td>0</td>\n",
              "      <td>0</td>\n",
              "      <td>0</td>\n",
              "      <td>0</td>\n",
              "      <td>0</td>\n",
              "      <td>0</td>\n",
              "      <td>0</td>\n",
              "      <td>0</td>\n",
              "      <td>0</td>\n",
              "      <td>0</td>\n",
              "      <td>0</td>\n",
              "      <td>0</td>\n",
              "      <td>0</td>\n",
              "      <td>1</td>\n",
              "      <td>0</td>\n",
              "      <td>0</td>\n",
              "      <td>0</td>\n",
              "      <td>0</td>\n",
              "      <td>0</td>\n",
              "      <td>0</td>\n",
              "      <td>0</td>\n",
              "      <td>0</td>\n",
              "      <td>0</td>\n",
              "      <td>0</td>\n",
              "      <td>0</td>\n",
              "      <td>0</td>\n",
              "    </tr>\n",
              "    <tr>\n",
              "      <th>372</th>\n",
              "      <td>1.50</td>\n",
              "      <td>0.10</td>\n",
              "      <td>-0.1</td>\n",
              "      <td>10.6</td>\n",
              "      <td>0.0</td>\n",
              "      <td>297</td>\n",
              "      <td>26.3</td>\n",
              "      <td>0</td>\n",
              "      <td>1</td>\n",
              "      <td>0</td>\n",
              "      <td>0</td>\n",
              "      <td>0</td>\n",
              "      <td>0</td>\n",
              "      <td>0</td>\n",
              "      <td>0</td>\n",
              "      <td>0</td>\n",
              "      <td>0</td>\n",
              "      <td>0</td>\n",
              "      <td>0</td>\n",
              "      <td>1</td>\n",
              "      <td>0</td>\n",
              "      <td>0</td>\n",
              "      <td>0</td>\n",
              "      <td>0</td>\n",
              "      <td>0</td>\n",
              "      <td>0</td>\n",
              "      <td>0</td>\n",
              "      <td>0</td>\n",
              "      <td>0</td>\n",
              "      <td>1</td>\n",
              "      <td>0</td>\n",
              "      <td>0</td>\n",
              "      <td>0</td>\n",
              "      <td>0</td>\n",
              "      <td>0</td>\n",
              "      <td>0</td>\n",
              "      <td>0</td>\n",
              "      <td>0</td>\n",
              "      <td>0</td>\n",
              "      <td>0</td>\n",
              "      <td>0</td>\n",
              "      <td>0</td>\n",
              "      <td>0</td>\n",
              "      <td>0</td>\n",
              "      <td>0</td>\n",
              "      <td>1</td>\n",
              "      <td>0</td>\n",
              "      <td>0</td>\n",
              "      <td>0</td>\n",
              "      <td>0</td>\n",
              "      <td>0</td>\n",
              "      <td>0</td>\n",
              "      <td>0</td>\n",
              "      <td>0</td>\n",
              "      <td>0</td>\n",
              "      <td>0</td>\n",
              "      <td>0</td>\n",
              "    </tr>\n",
              "    <tr>\n",
              "      <th>0</th>\n",
              "      <td>1.50</td>\n",
              "      <td>0.20</td>\n",
              "      <td>15.7</td>\n",
              "      <td>24.9</td>\n",
              "      <td>3.8</td>\n",
              "      <td>423</td>\n",
              "      <td>61.2</td>\n",
              "      <td>1</td>\n",
              "      <td>0</td>\n",
              "      <td>0</td>\n",
              "      <td>0</td>\n",
              "      <td>0</td>\n",
              "      <td>0</td>\n",
              "      <td>0</td>\n",
              "      <td>1</td>\n",
              "      <td>0</td>\n",
              "      <td>0</td>\n",
              "      <td>0</td>\n",
              "      <td>0</td>\n",
              "      <td>0</td>\n",
              "      <td>0</td>\n",
              "      <td>0</td>\n",
              "      <td>0</td>\n",
              "      <td>0</td>\n",
              "      <td>0</td>\n",
              "      <td>0</td>\n",
              "      <td>0</td>\n",
              "      <td>0</td>\n",
              "      <td>0</td>\n",
              "      <td>0</td>\n",
              "      <td>1</td>\n",
              "      <td>0</td>\n",
              "      <td>0</td>\n",
              "      <td>0</td>\n",
              "      <td>0</td>\n",
              "      <td>0</td>\n",
              "      <td>0</td>\n",
              "      <td>0</td>\n",
              "      <td>0</td>\n",
              "      <td>0</td>\n",
              "      <td>0</td>\n",
              "      <td>0</td>\n",
              "      <td>0</td>\n",
              "      <td>0</td>\n",
              "      <td>0</td>\n",
              "      <td>0</td>\n",
              "      <td>1</td>\n",
              "      <td>0</td>\n",
              "      <td>0</td>\n",
              "      <td>0</td>\n",
              "      <td>0</td>\n",
              "      <td>0</td>\n",
              "      <td>0</td>\n",
              "      <td>0</td>\n",
              "      <td>0</td>\n",
              "      <td>0</td>\n",
              "      <td>0</td>\n",
              "    </tr>\n",
              "  </tbody>\n",
              "</table>\n",
              "<p>424 rows × 57 columns</p>\n",
              "</div>"
            ],
            "text/plain": [
              "     prix moyen au kg  Production quantité \\ntonne(s)  ...  30  31\n",
              "354              1.30                            0.20  ...   0   0\n",
              "333              1.10                            0.20  ...   0   0\n",
              "332              1.10                            0.20  ...   0   0\n",
              "353              1.25                            0.30  ...   0   0\n",
              "342              1.10                            0.40  ...   0   0\n",
              "..                ...                             ...  ...  ..  ..\n",
              "388              1.75                            0.50  ...   0   0\n",
              "19               1.05                            0.50  ...   0   0\n",
              "373              1.80                            0.05  ...   0   0\n",
              "372              1.50                            0.10  ...   0   0\n",
              "0                1.50                            0.20  ...   0   0\n",
              "\n",
              "[424 rows x 57 columns]"
            ]
          },
          "metadata": {},
          "execution_count": 24
        }
      ]
    },
    {
      "cell_type": "code",
      "metadata": {
        "id": "NBpSr_vXNPgk"
      },
      "source": [
        "Prix = T3['prix moyen au kg'] \n",
        "Production = T3['Production quantité \\ntonne(s)']"
      ],
      "execution_count": 25,
      "outputs": []
    },
    {
      "cell_type": "markdown",
      "metadata": {
        "id": "TwGNaDklWNWn"
      },
      "source": [
        "**Modélisation**"
      ]
    },
    {
      "cell_type": "code",
      "metadata": {
        "id": "QY4zhTmxOjfu"
      },
      "source": [
        "#pour le prix\n",
        "\n",
        "from sklearn.model_selection import train_test_split\n",
        "from sklearn.metrics import mean_squared_error, r2_score\n",
        "\n",
        "\n",
        "X =  T3.drop(['prix moyen au kg'], axis=1)\n",
        "y = Prix\n",
        "\n",
        "X_train, X_test, y_train, y_test = train_test_split(X, y, test_size=0.3, random_state=42)"
      ],
      "execution_count": 26,
      "outputs": []
    },
    {
      "cell_type": "markdown",
      "metadata": {
        "id": "44DKUoTzYWix"
      },
      "source": [
        "**Prix**"
      ]
    },
    {
      "cell_type": "code",
      "metadata": {
        "colab": {
          "base_uri": "https://localhost:8080/"
        },
        "id": "9dukz_64YWLS",
        "outputId": "1c34d130-628a-4133-b87c-1d8fc09af765"
      },
      "source": [
        "forest_reg = RandomForestRegressor(random_state=42)\n",
        "forest_reg.fit(X_train, y_train)\n",
        "forest_reg.score(X_test, y_test)"
      ],
      "execution_count": 27,
      "outputs": [
        {
          "output_type": "execute_result",
          "data": {
            "text/plain": [
              "0.5916188414406848"
            ]
          },
          "metadata": {},
          "execution_count": 27
        }
      ]
    },
    {
      "cell_type": "code",
      "metadata": {
        "colab": {
          "base_uri": "https://localhost:8080/"
        },
        "id": "EIEa3a4kaTpC",
        "outputId": "75565105-02e3-4048-a417-5828eacf82ec"
      },
      "source": [
        "forest_reg.score(X_train, y_train)"
      ],
      "execution_count": 28,
      "outputs": [
        {
          "output_type": "execute_result",
          "data": {
            "text/plain": [
              "0.954510094882233"
            ]
          },
          "metadata": {},
          "execution_count": 28
        }
      ]
    },
    {
      "cell_type": "code",
      "metadata": {
        "id": "hGJfPsnqaeA0"
      },
      "source": [
        "y_tr = forest_reg.predict(X_train)\n",
        "y_pred = forest_reg.predict(X_test)"
      ],
      "execution_count": 29,
      "outputs": []
    },
    {
      "cell_type": "code",
      "metadata": {
        "colab": {
          "base_uri": "https://localhost:8080/"
        },
        "id": "jntQUSCvae40",
        "outputId": "eb9d7895-8e75-494c-feec-ed69e13eb358"
      },
      "source": [
        "np.sqrt(mean_squared_error(y_test, y_pred))"
      ],
      "execution_count": 30,
      "outputs": [
        {
          "output_type": "execute_result",
          "data": {
            "text/plain": [
              "0.18459999010153308"
            ]
          },
          "metadata": {},
          "execution_count": 30
        }
      ]
    },
    {
      "cell_type": "code",
      "metadata": {
        "colab": {
          "base_uri": "https://localhost:8080/"
        },
        "id": "1q0xoCPHae-B",
        "outputId": "2cedd53c-53cf-4f62-fe50-689354674d24"
      },
      "source": [
        "sqrt(mean_squared_error(y_train, y_tr))"
      ],
      "execution_count": 31,
      "outputs": [
        {
          "output_type": "execute_result",
          "data": {
            "text/plain": [
              "0.06144325680094027"
            ]
          },
          "metadata": {},
          "execution_count": 31
        }
      ]
    },
    {
      "cell_type": "code",
      "metadata": {
        "colab": {
          "base_uri": "https://localhost:8080/"
        },
        "id": "ppr5SZZ4afB1",
        "outputId": "128b0bfc-fc70-4e5d-e71a-31578bef5c75"
      },
      "source": [
        "mean_absolute_error(y_train, y_tr)"
      ],
      "execution_count": 32,
      "outputs": [
        {
          "output_type": "execute_result",
          "data": {
            "text/plain": [
              "0.04445968468468457"
            ]
          },
          "metadata": {},
          "execution_count": 32
        }
      ]
    },
    {
      "cell_type": "code",
      "metadata": {
        "colab": {
          "base_uri": "https://localhost:8080/"
        },
        "id": "MFpG2hQYa87b",
        "outputId": "778a6184-d172-453f-c7e5-a145f85c819d"
      },
      "source": [
        "mean_absolute_error(y_test, y_pred)"
      ],
      "execution_count": 33,
      "outputs": [
        {
          "output_type": "execute_result",
          "data": {
            "text/plain": [
              "0.13052161458333322"
            ]
          },
          "metadata": {},
          "execution_count": 33
        }
      ]
    },
    {
      "cell_type": "code",
      "metadata": {
        "colab": {
          "base_uri": "https://localhost:8080/"
        },
        "id": "Wf1ISm1kwjT1",
        "outputId": "7858c810-7919-4bca-e62e-8e0787cb66af"
      },
      "source": [
        "print(r2_score(y_test, y_pred))\n",
        "print(r2_score(y_train, y_tr))"
      ],
      "execution_count": 34,
      "outputs": [
        {
          "output_type": "stream",
          "name": "stdout",
          "text": [
            "0.5916188414406848\n",
            "0.954510094882233\n"
          ]
        }
      ]
    },
    {
      "cell_type": "code",
      "metadata": {
        "colab": {
          "base_uri": "https://localhost:8080/",
          "height": 317
        },
        "id": "e5cTuHAObQl2",
        "outputId": "991c90c9-36f0-42b9-d521-6c54511db4f0"
      },
      "source": [
        "plt.scatter(y_test, y_pred, color = 'darkviolet')\n",
        "plt.title('Prix des tomates (random forest)')\n",
        "plt.xlabel('Prix prédit')\n",
        "plt.ylabel('Prix actuel')\n",
        "plt.show()"
      ],
      "execution_count": 35,
      "outputs": [
        {
          "output_type": "display_data",
          "data": {
            "image/png": "[encoded data removed]",
            "text/plain": [
              "<Figure size 432x288 with 1 Axes>"
            ]
          },
          "metadata": {}
        }
      ]
    },
    {
      "cell_type": "code",
      "metadata": {
        "id": "QaE3u1jzbz4t"
      },
      "source": [
        "param_grid = {  'bootstrap': [True], 'max_depth': [5, 10, None], 'max_features': ['auto', 'log2'], 'n_estimators': [19, 35, 46, 79, 98, 100, 115, 123]}"
      ],
      "execution_count": 36,
      "outputs": []
    },
    {
      "cell_type": "code",
      "metadata": {
        "id": "_BRgq_ilh5Vs"
      },
      "source": [
        "from sklearn.metrics import make_scorer\n",
        "\n",
        "scorer = make_scorer(mean_squared_error, squared = False )\n",
        "g1 = GridSearchCV(estimator = forest_reg, param_grid = param_grid, \n",
        "cv = 5, n_jobs = 1, verbose = 0, return_train_score=True, scoring = scorer)"
      ],
      "execution_count": 37,
      "outputs": []
    },
    {
      "cell_type": "code",
      "metadata": {
        "colab": {
          "base_uri": "https://localhost:8080/"
        },
        "id": "w_jy2BpRh_kT",
        "outputId": "54bfdf6e-04c7-49d6-a232-cea13b4329c3"
      },
      "source": [
        "g1.fit(X_train, y_train)"
      ],
      "execution_count": 38,
      "outputs": [
        {
          "output_type": "execute_result",
          "data": {
            "text/plain": [
              "GridSearchCV(cv=5, error_score=nan,\n",
              "             estimator=RandomForestRegressor(bootstrap=True, ccp_alpha=0.0,\n",
              "                                             criterion='mse', max_depth=None,\n",
              "                                             max_features='auto',\n",
              "                                             max_leaf_nodes=None,\n",
              "                                             max_samples=None,\n",
              "                                             min_impurity_decrease=0.0,\n",
              "                                             min_impurity_split=None,\n",
              "                                             min_samples_leaf=1,\n",
              "                                             min_samples_split=2,\n",
              "                                             min_weight_fraction_leaf=0.0,\n",
              "                                             n_estimators=100, n_jobs=None,\n",
              "                                             oob_score=False, random_state=42,\n",
              "                                             verbose=0, warm_start=False),\n",
              "             iid='deprecated', n_jobs=1,\n",
              "             param_grid={'bootstrap': [True], 'max_depth': [5, 10, None],\n",
              "                         'max_features': ['auto', 'log2'],\n",
              "                         'n_estimators': [19, 35, 46, 79, 98, 100, 115, 123]},\n",
              "             pre_dispatch='2*n_jobs', refit=True, return_train_score=True,\n",
              "             scoring=make_scorer(mean_squared_error, squared=False), verbose=0)"
            ]
          },
          "metadata": {},
          "execution_count": 38
        }
      ]
    },
    {
      "cell_type": "code",
      "metadata": {
        "colab": {
          "base_uri": "https://localhost:8080/"
        },
        "id": "lYSopZZ4jEQc",
        "outputId": "4120bcce-aac3-4d94-96be-74f6789e7f98"
      },
      "source": [
        "g1.best_score_"
      ],
      "execution_count": 39,
      "outputs": [
        {
          "output_type": "execute_result",
          "data": {
            "text/plain": [
              "0.2316968157102432"
            ]
          },
          "metadata": {},
          "execution_count": 39
        }
      ]
    },
    {
      "cell_type": "code",
      "metadata": {
        "colab": {
          "base_uri": "https://localhost:8080/"
        },
        "id": "uzdA8ztDlAtV",
        "outputId": "7748d095-00ef-484c-cd82-c0b05b262d75"
      },
      "source": [
        "best_modl = g1.best_estimator_\n",
        "print(best_modl)\n",
        "best_preds = best_modl.predict(X_test)\n",
        "print(np.sqrt(mean_squared_error(y_test, best_preds)))"
      ],
      "execution_count": 40,
      "outputs": [
        {
          "output_type": "stream",
          "name": "stdout",
          "text": [
            "RandomForestRegressor(bootstrap=True, ccp_alpha=0.0, criterion='mse',\n",
            "                      max_depth=5, max_features='log2', max_leaf_nodes=None,\n",
            "                      max_samples=None, min_impurity_decrease=0.0,\n",
            "                      min_impurity_split=None, min_samples_leaf=1,\n",
            "                      min_samples_split=2, min_weight_fraction_leaf=0.0,\n",
            "                      n_estimators=35, n_jobs=None, oob_score=False,\n",
            "                      random_state=42, verbose=0, warm_start=False)\n",
            "0.23256690848027495\n"
          ]
        }
      ]
    },
    {
      "cell_type": "code",
      "metadata": {
        "colab": {
          "base_uri": "https://localhost:8080/"
        },
        "id": "K2Hu55BNb0NE",
        "outputId": "3e7ebd66-8a1e-4a58-f0f4-f784e33c3257"
      },
      "source": [
        "g1.best_params_"
      ],
      "execution_count": 41,
      "outputs": [
        {
          "output_type": "execute_result",
          "data": {
            "text/plain": [
              "{'bootstrap': True, 'max_depth': 5, 'max_features': 'log2', 'n_estimators': 35}"
            ]
          },
          "metadata": {},
          "execution_count": 41
        }
      ]
    },
    {
      "cell_type": "code",
      "metadata": {
        "colab": {
          "base_uri": "https://localhost:8080/"
        },
        "id": "KPKl5nrWfNlh",
        "outputId": "87577024-1d86-4f3e-a6e5-771fb3733f1b"
      },
      "source": [
        "mean_absolute_error(y_test, best_preds)"
      ],
      "execution_count": 42,
      "outputs": [
        {
          "output_type": "execute_result",
          "data": {
            "text/plain": [
              "0.1890965541051391"
            ]
          },
          "metadata": {},
          "execution_count": 42
        }
      ]
    },
    {
      "cell_type": "code",
      "metadata": {
        "colab": {
          "base_uri": "https://localhost:8080/",
          "height": 317
        },
        "id": "XuVQZUAAfN_n",
        "outputId": "1d1db9e2-f01a-4659-ecd3-fe84981c0d8c"
      },
      "source": [
        "plt.scatter(y_test, best_preds, color = 'darkviolet')\n",
        "plt.title('Prix des tomates (random forest)')\n",
        "plt.xlabel('Prix prédit')\n",
        "plt.ylabel('Prix actuel')\n",
        "plt.show()"
      ],
      "execution_count": 43,
      "outputs": [
        {
          "output_type": "display_data",
          "data": {
            "image/png": "[encoded data removed]",
            "text/plain": [
              "<Figure size 432x288 with 1 Axes>"
            ]
          },
          "metadata": {}
        }
      ]
    },
    {
      "cell_type": "markdown",
      "metadata": {
        "id": "fiZzYHD7f4hC"
      },
      "source": [
        "**Production**"
      ]
    },
    {
      "cell_type": "code",
      "metadata": {
        "colab": {
          "base_uri": "https://localhost:8080/"
        },
        "id": "MDmmqzMNf7Sr",
        "outputId": "1552b9a7-553d-4f11-dbad-339629e262fc"
      },
      "source": [
        "X2 =  T3.drop(['Production quantité \\ntonne(s)'], axis=1)\n",
        "y2 = Production\n",
        "\n",
        "\n",
        "X_train, X_test, y_train, y_test = train_test_split(X2, y2, test_size=0.3, random_state=42)\n",
        "\n",
        "forest_reg = RandomForestRegressor(random_state=42)\n",
        "forest_reg.fit(X_train, y_train)\n",
        "forest_reg.score(X_test, y_test)"
      ],
      "execution_count": 44,
      "outputs": [
        {
          "output_type": "execute_result",
          "data": {
            "text/plain": [
              "0.04621093362108908"
            ]
          },
          "metadata": {},
          "execution_count": 44
        }
      ]
    },
    {
      "cell_type": "code",
      "metadata": {
        "colab": {
          "base_uri": "https://localhost:8080/"
        },
        "id": "vm1RAEFmmiyj",
        "outputId": "7cfd8f0e-910e-41e3-859c-d880f61db52e"
      },
      "source": [
        "forest_reg.score(X_train, y_train)"
      ],
      "execution_count": 45,
      "outputs": [
        {
          "output_type": "execute_result",
          "data": {
            "text/plain": [
              "0.8849910071588581"
            ]
          },
          "metadata": {},
          "execution_count": 45
        }
      ]
    },
    {
      "cell_type": "code",
      "metadata": {
        "id": "IAc_rYeRm5ll"
      },
      "source": [
        "y_pred = forest_reg.predict(X_test)\n",
        "y_tr = forest_reg.predict(X_train)"
      ],
      "execution_count": 46,
      "outputs": []
    },
    {
      "cell_type": "code",
      "metadata": {
        "colab": {
          "base_uri": "https://localhost:8080/"
        },
        "id": "BtEfrNk-myM_",
        "outputId": "c2e323d6-54e6-4d72-cc0d-108b5c9f7c10"
      },
      "source": [
        "sqrt(mean_squared_error(y_test, y_pred))"
      ],
      "execution_count": 47,
      "outputs": [
        {
          "output_type": "execute_result",
          "data": {
            "text/plain": [
              "0.70288880419932"
            ]
          },
          "metadata": {},
          "execution_count": 47
        }
      ]
    },
    {
      "cell_type": "code",
      "metadata": {
        "colab": {
          "base_uri": "https://localhost:8080/"
        },
        "id": "2DGMwIeImyg4",
        "outputId": "7f08e218-cb97-44c5-c3b5-6afb24cb2995"
      },
      "source": [
        "sqrt(mean_squared_error(y_train, y_tr))"
      ],
      "execution_count": 48,
      "outputs": [
        {
          "output_type": "execute_result",
          "data": {
            "text/plain": [
              "0.2704053298216327"
            ]
          },
          "metadata": {},
          "execution_count": 48
        }
      ]
    },
    {
      "cell_type": "code",
      "metadata": {
        "colab": {
          "base_uri": "https://localhost:8080/"
        },
        "id": "17q6Oq9gnLdy",
        "outputId": "508defd0-5a63-415e-d275-380a2671eaf5"
      },
      "source": [
        "mean_absolute_error(y_train, y_tr)"
      ],
      "execution_count": 49,
      "outputs": [
        {
          "output_type": "execute_result",
          "data": {
            "text/plain": [
              "0.13407466216216216"
            ]
          },
          "metadata": {},
          "execution_count": 49
        }
      ]
    },
    {
      "cell_type": "code",
      "metadata": {
        "colab": {
          "base_uri": "https://localhost:8080/"
        },
        "id": "WbDCOfx9nLjE",
        "outputId": "2d75065d-ad54-4d1d-f48a-84a734e7a7f0"
      },
      "source": [
        "mean_absolute_error(y_test, y_pred)"
      ],
      "execution_count": 50,
      "outputs": [
        {
          "output_type": "execute_result",
          "data": {
            "text/plain": [
              "0.36207281249999995"
            ]
          },
          "metadata": {},
          "execution_count": 50
        }
      ]
    },
    {
      "cell_type": "code",
      "metadata": {
        "colab": {
          "base_uri": "https://localhost:8080/"
        },
        "id": "O8MOcL3Dwuqo",
        "outputId": "5999d2fa-e0bd-4f00-a3b4-31dcf8c6d61e"
      },
      "source": [
        "print(r2_score(y_test, y_pred))\n",
        "print(r2_score(y_train, y_tr))"
      ],
      "execution_count": 51,
      "outputs": [
        {
          "output_type": "stream",
          "name": "stdout",
          "text": [
            "0.04621093362108908\n",
            "0.8849910071588581\n"
          ]
        }
      ]
    },
    {
      "cell_type": "code",
      "metadata": {
        "colab": {
          "base_uri": "https://localhost:8080/",
          "height": 317
        },
        "id": "rqwqUYLqnLrs",
        "outputId": "98bd1857-c003-4cbb-9aa4-de05ff8b1e82"
      },
      "source": [
        "plt.scatter(y_test, y_pred, color = 'gold')\n",
        "plt.title('Production des tomates (random forest)')\n",
        "plt.xlabel('Production prédite')\n",
        "plt.ylabel('Production actuelle')\n",
        "plt.show()"
      ],
      "execution_count": 52,
      "outputs": [
        {
          "output_type": "display_data",
          "data": {
            "image/png": "[encoded data removed]",
            "text/plain": [
              "<Figure size 432x288 with 1 Axes>"
            ]
          },
          "metadata": {}
        }
      ]
    },
    {
      "cell_type": "code",
      "metadata": {
        "id": "aTsJt7gEn6Y9"
      },
      "source": [
        "param_grid = {  'bootstrap': [True], 'max_depth': [5, 10, None], 'max_features': ['auto', 'log2'], 'n_estimators': [19, 35, 46, 79, 98, 100, 115, 123]}"
      ],
      "execution_count": 53,
      "outputs": []
    },
    {
      "cell_type": "code",
      "metadata": {
        "id": "8UcYQmawn6dy"
      },
      "source": [
        "scorer = make_scorer(mean_squared_error, squared = False )\n",
        "g2 = GridSearchCV(estimator = forest_reg, param_grid = param_grid, \n",
        "cv = 5, n_jobs = 1, verbose = 0, return_train_score=True, scoring = scorer)"
      ],
      "execution_count": 54,
      "outputs": []
    },
    {
      "cell_type": "code",
      "metadata": {
        "colab": {
          "base_uri": "https://localhost:8080/"
        },
        "id": "NlwcoZpnn6uR",
        "outputId": "e9f413ef-042e-453f-a11b-171f2c729b3c"
      },
      "source": [
        "g2.fit(X_train, y_train)"
      ],
      "execution_count": 55,
      "outputs": [
        {
          "output_type": "execute_result",
          "data": {
            "text/plain": [
              "GridSearchCV(cv=5, error_score=nan,\n",
              "             estimator=RandomForestRegressor(bootstrap=True, ccp_alpha=0.0,\n",
              "                                             criterion='mse', max_depth=None,\n",
              "                                             max_features='auto',\n",
              "                                             max_leaf_nodes=None,\n",
              "                                             max_samples=None,\n",
              "                                             min_impurity_decrease=0.0,\n",
              "                                             min_impurity_split=None,\n",
              "                                             min_samples_leaf=1,\n",
              "                                             min_samples_split=2,\n",
              "                                             min_weight_fraction_leaf=0.0,\n",
              "                                             n_estimators=100, n_jobs=None,\n",
              "                                             oob_score=False, random_state=42,\n",
              "                                             verbose=0, warm_start=False),\n",
              "             iid='deprecated', n_jobs=1,\n",
              "             param_grid={'bootstrap': [True], 'max_depth': [5, 10, None],\n",
              "                         'max_features': ['auto', 'log2'],\n",
              "                         'n_estimators': [19, 35, 46, 79, 98, 100, 115, 123]},\n",
              "             pre_dispatch='2*n_jobs', refit=True, return_train_score=True,\n",
              "             scoring=make_scorer(mean_squared_error, squared=False), verbose=0)"
            ]
          },
          "metadata": {},
          "execution_count": 55
        }
      ]
    },
    {
      "cell_type": "code",
      "metadata": {
        "colab": {
          "base_uri": "https://localhost:8080/"
        },
        "id": "qB9onAQun6yK",
        "outputId": "a01a1e5c-65e7-4c53-b2de-e711a3cbab15"
      },
      "source": [
        "g2.best_score_"
      ],
      "execution_count": 56,
      "outputs": [
        {
          "output_type": "execute_result",
          "data": {
            "text/plain": [
              "0.7189793564958566"
            ]
          },
          "metadata": {},
          "execution_count": 56
        }
      ]
    },
    {
      "cell_type": "code",
      "metadata": {
        "colab": {
          "base_uri": "https://localhost:8080/"
        },
        "id": "w9sWho8kn62-",
        "outputId": "b4962bb0-c295-48ca-c63a-f9c1e4250eff"
      },
      "source": [
        "best_modl = g2.best_estimator_\n",
        "print(best_modl)\n",
        "best_preds = best_modl.predict(X_test)\n",
        "print(np.sqrt(mean_squared_error(y_test, best_preds)))"
      ],
      "execution_count": 57,
      "outputs": [
        {
          "output_type": "stream",
          "name": "stdout",
          "text": [
            "RandomForestRegressor(bootstrap=True, ccp_alpha=0.0, criterion='mse',\n",
            "                      max_depth=None, max_features='auto', max_leaf_nodes=None,\n",
            "                      max_samples=None, min_impurity_decrease=0.0,\n",
            "                      min_impurity_split=None, min_samples_leaf=1,\n",
            "                      min_samples_split=2, min_weight_fraction_leaf=0.0,\n",
            "                      n_estimators=98, n_jobs=None, oob_score=False,\n",
            "                      random_state=42, verbose=0, warm_start=False)\n",
            "0.6985995528282929\n"
          ]
        }
      ]
    },
    {
      "cell_type": "code",
      "metadata": {
        "colab": {
          "base_uri": "https://localhost:8080/"
        },
        "id": "DJIdnBlqn67d",
        "outputId": "15691836-4073-42eb-c712-8498a5a879ec"
      },
      "source": [
        "g2.best_params_"
      ],
      "execution_count": 58,
      "outputs": [
        {
          "output_type": "execute_result",
          "data": {
            "text/plain": [
              "{'bootstrap': True,\n",
              " 'max_depth': None,\n",
              " 'max_features': 'auto',\n",
              " 'n_estimators': 98}"
            ]
          },
          "metadata": {},
          "execution_count": 58
        }
      ]
    },
    {
      "cell_type": "code",
      "metadata": {
        "colab": {
          "base_uri": "https://localhost:8080/"
        },
        "id": "_byKJKLdn7AG",
        "outputId": "8f1aac11-f1cb-4d98-9b7f-363ab85eceb2"
      },
      "source": [
        "mean_absolute_error(y_test, best_preds)"
      ],
      "execution_count": 59,
      "outputs": [
        {
          "output_type": "execute_result",
          "data": {
            "text/plain": [
              "0.35946715561224485"
            ]
          },
          "metadata": {},
          "execution_count": 59
        }
      ]
    },
    {
      "cell_type": "code",
      "metadata": {
        "colab": {
          "base_uri": "https://localhost:8080/",
          "height": 317
        },
        "id": "h4MzW0NxpMdj",
        "outputId": "c00e1083-8259-4d0c-90fb-de5d7a35940c"
      },
      "source": [
        "plt.scatter(y_test, best_preds, color = 'gold')\n",
        "plt.title('Production des tomates (random forest)')\n",
        "plt.xlabel('Production prédite')\n",
        "plt.ylabel('Production actuelle')\n",
        "plt.show()"
      ],
      "execution_count": 60,
      "outputs": [
        {
          "output_type": "display_data",
          "data": {
            "image/png": "[encoded data removed]",
            "text/plain": [
              "<Figure size 432x288 with 1 Axes>"
            ]
          },
          "metadata": {}
        }
      ]
    }
  ]
}