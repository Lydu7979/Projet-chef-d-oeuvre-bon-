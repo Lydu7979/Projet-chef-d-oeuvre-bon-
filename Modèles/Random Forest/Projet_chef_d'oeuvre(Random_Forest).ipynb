{
  "nbformat": 4,
  "nbformat_minor": 0,
  "metadata": {
    "colab": {
      "name": " Projet_chef_d'oeuvre(Random Forest).ipynb",
      "provenance": []
    },
    "kernelspec": {
      "name": "python3",
      "display_name": "Python 3"
    },
    "language_info": {
      "name": "python"
    }
  },
  "cells": [
    {
      "cell_type": "code",
      "metadata": {
        "id": "xeORs_rVKhsV"
      },
      "source": [
        "import warnings\n",
        "import itertools\n",
        "import numpy as np\n",
        "import matplotlib.pyplot as plt\n",
        "warnings.filterwarnings(\"ignore\")\n",
        "plt.style.use('fivethirtyeight')\n",
        "import pandas as pd\n",
        "import statsmodels.api as sm\n",
        "import matplotlib\n",
        "matplotlib.rcParams['axes.labelsize'] = 14\n",
        "matplotlib.rcParams['xtick.labelsize'] = 12\n",
        "matplotlib.rcParams['ytick.labelsize'] = 12\n",
        "matplotlib.rcParams['text.color'] = 'k'\n",
        "import seaborn as sns\n",
        "sns.set(style=\"white\") #white background style for seaborn plots\n",
        "sns.set(style=\"whitegrid\", color_codes=True)\n",
        "from numpy import array\n",
        "from keras.preprocessing.text import one_hot\n",
        "from keras.preprocessing.sequence import pad_sequences\n",
        "from keras.models import Sequential\n",
        "from keras.layers.core import Activation, Dropout, Dense\n",
        "from keras.layers import Flatten, LSTM\n",
        "from keras.layers import GlobalMaxPooling1D\n",
        "from keras.models import Model\n",
        "from keras.layers.embeddings import Embedding\n",
        "from sklearn.model_selection import train_test_split\n",
        "from keras.preprocessing.text import Tokenizer\n",
        "from keras.layers import Input\n",
        "from keras.layers.merge import Concatenate\n",
        "from keras.layers import Bidirectional\n",
        "import re\n",
        "from statsmodels.tsa.stattools import adfuller\n",
        "from statsmodels.tsa.stattools import acf, pacf\n",
        "from statsmodels.tsa.seasonal import seasonal_decompose\n",
        "from statsmodels.tsa.arima_model import ARIMA\n",
        "from sklearn.model_selection import train_test_split, cross_val_score, GridSearchCV\n",
        "from sklearn.linear_model import LinearRegression\n",
        "import matplotlib.pyplot as plt\n",
        "from statsmodels.graphics.tsaplots import plot_acf,plot_pacf\n",
        "from sklearn.metrics import mean_absolute_error\n",
        "from sklearn.model_selection import train_test_split\n",
        "from sklearn.metrics import mean_squared_error, r2_score\n",
        "from sklearn.model_selection import GridSearchCV\n",
        "from sklearn.ensemble import RandomForestRegressor\n",
        "from math import sqrt\n",
        "from sklearn.metrics import r2_score\n"
      ],
      "execution_count": 3,
      "outputs": []
    },
    {
      "cell_type": "code",
      "metadata": {
        "colab": {
          "base_uri": "https://localhost:8080/",
          "height": 803
        },
        "id": "Ja_GJ8ZEK0OZ",
        "outputId": "2c97eade-7dfd-47de-bb32-9766131ca109"
      },
      "source": [
        "Pop = pd.read_csv(\"/content/Tomates+météo - Tableau 1 (1).csv\")\n",
        "Pop"
      ],
      "execution_count": 4,
      "outputs": [
        {
          "output_type": "execute_result",
          "data": {
            "text/html": [
              "<div>\n",
              "<style scoped>\n",
              "    .dataframe tbody tr th:only-of-type {\n",
              "        vertical-align: middle;\n",
              "    }\n",
              "\n",
              "    .dataframe tbody tr th {\n",
              "        vertical-align: top;\n",
              "    }\n",
              "\n",
              "    .dataframe thead th {\n",
              "        text-align: right;\n",
              "    }\n",
              "</style>\n",
              "<table border=\"1\" class=\"dataframe\">\n",
              "  <thead>\n",
              "    <tr style=\"text-align: right;\">\n",
              "      <th></th>\n",
              "      <th>Date</th>\n",
              "      <th>prix moyen au kg</th>\n",
              "      <th>prix minimal</th>\n",
              "      <th>prix maximal</th>\n",
              "      <th>Production quantité \\ntonne(s)</th>\n",
              "      <th>Température minimale en °C</th>\n",
              "      <th>Température maximale en °C</th>\n",
              "      <th>précipitations en mm</th>\n",
              "      <th>Ensoleillement en min</th>\n",
              "      <th>Rafales (vitesse du vent) en km/h</th>\n",
              "      <th>catégorie tomates</th>\n",
              "    </tr>\n",
              "  </thead>\n",
              "  <tbody>\n",
              "    <tr>\n",
              "      <th>0</th>\n",
              "      <td>21/06/21</td>\n",
              "      <td>1.50</td>\n",
              "      <td>1.5</td>\n",
              "      <td>1.5</td>\n",
              "      <td>0.200</td>\n",
              "      <td>15.7</td>\n",
              "      <td>24.9</td>\n",
              "      <td>3.8</td>\n",
              "      <td>423</td>\n",
              "      <td>61.2</td>\n",
              "      <td>Tomate ronde  cat.I 57-67mm</td>\n",
              "    </tr>\n",
              "    <tr>\n",
              "      <th>1</th>\n",
              "      <td>04/12/20</td>\n",
              "      <td>1.50</td>\n",
              "      <td>NaN</td>\n",
              "      <td>NaN</td>\n",
              "      <td>0.100</td>\n",
              "      <td>2.9</td>\n",
              "      <td>6.6</td>\n",
              "      <td>0.8</td>\n",
              "      <td>256</td>\n",
              "      <td>65.9</td>\n",
              "      <td>Tomate ronde  cat.I 57-67mm</td>\n",
              "    </tr>\n",
              "    <tr>\n",
              "      <th>2</th>\n",
              "      <td>06/11/20</td>\n",
              "      <td>1.10</td>\n",
              "      <td>NaN</td>\n",
              "      <td>NaN</td>\n",
              "      <td>0.100</td>\n",
              "      <td>2.3</td>\n",
              "      <td>13.4</td>\n",
              "      <td>0.0</td>\n",
              "      <td>491</td>\n",
              "      <td>46.8</td>\n",
              "      <td>Tomate ronde  cat.I 57-67mm</td>\n",
              "    </tr>\n",
              "    <tr>\n",
              "      <th>3</th>\n",
              "      <td>05/11/20</td>\n",
              "      <td>1.10</td>\n",
              "      <td>NaN</td>\n",
              "      <td>NaN</td>\n",
              "      <td>0.100</td>\n",
              "      <td>1.8</td>\n",
              "      <td>11.5</td>\n",
              "      <td>0.0</td>\n",
              "      <td>533</td>\n",
              "      <td>32.4</td>\n",
              "      <td>Tomate ronde  cat.I 57-67mm</td>\n",
              "    </tr>\n",
              "    <tr>\n",
              "      <th>4</th>\n",
              "      <td>30/10/20</td>\n",
              "      <td>1.05</td>\n",
              "      <td>1.0</td>\n",
              "      <td>1.1</td>\n",
              "      <td>0.100</td>\n",
              "      <td>12.6</td>\n",
              "      <td>15.9</td>\n",
              "      <td>0.0</td>\n",
              "      <td>0</td>\n",
              "      <td>40.7</td>\n",
              "      <td>Tomate ronde  cat.I 57-67mm</td>\n",
              "    </tr>\n",
              "    <tr>\n",
              "      <th>...</th>\n",
              "      <td>...</td>\n",
              "      <td>...</td>\n",
              "      <td>...</td>\n",
              "      <td>...</td>\n",
              "      <td>...</td>\n",
              "      <td>...</td>\n",
              "      <td>...</td>\n",
              "      <td>...</td>\n",
              "      <td>...</td>\n",
              "      <td>...</td>\n",
              "      <td>...</td>\n",
              "    </tr>\n",
              "    <tr>\n",
              "      <th>419</th>\n",
              "      <td>24/06/13</td>\n",
              "      <td>1.10</td>\n",
              "      <td>1.1</td>\n",
              "      <td>1.1</td>\n",
              "      <td>1.120</td>\n",
              "      <td>10.5</td>\n",
              "      <td>19.1</td>\n",
              "      <td>0.0</td>\n",
              "      <td>342</td>\n",
              "      <td>42.6</td>\n",
              "      <td>Tomate ronde cat.I 67-82mm</td>\n",
              "    </tr>\n",
              "    <tr>\n",
              "      <th>420</th>\n",
              "      <td>20/06/13</td>\n",
              "      <td>1.50</td>\n",
              "      <td>1.5</td>\n",
              "      <td>1.5</td>\n",
              "      <td>0.075</td>\n",
              "      <td>14.0</td>\n",
              "      <td>21.5</td>\n",
              "      <td>0.8</td>\n",
              "      <td>216</td>\n",
              "      <td>37.1</td>\n",
              "      <td>Tomate ronde cat.I 67-82mm</td>\n",
              "    </tr>\n",
              "    <tr>\n",
              "      <th>421</th>\n",
              "      <td>17/06/13</td>\n",
              "      <td>1.50</td>\n",
              "      <td>1.5</td>\n",
              "      <td>1.5</td>\n",
              "      <td>0.020</td>\n",
              "      <td>15.0</td>\n",
              "      <td>27.2</td>\n",
              "      <td>6.8</td>\n",
              "      <td>210</td>\n",
              "      <td>61.1</td>\n",
              "      <td>Tomate ronde cat.I 67-82mm</td>\n",
              "    </tr>\n",
              "    <tr>\n",
              "      <th>422</th>\n",
              "      <td>18/09/12</td>\n",
              "      <td>1.10</td>\n",
              "      <td>1.1</td>\n",
              "      <td>1.1</td>\n",
              "      <td>0.180</td>\n",
              "      <td>10.3</td>\n",
              "      <td>20.1</td>\n",
              "      <td>0.0</td>\n",
              "      <td>126</td>\n",
              "      <td>34.2</td>\n",
              "      <td>Tomate ronde cat.I 67-82mm</td>\n",
              "    </tr>\n",
              "    <tr>\n",
              "      <th>423</th>\n",
              "      <td>29/06/12</td>\n",
              "      <td>1.20</td>\n",
              "      <td>1.2</td>\n",
              "      <td>1.2</td>\n",
              "      <td>0.400</td>\n",
              "      <td>14.3</td>\n",
              "      <td>24.4</td>\n",
              "      <td>0.0</td>\n",
              "      <td>180</td>\n",
              "      <td>37.8</td>\n",
              "      <td>Tomate ronde cat.I 67-82mm</td>\n",
              "    </tr>\n",
              "  </tbody>\n",
              "</table>\n",
              "<p>424 rows × 11 columns</p>\n",
              "</div>"
            ],
            "text/plain": [
              "         Date  ...            catégorie tomates\n",
              "0    21/06/21  ...  Tomate ronde  cat.I 57-67mm\n",
              "1    04/12/20  ...  Tomate ronde  cat.I 57-67mm\n",
              "2    06/11/20  ...  Tomate ronde  cat.I 57-67mm\n",
              "3    05/11/20  ...  Tomate ronde  cat.I 57-67mm\n",
              "4    30/10/20  ...  Tomate ronde  cat.I 57-67mm\n",
              "..        ...  ...                          ...\n",
              "419  24/06/13  ...   Tomate ronde cat.I 67-82mm\n",
              "420  20/06/13  ...   Tomate ronde cat.I 67-82mm\n",
              "421  17/06/13  ...   Tomate ronde cat.I 67-82mm\n",
              "422  18/09/12  ...   Tomate ronde cat.I 67-82mm\n",
              "423  29/06/12  ...   Tomate ronde cat.I 67-82mm\n",
              "\n",
              "[424 rows x 11 columns]"
            ]
          },
          "metadata": {},
          "execution_count": 4
        }
      ]
    },
    {
      "cell_type": "code",
      "metadata": {
        "colab": {
          "base_uri": "https://localhost:8080/",
          "height": 618
        },
        "id": "o8tuVhG7LFH1",
        "outputId": "f35d9884-36ce-4e3e-ecad-b13af97fffc2"
      },
      "source": [
        "Pop = Pop.drop([\"prix maximal\",\"prix minimal\"], axis=1)\n",
        "Pop"
      ],
      "execution_count": 5,
      "outputs": [
        {
          "output_type": "execute_result",
          "data": {
            "text/html": [
              "<div>\n",
              "<style scoped>\n",
              "    .dataframe tbody tr th:only-of-type {\n",
              "        vertical-align: middle;\n",
              "    }\n",
              "\n",
              "    .dataframe tbody tr th {\n",
              "        vertical-align: top;\n",
              "    }\n",
              "\n",
              "    .dataframe thead th {\n",
              "        text-align: right;\n",
              "    }\n",
              "</style>\n",
              "<table border=\"1\" class=\"dataframe\">\n",
              "  <thead>\n",
              "    <tr style=\"text-align: right;\">\n",
              "      <th></th>\n",
              "      <th>Date</th>\n",
              "      <th>prix moyen au kg</th>\n",
              "      <th>Production quantité \\ntonne(s)</th>\n",
              "      <th>Température minimale en °C</th>\n",
              "      <th>Température maximale en °C</th>\n",
              "      <th>précipitations en mm</th>\n",
              "      <th>Ensoleillement en min</th>\n",
              "      <th>Rafales (vitesse du vent) en km/h</th>\n",
              "      <th>catégorie tomates</th>\n",
              "    </tr>\n",
              "  </thead>\n",
              "  <tbody>\n",
              "    <tr>\n",
              "      <th>0</th>\n",
              "      <td>21/06/21</td>\n",
              "      <td>1.50</td>\n",
              "      <td>0.200</td>\n",
              "      <td>15.7</td>\n",
              "      <td>24.9</td>\n",
              "      <td>3.8</td>\n",
              "      <td>423</td>\n",
              "      <td>61.2</td>\n",
              "      <td>Tomate ronde  cat.I 57-67mm</td>\n",
              "    </tr>\n",
              "    <tr>\n",
              "      <th>1</th>\n",
              "      <td>04/12/20</td>\n",
              "      <td>1.50</td>\n",
              "      <td>0.100</td>\n",
              "      <td>2.9</td>\n",
              "      <td>6.6</td>\n",
              "      <td>0.8</td>\n",
              "      <td>256</td>\n",
              "      <td>65.9</td>\n",
              "      <td>Tomate ronde  cat.I 57-67mm</td>\n",
              "    </tr>\n",
              "    <tr>\n",
              "      <th>2</th>\n",
              "      <td>06/11/20</td>\n",
              "      <td>1.10</td>\n",
              "      <td>0.100</td>\n",
              "      <td>2.3</td>\n",
              "      <td>13.4</td>\n",
              "      <td>0.0</td>\n",
              "      <td>491</td>\n",
              "      <td>46.8</td>\n",
              "      <td>Tomate ronde  cat.I 57-67mm</td>\n",
              "    </tr>\n",
              "    <tr>\n",
              "      <th>3</th>\n",
              "      <td>05/11/20</td>\n",
              "      <td>1.10</td>\n",
              "      <td>0.100</td>\n",
              "      <td>1.8</td>\n",
              "      <td>11.5</td>\n",
              "      <td>0.0</td>\n",
              "      <td>533</td>\n",
              "      <td>32.4</td>\n",
              "      <td>Tomate ronde  cat.I 57-67mm</td>\n",
              "    </tr>\n",
              "    <tr>\n",
              "      <th>4</th>\n",
              "      <td>30/10/20</td>\n",
              "      <td>1.05</td>\n",
              "      <td>0.100</td>\n",
              "      <td>12.6</td>\n",
              "      <td>15.9</td>\n",
              "      <td>0.0</td>\n",
              "      <td>0</td>\n",
              "      <td>40.7</td>\n",
              "      <td>Tomate ronde  cat.I 57-67mm</td>\n",
              "    </tr>\n",
              "    <tr>\n",
              "      <th>...</th>\n",
              "      <td>...</td>\n",
              "      <td>...</td>\n",
              "      <td>...</td>\n",
              "      <td>...</td>\n",
              "      <td>...</td>\n",
              "      <td>...</td>\n",
              "      <td>...</td>\n",
              "      <td>...</td>\n",
              "      <td>...</td>\n",
              "    </tr>\n",
              "    <tr>\n",
              "      <th>419</th>\n",
              "      <td>24/06/13</td>\n",
              "      <td>1.10</td>\n",
              "      <td>1.120</td>\n",
              "      <td>10.5</td>\n",
              "      <td>19.1</td>\n",
              "      <td>0.0</td>\n",
              "      <td>342</td>\n",
              "      <td>42.6</td>\n",
              "      <td>Tomate ronde cat.I 67-82mm</td>\n",
              "    </tr>\n",
              "    <tr>\n",
              "      <th>420</th>\n",
              "      <td>20/06/13</td>\n",
              "      <td>1.50</td>\n",
              "      <td>0.075</td>\n",
              "      <td>14.0</td>\n",
              "      <td>21.5</td>\n",
              "      <td>0.8</td>\n",
              "      <td>216</td>\n",
              "      <td>37.1</td>\n",
              "      <td>Tomate ronde cat.I 67-82mm</td>\n",
              "    </tr>\n",
              "    <tr>\n",
              "      <th>421</th>\n",
              "      <td>17/06/13</td>\n",
              "      <td>1.50</td>\n",
              "      <td>0.020</td>\n",
              "      <td>15.0</td>\n",
              "      <td>27.2</td>\n",
              "      <td>6.8</td>\n",
              "      <td>210</td>\n",
              "      <td>61.1</td>\n",
              "      <td>Tomate ronde cat.I 67-82mm</td>\n",
              "    </tr>\n",
              "    <tr>\n",
              "      <th>422</th>\n",
              "      <td>18/09/12</td>\n",
              "      <td>1.10</td>\n",
              "      <td>0.180</td>\n",
              "      <td>10.3</td>\n",
              "      <td>20.1</td>\n",
              "      <td>0.0</td>\n",
              "      <td>126</td>\n",
              "      <td>34.2</td>\n",
              "      <td>Tomate ronde cat.I 67-82mm</td>\n",
              "    </tr>\n",
              "    <tr>\n",
              "      <th>423</th>\n",
              "      <td>29/06/12</td>\n",
              "      <td>1.20</td>\n",
              "      <td>0.400</td>\n",
              "      <td>14.3</td>\n",
              "      <td>24.4</td>\n",
              "      <td>0.0</td>\n",
              "      <td>180</td>\n",
              "      <td>37.8</td>\n",
              "      <td>Tomate ronde cat.I 67-82mm</td>\n",
              "    </tr>\n",
              "  </tbody>\n",
              "</table>\n",
              "<p>424 rows × 9 columns</p>\n",
              "</div>"
            ],
            "text/plain": [
              "         Date  ...            catégorie tomates\n",
              "0    21/06/21  ...  Tomate ronde  cat.I 57-67mm\n",
              "1    04/12/20  ...  Tomate ronde  cat.I 57-67mm\n",
              "2    06/11/20  ...  Tomate ronde  cat.I 57-67mm\n",
              "3    05/11/20  ...  Tomate ronde  cat.I 57-67mm\n",
              "4    30/10/20  ...  Tomate ronde  cat.I 57-67mm\n",
              "..        ...  ...                          ...\n",
              "419  24/06/13  ...   Tomate ronde cat.I 67-82mm\n",
              "420  20/06/13  ...   Tomate ronde cat.I 67-82mm\n",
              "421  17/06/13  ...   Tomate ronde cat.I 67-82mm\n",
              "422  18/09/12  ...   Tomate ronde cat.I 67-82mm\n",
              "423  29/06/12  ...   Tomate ronde cat.I 67-82mm\n",
              "\n",
              "[424 rows x 9 columns]"
            ]
          },
          "metadata": {},
          "execution_count": 5
        }
      ]
    },
    {
      "cell_type": "code",
      "metadata": {
        "colab": {
          "base_uri": "https://localhost:8080/",
          "height": 312
        },
        "id": "Ab8aRs-hLFTT",
        "outputId": "abd8abdb-4f35-4280-f9bd-47ad85fe0bc0"
      },
      "source": [
        "Pop.describe()"
      ],
      "execution_count": 6,
      "outputs": [
        {
          "output_type": "execute_result",
          "data": {
            "text/html": [
              "<div>\n",
              "<style scoped>\n",
              "    .dataframe tbody tr th:only-of-type {\n",
              "        vertical-align: middle;\n",
              "    }\n",
              "\n",
              "    .dataframe tbody tr th {\n",
              "        vertical-align: top;\n",
              "    }\n",
              "\n",
              "    .dataframe thead th {\n",
              "        text-align: right;\n",
              "    }\n",
              "</style>\n",
              "<table border=\"1\" class=\"dataframe\">\n",
              "  <thead>\n",
              "    <tr style=\"text-align: right;\">\n",
              "      <th></th>\n",
              "      <th>prix moyen au kg</th>\n",
              "      <th>Production quantité \\ntonne(s)</th>\n",
              "      <th>Température minimale en °C</th>\n",
              "      <th>Température maximale en °C</th>\n",
              "      <th>précipitations en mm</th>\n",
              "      <th>Ensoleillement en min</th>\n",
              "      <th>Rafales (vitesse du vent) en km/h</th>\n",
              "    </tr>\n",
              "  </thead>\n",
              "  <tbody>\n",
              "    <tr>\n",
              "      <th>count</th>\n",
              "      <td>421.000000</td>\n",
              "      <td>424.000000</td>\n",
              "      <td>424.000000</td>\n",
              "      <td>424.000000</td>\n",
              "      <td>424.000000</td>\n",
              "      <td>424.000000</td>\n",
              "      <td>424.000000</td>\n",
              "    </tr>\n",
              "    <tr>\n",
              "      <th>mean</th>\n",
              "      <td>1.264798</td>\n",
              "      <td>0.464830</td>\n",
              "      <td>12.051651</td>\n",
              "      <td>23.908726</td>\n",
              "      <td>1.475236</td>\n",
              "      <td>436.160377</td>\n",
              "      <td>40.075472</td>\n",
              "    </tr>\n",
              "    <tr>\n",
              "      <th>std</th>\n",
              "      <td>0.288990</td>\n",
              "      <td>0.776784</td>\n",
              "      <td>3.965298</td>\n",
              "      <td>5.803186</td>\n",
              "      <td>4.417398</td>\n",
              "      <td>266.967955</td>\n",
              "      <td>12.427627</td>\n",
              "    </tr>\n",
              "    <tr>\n",
              "      <th>min</th>\n",
              "      <td>0.500000</td>\n",
              "      <td>0.016000</td>\n",
              "      <td>-0.100000</td>\n",
              "      <td>6.600000</td>\n",
              "      <td>0.000000</td>\n",
              "      <td>0.000000</td>\n",
              "      <td>14.400000</td>\n",
              "    </tr>\n",
              "    <tr>\n",
              "      <th>25%</th>\n",
              "      <td>1.050000</td>\n",
              "      <td>0.100000</td>\n",
              "      <td>9.800000</td>\n",
              "      <td>20.100000</td>\n",
              "      <td>0.000000</td>\n",
              "      <td>210.000000</td>\n",
              "      <td>31.500000</td>\n",
              "    </tr>\n",
              "    <tr>\n",
              "      <th>50%</th>\n",
              "      <td>1.200000</td>\n",
              "      <td>0.240000</td>\n",
              "      <td>12.300000</td>\n",
              "      <td>23.700000</td>\n",
              "      <td>0.000000</td>\n",
              "      <td>447.500000</td>\n",
              "      <td>38.900000</td>\n",
              "    </tr>\n",
              "    <tr>\n",
              "      <th>75%</th>\n",
              "      <td>1.500000</td>\n",
              "      <td>0.500000</td>\n",
              "      <td>14.700000</td>\n",
              "      <td>28.000000</td>\n",
              "      <td>0.400000</td>\n",
              "      <td>658.500000</td>\n",
              "      <td>46.800000</td>\n",
              "    </tr>\n",
              "    <tr>\n",
              "      <th>max</th>\n",
              "      <td>2.000000</td>\n",
              "      <td>7.680000</td>\n",
              "      <td>23.200000</td>\n",
              "      <td>41.300000</td>\n",
              "      <td>31.900000</td>\n",
              "      <td>906.000000</td>\n",
              "      <td>92.600000</td>\n",
              "    </tr>\n",
              "  </tbody>\n",
              "</table>\n",
              "</div>"
            ],
            "text/plain": [
              "       prix moyen au kg  ...  Rafales (vitesse du vent) en km/h\n",
              "count        421.000000  ...                         424.000000\n",
              "mean           1.264798  ...                          40.075472\n",
              "std            0.288990  ...                          12.427627\n",
              "min            0.500000  ...                          14.400000\n",
              "25%            1.050000  ...                          31.500000\n",
              "50%            1.200000  ...                          38.900000\n",
              "75%            1.500000  ...                          46.800000\n",
              "max            2.000000  ...                          92.600000\n",
              "\n",
              "[8 rows x 7 columns]"
            ]
          },
          "metadata": {},
          "execution_count": 6
        }
      ]
    },
    {
      "cell_type": "code",
      "metadata": {
        "colab": {
          "base_uri": "https://localhost:8080/",
          "height": 334
        },
        "id": "GalzdVVQLO19",
        "outputId": "c57ab384-347d-4ee0-a579-d10079e5460a"
      },
      "source": [
        "plt.hist(Pop['prix moyen au kg'],color ='coral')\n",
        "plt.title('Distribution pour le prix')\n",
        "plt.xlabel('prix moyen au kg')\n",
        "plt.ylabel('Densité')\n",
        "plt.show()\n",
        "print (\"skew=\", Pop['prix moyen au kg'].skew())"
      ],
      "execution_count": 7,
      "outputs": [
        {
          "output_type": "display_data",
          "data": {
            "image/png": "[encoded data removed]",
            "text/plain": [
              "<Figure size 432x288 with 1 Axes>"
            ]
          },
          "metadata": {}
        },
        {
          "output_type": "stream",
          "name": "stdout",
          "text": [
            "skew= 0.22827047693351454\n"
          ]
        }
      ]
    },
    {
      "cell_type": "code",
      "metadata": {
        "colab": {
          "base_uri": "https://localhost:8080/",
          "height": 334
        },
        "id": "-j6B6juPLO5A",
        "outputId": "71f0172d-8de3-43e3-a63b-e94a3c45a4d3"
      },
      "source": [
        "plt.hist(Pop['Production quantité \\ntonne(s)'],color ='violet')\n",
        "plt.title('Distribution pour la production')\n",
        "plt.xlabel('production de tomates')\n",
        "plt.ylabel('Densité')\n",
        "plt.show()\n",
        "print (\"skew=\", Pop['Production quantité \\ntonne(s)'].skew())"
      ],
      "execution_count": 8,
      "outputs": [
        {
          "output_type": "display_data",
          "data": {
            "image/png": "[encoded data removed]",
            "text/plain": [
              "<Figure size 432x288 with 1 Axes>"
            ]
          },
          "metadata": {}
        },
        {
          "output_type": "stream",
          "name": "stdout",
          "text": [
            "skew= 5.583569472053098\n"
          ]
        }
      ]
    },
    {
      "cell_type": "code",
      "metadata": {
        "colab": {
          "base_uri": "https://localhost:8080/",
          "height": 110
        },
        "id": "Y-nfCg2wLO8B",
        "outputId": "1078ec6a-299d-4790-9d85-717a55dc6f76"
      },
      "source": [
        "Pop['catégorie tomates'].value_counts().to_frame()"
      ],
      "execution_count": 9,
      "outputs": [
        {
          "output_type": "execute_result",
          "data": {
            "text/html": [
              "<div>\n",
              "<style scoped>\n",
              "    .dataframe tbody tr th:only-of-type {\n",
              "        vertical-align: middle;\n",
              "    }\n",
              "\n",
              "    .dataframe tbody tr th {\n",
              "        vertical-align: top;\n",
              "    }\n",
              "\n",
              "    .dataframe thead th {\n",
              "        text-align: right;\n",
              "    }\n",
              "</style>\n",
              "<table border=\"1\" class=\"dataframe\">\n",
              "  <thead>\n",
              "    <tr style=\"text-align: right;\">\n",
              "      <th></th>\n",
              "      <th>catégorie tomates</th>\n",
              "    </tr>\n",
              "  </thead>\n",
              "  <tbody>\n",
              "    <tr>\n",
              "      <th>Tomate ronde  cat.I 57-67mm</th>\n",
              "      <td>372</td>\n",
              "    </tr>\n",
              "    <tr>\n",
              "      <th>Tomate ronde cat.I 67-82mm</th>\n",
              "      <td>52</td>\n",
              "    </tr>\n",
              "  </tbody>\n",
              "</table>\n",
              "</div>"
            ],
            "text/plain": [
              "                             catégorie tomates\n",
              "Tomate ronde  cat.I 57-67mm                372\n",
              "Tomate ronde cat.I 67-82mm                  52"
            ]
          },
          "metadata": {},
          "execution_count": 9
        }
      ]
    },
    {
      "cell_type": "code",
      "metadata": {
        "colab": {
          "base_uri": "https://localhost:8080/",
          "height": 529
        },
        "id": "MEZuv3uMLO_O",
        "outputId": "16404ebf-e8b2-4070-af68-b43b24c6df07"
      },
      "source": [
        "Pop['catégorie tomates'].value_counts().plot(kind='bar',figsize=(5,5),title= 'catégorie tomates',color ='gold')\n",
        "plt.xlabel('catégorie tomates')\n",
        "plt.ylabel(\"nombre de fois ou la catégorie de tomates apparaît\")\n",
        "plt.show()"
      ],
      "execution_count": 10,
      "outputs": [
        {
          "output_type": "display_data",
          "data": {
            "image/png": "[encoded data removed]",
            "text/plain": [
              "<Figure size 360x360 with 1 Axes>"
            ]
          },
          "metadata": {}
        }
      ]
    },
    {
      "cell_type": "code",
      "metadata": {
        "colab": {
          "base_uri": "https://localhost:8080/",
          "height": 340
        },
        "id": "ckV0_shiLPDE",
        "outputId": "9b194421-a8bf-4eb8-9ba5-aa8e22a39a32"
      },
      "source": [
        "Pop['catégorie tomates'].value_counts().plot(kind='pie', figsize=[5,5],\n",
        "          autopct=lambda p: '{:.0f}%'.format(p,(p/100)*Pop['catégorie tomates'].value_counts().sum()))"
      ],
      "execution_count": 11,
      "outputs": [
        {
          "output_type": "execute_result",
          "data": {
            "text/plain": [
              "<matplotlib.axes._subplots.AxesSubplot at 0x7f5675af87d0>"
            ]
          },
          "metadata": {},
          "execution_count": 11
        },
        {
          "output_type": "display_data",
          "data": {
            "image/png": "[encoded data removed]",
            "text/plain": [
              "<Figure size 360x360 with 1 Axes>"
            ]
          },
          "metadata": {}
        }
      ]
    },
    {
      "cell_type": "code",
      "metadata": {
        "colab": {
          "base_uri": "https://localhost:8080/",
          "height": 502
        },
        "id": "2As5fmSXLzlC",
        "outputId": "3e6750f8-1814-42d0-8527-170e10ec533c"
      },
      "source": [
        "Corr = Pop.corr()\n",
        "\n",
        "\n",
        "f, ax = plt.subplots(figsize=(5,5))\n",
        "plt.title('Corrélation entre variables')\n",
        "\n",
        "\n",
        "sns.heatmap(Corr,linewidths=0.25,vmax=1.0, square=True, cmap=\"plasma\", linecolor='black', annot=True)\n",
        "plt.show()"
      ],
      "execution_count": 12,
      "outputs": [
        {
          "output_type": "display_data",
          "data": {
            "image/png": "[encoded data removed]",
            "text/plain": [
              "<Figure size 360x360 with 2 Axes>"
            ]
          },
          "metadata": {}
        }
      ]
    },
    {
      "cell_type": "code",
      "metadata": {
        "colab": {
          "base_uri": "https://localhost:8080/",
          "height": 618
        },
        "id": "tKJ86869MQpD",
        "outputId": "e55fb171-8b42-441c-9d3b-a268691ae35b"
      },
      "source": [
        "Pop =  Pop.interpolate() #pour remplacer les valeurs nulles par une valeur moyenne\n",
        "Pop"
      ],
      "execution_count": 13,
      "outputs": [
        {
          "output_type": "execute_result",
          "data": {
            "text/html": [
              "<div>\n",
              "<style scoped>\n",
              "    .dataframe tbody tr th:only-of-type {\n",
              "        vertical-align: middle;\n",
              "    }\n",
              "\n",
              "    .dataframe tbody tr th {\n",
              "        vertical-align: top;\n",
              "    }\n",
              "\n",
              "    .dataframe thead th {\n",
              "        text-align: right;\n",
              "    }\n",
              "</style>\n",
              "<table border=\"1\" class=\"dataframe\">\n",
              "  <thead>\n",
              "    <tr style=\"text-align: right;\">\n",
              "      <th></th>\n",
              "      <th>Date</th>\n",
              "      <th>prix moyen au kg</th>\n",
              "      <th>Production quantité \\ntonne(s)</th>\n",
              "      <th>Température minimale en °C</th>\n",
              "      <th>Température maximale en °C</th>\n",
              "      <th>précipitations en mm</th>\n",
              "      <th>Ensoleillement en min</th>\n",
              "      <th>Rafales (vitesse du vent) en km/h</th>\n",
              "      <th>catégorie tomates</th>\n",
              "    </tr>\n",
              "  </thead>\n",
              "  <tbody>\n",
              "    <tr>\n",
              "      <th>0</th>\n",
              "      <td>21/06/21</td>\n",
              "      <td>1.50</td>\n",
              "      <td>0.200</td>\n",
              "      <td>15.7</td>\n",
              "      <td>24.9</td>\n",
              "      <td>3.8</td>\n",
              "      <td>423</td>\n",
              "      <td>61.2</td>\n",
              "      <td>Tomate ronde  cat.I 57-67mm</td>\n",
              "    </tr>\n",
              "    <tr>\n",
              "      <th>1</th>\n",
              "      <td>04/12/20</td>\n",
              "      <td>1.50</td>\n",
              "      <td>0.100</td>\n",
              "      <td>2.9</td>\n",
              "      <td>6.6</td>\n",
              "      <td>0.8</td>\n",
              "      <td>256</td>\n",
              "      <td>65.9</td>\n",
              "      <td>Tomate ronde  cat.I 57-67mm</td>\n",
              "    </tr>\n",
              "    <tr>\n",
              "      <th>2</th>\n",
              "      <td>06/11/20</td>\n",
              "      <td>1.10</td>\n",
              "      <td>0.100</td>\n",
              "      <td>2.3</td>\n",
              "      <td>13.4</td>\n",
              "      <td>0.0</td>\n",
              "      <td>491</td>\n",
              "      <td>46.8</td>\n",
              "      <td>Tomate ronde  cat.I 57-67mm</td>\n",
              "    </tr>\n",
              "    <tr>\n",
              "      <th>3</th>\n",
              "      <td>05/11/20</td>\n",
              "      <td>1.10</td>\n",
              "      <td>0.100</td>\n",
              "      <td>1.8</td>\n",
              "      <td>11.5</td>\n",
              "      <td>0.0</td>\n",
              "      <td>533</td>\n",
              "      <td>32.4</td>\n",
              "      <td>Tomate ronde  cat.I 57-67mm</td>\n",
              "    </tr>\n",
              "    <tr>\n",
              "      <th>4</th>\n",
              "      <td>30/10/20</td>\n",
              "      <td>1.05</td>\n",
              "      <td>0.100</td>\n",
              "      <td>12.6</td>\n",
              "      <td>15.9</td>\n",
              "      <td>0.0</td>\n",
              "      <td>0</td>\n",
              "      <td>40.7</td>\n",
              "      <td>Tomate ronde  cat.I 57-67mm</td>\n",
              "    </tr>\n",
              "    <tr>\n",
              "      <th>...</th>\n",
              "      <td>...</td>\n",
              "      <td>...</td>\n",
              "      <td>...</td>\n",
              "      <td>...</td>\n",
              "      <td>...</td>\n",
              "      <td>...</td>\n",
              "      <td>...</td>\n",
              "      <td>...</td>\n",
              "      <td>...</td>\n",
              "    </tr>\n",
              "    <tr>\n",
              "      <th>419</th>\n",
              "      <td>24/06/13</td>\n",
              "      <td>1.10</td>\n",
              "      <td>1.120</td>\n",
              "      <td>10.5</td>\n",
              "      <td>19.1</td>\n",
              "      <td>0.0</td>\n",
              "      <td>342</td>\n",
              "      <td>42.6</td>\n",
              "      <td>Tomate ronde cat.I 67-82mm</td>\n",
              "    </tr>\n",
              "    <tr>\n",
              "      <th>420</th>\n",
              "      <td>20/06/13</td>\n",
              "      <td>1.50</td>\n",
              "      <td>0.075</td>\n",
              "      <td>14.0</td>\n",
              "      <td>21.5</td>\n",
              "      <td>0.8</td>\n",
              "      <td>216</td>\n",
              "      <td>37.1</td>\n",
              "      <td>Tomate ronde cat.I 67-82mm</td>\n",
              "    </tr>\n",
              "    <tr>\n",
              "      <th>421</th>\n",
              "      <td>17/06/13</td>\n",
              "      <td>1.50</td>\n",
              "      <td>0.020</td>\n",
              "      <td>15.0</td>\n",
              "      <td>27.2</td>\n",
              "      <td>6.8</td>\n",
              "      <td>210</td>\n",
              "      <td>61.1</td>\n",
              "      <td>Tomate ronde cat.I 67-82mm</td>\n",
              "    </tr>\n",
              "    <tr>\n",
              "      <th>422</th>\n",
              "      <td>18/09/12</td>\n",
              "      <td>1.10</td>\n",
              "      <td>0.180</td>\n",
              "      <td>10.3</td>\n",
              "      <td>20.1</td>\n",
              "      <td>0.0</td>\n",
              "      <td>126</td>\n",
              "      <td>34.2</td>\n",
              "      <td>Tomate ronde cat.I 67-82mm</td>\n",
              "    </tr>\n",
              "    <tr>\n",
              "      <th>423</th>\n",
              "      <td>29/06/12</td>\n",
              "      <td>1.20</td>\n",
              "      <td>0.400</td>\n",
              "      <td>14.3</td>\n",
              "      <td>24.4</td>\n",
              "      <td>0.0</td>\n",
              "      <td>180</td>\n",
              "      <td>37.8</td>\n",
              "      <td>Tomate ronde cat.I 67-82mm</td>\n",
              "    </tr>\n",
              "  </tbody>\n",
              "</table>\n",
              "<p>424 rows × 9 columns</p>\n",
              "</div>"
            ],
            "text/plain": [
              "         Date  ...            catégorie tomates\n",
              "0    21/06/21  ...  Tomate ronde  cat.I 57-67mm\n",
              "1    04/12/20  ...  Tomate ronde  cat.I 57-67mm\n",
              "2    06/11/20  ...  Tomate ronde  cat.I 57-67mm\n",
              "3    05/11/20  ...  Tomate ronde  cat.I 57-67mm\n",
              "4    30/10/20  ...  Tomate ronde  cat.I 57-67mm\n",
              "..        ...  ...                          ...\n",
              "419  24/06/13  ...   Tomate ronde cat.I 67-82mm\n",
              "420  20/06/13  ...   Tomate ronde cat.I 67-82mm\n",
              "421  17/06/13  ...   Tomate ronde cat.I 67-82mm\n",
              "422  18/09/12  ...   Tomate ronde cat.I 67-82mm\n",
              "423  29/06/12  ...   Tomate ronde cat.I 67-82mm\n",
              "\n",
              "[424 rows x 9 columns]"
            ]
          },
          "metadata": {},
          "execution_count": 13
        }
      ]
    },
    {
      "cell_type": "code",
      "metadata": {
        "colab": {
          "base_uri": "https://localhost:8080/",
          "height": 417
        },
        "id": "XktchMk8MSJ8",
        "outputId": "3d5b28e5-f6ad-4bfd-d2c5-d278c7681e87"
      },
      "source": [
        "dummy_tomate1 = pd.get_dummies(Pop['catégorie tomates'])\n",
        "dummy_tomate1"
      ],
      "execution_count": 14,
      "outputs": [
        {
          "output_type": "execute_result",
          "data": {
            "text/html": [
              "<div>\n",
              "<style scoped>\n",
              "    .dataframe tbody tr th:only-of-type {\n",
              "        vertical-align: middle;\n",
              "    }\n",
              "\n",
              "    .dataframe tbody tr th {\n",
              "        vertical-align: top;\n",
              "    }\n",
              "\n",
              "    .dataframe thead th {\n",
              "        text-align: right;\n",
              "    }\n",
              "</style>\n",
              "<table border=\"1\" class=\"dataframe\">\n",
              "  <thead>\n",
              "    <tr style=\"text-align: right;\">\n",
              "      <th></th>\n",
              "      <th>Tomate ronde  cat.I 57-67mm</th>\n",
              "      <th>Tomate ronde cat.I 67-82mm</th>\n",
              "    </tr>\n",
              "  </thead>\n",
              "  <tbody>\n",
              "    <tr>\n",
              "      <th>0</th>\n",
              "      <td>1</td>\n",
              "      <td>0</td>\n",
              "    </tr>\n",
              "    <tr>\n",
              "      <th>1</th>\n",
              "      <td>1</td>\n",
              "      <td>0</td>\n",
              "    </tr>\n",
              "    <tr>\n",
              "      <th>2</th>\n",
              "      <td>1</td>\n",
              "      <td>0</td>\n",
              "    </tr>\n",
              "    <tr>\n",
              "      <th>3</th>\n",
              "      <td>1</td>\n",
              "      <td>0</td>\n",
              "    </tr>\n",
              "    <tr>\n",
              "      <th>4</th>\n",
              "      <td>1</td>\n",
              "      <td>0</td>\n",
              "    </tr>\n",
              "    <tr>\n",
              "      <th>...</th>\n",
              "      <td>...</td>\n",
              "      <td>...</td>\n",
              "    </tr>\n",
              "    <tr>\n",
              "      <th>419</th>\n",
              "      <td>0</td>\n",
              "      <td>1</td>\n",
              "    </tr>\n",
              "    <tr>\n",
              "      <th>420</th>\n",
              "      <td>0</td>\n",
              "      <td>1</td>\n",
              "    </tr>\n",
              "    <tr>\n",
              "      <th>421</th>\n",
              "      <td>0</td>\n",
              "      <td>1</td>\n",
              "    </tr>\n",
              "    <tr>\n",
              "      <th>422</th>\n",
              "      <td>0</td>\n",
              "      <td>1</td>\n",
              "    </tr>\n",
              "    <tr>\n",
              "      <th>423</th>\n",
              "      <td>0</td>\n",
              "      <td>1</td>\n",
              "    </tr>\n",
              "  </tbody>\n",
              "</table>\n",
              "<p>424 rows × 2 columns</p>\n",
              "</div>"
            ],
            "text/plain": [
              "     Tomate ronde  cat.I 57-67mm  Tomate ronde cat.I 67-82mm\n",
              "0                              1                           0\n",
              "1                              1                           0\n",
              "2                              1                           0\n",
              "3                              1                           0\n",
              "4                              1                           0\n",
              "..                           ...                         ...\n",
              "419                            0                           1\n",
              "420                            0                           1\n",
              "421                            0                           1\n",
              "422                            0                           1\n",
              "423                            0                           1\n",
              "\n",
              "[424 rows x 2 columns]"
            ]
          },
          "metadata": {},
          "execution_count": 14
        }
      ]
    },
    {
      "cell_type": "code",
      "metadata": {
        "colab": {
          "base_uri": "https://localhost:8080/",
          "height": 803
        },
        "id": "N3MMKKgzMSYG",
        "outputId": "a4f66339-0a10-4eb5-8054-3733f7fad672"
      },
      "source": [
        "T =  pd.merge(\n",
        "    left=Pop,\n",
        "    right=dummy_tomate1,\n",
        "    left_index=True,\n",
        "    right_index=True,\n",
        ")\n",
        "\n",
        "T"
      ],
      "execution_count": 15,
      "outputs": [
        {
          "output_type": "execute_result",
          "data": {
            "text/html": [
              "<div>\n",
              "<style scoped>\n",
              "    .dataframe tbody tr th:only-of-type {\n",
              "        vertical-align: middle;\n",
              "    }\n",
              "\n",
              "    .dataframe tbody tr th {\n",
              "        vertical-align: top;\n",
              "    }\n",
              "\n",
              "    .dataframe thead th {\n",
              "        text-align: right;\n",
              "    }\n",
              "</style>\n",
              "<table border=\"1\" class=\"dataframe\">\n",
              "  <thead>\n",
              "    <tr style=\"text-align: right;\">\n",
              "      <th></th>\n",
              "      <th>Date</th>\n",
              "      <th>prix moyen au kg</th>\n",
              "      <th>Production quantité \\ntonne(s)</th>\n",
              "      <th>Température minimale en °C</th>\n",
              "      <th>Température maximale en °C</th>\n",
              "      <th>précipitations en mm</th>\n",
              "      <th>Ensoleillement en min</th>\n",
              "      <th>Rafales (vitesse du vent) en km/h</th>\n",
              "      <th>catégorie tomates</th>\n",
              "      <th>Tomate ronde  cat.I 57-67mm</th>\n",
              "      <th>Tomate ronde cat.I 67-82mm</th>\n",
              "    </tr>\n",
              "  </thead>\n",
              "  <tbody>\n",
              "    <tr>\n",
              "      <th>0</th>\n",
              "      <td>21/06/21</td>\n",
              "      <td>1.50</td>\n",
              "      <td>0.200</td>\n",
              "      <td>15.7</td>\n",
              "      <td>24.9</td>\n",
              "      <td>3.8</td>\n",
              "      <td>423</td>\n",
              "      <td>61.2</td>\n",
              "      <td>Tomate ronde  cat.I 57-67mm</td>\n",
              "      <td>1</td>\n",
              "      <td>0</td>\n",
              "    </tr>\n",
              "    <tr>\n",
              "      <th>1</th>\n",
              "      <td>04/12/20</td>\n",
              "      <td>1.50</td>\n",
              "      <td>0.100</td>\n",
              "      <td>2.9</td>\n",
              "      <td>6.6</td>\n",
              "      <td>0.8</td>\n",
              "      <td>256</td>\n",
              "      <td>65.9</td>\n",
              "      <td>Tomate ronde  cat.I 57-67mm</td>\n",
              "      <td>1</td>\n",
              "      <td>0</td>\n",
              "    </tr>\n",
              "    <tr>\n",
              "      <th>2</th>\n",
              "      <td>06/11/20</td>\n",
              "      <td>1.10</td>\n",
              "      <td>0.100</td>\n",
              "      <td>2.3</td>\n",
              "      <td>13.4</td>\n",
              "      <td>0.0</td>\n",
              "      <td>491</td>\n",
              "      <td>46.8</td>\n",
              "      <td>Tomate ronde  cat.I 57-67mm</td>\n",
              "      <td>1</td>\n",
              "      <td>0</td>\n",
              "    </tr>\n",
              "    <tr>\n",
              "      <th>3</th>\n",
              "      <td>05/11/20</td>\n",
              "      <td>1.10</td>\n",
              "      <td>0.100</td>\n",
              "      <td>1.8</td>\n",
              "      <td>11.5</td>\n",
              "      <td>0.0</td>\n",
              "      <td>533</td>\n",
              "      <td>32.4</td>\n",
              "      <td>Tomate ronde  cat.I 57-67mm</td>\n",
              "      <td>1</td>\n",
              "      <td>0</td>\n",
              "    </tr>\n",
              "    <tr>\n",
              "      <th>4</th>\n",
              "      <td>30/10/20</td>\n",
              "      <td>1.05</td>\n",
              "      <td>0.100</td>\n",
              "      <td>12.6</td>\n",
              "      <td>15.9</td>\n",
              "      <td>0.0</td>\n",
              "      <td>0</td>\n",
              "      <td>40.7</td>\n",
              "      <td>Tomate ronde  cat.I 57-67mm</td>\n",
              "      <td>1</td>\n",
              "      <td>0</td>\n",
              "    </tr>\n",
              "    <tr>\n",
              "      <th>...</th>\n",
              "      <td>...</td>\n",
              "      <td>...</td>\n",
              "      <td>...</td>\n",
              "      <td>...</td>\n",
              "      <td>...</td>\n",
              "      <td>...</td>\n",
              "      <td>...</td>\n",
              "      <td>...</td>\n",
              "      <td>...</td>\n",
              "      <td>...</td>\n",
              "      <td>...</td>\n",
              "    </tr>\n",
              "    <tr>\n",
              "      <th>419</th>\n",
              "      <td>24/06/13</td>\n",
              "      <td>1.10</td>\n",
              "      <td>1.120</td>\n",
              "      <td>10.5</td>\n",
              "      <td>19.1</td>\n",
              "      <td>0.0</td>\n",
              "      <td>342</td>\n",
              "      <td>42.6</td>\n",
              "      <td>Tomate ronde cat.I 67-82mm</td>\n",
              "      <td>0</td>\n",
              "      <td>1</td>\n",
              "    </tr>\n",
              "    <tr>\n",
              "      <th>420</th>\n",
              "      <td>20/06/13</td>\n",
              "      <td>1.50</td>\n",
              "      <td>0.075</td>\n",
              "      <td>14.0</td>\n",
              "      <td>21.5</td>\n",
              "      <td>0.8</td>\n",
              "      <td>216</td>\n",
              "      <td>37.1</td>\n",
              "      <td>Tomate ronde cat.I 67-82mm</td>\n",
              "      <td>0</td>\n",
              "      <td>1</td>\n",
              "    </tr>\n",
              "    <tr>\n",
              "      <th>421</th>\n",
              "      <td>17/06/13</td>\n",
              "      <td>1.50</td>\n",
              "      <td>0.020</td>\n",
              "      <td>15.0</td>\n",
              "      <td>27.2</td>\n",
              "      <td>6.8</td>\n",
              "      <td>210</td>\n",
              "      <td>61.1</td>\n",
              "      <td>Tomate ronde cat.I 67-82mm</td>\n",
              "      <td>0</td>\n",
              "      <td>1</td>\n",
              "    </tr>\n",
              "    <tr>\n",
              "      <th>422</th>\n",
              "      <td>18/09/12</td>\n",
              "      <td>1.10</td>\n",
              "      <td>0.180</td>\n",
              "      <td>10.3</td>\n",
              "      <td>20.1</td>\n",
              "      <td>0.0</td>\n",
              "      <td>126</td>\n",
              "      <td>34.2</td>\n",
              "      <td>Tomate ronde cat.I 67-82mm</td>\n",
              "      <td>0</td>\n",
              "      <td>1</td>\n",
              "    </tr>\n",
              "    <tr>\n",
              "      <th>423</th>\n",
              "      <td>29/06/12</td>\n",
              "      <td>1.20</td>\n",
              "      <td>0.400</td>\n",
              "      <td>14.3</td>\n",
              "      <td>24.4</td>\n",
              "      <td>0.0</td>\n",
              "      <td>180</td>\n",
              "      <td>37.8</td>\n",
              "      <td>Tomate ronde cat.I 67-82mm</td>\n",
              "      <td>0</td>\n",
              "      <td>1</td>\n",
              "    </tr>\n",
              "  </tbody>\n",
              "</table>\n",
              "<p>424 rows × 11 columns</p>\n",
              "</div>"
            ],
            "text/plain": [
              "         Date  ...  Tomate ronde cat.I 67-82mm\n",
              "0    21/06/21  ...                           0\n",
              "1    04/12/20  ...                           0\n",
              "2    06/11/20  ...                           0\n",
              "3    05/11/20  ...                           0\n",
              "4    30/10/20  ...                           0\n",
              "..        ...  ...                         ...\n",
              "419  24/06/13  ...                           1\n",
              "420  20/06/13  ...                           1\n",
              "421  17/06/13  ...                           1\n",
              "422  18/09/12  ...                           1\n",
              "423  29/06/12  ...                           1\n",
              "\n",
              "[424 rows x 11 columns]"
            ]
          },
          "metadata": {},
          "execution_count": 15
        }
      ]
    },
    {
      "cell_type": "code",
      "metadata": {
        "colab": {
          "base_uri": "https://localhost:8080/",
          "height": 467
        },
        "id": "JPKabzASMpKR",
        "outputId": "6b723702-c54c-4688-87de-37e909ca4b21"
      },
      "source": [
        "T = T.drop([\"catégorie tomates\"], axis=1)\n",
        "T"
      ],
      "execution_count": 16,
      "outputs": [
        {
          "output_type": "execute_result",
          "data": {
            "text/html": [
              "<div>\n",
              "<style scoped>\n",
              "    .dataframe tbody tr th:only-of-type {\n",
              "        vertical-align: middle;\n",
              "    }\n",
              "\n",
              "    .dataframe tbody tr th {\n",
              "        vertical-align: top;\n",
              "    }\n",
              "\n",
              "    .dataframe thead th {\n",
              "        text-align: right;\n",
              "    }\n",
              "</style>\n",
              "<table border=\"1\" class=\"dataframe\">\n",
              "  <thead>\n",
              "    <tr style=\"text-align: right;\">\n",
              "      <th></th>\n",
              "      <th>Date</th>\n",
              "      <th>prix moyen au kg</th>\n",
              "      <th>Production quantité \\ntonne(s)</th>\n",
              "      <th>Température minimale en °C</th>\n",
              "      <th>Température maximale en °C</th>\n",
              "      <th>précipitations en mm</th>\n",
              "      <th>Ensoleillement en min</th>\n",
              "      <th>Rafales (vitesse du vent) en km/h</th>\n",
              "      <th>Tomate ronde  cat.I 57-67mm</th>\n",
              "      <th>Tomate ronde cat.I 67-82mm</th>\n",
              "    </tr>\n",
              "  </thead>\n",
              "  <tbody>\n",
              "    <tr>\n",
              "      <th>0</th>\n",
              "      <td>21/06/21</td>\n",
              "      <td>1.50</td>\n",
              "      <td>0.200</td>\n",
              "      <td>15.7</td>\n",
              "      <td>24.9</td>\n",
              "      <td>3.8</td>\n",
              "      <td>423</td>\n",
              "      <td>61.2</td>\n",
              "      <td>1</td>\n",
              "      <td>0</td>\n",
              "    </tr>\n",
              "    <tr>\n",
              "      <th>1</th>\n",
              "      <td>04/12/20</td>\n",
              "      <td>1.50</td>\n",
              "      <td>0.100</td>\n",
              "      <td>2.9</td>\n",
              "      <td>6.6</td>\n",
              "      <td>0.8</td>\n",
              "      <td>256</td>\n",
              "      <td>65.9</td>\n",
              "      <td>1</td>\n",
              "      <td>0</td>\n",
              "    </tr>\n",
              "    <tr>\n",
              "      <th>2</th>\n",
              "      <td>06/11/20</td>\n",
              "      <td>1.10</td>\n",
              "      <td>0.100</td>\n",
              "      <td>2.3</td>\n",
              "      <td>13.4</td>\n",
              "      <td>0.0</td>\n",
              "      <td>491</td>\n",
              "      <td>46.8</td>\n",
              "      <td>1</td>\n",
              "      <td>0</td>\n",
              "    </tr>\n",
              "    <tr>\n",
              "      <th>3</th>\n",
              "      <td>05/11/20</td>\n",
              "      <td>1.10</td>\n",
              "      <td>0.100</td>\n",
              "      <td>1.8</td>\n",
              "      <td>11.5</td>\n",
              "      <td>0.0</td>\n",
              "      <td>533</td>\n",
              "      <td>32.4</td>\n",
              "      <td>1</td>\n",
              "      <td>0</td>\n",
              "    </tr>\n",
              "    <tr>\n",
              "      <th>4</th>\n",
              "      <td>30/10/20</td>\n",
              "      <td>1.05</td>\n",
              "      <td>0.100</td>\n",
              "      <td>12.6</td>\n",
              "      <td>15.9</td>\n",
              "      <td>0.0</td>\n",
              "      <td>0</td>\n",
              "      <td>40.7</td>\n",
              "      <td>1</td>\n",
              "      <td>0</td>\n",
              "    </tr>\n",
              "    <tr>\n",
              "      <th>...</th>\n",
              "      <td>...</td>\n",
              "      <td>...</td>\n",
              "      <td>...</td>\n",
              "      <td>...</td>\n",
              "      <td>...</td>\n",
              "      <td>...</td>\n",
              "      <td>...</td>\n",
              "      <td>...</td>\n",
              "      <td>...</td>\n",
              "      <td>...</td>\n",
              "    </tr>\n",
              "    <tr>\n",
              "      <th>419</th>\n",
              "      <td>24/06/13</td>\n",
              "      <td>1.10</td>\n",
              "      <td>1.120</td>\n",
              "      <td>10.5</td>\n",
              "      <td>19.1</td>\n",
              "      <td>0.0</td>\n",
              "      <td>342</td>\n",
              "      <td>42.6</td>\n",
              "      <td>0</td>\n",
              "      <td>1</td>\n",
              "    </tr>\n",
              "    <tr>\n",
              "      <th>420</th>\n",
              "      <td>20/06/13</td>\n",
              "      <td>1.50</td>\n",
              "      <td>0.075</td>\n",
              "      <td>14.0</td>\n",
              "      <td>21.5</td>\n",
              "      <td>0.8</td>\n",
              "      <td>216</td>\n",
              "      <td>37.1</td>\n",
              "      <td>0</td>\n",
              "      <td>1</td>\n",
              "    </tr>\n",
              "    <tr>\n",
              "      <th>421</th>\n",
              "      <td>17/06/13</td>\n",
              "      <td>1.50</td>\n",
              "      <td>0.020</td>\n",
              "      <td>15.0</td>\n",
              "      <td>27.2</td>\n",
              "      <td>6.8</td>\n",
              "      <td>210</td>\n",
              "      <td>61.1</td>\n",
              "      <td>0</td>\n",
              "      <td>1</td>\n",
              "    </tr>\n",
              "    <tr>\n",
              "      <th>422</th>\n",
              "      <td>18/09/12</td>\n",
              "      <td>1.10</td>\n",
              "      <td>0.180</td>\n",
              "      <td>10.3</td>\n",
              "      <td>20.1</td>\n",
              "      <td>0.0</td>\n",
              "      <td>126</td>\n",
              "      <td>34.2</td>\n",
              "      <td>0</td>\n",
              "      <td>1</td>\n",
              "    </tr>\n",
              "    <tr>\n",
              "      <th>423</th>\n",
              "      <td>29/06/12</td>\n",
              "      <td>1.20</td>\n",
              "      <td>0.400</td>\n",
              "      <td>14.3</td>\n",
              "      <td>24.4</td>\n",
              "      <td>0.0</td>\n",
              "      <td>180</td>\n",
              "      <td>37.8</td>\n",
              "      <td>0</td>\n",
              "      <td>1</td>\n",
              "    </tr>\n",
              "  </tbody>\n",
              "</table>\n",
              "<p>424 rows × 10 columns</p>\n",
              "</div>"
            ],
            "text/plain": [
              "         Date  ...  Tomate ronde cat.I 67-82mm\n",
              "0    21/06/21  ...                           0\n",
              "1    04/12/20  ...                           0\n",
              "2    06/11/20  ...                           0\n",
              "3    05/11/20  ...                           0\n",
              "4    30/10/20  ...                           0\n",
              "..        ...  ...                         ...\n",
              "419  24/06/13  ...                           1\n",
              "420  20/06/13  ...                           1\n",
              "421  17/06/13  ...                           1\n",
              "422  18/09/12  ...                           1\n",
              "423  29/06/12  ...                           1\n",
              "\n",
              "[424 rows x 10 columns]"
            ]
          },
          "metadata": {},
          "execution_count": 16
        }
      ]
    },
    {
      "cell_type": "code",
      "metadata": {
        "colab": {
          "base_uri": "https://localhost:8080/",
          "height": 635
        },
        "id": "aJ1LHJgeMp3m",
        "outputId": "8d499ce4-b219-4354-b97a-8867c4486837"
      },
      "source": [
        "T['Date'] = pd.to_datetime(T['Date'])\n",
        "T"
      ],
      "execution_count": 17,
      "outputs": [
        {
          "output_type": "execute_result",
          "data": {
            "text/html": [
              "<div>\n",
              "<style scoped>\n",
              "    .dataframe tbody tr th:only-of-type {\n",
              "        vertical-align: middle;\n",
              "    }\n",
              "\n",
              "    .dataframe tbody tr th {\n",
              "        vertical-align: top;\n",
              "    }\n",
              "\n",
              "    .dataframe thead th {\n",
              "        text-align: right;\n",
              "    }\n",
              "</style>\n",
              "<table border=\"1\" class=\"dataframe\">\n",
              "  <thead>\n",
              "    <tr style=\"text-align: right;\">\n",
              "      <th></th>\n",
              "      <th>Date</th>\n",
              "      <th>prix moyen au kg</th>\n",
              "      <th>Production quantité \\ntonne(s)</th>\n",
              "      <th>Température minimale en °C</th>\n",
              "      <th>Température maximale en °C</th>\n",
              "      <th>précipitations en mm</th>\n",
              "      <th>Ensoleillement en min</th>\n",
              "      <th>Rafales (vitesse du vent) en km/h</th>\n",
              "      <th>Tomate ronde  cat.I 57-67mm</th>\n",
              "      <th>Tomate ronde cat.I 67-82mm</th>\n",
              "    </tr>\n",
              "  </thead>\n",
              "  <tbody>\n",
              "    <tr>\n",
              "      <th>0</th>\n",
              "      <td>2021-06-21</td>\n",
              "      <td>1.50</td>\n",
              "      <td>0.200</td>\n",
              "      <td>15.7</td>\n",
              "      <td>24.9</td>\n",
              "      <td>3.8</td>\n",
              "      <td>423</td>\n",
              "      <td>61.2</td>\n",
              "      <td>1</td>\n",
              "      <td>0</td>\n",
              "    </tr>\n",
              "    <tr>\n",
              "      <th>1</th>\n",
              "      <td>2020-04-12</td>\n",
              "      <td>1.50</td>\n",
              "      <td>0.100</td>\n",
              "      <td>2.9</td>\n",
              "      <td>6.6</td>\n",
              "      <td>0.8</td>\n",
              "      <td>256</td>\n",
              "      <td>65.9</td>\n",
              "      <td>1</td>\n",
              "      <td>0</td>\n",
              "    </tr>\n",
              "    <tr>\n",
              "      <th>2</th>\n",
              "      <td>2020-06-11</td>\n",
              "      <td>1.10</td>\n",
              "      <td>0.100</td>\n",
              "      <td>2.3</td>\n",
              "      <td>13.4</td>\n",
              "      <td>0.0</td>\n",
              "      <td>491</td>\n",
              "      <td>46.8</td>\n",
              "      <td>1</td>\n",
              "      <td>0</td>\n",
              "    </tr>\n",
              "    <tr>\n",
              "      <th>3</th>\n",
              "      <td>2020-05-11</td>\n",
              "      <td>1.10</td>\n",
              "      <td>0.100</td>\n",
              "      <td>1.8</td>\n",
              "      <td>11.5</td>\n",
              "      <td>0.0</td>\n",
              "      <td>533</td>\n",
              "      <td>32.4</td>\n",
              "      <td>1</td>\n",
              "      <td>0</td>\n",
              "    </tr>\n",
              "    <tr>\n",
              "      <th>4</th>\n",
              "      <td>2020-10-30</td>\n",
              "      <td>1.05</td>\n",
              "      <td>0.100</td>\n",
              "      <td>12.6</td>\n",
              "      <td>15.9</td>\n",
              "      <td>0.0</td>\n",
              "      <td>0</td>\n",
              "      <td>40.7</td>\n",
              "      <td>1</td>\n",
              "      <td>0</td>\n",
              "    </tr>\n",
              "    <tr>\n",
              "      <th>...</th>\n",
              "      <td>...</td>\n",
              "      <td>...</td>\n",
              "      <td>...</td>\n",
              "      <td>...</td>\n",
              "      <td>...</td>\n",
              "      <td>...</td>\n",
              "      <td>...</td>\n",
              "      <td>...</td>\n",
              "      <td>...</td>\n",
              "      <td>...</td>\n",
              "    </tr>\n",
              "    <tr>\n",
              "      <th>419</th>\n",
              "      <td>2013-06-24</td>\n",
              "      <td>1.10</td>\n",
              "      <td>1.120</td>\n",
              "      <td>10.5</td>\n",
              "      <td>19.1</td>\n",
              "      <td>0.0</td>\n",
              "      <td>342</td>\n",
              "      <td>42.6</td>\n",
              "      <td>0</td>\n",
              "      <td>1</td>\n",
              "    </tr>\n",
              "    <tr>\n",
              "      <th>420</th>\n",
              "      <td>2013-06-20</td>\n",
              "      <td>1.50</td>\n",
              "      <td>0.075</td>\n",
              "      <td>14.0</td>\n",
              "      <td>21.5</td>\n",
              "      <td>0.8</td>\n",
              "      <td>216</td>\n",
              "      <td>37.1</td>\n",
              "      <td>0</td>\n",
              "      <td>1</td>\n",
              "    </tr>\n",
              "    <tr>\n",
              "      <th>421</th>\n",
              "      <td>2013-06-17</td>\n",
              "      <td>1.50</td>\n",
              "      <td>0.020</td>\n",
              "      <td>15.0</td>\n",
              "      <td>27.2</td>\n",
              "      <td>6.8</td>\n",
              "      <td>210</td>\n",
              "      <td>61.1</td>\n",
              "      <td>0</td>\n",
              "      <td>1</td>\n",
              "    </tr>\n",
              "    <tr>\n",
              "      <th>422</th>\n",
              "      <td>2012-09-18</td>\n",
              "      <td>1.10</td>\n",
              "      <td>0.180</td>\n",
              "      <td>10.3</td>\n",
              "      <td>20.1</td>\n",
              "      <td>0.0</td>\n",
              "      <td>126</td>\n",
              "      <td>34.2</td>\n",
              "      <td>0</td>\n",
              "      <td>1</td>\n",
              "    </tr>\n",
              "    <tr>\n",
              "      <th>423</th>\n",
              "      <td>2012-06-29</td>\n",
              "      <td>1.20</td>\n",
              "      <td>0.400</td>\n",
              "      <td>14.3</td>\n",
              "      <td>24.4</td>\n",
              "      <td>0.0</td>\n",
              "      <td>180</td>\n",
              "      <td>37.8</td>\n",
              "      <td>0</td>\n",
              "      <td>1</td>\n",
              "    </tr>\n",
              "  </tbody>\n",
              "</table>\n",
              "<p>424 rows × 10 columns</p>\n",
              "</div>"
            ],
            "text/plain": [
              "          Date  ...  Tomate ronde cat.I 67-82mm\n",
              "0   2021-06-21  ...                           0\n",
              "1   2020-04-12  ...                           0\n",
              "2   2020-06-11  ...                           0\n",
              "3   2020-05-11  ...                           0\n",
              "4   2020-10-30  ...                           0\n",
              "..         ...  ...                         ...\n",
              "419 2013-06-24  ...                           1\n",
              "420 2013-06-20  ...                           1\n",
              "421 2013-06-17  ...                           1\n",
              "422 2012-09-18  ...                           1\n",
              "423 2012-06-29  ...                           1\n",
              "\n",
              "[424 rows x 10 columns]"
            ]
          },
          "metadata": {},
          "execution_count": 17
        }
      ]
    },
    {
      "cell_type": "code",
      "metadata": {
        "id": "vME9_4bgLzoE"
      },
      "source": [
        "T['mois'] = T['Date'].dt.month\n",
        "T['jour'] = T['Date'].dt.day\n",
        "T['année'] = T['Date'].dt.year"
      ],
      "execution_count": 18,
      "outputs": []
    },
    {
      "cell_type": "code",
      "metadata": {
        "colab": {
          "base_uri": "https://localhost:8080/",
          "height": 467
        },
        "id": "3eiGr83zNPHS",
        "outputId": "8f2e5564-a596-4dcc-87f3-c7191dd719d0"
      },
      "source": [
        "T = T.drop([\"Date\"], axis=1)\n",
        "T"
      ],
      "execution_count": 19,
      "outputs": [
        {
          "output_type": "execute_result",
          "data": {
            "text/html": [
              "<div>\n",
              "<style scoped>\n",
              "    .dataframe tbody tr th:only-of-type {\n",
              "        vertical-align: middle;\n",
              "    }\n",
              "\n",
              "    .dataframe tbody tr th {\n",
              "        vertical-align: top;\n",
              "    }\n",
              "\n",
              "    .dataframe thead th {\n",
              "        text-align: right;\n",
              "    }\n",
              "</style>\n",
              "<table border=\"1\" class=\"dataframe\">\n",
              "  <thead>\n",
              "    <tr style=\"text-align: right;\">\n",
              "      <th></th>\n",
              "      <th>prix moyen au kg</th>\n",
              "      <th>Production quantité \\ntonne(s)</th>\n",
              "      <th>Température minimale en °C</th>\n",
              "      <th>Température maximale en °C</th>\n",
              "      <th>précipitations en mm</th>\n",
              "      <th>Ensoleillement en min</th>\n",
              "      <th>Rafales (vitesse du vent) en km/h</th>\n",
              "      <th>Tomate ronde  cat.I 57-67mm</th>\n",
              "      <th>Tomate ronde cat.I 67-82mm</th>\n",
              "      <th>mois</th>\n",
              "      <th>jour</th>\n",
              "      <th>année</th>\n",
              "    </tr>\n",
              "  </thead>\n",
              "  <tbody>\n",
              "    <tr>\n",
              "      <th>0</th>\n",
              "      <td>1.50</td>\n",
              "      <td>0.200</td>\n",
              "      <td>15.7</td>\n",
              "      <td>24.9</td>\n",
              "      <td>3.8</td>\n",
              "      <td>423</td>\n",
              "      <td>61.2</td>\n",
              "      <td>1</td>\n",
              "      <td>0</td>\n",
              "      <td>6</td>\n",
              "      <td>21</td>\n",
              "      <td>2021</td>\n",
              "    </tr>\n",
              "    <tr>\n",
              "      <th>1</th>\n",
              "      <td>1.50</td>\n",
              "      <td>0.100</td>\n",
              "      <td>2.9</td>\n",
              "      <td>6.6</td>\n",
              "      <td>0.8</td>\n",
              "      <td>256</td>\n",
              "      <td>65.9</td>\n",
              "      <td>1</td>\n",
              "      <td>0</td>\n",
              "      <td>4</td>\n",
              "      <td>12</td>\n",
              "      <td>2020</td>\n",
              "    </tr>\n",
              "    <tr>\n",
              "      <th>2</th>\n",
              "      <td>1.10</td>\n",
              "      <td>0.100</td>\n",
              "      <td>2.3</td>\n",
              "      <td>13.4</td>\n",
              "      <td>0.0</td>\n",
              "      <td>491</td>\n",
              "      <td>46.8</td>\n",
              "      <td>1</td>\n",
              "      <td>0</td>\n",
              "      <td>6</td>\n",
              "      <td>11</td>\n",
              "      <td>2020</td>\n",
              "    </tr>\n",
              "    <tr>\n",
              "      <th>3</th>\n",
              "      <td>1.10</td>\n",
              "      <td>0.100</td>\n",
              "      <td>1.8</td>\n",
              "      <td>11.5</td>\n",
              "      <td>0.0</td>\n",
              "      <td>533</td>\n",
              "      <td>32.4</td>\n",
              "      <td>1</td>\n",
              "      <td>0</td>\n",
              "      <td>5</td>\n",
              "      <td>11</td>\n",
              "      <td>2020</td>\n",
              "    </tr>\n",
              "    <tr>\n",
              "      <th>4</th>\n",
              "      <td>1.05</td>\n",
              "      <td>0.100</td>\n",
              "      <td>12.6</td>\n",
              "      <td>15.9</td>\n",
              "      <td>0.0</td>\n",
              "      <td>0</td>\n",
              "      <td>40.7</td>\n",
              "      <td>1</td>\n",
              "      <td>0</td>\n",
              "      <td>10</td>\n",
              "      <td>30</td>\n",
              "      <td>2020</td>\n",
              "    </tr>\n",
              "    <tr>\n",
              "      <th>...</th>\n",
              "      <td>...</td>\n",
              "      <td>...</td>\n",
              "      <td>...</td>\n",
              "      <td>...</td>\n",
              "      <td>...</td>\n",
              "      <td>...</td>\n",
              "      <td>...</td>\n",
              "      <td>...</td>\n",
              "      <td>...</td>\n",
              "      <td>...</td>\n",
              "      <td>...</td>\n",
              "      <td>...</td>\n",
              "    </tr>\n",
              "    <tr>\n",
              "      <th>419</th>\n",
              "      <td>1.10</td>\n",
              "      <td>1.120</td>\n",
              "      <td>10.5</td>\n",
              "      <td>19.1</td>\n",
              "      <td>0.0</td>\n",
              "      <td>342</td>\n",
              "      <td>42.6</td>\n",
              "      <td>0</td>\n",
              "      <td>1</td>\n",
              "      <td>6</td>\n",
              "      <td>24</td>\n",
              "      <td>2013</td>\n",
              "    </tr>\n",
              "    <tr>\n",
              "      <th>420</th>\n",
              "      <td>1.50</td>\n",
              "      <td>0.075</td>\n",
              "      <td>14.0</td>\n",
              "      <td>21.5</td>\n",
              "      <td>0.8</td>\n",
              "      <td>216</td>\n",
              "      <td>37.1</td>\n",
              "      <td>0</td>\n",
              "      <td>1</td>\n",
              "      <td>6</td>\n",
              "      <td>20</td>\n",
              "      <td>2013</td>\n",
              "    </tr>\n",
              "    <tr>\n",
              "      <th>421</th>\n",
              "      <td>1.50</td>\n",
              "      <td>0.020</td>\n",
              "      <td>15.0</td>\n",
              "      <td>27.2</td>\n",
              "      <td>6.8</td>\n",
              "      <td>210</td>\n",
              "      <td>61.1</td>\n",
              "      <td>0</td>\n",
              "      <td>1</td>\n",
              "      <td>6</td>\n",
              "      <td>17</td>\n",
              "      <td>2013</td>\n",
              "    </tr>\n",
              "    <tr>\n",
              "      <th>422</th>\n",
              "      <td>1.10</td>\n",
              "      <td>0.180</td>\n",
              "      <td>10.3</td>\n",
              "      <td>20.1</td>\n",
              "      <td>0.0</td>\n",
              "      <td>126</td>\n",
              "      <td>34.2</td>\n",
              "      <td>0</td>\n",
              "      <td>1</td>\n",
              "      <td>9</td>\n",
              "      <td>18</td>\n",
              "      <td>2012</td>\n",
              "    </tr>\n",
              "    <tr>\n",
              "      <th>423</th>\n",
              "      <td>1.20</td>\n",
              "      <td>0.400</td>\n",
              "      <td>14.3</td>\n",
              "      <td>24.4</td>\n",
              "      <td>0.0</td>\n",
              "      <td>180</td>\n",
              "      <td>37.8</td>\n",
              "      <td>0</td>\n",
              "      <td>1</td>\n",
              "      <td>6</td>\n",
              "      <td>29</td>\n",
              "      <td>2012</td>\n",
              "    </tr>\n",
              "  </tbody>\n",
              "</table>\n",
              "<p>424 rows × 12 columns</p>\n",
              "</div>"
            ],
            "text/plain": [
              "     prix moyen au kg  Production quantité \\ntonne(s)  ...  jour  année\n",
              "0                1.50                           0.200  ...    21   2021\n",
              "1                1.50                           0.100  ...    12   2020\n",
              "2                1.10                           0.100  ...    11   2020\n",
              "3                1.10                           0.100  ...    11   2020\n",
              "4                1.05                           0.100  ...    30   2020\n",
              "..                ...                             ...  ...   ...    ...\n",
              "419              1.10                           1.120  ...    24   2013\n",
              "420              1.50                           0.075  ...    20   2013\n",
              "421              1.50                           0.020  ...    17   2013\n",
              "422              1.10                           0.180  ...    18   2012\n",
              "423              1.20                           0.400  ...    29   2012\n",
              "\n",
              "[424 rows x 12 columns]"
            ]
          },
          "metadata": {},
          "execution_count": 19
        }
      ]
    },
    {
      "cell_type": "code",
      "metadata": {
        "id": "76qvZZKTNPVR"
      },
      "source": [
        "dummy_mois = pd.get_dummies(T['mois'])\n",
        "dummy_jour = pd.get_dummies(T['jour'])\n",
        "dummy_a = pd.get_dummies(T['année'])"
      ],
      "execution_count": 20,
      "outputs": []
    },
    {
      "cell_type": "code",
      "metadata": {
        "id": "njfRpqv_NPYn"
      },
      "source": [
        "\n",
        "T1 = pd.merge(\n",
        "    left=T,\n",
        "    right=dummy_mois,\n",
        "    left_index=True,\n",
        "    right_index=True,\n",
        ")\n",
        "\n",
        "T2 = pd.merge(\n",
        "    left=T1,\n",
        "    right=dummy_a,\n",
        "    left_index=True,\n",
        "    right_index=True,\n",
        ")\n",
        "\n",
        "T3 = pd.merge(\n",
        "    left=T2,\n",
        "    right=dummy_jour,\n",
        "    left_index=True,\n",
        "    right_index=True,\n",
        ")"
      ],
      "execution_count": 21,
      "outputs": []
    },
    {
      "cell_type": "code",
      "metadata": {
        "colab": {
          "base_uri": "https://localhost:8080/",
          "height": 504
        },
        "id": "oHQMgbBlNPcd",
        "outputId": "50bb9ead-1156-4ae6-fbc5-173da66f8b73"
      },
      "source": [
        "T3 = T3.drop([\"mois\",\"jour\",\"année\"], axis=1)\n",
        "T3"
      ],
      "execution_count": 22,
      "outputs": [
        {
          "output_type": "execute_result",
          "data": {
            "text/html": [
              "<div>\n",
              "<style scoped>\n",
              "    .dataframe tbody tr th:only-of-type {\n",
              "        vertical-align: middle;\n",
              "    }\n",
              "\n",
              "    .dataframe tbody tr th {\n",
              "        vertical-align: top;\n",
              "    }\n",
              "\n",
              "    .dataframe thead th {\n",
              "        text-align: right;\n",
              "    }\n",
              "</style>\n",
              "<table border=\"1\" class=\"dataframe\">\n",
              "  <thead>\n",
              "    <tr style=\"text-align: right;\">\n",
              "      <th></th>\n",
              "      <th>prix moyen au kg</th>\n",
              "      <th>Production quantité \\ntonne(s)</th>\n",
              "      <th>Température minimale en °C</th>\n",
              "      <th>Température maximale en °C</th>\n",
              "      <th>précipitations en mm</th>\n",
              "      <th>Ensoleillement en min</th>\n",
              "      <th>Rafales (vitesse du vent) en km/h</th>\n",
              "      <th>Tomate ronde  cat.I 57-67mm</th>\n",
              "      <th>Tomate ronde cat.I 67-82mm</th>\n",
              "      <th>1</th>\n",
              "      <th>2</th>\n",
              "      <th>3</th>\n",
              "      <th>4</th>\n",
              "      <th>5</th>\n",
              "      <th>6_x</th>\n",
              "      <th>7_x</th>\n",
              "      <th>8_x</th>\n",
              "      <th>9_x</th>\n",
              "      <th>10_x</th>\n",
              "      <th>11_x</th>\n",
              "      <th>12_x</th>\n",
              "      <th>2012</th>\n",
              "      <th>2013</th>\n",
              "      <th>2014</th>\n",
              "      <th>2015</th>\n",
              "      <th>2016</th>\n",
              "      <th>2017</th>\n",
              "      <th>2018</th>\n",
              "      <th>2019</th>\n",
              "      <th>2020</th>\n",
              "      <th>2021</th>\n",
              "      <th>6_y</th>\n",
              "      <th>7_y</th>\n",
              "      <th>8_y</th>\n",
              "      <th>9_y</th>\n",
              "      <th>10_y</th>\n",
              "      <th>11_y</th>\n",
              "      <th>12_y</th>\n",
              "      <th>13</th>\n",
              "      <th>14</th>\n",
              "      <th>15</th>\n",
              "      <th>16</th>\n",
              "      <th>17</th>\n",
              "      <th>18</th>\n",
              "      <th>19</th>\n",
              "      <th>20</th>\n",
              "      <th>21</th>\n",
              "      <th>22</th>\n",
              "      <th>23</th>\n",
              "      <th>24</th>\n",
              "      <th>25</th>\n",
              "      <th>26</th>\n",
              "      <th>27</th>\n",
              "      <th>28</th>\n",
              "      <th>29</th>\n",
              "      <th>30</th>\n",
              "      <th>31</th>\n",
              "    </tr>\n",
              "  </thead>\n",
              "  <tbody>\n",
              "    <tr>\n",
              "      <th>0</th>\n",
              "      <td>1.50</td>\n",
              "      <td>0.200</td>\n",
              "      <td>15.7</td>\n",
              "      <td>24.9</td>\n",
              "      <td>3.8</td>\n",
              "      <td>423</td>\n",
              "      <td>61.2</td>\n",
              "      <td>1</td>\n",
              "      <td>0</td>\n",
              "      <td>0</td>\n",
              "      <td>0</td>\n",
              "      <td>0</td>\n",
              "      <td>0</td>\n",
              "      <td>0</td>\n",
              "      <td>1</td>\n",
              "      <td>0</td>\n",
              "      <td>0</td>\n",
              "      <td>0</td>\n",
              "      <td>0</td>\n",
              "      <td>0</td>\n",
              "      <td>0</td>\n",
              "      <td>0</td>\n",
              "      <td>0</td>\n",
              "      <td>0</td>\n",
              "      <td>0</td>\n",
              "      <td>0</td>\n",
              "      <td>0</td>\n",
              "      <td>0</td>\n",
              "      <td>0</td>\n",
              "      <td>0</td>\n",
              "      <td>1</td>\n",
              "      <td>0</td>\n",
              "      <td>0</td>\n",
              "      <td>0</td>\n",
              "      <td>0</td>\n",
              "      <td>0</td>\n",
              "      <td>0</td>\n",
              "      <td>0</td>\n",
              "      <td>0</td>\n",
              "      <td>0</td>\n",
              "      <td>0</td>\n",
              "      <td>0</td>\n",
              "      <td>0</td>\n",
              "      <td>0</td>\n",
              "      <td>0</td>\n",
              "      <td>0</td>\n",
              "      <td>1</td>\n",
              "      <td>0</td>\n",
              "      <td>0</td>\n",
              "      <td>0</td>\n",
              "      <td>0</td>\n",
              "      <td>0</td>\n",
              "      <td>0</td>\n",
              "      <td>0</td>\n",
              "      <td>0</td>\n",
              "      <td>0</td>\n",
              "      <td>0</td>\n",
              "    </tr>\n",
              "    <tr>\n",
              "      <th>1</th>\n",
              "      <td>1.50</td>\n",
              "      <td>0.100</td>\n",
              "      <td>2.9</td>\n",
              "      <td>6.6</td>\n",
              "      <td>0.8</td>\n",
              "      <td>256</td>\n",
              "      <td>65.9</td>\n",
              "      <td>1</td>\n",
              "      <td>0</td>\n",
              "      <td>0</td>\n",
              "      <td>0</td>\n",
              "      <td>0</td>\n",
              "      <td>1</td>\n",
              "      <td>0</td>\n",
              "      <td>0</td>\n",
              "      <td>0</td>\n",
              "      <td>0</td>\n",
              "      <td>0</td>\n",
              "      <td>0</td>\n",
              "      <td>0</td>\n",
              "      <td>0</td>\n",
              "      <td>0</td>\n",
              "      <td>0</td>\n",
              "      <td>0</td>\n",
              "      <td>0</td>\n",
              "      <td>0</td>\n",
              "      <td>0</td>\n",
              "      <td>0</td>\n",
              "      <td>0</td>\n",
              "      <td>1</td>\n",
              "      <td>0</td>\n",
              "      <td>0</td>\n",
              "      <td>0</td>\n",
              "      <td>0</td>\n",
              "      <td>0</td>\n",
              "      <td>0</td>\n",
              "      <td>0</td>\n",
              "      <td>1</td>\n",
              "      <td>0</td>\n",
              "      <td>0</td>\n",
              "      <td>0</td>\n",
              "      <td>0</td>\n",
              "      <td>0</td>\n",
              "      <td>0</td>\n",
              "      <td>0</td>\n",
              "      <td>0</td>\n",
              "      <td>0</td>\n",
              "      <td>0</td>\n",
              "      <td>0</td>\n",
              "      <td>0</td>\n",
              "      <td>0</td>\n",
              "      <td>0</td>\n",
              "      <td>0</td>\n",
              "      <td>0</td>\n",
              "      <td>0</td>\n",
              "      <td>0</td>\n",
              "      <td>0</td>\n",
              "    </tr>\n",
              "    <tr>\n",
              "      <th>2</th>\n",
              "      <td>1.10</td>\n",
              "      <td>0.100</td>\n",
              "      <td>2.3</td>\n",
              "      <td>13.4</td>\n",
              "      <td>0.0</td>\n",
              "      <td>491</td>\n",
              "      <td>46.8</td>\n",
              "      <td>1</td>\n",
              "      <td>0</td>\n",
              "      <td>0</td>\n",
              "      <td>0</td>\n",
              "      <td>0</td>\n",
              "      <td>0</td>\n",
              "      <td>0</td>\n",
              "      <td>1</td>\n",
              "      <td>0</td>\n",
              "      <td>0</td>\n",
              "      <td>0</td>\n",
              "      <td>0</td>\n",
              "      <td>0</td>\n",
              "      <td>0</td>\n",
              "      <td>0</td>\n",
              "      <td>0</td>\n",
              "      <td>0</td>\n",
              "      <td>0</td>\n",
              "      <td>0</td>\n",
              "      <td>0</td>\n",
              "      <td>0</td>\n",
              "      <td>0</td>\n",
              "      <td>1</td>\n",
              "      <td>0</td>\n",
              "      <td>0</td>\n",
              "      <td>0</td>\n",
              "      <td>0</td>\n",
              "      <td>0</td>\n",
              "      <td>0</td>\n",
              "      <td>1</td>\n",
              "      <td>0</td>\n",
              "      <td>0</td>\n",
              "      <td>0</td>\n",
              "      <td>0</td>\n",
              "      <td>0</td>\n",
              "      <td>0</td>\n",
              "      <td>0</td>\n",
              "      <td>0</td>\n",
              "      <td>0</td>\n",
              "      <td>0</td>\n",
              "      <td>0</td>\n",
              "      <td>0</td>\n",
              "      <td>0</td>\n",
              "      <td>0</td>\n",
              "      <td>0</td>\n",
              "      <td>0</td>\n",
              "      <td>0</td>\n",
              "      <td>0</td>\n",
              "      <td>0</td>\n",
              "      <td>0</td>\n",
              "    </tr>\n",
              "    <tr>\n",
              "      <th>3</th>\n",
              "      <td>1.10</td>\n",
              "      <td>0.100</td>\n",
              "      <td>1.8</td>\n",
              "      <td>11.5</td>\n",
              "      <td>0.0</td>\n",
              "      <td>533</td>\n",
              "      <td>32.4</td>\n",
              "      <td>1</td>\n",
              "      <td>0</td>\n",
              "      <td>0</td>\n",
              "      <td>0</td>\n",
              "      <td>0</td>\n",
              "      <td>0</td>\n",
              "      <td>1</td>\n",
              "      <td>0</td>\n",
              "      <td>0</td>\n",
              "      <td>0</td>\n",
              "      <td>0</td>\n",
              "      <td>0</td>\n",
              "      <td>0</td>\n",
              "      <td>0</td>\n",
              "      <td>0</td>\n",
              "      <td>0</td>\n",
              "      <td>0</td>\n",
              "      <td>0</td>\n",
              "      <td>0</td>\n",
              "      <td>0</td>\n",
              "      <td>0</td>\n",
              "      <td>0</td>\n",
              "      <td>1</td>\n",
              "      <td>0</td>\n",
              "      <td>0</td>\n",
              "      <td>0</td>\n",
              "      <td>0</td>\n",
              "      <td>0</td>\n",
              "      <td>0</td>\n",
              "      <td>1</td>\n",
              "      <td>0</td>\n",
              "      <td>0</td>\n",
              "      <td>0</td>\n",
              "      <td>0</td>\n",
              "      <td>0</td>\n",
              "      <td>0</td>\n",
              "      <td>0</td>\n",
              "      <td>0</td>\n",
              "      <td>0</td>\n",
              "      <td>0</td>\n",
              "      <td>0</td>\n",
              "      <td>0</td>\n",
              "      <td>0</td>\n",
              "      <td>0</td>\n",
              "      <td>0</td>\n",
              "      <td>0</td>\n",
              "      <td>0</td>\n",
              "      <td>0</td>\n",
              "      <td>0</td>\n",
              "      <td>0</td>\n",
              "    </tr>\n",
              "    <tr>\n",
              "      <th>4</th>\n",
              "      <td>1.05</td>\n",
              "      <td>0.100</td>\n",
              "      <td>12.6</td>\n",
              "      <td>15.9</td>\n",
              "      <td>0.0</td>\n",
              "      <td>0</td>\n",
              "      <td>40.7</td>\n",
              "      <td>1</td>\n",
              "      <td>0</td>\n",
              "      <td>0</td>\n",
              "      <td>0</td>\n",
              "      <td>0</td>\n",
              "      <td>0</td>\n",
              "      <td>0</td>\n",
              "      <td>0</td>\n",
              "      <td>0</td>\n",
              "      <td>0</td>\n",
              "      <td>0</td>\n",
              "      <td>1</td>\n",
              "      <td>0</td>\n",
              "      <td>0</td>\n",
              "      <td>0</td>\n",
              "      <td>0</td>\n",
              "      <td>0</td>\n",
              "      <td>0</td>\n",
              "      <td>0</td>\n",
              "      <td>0</td>\n",
              "      <td>0</td>\n",
              "      <td>0</td>\n",
              "      <td>1</td>\n",
              "      <td>0</td>\n",
              "      <td>0</td>\n",
              "      <td>0</td>\n",
              "      <td>0</td>\n",
              "      <td>0</td>\n",
              "      <td>0</td>\n",
              "      <td>0</td>\n",
              "      <td>0</td>\n",
              "      <td>0</td>\n",
              "      <td>0</td>\n",
              "      <td>0</td>\n",
              "      <td>0</td>\n",
              "      <td>0</td>\n",
              "      <td>0</td>\n",
              "      <td>0</td>\n",
              "      <td>0</td>\n",
              "      <td>0</td>\n",
              "      <td>0</td>\n",
              "      <td>0</td>\n",
              "      <td>0</td>\n",
              "      <td>0</td>\n",
              "      <td>0</td>\n",
              "      <td>0</td>\n",
              "      <td>0</td>\n",
              "      <td>0</td>\n",
              "      <td>1</td>\n",
              "      <td>0</td>\n",
              "    </tr>\n",
              "    <tr>\n",
              "      <th>...</th>\n",
              "      <td>...</td>\n",
              "      <td>...</td>\n",
              "      <td>...</td>\n",
              "      <td>...</td>\n",
              "      <td>...</td>\n",
              "      <td>...</td>\n",
              "      <td>...</td>\n",
              "      <td>...</td>\n",
              "      <td>...</td>\n",
              "      <td>...</td>\n",
              "      <td>...</td>\n",
              "      <td>...</td>\n",
              "      <td>...</td>\n",
              "      <td>...</td>\n",
              "      <td>...</td>\n",
              "      <td>...</td>\n",
              "      <td>...</td>\n",
              "      <td>...</td>\n",
              "      <td>...</td>\n",
              "      <td>...</td>\n",
              "      <td>...</td>\n",
              "      <td>...</td>\n",
              "      <td>...</td>\n",
              "      <td>...</td>\n",
              "      <td>...</td>\n",
              "      <td>...</td>\n",
              "      <td>...</td>\n",
              "      <td>...</td>\n",
              "      <td>...</td>\n",
              "      <td>...</td>\n",
              "      <td>...</td>\n",
              "      <td>...</td>\n",
              "      <td>...</td>\n",
              "      <td>...</td>\n",
              "      <td>...</td>\n",
              "      <td>...</td>\n",
              "      <td>...</td>\n",
              "      <td>...</td>\n",
              "      <td>...</td>\n",
              "      <td>...</td>\n",
              "      <td>...</td>\n",
              "      <td>...</td>\n",
              "      <td>...</td>\n",
              "      <td>...</td>\n",
              "      <td>...</td>\n",
              "      <td>...</td>\n",
              "      <td>...</td>\n",
              "      <td>...</td>\n",
              "      <td>...</td>\n",
              "      <td>...</td>\n",
              "      <td>...</td>\n",
              "      <td>...</td>\n",
              "      <td>...</td>\n",
              "      <td>...</td>\n",
              "      <td>...</td>\n",
              "      <td>...</td>\n",
              "      <td>...</td>\n",
              "    </tr>\n",
              "    <tr>\n",
              "      <th>419</th>\n",
              "      <td>1.10</td>\n",
              "      <td>1.120</td>\n",
              "      <td>10.5</td>\n",
              "      <td>19.1</td>\n",
              "      <td>0.0</td>\n",
              "      <td>342</td>\n",
              "      <td>42.6</td>\n",
              "      <td>0</td>\n",
              "      <td>1</td>\n",
              "      <td>0</td>\n",
              "      <td>0</td>\n",
              "      <td>0</td>\n",
              "      <td>0</td>\n",
              "      <td>0</td>\n",
              "      <td>1</td>\n",
              "      <td>0</td>\n",
              "      <td>0</td>\n",
              "      <td>0</td>\n",
              "      <td>0</td>\n",
              "      <td>0</td>\n",
              "      <td>0</td>\n",
              "      <td>0</td>\n",
              "      <td>1</td>\n",
              "      <td>0</td>\n",
              "      <td>0</td>\n",
              "      <td>0</td>\n",
              "      <td>0</td>\n",
              "      <td>0</td>\n",
              "      <td>0</td>\n",
              "      <td>0</td>\n",
              "      <td>0</td>\n",
              "      <td>0</td>\n",
              "      <td>0</td>\n",
              "      <td>0</td>\n",
              "      <td>0</td>\n",
              "      <td>0</td>\n",
              "      <td>0</td>\n",
              "      <td>0</td>\n",
              "      <td>0</td>\n",
              "      <td>0</td>\n",
              "      <td>0</td>\n",
              "      <td>0</td>\n",
              "      <td>0</td>\n",
              "      <td>0</td>\n",
              "      <td>0</td>\n",
              "      <td>0</td>\n",
              "      <td>0</td>\n",
              "      <td>0</td>\n",
              "      <td>0</td>\n",
              "      <td>1</td>\n",
              "      <td>0</td>\n",
              "      <td>0</td>\n",
              "      <td>0</td>\n",
              "      <td>0</td>\n",
              "      <td>0</td>\n",
              "      <td>0</td>\n",
              "      <td>0</td>\n",
              "    </tr>\n",
              "    <tr>\n",
              "      <th>420</th>\n",
              "      <td>1.50</td>\n",
              "      <td>0.075</td>\n",
              "      <td>14.0</td>\n",
              "      <td>21.5</td>\n",
              "      <td>0.8</td>\n",
              "      <td>216</td>\n",
              "      <td>37.1</td>\n",
              "      <td>0</td>\n",
              "      <td>1</td>\n",
              "      <td>0</td>\n",
              "      <td>0</td>\n",
              "      <td>0</td>\n",
              "      <td>0</td>\n",
              "      <td>0</td>\n",
              "      <td>1</td>\n",
              "      <td>0</td>\n",
              "      <td>0</td>\n",
              "      <td>0</td>\n",
              "      <td>0</td>\n",
              "      <td>0</td>\n",
              "      <td>0</td>\n",
              "      <td>0</td>\n",
              "      <td>1</td>\n",
              "      <td>0</td>\n",
              "      <td>0</td>\n",
              "      <td>0</td>\n",
              "      <td>0</td>\n",
              "      <td>0</td>\n",
              "      <td>0</td>\n",
              "      <td>0</td>\n",
              "      <td>0</td>\n",
              "      <td>0</td>\n",
              "      <td>0</td>\n",
              "      <td>0</td>\n",
              "      <td>0</td>\n",
              "      <td>0</td>\n",
              "      <td>0</td>\n",
              "      <td>0</td>\n",
              "      <td>0</td>\n",
              "      <td>0</td>\n",
              "      <td>0</td>\n",
              "      <td>0</td>\n",
              "      <td>0</td>\n",
              "      <td>0</td>\n",
              "      <td>0</td>\n",
              "      <td>1</td>\n",
              "      <td>0</td>\n",
              "      <td>0</td>\n",
              "      <td>0</td>\n",
              "      <td>0</td>\n",
              "      <td>0</td>\n",
              "      <td>0</td>\n",
              "      <td>0</td>\n",
              "      <td>0</td>\n",
              "      <td>0</td>\n",
              "      <td>0</td>\n",
              "      <td>0</td>\n",
              "    </tr>\n",
              "    <tr>\n",
              "      <th>421</th>\n",
              "      <td>1.50</td>\n",
              "      <td>0.020</td>\n",
              "      <td>15.0</td>\n",
              "      <td>27.2</td>\n",
              "      <td>6.8</td>\n",
              "      <td>210</td>\n",
              "      <td>61.1</td>\n",
              "      <td>0</td>\n",
              "      <td>1</td>\n",
              "      <td>0</td>\n",
              "      <td>0</td>\n",
              "      <td>0</td>\n",
              "      <td>0</td>\n",
              "      <td>0</td>\n",
              "      <td>1</td>\n",
              "      <td>0</td>\n",
              "      <td>0</td>\n",
              "      <td>0</td>\n",
              "      <td>0</td>\n",
              "      <td>0</td>\n",
              "      <td>0</td>\n",
              "      <td>0</td>\n",
              "      <td>1</td>\n",
              "      <td>0</td>\n",
              "      <td>0</td>\n",
              "      <td>0</td>\n",
              "      <td>0</td>\n",
              "      <td>0</td>\n",
              "      <td>0</td>\n",
              "      <td>0</td>\n",
              "      <td>0</td>\n",
              "      <td>0</td>\n",
              "      <td>0</td>\n",
              "      <td>0</td>\n",
              "      <td>0</td>\n",
              "      <td>0</td>\n",
              "      <td>0</td>\n",
              "      <td>0</td>\n",
              "      <td>0</td>\n",
              "      <td>0</td>\n",
              "      <td>0</td>\n",
              "      <td>0</td>\n",
              "      <td>1</td>\n",
              "      <td>0</td>\n",
              "      <td>0</td>\n",
              "      <td>0</td>\n",
              "      <td>0</td>\n",
              "      <td>0</td>\n",
              "      <td>0</td>\n",
              "      <td>0</td>\n",
              "      <td>0</td>\n",
              "      <td>0</td>\n",
              "      <td>0</td>\n",
              "      <td>0</td>\n",
              "      <td>0</td>\n",
              "      <td>0</td>\n",
              "      <td>0</td>\n",
              "    </tr>\n",
              "    <tr>\n",
              "      <th>422</th>\n",
              "      <td>1.10</td>\n",
              "      <td>0.180</td>\n",
              "      <td>10.3</td>\n",
              "      <td>20.1</td>\n",
              "      <td>0.0</td>\n",
              "      <td>126</td>\n",
              "      <td>34.2</td>\n",
              "      <td>0</td>\n",
              "      <td>1</td>\n",
              "      <td>0</td>\n",
              "      <td>0</td>\n",
              "      <td>0</td>\n",
              "      <td>0</td>\n",
              "      <td>0</td>\n",
              "      <td>0</td>\n",
              "      <td>0</td>\n",
              "      <td>0</td>\n",
              "      <td>1</td>\n",
              "      <td>0</td>\n",
              "      <td>0</td>\n",
              "      <td>0</td>\n",
              "      <td>1</td>\n",
              "      <td>0</td>\n",
              "      <td>0</td>\n",
              "      <td>0</td>\n",
              "      <td>0</td>\n",
              "      <td>0</td>\n",
              "      <td>0</td>\n",
              "      <td>0</td>\n",
              "      <td>0</td>\n",
              "      <td>0</td>\n",
              "      <td>0</td>\n",
              "      <td>0</td>\n",
              "      <td>0</td>\n",
              "      <td>0</td>\n",
              "      <td>0</td>\n",
              "      <td>0</td>\n",
              "      <td>0</td>\n",
              "      <td>0</td>\n",
              "      <td>0</td>\n",
              "      <td>0</td>\n",
              "      <td>0</td>\n",
              "      <td>0</td>\n",
              "      <td>1</td>\n",
              "      <td>0</td>\n",
              "      <td>0</td>\n",
              "      <td>0</td>\n",
              "      <td>0</td>\n",
              "      <td>0</td>\n",
              "      <td>0</td>\n",
              "      <td>0</td>\n",
              "      <td>0</td>\n",
              "      <td>0</td>\n",
              "      <td>0</td>\n",
              "      <td>0</td>\n",
              "      <td>0</td>\n",
              "      <td>0</td>\n",
              "    </tr>\n",
              "    <tr>\n",
              "      <th>423</th>\n",
              "      <td>1.20</td>\n",
              "      <td>0.400</td>\n",
              "      <td>14.3</td>\n",
              "      <td>24.4</td>\n",
              "      <td>0.0</td>\n",
              "      <td>180</td>\n",
              "      <td>37.8</td>\n",
              "      <td>0</td>\n",
              "      <td>1</td>\n",
              "      <td>0</td>\n",
              "      <td>0</td>\n",
              "      <td>0</td>\n",
              "      <td>0</td>\n",
              "      <td>0</td>\n",
              "      <td>1</td>\n",
              "      <td>0</td>\n",
              "      <td>0</td>\n",
              "      <td>0</td>\n",
              "      <td>0</td>\n",
              "      <td>0</td>\n",
              "      <td>0</td>\n",
              "      <td>1</td>\n",
              "      <td>0</td>\n",
              "      <td>0</td>\n",
              "      <td>0</td>\n",
              "      <td>0</td>\n",
              "      <td>0</td>\n",
              "      <td>0</td>\n",
              "      <td>0</td>\n",
              "      <td>0</td>\n",
              "      <td>0</td>\n",
              "      <td>0</td>\n",
              "      <td>0</td>\n",
              "      <td>0</td>\n",
              "      <td>0</td>\n",
              "      <td>0</td>\n",
              "      <td>0</td>\n",
              "      <td>0</td>\n",
              "      <td>0</td>\n",
              "      <td>0</td>\n",
              "      <td>0</td>\n",
              "      <td>0</td>\n",
              "      <td>0</td>\n",
              "      <td>0</td>\n",
              "      <td>0</td>\n",
              "      <td>0</td>\n",
              "      <td>0</td>\n",
              "      <td>0</td>\n",
              "      <td>0</td>\n",
              "      <td>0</td>\n",
              "      <td>0</td>\n",
              "      <td>0</td>\n",
              "      <td>0</td>\n",
              "      <td>0</td>\n",
              "      <td>1</td>\n",
              "      <td>0</td>\n",
              "      <td>0</td>\n",
              "    </tr>\n",
              "  </tbody>\n",
              "</table>\n",
              "<p>424 rows × 57 columns</p>\n",
              "</div>"
            ],
            "text/plain": [
              "     prix moyen au kg  Production quantité \\ntonne(s)  ...  30  31\n",
              "0                1.50                           0.200  ...   0   0\n",
              "1                1.50                           0.100  ...   0   0\n",
              "2                1.10                           0.100  ...   0   0\n",
              "3                1.10                           0.100  ...   0   0\n",
              "4                1.05                           0.100  ...   1   0\n",
              "..                ...                             ...  ...  ..  ..\n",
              "419              1.10                           1.120  ...   0   0\n",
              "420              1.50                           0.075  ...   0   0\n",
              "421              1.50                           0.020  ...   0   0\n",
              "422              1.10                           0.180  ...   0   0\n",
              "423              1.20                           0.400  ...   0   0\n",
              "\n",
              "[424 rows x 57 columns]"
            ]
          },
          "metadata": {},
          "execution_count": 22
        }
      ]
    },
    {
      "cell_type": "code",
      "metadata": {
        "id": "NBpSr_vXNPgk"
      },
      "source": [
        "Prix = T3['prix moyen au kg'] \n",
        "Production = T3['Production quantité \\ntonne(s)']"
      ],
      "execution_count": 23,
      "outputs": []
    },
    {
      "cell_type": "markdown",
      "metadata": {
        "id": "TwGNaDklWNWn"
      },
      "source": [
        "**Modélisation**"
      ]
    },
    {
      "cell_type": "code",
      "metadata": {
        "id": "QY4zhTmxOjfu"
      },
      "source": [
        "#pour le prix\n",
        "\n",
        "from sklearn.model_selection import train_test_split\n",
        "from sklearn.metrics import mean_squared_error, r2_score\n",
        "\n",
        "\n",
        "X =  T3.drop(['prix moyen au kg'], axis=1)\n",
        "y = Prix\n",
        "\n",
        "X_train, X_test, y_train, y_test = train_test_split(X, y, test_size=0.3, random_state=42)"
      ],
      "execution_count": 24,
      "outputs": []
    },
    {
      "cell_type": "markdown",
      "metadata": {
        "id": "44DKUoTzYWix"
      },
      "source": [
        "**Prix**"
      ]
    },
    {
      "cell_type": "code",
      "metadata": {
        "colab": {
          "base_uri": "https://localhost:8080/"
        },
        "id": "9dukz_64YWLS",
        "outputId": "d1c6cb0e-aa21-412a-e920-065cd53d9e85"
      },
      "source": [
        "forest_reg = RandomForestRegressor(random_state=42)\n",
        "forest_reg.fit(X_train, y_train)\n",
        "forest_reg.score(X_test, y_test)"
      ],
      "execution_count": 25,
      "outputs": [
        {
          "output_type": "execute_result",
          "data": {
            "text/plain": [
              "0.5446516685100411"
            ]
          },
          "metadata": {},
          "execution_count": 25
        }
      ]
    },
    {
      "cell_type": "code",
      "metadata": {
        "colab": {
          "base_uri": "https://localhost:8080/"
        },
        "id": "EIEa3a4kaTpC",
        "outputId": "34bc22cc-42b0-4bbf-c5d2-fe27586fc324"
      },
      "source": [
        "forest_reg.score(X_train, y_train)"
      ],
      "execution_count": 26,
      "outputs": [
        {
          "output_type": "execute_result",
          "data": {
            "text/plain": [
              "0.951076888877461"
            ]
          },
          "metadata": {},
          "execution_count": 26
        }
      ]
    },
    {
      "cell_type": "code",
      "metadata": {
        "id": "hGJfPsnqaeA0"
      },
      "source": [
        "y_tr = forest_reg.predict(X_train)\n",
        "y_pred = forest_reg.predict(X_test)"
      ],
      "execution_count": 27,
      "outputs": []
    },
    {
      "cell_type": "code",
      "metadata": {
        "colab": {
          "base_uri": "https://localhost:8080/"
        },
        "id": "jntQUSCvae40",
        "outputId": "48fadea6-3fbb-40b2-dfb5-df3d2aa71f3a"
      },
      "source": [
        "np.sqrt(mean_squared_error(y_test, y_pred))"
      ],
      "execution_count": 28,
      "outputs": [
        {
          "output_type": "execute_result",
          "data": {
            "text/plain": [
              "0.20366988354895205"
            ]
          },
          "metadata": {},
          "execution_count": 28
        }
      ]
    },
    {
      "cell_type": "code",
      "metadata": {
        "colab": {
          "base_uri": "https://localhost:8080/"
        },
        "id": "1q0xoCPHae-B",
        "outputId": "776fa4f2-f998-4335-d4b3-5a5c7157454f"
      },
      "source": [
        "sqrt(mean_squared_error(y_train, y_tr))"
      ],
      "execution_count": 29,
      "outputs": [
        {
          "output_type": "execute_result",
          "data": {
            "text/plain": [
              "0.062298458494117026"
            ]
          },
          "metadata": {},
          "execution_count": 29
        }
      ]
    },
    {
      "cell_type": "code",
      "metadata": {
        "colab": {
          "base_uri": "https://localhost:8080/"
        },
        "id": "ppr5SZZ4afB1",
        "outputId": "ebd41dbf-7793-4639-c8a2-bb262228c3ac"
      },
      "source": [
        "mean_absolute_error(y_train, y_tr)"
      ],
      "execution_count": 30,
      "outputs": [
        {
          "output_type": "execute_result",
          "data": {
            "text/plain": [
              "0.04590456081081065"
            ]
          },
          "metadata": {},
          "execution_count": 30
        }
      ]
    },
    {
      "cell_type": "code",
      "metadata": {
        "colab": {
          "base_uri": "https://localhost:8080/"
        },
        "id": "MFpG2hQYa87b",
        "outputId": "fe1997e6-e6d2-4bd2-c9a4-47dd967a18e0"
      },
      "source": [
        "mean_absolute_error(y_test, y_pred)"
      ],
      "execution_count": 31,
      "outputs": [
        {
          "output_type": "execute_result",
          "data": {
            "text/plain": [
              "0.1530464843749998"
            ]
          },
          "metadata": {},
          "execution_count": 31
        }
      ]
    },
    {
      "cell_type": "code",
      "metadata": {
        "colab": {
          "base_uri": "https://localhost:8080/"
        },
        "id": "Wf1ISm1kwjT1",
        "outputId": "8437217d-4808-47bf-fd90-0d89e0e33ec2"
      },
      "source": [
        "print(r2_score(y_test, y_pred))\n",
        "print(r2_score(y_train, y_tr))"
      ],
      "execution_count": 32,
      "outputs": [
        {
          "output_type": "stream",
          "name": "stdout",
          "text": [
            "0.5446516685100411\n",
            "0.9510768888774609\n"
          ]
        }
      ]
    },
    {
      "cell_type": "code",
      "metadata": {
        "colab": {
          "base_uri": "https://localhost:8080/",
          "height": 317
        },
        "id": "e5cTuHAObQl2",
        "outputId": "9da45355-565e-4273-f62f-eab6bf992edb"
      },
      "source": [
        "plt.scatter(y_test, y_pred, color = 'darkviolet')\n",
        "plt.title('Prix des tomates (random forest)')\n",
        "plt.xlabel('Prix prédit')\n",
        "plt.ylabel('Prix actuel')\n",
        "plt.show()"
      ],
      "execution_count": 33,
      "outputs": [
        {
          "output_type": "display_data",
          "data": {
            "image/png": "[encoded data removed]",
            "text/plain": [
              "<Figure size 432x288 with 1 Axes>"
            ]
          },
          "metadata": {}
        }
      ]
    },
    {
      "cell_type": "code",
      "metadata": {
        "id": "QaE3u1jzbz4t"
      },
      "source": [
        "param_grid = {  'bootstrap': [True], 'max_depth': [5, 10, None], 'max_features': ['auto', 'log2'], 'n_estimators': [19, 35, 46, 79, 98, 100, 115, 123]}"
      ],
      "execution_count": 34,
      "outputs": []
    },
    {
      "cell_type": "code",
      "metadata": {
        "id": "_BRgq_ilh5Vs"
      },
      "source": [
        "from sklearn.metrics import make_scorer\n",
        "\n",
        "scorer = make_scorer(mean_squared_error, squared = False )\n",
        "g1 = GridSearchCV(estimator = forest_reg, param_grid = param_grid, \n",
        "cv = 5, n_jobs = 1, verbose = 0, return_train_score=True, scoring = scorer)"
      ],
      "execution_count": 35,
      "outputs": []
    },
    {
      "cell_type": "code",
      "metadata": {
        "colab": {
          "base_uri": "https://localhost:8080/"
        },
        "id": "w_jy2BpRh_kT",
        "outputId": "246e46c1-d0fb-4e85-cd03-80496070f318"
      },
      "source": [
        "g1.fit(X_train, y_train)"
      ],
      "execution_count": 36,
      "outputs": [
        {
          "output_type": "execute_result",
          "data": {
            "text/plain": [
              "GridSearchCV(cv=5, error_score=nan,\n",
              "             estimator=RandomForestRegressor(bootstrap=True, ccp_alpha=0.0,\n",
              "                                             criterion='mse', max_depth=None,\n",
              "                                             max_features='auto',\n",
              "                                             max_leaf_nodes=None,\n",
              "                                             max_samples=None,\n",
              "                                             min_impurity_decrease=0.0,\n",
              "                                             min_impurity_split=None,\n",
              "                                             min_samples_leaf=1,\n",
              "                                             min_samples_split=2,\n",
              "                                             min_weight_fraction_leaf=0.0,\n",
              "                                             n_estimators=100, n_jobs=None,\n",
              "                                             oob_score=False, random_state=42,\n",
              "                                             verbose=0, warm_start=False),\n",
              "             iid='deprecated', n_jobs=1,\n",
              "             param_grid={'bootstrap': [True], 'max_depth': [5, 10, None],\n",
              "                         'max_features': ['auto', 'log2'],\n",
              "                         'n_estimators': [19, 35, 46, 79, 98, 100, 115, 123]},\n",
              "             pre_dispatch='2*n_jobs', refit=True, return_train_score=True,\n",
              "             scoring=make_scorer(mean_squared_error, squared=False), verbose=0)"
            ]
          },
          "metadata": {},
          "execution_count": 36
        }
      ]
    },
    {
      "cell_type": "code",
      "metadata": {
        "colab": {
          "base_uri": "https://localhost:8080/"
        },
        "id": "lYSopZZ4jEQc",
        "outputId": "159959a1-d3b4-40f7-8228-8065ed5a93c4"
      },
      "source": [
        "g1.best_score_"
      ],
      "execution_count": 37,
      "outputs": [
        {
          "output_type": "execute_result",
          "data": {
            "text/plain": [
              "0.2253337220821961"
            ]
          },
          "metadata": {},
          "execution_count": 37
        }
      ]
    },
    {
      "cell_type": "code",
      "metadata": {
        "colab": {
          "base_uri": "https://localhost:8080/"
        },
        "id": "uzdA8ztDlAtV",
        "outputId": "a862bebf-fa77-4d4e-d803-52356289c2d5"
      },
      "source": [
        "best_modl = g1.best_estimator_\n",
        "print(best_modl)\n",
        "best_preds = best_modl.predict(X_test)\n",
        "print(np.sqrt(mean_squared_error(y_test, best_preds)))"
      ],
      "execution_count": 38,
      "outputs": [
        {
          "output_type": "stream",
          "name": "stdout",
          "text": [
            "RandomForestRegressor(bootstrap=True, ccp_alpha=0.0, criterion='mse',\n",
            "                      max_depth=5, max_features='log2', max_leaf_nodes=None,\n",
            "                      max_samples=None, min_impurity_decrease=0.0,\n",
            "                      min_impurity_split=None, min_samples_leaf=1,\n",
            "                      min_samples_split=2, min_weight_fraction_leaf=0.0,\n",
            "                      n_estimators=79, n_jobs=None, oob_score=False,\n",
            "                      random_state=42, verbose=0, warm_start=False)\n",
            "0.2436189296247927\n"
          ]
        }
      ]
    },
    {
      "cell_type": "code",
      "metadata": {
        "colab": {
          "base_uri": "https://localhost:8080/"
        },
        "id": "K2Hu55BNb0NE",
        "outputId": "62a80b56-ccac-44f8-b591-cffa437be0de"
      },
      "source": [
        "g1.best_params_"
      ],
      "execution_count": 39,
      "outputs": [
        {
          "output_type": "execute_result",
          "data": {
            "text/plain": [
              "{'bootstrap': True, 'max_depth': 5, 'max_features': 'log2', 'n_estimators': 79}"
            ]
          },
          "metadata": {},
          "execution_count": 39
        }
      ]
    },
    {
      "cell_type": "code",
      "metadata": {
        "colab": {
          "base_uri": "https://localhost:8080/"
        },
        "id": "KPKl5nrWfNlh",
        "outputId": "d6dd561c-605b-457c-e110-987db1bdce63"
      },
      "source": [
        "mean_absolute_error(y_test, best_preds)"
      ],
      "execution_count": 40,
      "outputs": [
        {
          "output_type": "execute_result",
          "data": {
            "text/plain": [
              "0.20544370548143154"
            ]
          },
          "metadata": {},
          "execution_count": 40
        }
      ]
    },
    {
      "cell_type": "code",
      "metadata": {
        "colab": {
          "base_uri": "https://localhost:8080/",
          "height": 317
        },
        "id": "XuVQZUAAfN_n",
        "outputId": "766baa7d-1049-4c36-a5a3-ef202dbc3e71"
      },
      "source": [
        "plt.scatter(y_test, best_preds, color = 'darkviolet')\n",
        "plt.title('Prix des tomates (random forest)')\n",
        "plt.xlabel('Prix prédit')\n",
        "plt.ylabel('Prix actuel')\n",
        "plt.show()"
      ],
      "execution_count": 41,
      "outputs": [
        {
          "output_type": "display_data",
          "data": {
            "image/png": "[encoded data removed]",
            "text/plain": [
              "<Figure size 432x288 with 1 Axes>"
            ]
          },
          "metadata": {}
        }
      ]
    },
    {
      "cell_type": "markdown",
      "metadata": {
        "id": "fiZzYHD7f4hC"
      },
      "source": [
        "**Production**"
      ]
    },
    {
      "cell_type": "code",
      "metadata": {
        "colab": {
          "base_uri": "https://localhost:8080/"
        },
        "id": "MDmmqzMNf7Sr",
        "outputId": "40630a59-8745-4fe3-c5be-11a6bcd95d26"
      },
      "source": [
        "X2 =  T3.drop(['Production quantité \\ntonne(s)'], axis=1)\n",
        "y2 = Production\n",
        "\n",
        "\n",
        "X_train, X_test, y_train, y_test = train_test_split(X2, y2, test_size=0.3, random_state=42)\n",
        "\n",
        "forest_reg = RandomForestRegressor(random_state=42)\n",
        "forest_reg.fit(X_train, y_train)\n",
        "forest_reg.score(X_test, y_test)"
      ],
      "execution_count": 43,
      "outputs": [
        {
          "output_type": "execute_result",
          "data": {
            "text/plain": [
              "0.17678458514400341"
            ]
          },
          "metadata": {},
          "execution_count": 43
        }
      ]
    },
    {
      "cell_type": "code",
      "metadata": {
        "colab": {
          "base_uri": "https://localhost:8080/"
        },
        "id": "vm1RAEFmmiyj",
        "outputId": "7e421d16-8c42-4692-8b03-af6a833f5b83"
      },
      "source": [
        "forest_reg.score(X_train, y_train)"
      ],
      "execution_count": 44,
      "outputs": [
        {
          "output_type": "execute_result",
          "data": {
            "text/plain": [
              "0.8287841760591974"
            ]
          },
          "metadata": {},
          "execution_count": 44
        }
      ]
    },
    {
      "cell_type": "code",
      "metadata": {
        "id": "IAc_rYeRm5ll"
      },
      "source": [
        "y_pred = forest_reg.predict(X_test)\n",
        "y_tr = forest_reg.predict(X_train)"
      ],
      "execution_count": 45,
      "outputs": []
    },
    {
      "cell_type": "code",
      "metadata": {
        "colab": {
          "base_uri": "https://localhost:8080/"
        },
        "id": "BtEfrNk-myM_",
        "outputId": "ab72c451-d475-423a-8189-838b1b2e73bc"
      },
      "source": [
        "sqrt(mean_squared_error(y_test, y_pred))"
      ],
      "execution_count": 46,
      "outputs": [
        {
          "output_type": "execute_result",
          "data": {
            "text/plain": [
              "0.7799181490532556"
            ]
          },
          "metadata": {},
          "execution_count": 46
        }
      ]
    },
    {
      "cell_type": "code",
      "metadata": {
        "colab": {
          "base_uri": "https://localhost:8080/"
        },
        "id": "2DGMwIeImyg4",
        "outputId": "b4a6543d-4f8a-469b-8220-9542c3ac32b2"
      },
      "source": [
        "sqrt(mean_squared_error(y_train, y_tr))"
      ],
      "execution_count": 47,
      "outputs": [
        {
          "output_type": "execute_result",
          "data": {
            "text/plain": [
              "0.30470574233151104"
            ]
          },
          "metadata": {},
          "execution_count": 47
        }
      ]
    },
    {
      "cell_type": "code",
      "metadata": {
        "colab": {
          "base_uri": "https://localhost:8080/"
        },
        "id": "17q6Oq9gnLdy",
        "outputId": "a9f4c371-1ef4-4925-84f1-19905cfde064"
      },
      "source": [
        "mean_absolute_error(y_train, y_tr)"
      ],
      "execution_count": 48,
      "outputs": [
        {
          "output_type": "execute_result",
          "data": {
            "text/plain": [
              "0.1372663851351351"
            ]
          },
          "metadata": {},
          "execution_count": 48
        }
      ]
    },
    {
      "cell_type": "code",
      "metadata": {
        "colab": {
          "base_uri": "https://localhost:8080/"
        },
        "id": "WbDCOfx9nLjE",
        "outputId": "ae882c1c-218f-49c4-baeb-c61b048836c7"
      },
      "source": [
        "mean_absolute_error(y_test, y_pred)"
      ],
      "execution_count": 49,
      "outputs": [
        {
          "output_type": "execute_result",
          "data": {
            "text/plain": [
              "0.3368321093750001"
            ]
          },
          "metadata": {},
          "execution_count": 49
        }
      ]
    },
    {
      "cell_type": "code",
      "metadata": {
        "colab": {
          "base_uri": "https://localhost:8080/"
        },
        "id": "O8MOcL3Dwuqo",
        "outputId": "184ec16d-7538-4b5f-aad0-b3a17f076d06"
      },
      "source": [
        "print(r2_score(y_test, y_pred))\n",
        "print(r2_score(y_train, y_tr))"
      ],
      "execution_count": 50,
      "outputs": [
        {
          "output_type": "stream",
          "name": "stdout",
          "text": [
            "0.17678458514400341\n",
            "0.8287841760591973\n"
          ]
        }
      ]
    },
    {
      "cell_type": "code",
      "metadata": {
        "colab": {
          "base_uri": "https://localhost:8080/",
          "height": 317
        },
        "id": "rqwqUYLqnLrs",
        "outputId": "b662c363-8a94-4987-ed0d-19f053fecb4a"
      },
      "source": [
        "plt.scatter(y_test, y_pred, color = 'gold')\n",
        "plt.title('Production des tomates (random forest)')\n",
        "plt.xlabel('Production prédite')\n",
        "plt.ylabel('Production actuelle')\n",
        "plt.show()"
      ],
      "execution_count": 51,
      "outputs": [
        {
          "output_type": "display_data",
          "data": {
            "image/png": "[encoded data removed]",
            "text/plain": [
              "<Figure size 432x288 with 1 Axes>"
            ]
          },
          "metadata": {}
        }
      ]
    },
    {
      "cell_type": "code",
      "metadata": {
        "id": "aTsJt7gEn6Y9"
      },
      "source": [
        "param_grid = {  'bootstrap': [True], 'max_depth': [5, 10, None], 'max_features': ['auto', 'log2'], 'n_estimators': [19, 35, 46, 79, 98, 100, 115, 123]}"
      ],
      "execution_count": 52,
      "outputs": []
    },
    {
      "cell_type": "code",
      "metadata": {
        "id": "8UcYQmawn6dy"
      },
      "source": [
        "scorer = make_scorer(mean_squared_error, squared = False )\n",
        "g2 = GridSearchCV(estimator = forest_reg, param_grid = param_grid, \n",
        "cv = 5, n_jobs = 1, verbose = 0, return_train_score=True, scoring = scorer)"
      ],
      "execution_count": 53,
      "outputs": []
    },
    {
      "cell_type": "code",
      "metadata": {
        "colab": {
          "base_uri": "https://localhost:8080/"
        },
        "id": "NlwcoZpnn6uR",
        "outputId": "1cb0c434-b1a1-4b0d-c73a-d2d42b4888f5"
      },
      "source": [
        "g2.fit(X_train, y_train)"
      ],
      "execution_count": 54,
      "outputs": [
        {
          "output_type": "execute_result",
          "data": {
            "text/plain": [
              "GridSearchCV(cv=5, error_score=nan,\n",
              "             estimator=RandomForestRegressor(bootstrap=True, ccp_alpha=0.0,\n",
              "                                             criterion='mse', max_depth=None,\n",
              "                                             max_features='auto',\n",
              "                                             max_leaf_nodes=None,\n",
              "                                             max_samples=None,\n",
              "                                             min_impurity_decrease=0.0,\n",
              "                                             min_impurity_split=None,\n",
              "                                             min_samples_leaf=1,\n",
              "                                             min_samples_split=2,\n",
              "                                             min_weight_fraction_leaf=0.0,\n",
              "                                             n_estimators=100, n_jobs=None,\n",
              "                                             oob_score=False, random_state=42,\n",
              "                                             verbose=0, warm_start=False),\n",
              "             iid='deprecated', n_jobs=1,\n",
              "             param_grid={'bootstrap': [True], 'max_depth': [5, 10, None],\n",
              "                         'max_features': ['auto', 'log2'],\n",
              "                         'n_estimators': [19, 35, 46, 79, 98, 100, 115, 123]},\n",
              "             pre_dispatch='2*n_jobs', refit=True, return_train_score=True,\n",
              "             scoring=make_scorer(mean_squared_error, squared=False), verbose=0)"
            ]
          },
          "metadata": {},
          "execution_count": 54
        }
      ]
    },
    {
      "cell_type": "code",
      "metadata": {
        "colab": {
          "base_uri": "https://localhost:8080/"
        },
        "id": "qB9onAQun6yK",
        "outputId": "5142c37f-636e-4ead-c069-9ed91e0f3e72"
      },
      "source": [
        "g2.best_score_"
      ],
      "execution_count": 55,
      "outputs": [
        {
          "output_type": "execute_result",
          "data": {
            "text/plain": [
              "0.7540352335953744"
            ]
          },
          "metadata": {},
          "execution_count": 55
        }
      ]
    },
    {
      "cell_type": "code",
      "metadata": {
        "colab": {
          "base_uri": "https://localhost:8080/"
        },
        "id": "w9sWho8kn62-",
        "outputId": "a6e48d5b-14f6-4d1b-a28c-88e813f7338d"
      },
      "source": [
        "best_modl = g2.best_estimator_\n",
        "print(best_modl)\n",
        "best_preds = best_modl.predict(X_test)\n",
        "print(np.sqrt(mean_squared_error(y_test, best_preds)))"
      ],
      "execution_count": 56,
      "outputs": [
        {
          "output_type": "stream",
          "name": "stdout",
          "text": [
            "RandomForestRegressor(bootstrap=True, ccp_alpha=0.0, criterion='mse',\n",
            "                      max_depth=None, max_features='auto', max_leaf_nodes=None,\n",
            "                      max_samples=None, min_impurity_decrease=0.0,\n",
            "                      min_impurity_split=None, min_samples_leaf=1,\n",
            "                      min_samples_split=2, min_weight_fraction_leaf=0.0,\n",
            "                      n_estimators=19, n_jobs=None, oob_score=False,\n",
            "                      random_state=42, verbose=0, warm_start=False)\n",
            "0.7956092769846022\n"
          ]
        }
      ]
    },
    {
      "cell_type": "code",
      "metadata": {
        "colab": {
          "base_uri": "https://localhost:8080/"
        },
        "id": "DJIdnBlqn67d",
        "outputId": "e391b65b-343a-4648-8c6f-6ee9a257b271"
      },
      "source": [
        "g2.best_params_"
      ],
      "execution_count": 57,
      "outputs": [
        {
          "output_type": "execute_result",
          "data": {
            "text/plain": [
              "{'bootstrap': True,\n",
              " 'max_depth': None,\n",
              " 'max_features': 'auto',\n",
              " 'n_estimators': 19}"
            ]
          },
          "metadata": {},
          "execution_count": 57
        }
      ]
    },
    {
      "cell_type": "code",
      "metadata": {
        "colab": {
          "base_uri": "https://localhost:8080/"
        },
        "id": "_byKJKLdn7AG",
        "outputId": "e9ff5f16-f859-4c3d-e9af-d7ad4b84e681"
      },
      "source": [
        "mean_absolute_error(y_test, best_preds)"
      ],
      "execution_count": 58,
      "outputs": [
        {
          "output_type": "execute_result",
          "data": {
            "text/plain": [
              "0.3524860197368421"
            ]
          },
          "metadata": {},
          "execution_count": 58
        }
      ]
    },
    {
      "cell_type": "code",
      "metadata": {
        "colab": {
          "base_uri": "https://localhost:8080/",
          "height": 317
        },
        "id": "h4MzW0NxpMdj",
        "outputId": "75cbd0fd-2ac4-4b32-b26e-22bb4590e773"
      },
      "source": [
        "plt.scatter(y_test, best_preds, color = 'gold')\n",
        "plt.title('Production des tomates (random forest)')\n",
        "plt.xlabel('Production prédite')\n",
        "plt.ylabel('Production actuelle')\n",
        "plt.show()"
      ],
      "execution_count": 59,
      "outputs": [
        {
          "output_type": "display_data",
          "data": {
            "image/png": "[encoded data removed]",
            "text/plain": [
              "<Figure size 432x288 with 1 Axes>"
            ]
          },
          "metadata": {}
        }
      ]
    }
  ]
}