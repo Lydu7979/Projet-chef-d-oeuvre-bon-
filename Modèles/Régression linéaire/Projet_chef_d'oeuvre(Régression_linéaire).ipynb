{
  "nbformat": 4,
  "nbformat_minor": 0,
  "metadata": {
    "colab": {
      "name": "Projet_chef_d'oeuvre(Régression linéaire).ipynb",
      "provenance": [],
      "collapsed_sections": []
    },
    "kernelspec": {
      "name": "python3",
      "display_name": "Python 3"
    },
    "language_info": {
      "name": "python"
    }
  },
  "cells": [
    {
      "cell_type": "code",
      "metadata": {
        "id": "xeORs_rVKhsV"
      },
      "source": [
        "import warnings\n",
        "import itertools\n",
        "import numpy as np\n",
        "import matplotlib.pyplot as plt\n",
        "warnings.filterwarnings(\"ignore\")\n",
        "plt.style.use('fivethirtyeight')\n",
        "import pandas as pd\n",
        "import statsmodels.api as sm\n",
        "import matplotlib\n",
        "matplotlib.rcParams['axes.labelsize'] = 14\n",
        "matplotlib.rcParams['xtick.labelsize'] = 12\n",
        "matplotlib.rcParams['ytick.labelsize'] = 12\n",
        "matplotlib.rcParams['text.color'] = 'k'\n",
        "import seaborn as sns\n",
        "sns.set(style=\"white\") #white background style for seaborn plots\n",
        "sns.set(style=\"whitegrid\", color_codes=True)\n",
        "from numpy import array\n",
        "from keras.preprocessing.text import one_hot\n",
        "from keras.preprocessing.sequence import pad_sequences\n",
        "from keras.models import Sequential\n",
        "from keras.layers.core import Activation, Dropout, Dense\n",
        "from keras.layers import Flatten, LSTM\n",
        "from keras.layers import GlobalMaxPooling1D\n",
        "from keras.models import Model\n",
        "from keras.layers.embeddings import Embedding\n",
        "from sklearn.model_selection import train_test_split\n",
        "from keras.preprocessing.text import Tokenizer\n",
        "from keras.layers import Input\n",
        "from keras.layers.merge import Concatenate\n",
        "from keras.layers import Bidirectional\n",
        "import re\n",
        "from statsmodels.tsa.stattools import adfuller\n",
        "from statsmodels.tsa.stattools import acf, pacf\n",
        "from statsmodels.tsa.seasonal import seasonal_decompose\n",
        "from statsmodels.tsa.arima_model import ARIMA\n",
        "from sklearn.model_selection import train_test_split, cross_val_score, GridSearchCV\n",
        "from sklearn.linear_model import LinearRegression\n",
        "import matplotlib.pyplot as plt\n",
        "from statsmodels.graphics.tsaplots import plot_acf,plot_pacf\n",
        "from sklearn.metrics import mean_absolute_error\n",
        "from sklearn.metrics import r2_score"
      ],
      "execution_count": 1,
      "outputs": []
    },
    {
      "cell_type": "code",
      "metadata": {
        "colab": {
          "base_uri": "https://localhost:8080/",
          "height": 822
        },
        "id": "Ja_GJ8ZEK0OZ",
        "outputId": "3584b874-5367-4861-daa2-cbd382701acd"
      },
      "source": [
        "Pop = pd.read_csv(\"/content/Tomates+météo - Tableau 1 (1).csv\")\n",
        "Pop=Pop.iloc[pd.to_datetime(Pop.Date.astype(str)).argsort()]\n",
        "Pop"
      ],
      "execution_count": 2,
      "outputs": [
        {
          "output_type": "execute_result",
          "data": {
            "text/html": [
              "<div>\n",
              "<style scoped>\n",
              "    .dataframe tbody tr th:only-of-type {\n",
              "        vertical-align: middle;\n",
              "    }\n",
              "\n",
              "    .dataframe tbody tr th {\n",
              "        vertical-align: top;\n",
              "    }\n",
              "\n",
              "    .dataframe thead th {\n",
              "        text-align: right;\n",
              "    }\n",
              "</style>\n",
              "<table border=\"1\" class=\"dataframe\">\n",
              "  <thead>\n",
              "    <tr style=\"text-align: right;\">\n",
              "      <th></th>\n",
              "      <th>Date</th>\n",
              "      <th>prix moyen au kg</th>\n",
              "      <th>prix minimal</th>\n",
              "      <th>prix maximal</th>\n",
              "      <th>Production quantité \\ntonne(s)</th>\n",
              "      <th>Température minimale en °C</th>\n",
              "      <th>Température maximale en °C</th>\n",
              "      <th>précipitations en mm</th>\n",
              "      <th>Ensoleillement en min</th>\n",
              "      <th>Rafales (vitesse du vent) en km/h</th>\n",
              "      <th>catégorie tomates</th>\n",
              "    </tr>\n",
              "  </thead>\n",
              "  <tbody>\n",
              "    <tr>\n",
              "      <th>354</th>\n",
              "      <td>01/08/12</td>\n",
              "      <td>1.30</td>\n",
              "      <td>1.3</td>\n",
              "      <td>1.3</td>\n",
              "      <td>0.20</td>\n",
              "      <td>11.8</td>\n",
              "      <td>28.0</td>\n",
              "      <td>0.4</td>\n",
              "      <td>445</td>\n",
              "      <td>44.4</td>\n",
              "      <td>Tomate ronde  cat.I 57-67mm</td>\n",
              "    </tr>\n",
              "    <tr>\n",
              "      <th>333</th>\n",
              "      <td>01/10/12</td>\n",
              "      <td>1.10</td>\n",
              "      <td>1.1</td>\n",
              "      <td>1.1</td>\n",
              "      <td>0.20</td>\n",
              "      <td>3.5</td>\n",
              "      <td>19.1</td>\n",
              "      <td>0.8</td>\n",
              "      <td>536</td>\n",
              "      <td>40.7</td>\n",
              "      <td>Tomate ronde  cat.I 57-67mm</td>\n",
              "    </tr>\n",
              "    <tr>\n",
              "      <th>332</th>\n",
              "      <td>02/10/12</td>\n",
              "      <td>1.10</td>\n",
              "      <td>1.1</td>\n",
              "      <td>1.1</td>\n",
              "      <td>0.20</td>\n",
              "      <td>12.8</td>\n",
              "      <td>18.8</td>\n",
              "      <td>0.2</td>\n",
              "      <td>121</td>\n",
              "      <td>38.9</td>\n",
              "      <td>Tomate ronde  cat.I 57-67mm</td>\n",
              "    </tr>\n",
              "    <tr>\n",
              "      <th>353</th>\n",
              "      <td>03/08/12</td>\n",
              "      <td>1.25</td>\n",
              "      <td>1.2</td>\n",
              "      <td>1.3</td>\n",
              "      <td>0.30</td>\n",
              "      <td>12.0</td>\n",
              "      <td>24.1</td>\n",
              "      <td>0.4</td>\n",
              "      <td>330</td>\n",
              "      <td>42.8</td>\n",
              "      <td>Tomate ronde  cat.I 57-67mm</td>\n",
              "    </tr>\n",
              "    <tr>\n",
              "      <th>342</th>\n",
              "      <td>04/09/12</td>\n",
              "      <td>1.10</td>\n",
              "      <td>1.1</td>\n",
              "      <td>1.1</td>\n",
              "      <td>0.40</td>\n",
              "      <td>12.8</td>\n",
              "      <td>25.7</td>\n",
              "      <td>0.0</td>\n",
              "      <td>672</td>\n",
              "      <td>37.0</td>\n",
              "      <td>Tomate ronde  cat.I 57-67mm</td>\n",
              "    </tr>\n",
              "    <tr>\n",
              "      <th>...</th>\n",
              "      <td>...</td>\n",
              "      <td>...</td>\n",
              "      <td>...</td>\n",
              "      <td>...</td>\n",
              "      <td>...</td>\n",
              "      <td>...</td>\n",
              "      <td>...</td>\n",
              "      <td>...</td>\n",
              "      <td>...</td>\n",
              "      <td>...</td>\n",
              "      <td>...</td>\n",
              "    </tr>\n",
              "    <tr>\n",
              "      <th>388</th>\n",
              "      <td>11/09/20</td>\n",
              "      <td>1.75</td>\n",
              "      <td>1.7</td>\n",
              "      <td>1.8</td>\n",
              "      <td>0.50</td>\n",
              "      <td>14.1</td>\n",
              "      <td>28.2</td>\n",
              "      <td>0.0</td>\n",
              "      <td>552</td>\n",
              "      <td>29.5</td>\n",
              "      <td>Tomate ronde cat.I 67-82mm</td>\n",
              "    </tr>\n",
              "    <tr>\n",
              "      <th>19</th>\n",
              "      <td>11/09/20</td>\n",
              "      <td>1.05</td>\n",
              "      <td>1.0</td>\n",
              "      <td>1.1</td>\n",
              "      <td>0.50</td>\n",
              "      <td>14.1</td>\n",
              "      <td>28.2</td>\n",
              "      <td>0.0</td>\n",
              "      <td>552</td>\n",
              "      <td>29.5</td>\n",
              "      <td>Tomate ronde  cat.I 57-67mm</td>\n",
              "    </tr>\n",
              "    <tr>\n",
              "      <th>373</th>\n",
              "      <td>19/11/20</td>\n",
              "      <td>1.80</td>\n",
              "      <td>NaN</td>\n",
              "      <td>NaN</td>\n",
              "      <td>0.05</td>\n",
              "      <td>5.8</td>\n",
              "      <td>11.5</td>\n",
              "      <td>0.0</td>\n",
              "      <td>352</td>\n",
              "      <td>61.2</td>\n",
              "      <td>Tomate ronde cat.I 67-82mm</td>\n",
              "    </tr>\n",
              "    <tr>\n",
              "      <th>372</th>\n",
              "      <td>20/11/20</td>\n",
              "      <td>1.50</td>\n",
              "      <td>NaN</td>\n",
              "      <td>NaN</td>\n",
              "      <td>0.10</td>\n",
              "      <td>-0.1</td>\n",
              "      <td>10.6</td>\n",
              "      <td>0.0</td>\n",
              "      <td>297</td>\n",
              "      <td>26.3</td>\n",
              "      <td>Tomate ronde cat.I 67-82mm</td>\n",
              "    </tr>\n",
              "    <tr>\n",
              "      <th>0</th>\n",
              "      <td>21/06/21</td>\n",
              "      <td>1.50</td>\n",
              "      <td>1.5</td>\n",
              "      <td>1.5</td>\n",
              "      <td>0.20</td>\n",
              "      <td>15.7</td>\n",
              "      <td>24.9</td>\n",
              "      <td>3.8</td>\n",
              "      <td>423</td>\n",
              "      <td>61.2</td>\n",
              "      <td>Tomate ronde  cat.I 57-67mm</td>\n",
              "    </tr>\n",
              "  </tbody>\n",
              "</table>\n",
              "<p>424 rows × 11 columns</p>\n",
              "</div>"
            ],
            "text/plain": [
              "         Date  ...            catégorie tomates\n",
              "354  01/08/12  ...  Tomate ronde  cat.I 57-67mm\n",
              "333  01/10/12  ...  Tomate ronde  cat.I 57-67mm\n",
              "332  02/10/12  ...  Tomate ronde  cat.I 57-67mm\n",
              "353  03/08/12  ...  Tomate ronde  cat.I 57-67mm\n",
              "342  04/09/12  ...  Tomate ronde  cat.I 57-67mm\n",
              "..        ...  ...                          ...\n",
              "388  11/09/20  ...   Tomate ronde cat.I 67-82mm\n",
              "19   11/09/20  ...  Tomate ronde  cat.I 57-67mm\n",
              "373  19/11/20  ...   Tomate ronde cat.I 67-82mm\n",
              "372  20/11/20  ...   Tomate ronde cat.I 67-82mm\n",
              "0    21/06/21  ...  Tomate ronde  cat.I 57-67mm\n",
              "\n",
              "[424 rows x 11 columns]"
            ]
          },
          "metadata": {},
          "execution_count": 2
        }
      ]
    },
    {
      "cell_type": "code",
      "metadata": {
        "colab": {
          "base_uri": "https://localhost:8080/",
          "height": 632
        },
        "id": "o8tuVhG7LFH1",
        "outputId": "1d2a4b42-f2bb-47a5-deb1-f369ca0e9b56"
      },
      "source": [
        "Pop = Pop.drop([\"prix maximal\",\"prix minimal\"], axis=1)\n",
        "Pop"
      ],
      "execution_count": 3,
      "outputs": [
        {
          "output_type": "execute_result",
          "data": {
            "text/html": [
              "<div>\n",
              "<style scoped>\n",
              "    .dataframe tbody tr th:only-of-type {\n",
              "        vertical-align: middle;\n",
              "    }\n",
              "\n",
              "    .dataframe tbody tr th {\n",
              "        vertical-align: top;\n",
              "    }\n",
              "\n",
              "    .dataframe thead th {\n",
              "        text-align: right;\n",
              "    }\n",
              "</style>\n",
              "<table border=\"1\" class=\"dataframe\">\n",
              "  <thead>\n",
              "    <tr style=\"text-align: right;\">\n",
              "      <th></th>\n",
              "      <th>Date</th>\n",
              "      <th>prix moyen au kg</th>\n",
              "      <th>Production quantité \\ntonne(s)</th>\n",
              "      <th>Température minimale en °C</th>\n",
              "      <th>Température maximale en °C</th>\n",
              "      <th>précipitations en mm</th>\n",
              "      <th>Ensoleillement en min</th>\n",
              "      <th>Rafales (vitesse du vent) en km/h</th>\n",
              "      <th>catégorie tomates</th>\n",
              "    </tr>\n",
              "  </thead>\n",
              "  <tbody>\n",
              "    <tr>\n",
              "      <th>354</th>\n",
              "      <td>01/08/12</td>\n",
              "      <td>1.30</td>\n",
              "      <td>0.20</td>\n",
              "      <td>11.8</td>\n",
              "      <td>28.0</td>\n",
              "      <td>0.4</td>\n",
              "      <td>445</td>\n",
              "      <td>44.4</td>\n",
              "      <td>Tomate ronde  cat.I 57-67mm</td>\n",
              "    </tr>\n",
              "    <tr>\n",
              "      <th>333</th>\n",
              "      <td>01/10/12</td>\n",
              "      <td>1.10</td>\n",
              "      <td>0.20</td>\n",
              "      <td>3.5</td>\n",
              "      <td>19.1</td>\n",
              "      <td>0.8</td>\n",
              "      <td>536</td>\n",
              "      <td>40.7</td>\n",
              "      <td>Tomate ronde  cat.I 57-67mm</td>\n",
              "    </tr>\n",
              "    <tr>\n",
              "      <th>332</th>\n",
              "      <td>02/10/12</td>\n",
              "      <td>1.10</td>\n",
              "      <td>0.20</td>\n",
              "      <td>12.8</td>\n",
              "      <td>18.8</td>\n",
              "      <td>0.2</td>\n",
              "      <td>121</td>\n",
              "      <td>38.9</td>\n",
              "      <td>Tomate ronde  cat.I 57-67mm</td>\n",
              "    </tr>\n",
              "    <tr>\n",
              "      <th>353</th>\n",
              "      <td>03/08/12</td>\n",
              "      <td>1.25</td>\n",
              "      <td>0.30</td>\n",
              "      <td>12.0</td>\n",
              "      <td>24.1</td>\n",
              "      <td>0.4</td>\n",
              "      <td>330</td>\n",
              "      <td>42.8</td>\n",
              "      <td>Tomate ronde  cat.I 57-67mm</td>\n",
              "    </tr>\n",
              "    <tr>\n",
              "      <th>342</th>\n",
              "      <td>04/09/12</td>\n",
              "      <td>1.10</td>\n",
              "      <td>0.40</td>\n",
              "      <td>12.8</td>\n",
              "      <td>25.7</td>\n",
              "      <td>0.0</td>\n",
              "      <td>672</td>\n",
              "      <td>37.0</td>\n",
              "      <td>Tomate ronde  cat.I 57-67mm</td>\n",
              "    </tr>\n",
              "    <tr>\n",
              "      <th>...</th>\n",
              "      <td>...</td>\n",
              "      <td>...</td>\n",
              "      <td>...</td>\n",
              "      <td>...</td>\n",
              "      <td>...</td>\n",
              "      <td>...</td>\n",
              "      <td>...</td>\n",
              "      <td>...</td>\n",
              "      <td>...</td>\n",
              "    </tr>\n",
              "    <tr>\n",
              "      <th>388</th>\n",
              "      <td>11/09/20</td>\n",
              "      <td>1.75</td>\n",
              "      <td>0.50</td>\n",
              "      <td>14.1</td>\n",
              "      <td>28.2</td>\n",
              "      <td>0.0</td>\n",
              "      <td>552</td>\n",
              "      <td>29.5</td>\n",
              "      <td>Tomate ronde cat.I 67-82mm</td>\n",
              "    </tr>\n",
              "    <tr>\n",
              "      <th>19</th>\n",
              "      <td>11/09/20</td>\n",
              "      <td>1.05</td>\n",
              "      <td>0.50</td>\n",
              "      <td>14.1</td>\n",
              "      <td>28.2</td>\n",
              "      <td>0.0</td>\n",
              "      <td>552</td>\n",
              "      <td>29.5</td>\n",
              "      <td>Tomate ronde  cat.I 57-67mm</td>\n",
              "    </tr>\n",
              "    <tr>\n",
              "      <th>373</th>\n",
              "      <td>19/11/20</td>\n",
              "      <td>1.80</td>\n",
              "      <td>0.05</td>\n",
              "      <td>5.8</td>\n",
              "      <td>11.5</td>\n",
              "      <td>0.0</td>\n",
              "      <td>352</td>\n",
              "      <td>61.2</td>\n",
              "      <td>Tomate ronde cat.I 67-82mm</td>\n",
              "    </tr>\n",
              "    <tr>\n",
              "      <th>372</th>\n",
              "      <td>20/11/20</td>\n",
              "      <td>1.50</td>\n",
              "      <td>0.10</td>\n",
              "      <td>-0.1</td>\n",
              "      <td>10.6</td>\n",
              "      <td>0.0</td>\n",
              "      <td>297</td>\n",
              "      <td>26.3</td>\n",
              "      <td>Tomate ronde cat.I 67-82mm</td>\n",
              "    </tr>\n",
              "    <tr>\n",
              "      <th>0</th>\n",
              "      <td>21/06/21</td>\n",
              "      <td>1.50</td>\n",
              "      <td>0.20</td>\n",
              "      <td>15.7</td>\n",
              "      <td>24.9</td>\n",
              "      <td>3.8</td>\n",
              "      <td>423</td>\n",
              "      <td>61.2</td>\n",
              "      <td>Tomate ronde  cat.I 57-67mm</td>\n",
              "    </tr>\n",
              "  </tbody>\n",
              "</table>\n",
              "<p>424 rows × 9 columns</p>\n",
              "</div>"
            ],
            "text/plain": [
              "         Date  ...            catégorie tomates\n",
              "354  01/08/12  ...  Tomate ronde  cat.I 57-67mm\n",
              "333  01/10/12  ...  Tomate ronde  cat.I 57-67mm\n",
              "332  02/10/12  ...  Tomate ronde  cat.I 57-67mm\n",
              "353  03/08/12  ...  Tomate ronde  cat.I 57-67mm\n",
              "342  04/09/12  ...  Tomate ronde  cat.I 57-67mm\n",
              "..        ...  ...                          ...\n",
              "388  11/09/20  ...   Tomate ronde cat.I 67-82mm\n",
              "19   11/09/20  ...  Tomate ronde  cat.I 57-67mm\n",
              "373  19/11/20  ...   Tomate ronde cat.I 67-82mm\n",
              "372  20/11/20  ...   Tomate ronde cat.I 67-82mm\n",
              "0    21/06/21  ...  Tomate ronde  cat.I 57-67mm\n",
              "\n",
              "[424 rows x 9 columns]"
            ]
          },
          "metadata": {},
          "execution_count": 3
        }
      ]
    },
    {
      "cell_type": "code",
      "metadata": {
        "colab": {
          "base_uri": "https://localhost:8080/",
          "height": 318
        },
        "id": "Ab8aRs-hLFTT",
        "outputId": "fb987119-cf75-4f23-c78d-f06ed2a0dbbb"
      },
      "source": [
        "Pop.describe()"
      ],
      "execution_count": 4,
      "outputs": [
        {
          "output_type": "execute_result",
          "data": {
            "text/html": [
              "<div>\n",
              "<style scoped>\n",
              "    .dataframe tbody tr th:only-of-type {\n",
              "        vertical-align: middle;\n",
              "    }\n",
              "\n",
              "    .dataframe tbody tr th {\n",
              "        vertical-align: top;\n",
              "    }\n",
              "\n",
              "    .dataframe thead th {\n",
              "        text-align: right;\n",
              "    }\n",
              "</style>\n",
              "<table border=\"1\" class=\"dataframe\">\n",
              "  <thead>\n",
              "    <tr style=\"text-align: right;\">\n",
              "      <th></th>\n",
              "      <th>prix moyen au kg</th>\n",
              "      <th>Production quantité \\ntonne(s)</th>\n",
              "      <th>Température minimale en °C</th>\n",
              "      <th>Température maximale en °C</th>\n",
              "      <th>précipitations en mm</th>\n",
              "      <th>Ensoleillement en min</th>\n",
              "      <th>Rafales (vitesse du vent) en km/h</th>\n",
              "    </tr>\n",
              "  </thead>\n",
              "  <tbody>\n",
              "    <tr>\n",
              "      <th>count</th>\n",
              "      <td>421.000000</td>\n",
              "      <td>424.000000</td>\n",
              "      <td>424.000000</td>\n",
              "      <td>424.000000</td>\n",
              "      <td>424.000000</td>\n",
              "      <td>424.000000</td>\n",
              "      <td>424.000000</td>\n",
              "    </tr>\n",
              "    <tr>\n",
              "      <th>mean</th>\n",
              "      <td>1.264798</td>\n",
              "      <td>0.464830</td>\n",
              "      <td>12.051651</td>\n",
              "      <td>23.908726</td>\n",
              "      <td>1.475236</td>\n",
              "      <td>436.160377</td>\n",
              "      <td>40.075472</td>\n",
              "    </tr>\n",
              "    <tr>\n",
              "      <th>std</th>\n",
              "      <td>0.288990</td>\n",
              "      <td>0.776784</td>\n",
              "      <td>3.965298</td>\n",
              "      <td>5.803186</td>\n",
              "      <td>4.417398</td>\n",
              "      <td>266.967955</td>\n",
              "      <td>12.427627</td>\n",
              "    </tr>\n",
              "    <tr>\n",
              "      <th>min</th>\n",
              "      <td>0.500000</td>\n",
              "      <td>0.016000</td>\n",
              "      <td>-0.100000</td>\n",
              "      <td>6.600000</td>\n",
              "      <td>0.000000</td>\n",
              "      <td>0.000000</td>\n",
              "      <td>14.400000</td>\n",
              "    </tr>\n",
              "    <tr>\n",
              "      <th>25%</th>\n",
              "      <td>1.050000</td>\n",
              "      <td>0.100000</td>\n",
              "      <td>9.800000</td>\n",
              "      <td>20.100000</td>\n",
              "      <td>0.000000</td>\n",
              "      <td>210.000000</td>\n",
              "      <td>31.500000</td>\n",
              "    </tr>\n",
              "    <tr>\n",
              "      <th>50%</th>\n",
              "      <td>1.200000</td>\n",
              "      <td>0.240000</td>\n",
              "      <td>12.300000</td>\n",
              "      <td>23.700000</td>\n",
              "      <td>0.000000</td>\n",
              "      <td>447.500000</td>\n",
              "      <td>38.900000</td>\n",
              "    </tr>\n",
              "    <tr>\n",
              "      <th>75%</th>\n",
              "      <td>1.500000</td>\n",
              "      <td>0.500000</td>\n",
              "      <td>14.700000</td>\n",
              "      <td>28.000000</td>\n",
              "      <td>0.400000</td>\n",
              "      <td>658.500000</td>\n",
              "      <td>46.800000</td>\n",
              "    </tr>\n",
              "    <tr>\n",
              "      <th>max</th>\n",
              "      <td>2.000000</td>\n",
              "      <td>7.680000</td>\n",
              "      <td>23.200000</td>\n",
              "      <td>41.300000</td>\n",
              "      <td>31.900000</td>\n",
              "      <td>906.000000</td>\n",
              "      <td>92.600000</td>\n",
              "    </tr>\n",
              "  </tbody>\n",
              "</table>\n",
              "</div>"
            ],
            "text/plain": [
              "       prix moyen au kg  ...  Rafales (vitesse du vent) en km/h\n",
              "count        421.000000  ...                         424.000000\n",
              "mean           1.264798  ...                          40.075472\n",
              "std            0.288990  ...                          12.427627\n",
              "min            0.500000  ...                          14.400000\n",
              "25%            1.050000  ...                          31.500000\n",
              "50%            1.200000  ...                          38.900000\n",
              "75%            1.500000  ...                          46.800000\n",
              "max            2.000000  ...                          92.600000\n",
              "\n",
              "[8 rows x 7 columns]"
            ]
          },
          "metadata": {},
          "execution_count": 4
        }
      ]
    },
    {
      "cell_type": "code",
      "metadata": {
        "colab": {
          "base_uri": "https://localhost:8080/",
          "height": 318
        },
        "id": "GalzdVVQLO19",
        "outputId": "064f4209-8f4d-4b4e-d673-1c4f2cdd18db"
      },
      "source": [
        "plt.hist(Pop['prix moyen au kg'],color ='coral')\n",
        "plt.title('Distribution pour le prix')\n",
        "plt.xlabel('prix moyen au kg')\n",
        "plt.ylabel('Densité')\n",
        "plt.show()\n",
        "print (\"skew=\", Pop['prix moyen au kg'].skew())"
      ],
      "execution_count": 5,
      "outputs": [
        {
          "output_type": "display_data",
          "data": {
            "image/png": "[encoded data removed]",
            "text/plain": [
              "<Figure size 432x288 with 1 Axes>"
            ]
          },
          "metadata": {
            "needs_background": "light"
          }
        },
        {
          "output_type": "stream",
          "name": "stdout",
          "text": [
            "skew= 0.22827047693351465\n"
          ]
        }
      ]
    },
    {
      "cell_type": "code",
      "metadata": {
        "colab": {
          "base_uri": "https://localhost:8080/",
          "height": 318
        },
        "id": "-j6B6juPLO5A",
        "outputId": "686d2163-01fd-4f9e-da07-8bf842e713cf"
      },
      "source": [
        "plt.hist(Pop['Production quantité \\ntonne(s)'],color ='violet')\n",
        "plt.title('Distribution pour la production')\n",
        "plt.xlabel('production de tomates')\n",
        "plt.ylabel('Densité')\n",
        "plt.show()\n",
        "print (\"skew=\", Pop['Production quantité \\ntonne(s)'].skew())"
      ],
      "execution_count": 6,
      "outputs": [
        {
          "output_type": "display_data",
          "data": {
            "image/png": "[encoded data removed]",
            "text/plain": [
              "<Figure size 432x288 with 1 Axes>"
            ]
          },
          "metadata": {
            "needs_background": "light"
          }
        },
        {
          "output_type": "stream",
          "name": "stdout",
          "text": [
            "skew= 5.583569472053098\n"
          ]
        }
      ]
    },
    {
      "cell_type": "code",
      "metadata": {
        "colab": {
          "base_uri": "https://localhost:8080/",
          "height": 112
        },
        "id": "Y-nfCg2wLO8B",
        "outputId": "dbede6a6-25a8-448d-9990-442442fe929a"
      },
      "source": [
        "Pop['catégorie tomates'].value_counts().to_frame()"
      ],
      "execution_count": 7,
      "outputs": [
        {
          "output_type": "execute_result",
          "data": {
            "text/html": [
              "<div>\n",
              "<style scoped>\n",
              "    .dataframe tbody tr th:only-of-type {\n",
              "        vertical-align: middle;\n",
              "    }\n",
              "\n",
              "    .dataframe tbody tr th {\n",
              "        vertical-align: top;\n",
              "    }\n",
              "\n",
              "    .dataframe thead th {\n",
              "        text-align: right;\n",
              "    }\n",
              "</style>\n",
              "<table border=\"1\" class=\"dataframe\">\n",
              "  <thead>\n",
              "    <tr style=\"text-align: right;\">\n",
              "      <th></th>\n",
              "      <th>catégorie tomates</th>\n",
              "    </tr>\n",
              "  </thead>\n",
              "  <tbody>\n",
              "    <tr>\n",
              "      <th>Tomate ronde  cat.I 57-67mm</th>\n",
              "      <td>372</td>\n",
              "    </tr>\n",
              "    <tr>\n",
              "      <th>Tomate ronde cat.I 67-82mm</th>\n",
              "      <td>52</td>\n",
              "    </tr>\n",
              "  </tbody>\n",
              "</table>\n",
              "</div>"
            ],
            "text/plain": [
              "                             catégorie tomates\n",
              "Tomate ronde  cat.I 57-67mm                372\n",
              "Tomate ronde cat.I 67-82mm                  52"
            ]
          },
          "metadata": {},
          "execution_count": 7
        }
      ]
    },
    {
      "cell_type": "code",
      "metadata": {
        "colab": {
          "base_uri": "https://localhost:8080/",
          "height": 513
        },
        "id": "MEZuv3uMLO_O",
        "outputId": "da1432ec-4134-4db3-fce9-0e57e8e4384e"
      },
      "source": [
        "Pop['catégorie tomates'].value_counts().plot(kind='bar',figsize=(5,5),title= 'catégorie tomates',color ='gold')\n",
        "plt.xlabel('catégorie tomates')\n",
        "plt.ylabel(\"nombre de fois ou la catégorie de tomates apparaît\")\n",
        "plt.show()"
      ],
      "execution_count": 8,
      "outputs": [
        {
          "output_type": "display_data",
          "data": {
            "image/png": "[encoded data removed]",
            "text/plain": [
              "<Figure size 360x360 with 1 Axes>"
            ]
          },
          "metadata": {
            "needs_background": "light"
          }
        }
      ]
    },
    {
      "cell_type": "code",
      "metadata": {
        "colab": {
          "base_uri": "https://localhost:8080/",
          "height": 320
        },
        "id": "ckV0_shiLPDE",
        "outputId": "b31875fc-5a17-4fc1-e2af-01b2b1819a19"
      },
      "source": [
        "Pop['catégorie tomates'].value_counts().plot(kind='pie', figsize=[5,5],\n",
        "          autopct=lambda p: '{:.0f}%'.format(p,(p/100)*Pop['catégorie tomates'].value_counts().sum()))"
      ],
      "execution_count": 9,
      "outputs": [
        {
          "output_type": "execute_result",
          "data": {
            "text/plain": [
              "<matplotlib.axes._subplots.AxesSubplot at 0x7f531ae97a50>"
            ]
          },
          "metadata": {},
          "execution_count": 9
        },
        {
          "output_type": "display_data",
          "data": {
            "image/png": "[encoded data removed]",
            "text/plain": [
              "<Figure size 360x360 with 1 Axes>"
            ]
          },
          "metadata": {}
        }
      ]
    },
    {
      "cell_type": "code",
      "metadata": {
        "colab": {
          "base_uri": "https://localhost:8080/",
          "height": 493
        },
        "id": "2As5fmSXLzlC",
        "outputId": "ffb014ba-9117-4204-9886-4792300c5144"
      },
      "source": [
        "Corr = Pop.corr()\n",
        "\n",
        "\n",
        "f, ax = plt.subplots(figsize=(5,5))\n",
        "plt.title('Corrélation entre variables')\n",
        "\n",
        "\n",
        "sns.heatmap(Corr,linewidths=0.25,vmax=1.0, square=True, cmap=\"plasma\", linecolor='black', annot=True)\n",
        "plt.show()"
      ],
      "execution_count": 10,
      "outputs": [
        {
          "output_type": "display_data",
          "data": {
            "image/png": "[encoded data removed]",
            "text/plain": [
              "<Figure size 360x360 with 2 Axes>"
            ]
          },
          "metadata": {
            "needs_background": "light"
          }
        }
      ]
    },
    {
      "cell_type": "code",
      "metadata": {
        "colab": {
          "base_uri": "https://localhost:8080/",
          "height": 632
        },
        "id": "tKJ86869MQpD",
        "outputId": "f049d541-4688-480e-facb-5232adf7b2bc"
      },
      "source": [
        "Pop =  Pop.interpolate() #pour remplacer les valeurs nulles par une valeur moyenne\n",
        "Pop"
      ],
      "execution_count": 11,
      "outputs": [
        {
          "output_type": "execute_result",
          "data": {
            "text/html": [
              "<div>\n",
              "<style scoped>\n",
              "    .dataframe tbody tr th:only-of-type {\n",
              "        vertical-align: middle;\n",
              "    }\n",
              "\n",
              "    .dataframe tbody tr th {\n",
              "        vertical-align: top;\n",
              "    }\n",
              "\n",
              "    .dataframe thead th {\n",
              "        text-align: right;\n",
              "    }\n",
              "</style>\n",
              "<table border=\"1\" class=\"dataframe\">\n",
              "  <thead>\n",
              "    <tr style=\"text-align: right;\">\n",
              "      <th></th>\n",
              "      <th>Date</th>\n",
              "      <th>prix moyen au kg</th>\n",
              "      <th>Production quantité \\ntonne(s)</th>\n",
              "      <th>Température minimale en °C</th>\n",
              "      <th>Température maximale en °C</th>\n",
              "      <th>précipitations en mm</th>\n",
              "      <th>Ensoleillement en min</th>\n",
              "      <th>Rafales (vitesse du vent) en km/h</th>\n",
              "      <th>catégorie tomates</th>\n",
              "    </tr>\n",
              "  </thead>\n",
              "  <tbody>\n",
              "    <tr>\n",
              "      <th>354</th>\n",
              "      <td>01/08/12</td>\n",
              "      <td>1.30</td>\n",
              "      <td>0.20</td>\n",
              "      <td>11.8</td>\n",
              "      <td>28.0</td>\n",
              "      <td>0.4</td>\n",
              "      <td>445</td>\n",
              "      <td>44.4</td>\n",
              "      <td>Tomate ronde  cat.I 57-67mm</td>\n",
              "    </tr>\n",
              "    <tr>\n",
              "      <th>333</th>\n",
              "      <td>01/10/12</td>\n",
              "      <td>1.10</td>\n",
              "      <td>0.20</td>\n",
              "      <td>3.5</td>\n",
              "      <td>19.1</td>\n",
              "      <td>0.8</td>\n",
              "      <td>536</td>\n",
              "      <td>40.7</td>\n",
              "      <td>Tomate ronde  cat.I 57-67mm</td>\n",
              "    </tr>\n",
              "    <tr>\n",
              "      <th>332</th>\n",
              "      <td>02/10/12</td>\n",
              "      <td>1.10</td>\n",
              "      <td>0.20</td>\n",
              "      <td>12.8</td>\n",
              "      <td>18.8</td>\n",
              "      <td>0.2</td>\n",
              "      <td>121</td>\n",
              "      <td>38.9</td>\n",
              "      <td>Tomate ronde  cat.I 57-67mm</td>\n",
              "    </tr>\n",
              "    <tr>\n",
              "      <th>353</th>\n",
              "      <td>03/08/12</td>\n",
              "      <td>1.25</td>\n",
              "      <td>0.30</td>\n",
              "      <td>12.0</td>\n",
              "      <td>24.1</td>\n",
              "      <td>0.4</td>\n",
              "      <td>330</td>\n",
              "      <td>42.8</td>\n",
              "      <td>Tomate ronde  cat.I 57-67mm</td>\n",
              "    </tr>\n",
              "    <tr>\n",
              "      <th>342</th>\n",
              "      <td>04/09/12</td>\n",
              "      <td>1.10</td>\n",
              "      <td>0.40</td>\n",
              "      <td>12.8</td>\n",
              "      <td>25.7</td>\n",
              "      <td>0.0</td>\n",
              "      <td>672</td>\n",
              "      <td>37.0</td>\n",
              "      <td>Tomate ronde  cat.I 57-67mm</td>\n",
              "    </tr>\n",
              "    <tr>\n",
              "      <th>...</th>\n",
              "      <td>...</td>\n",
              "      <td>...</td>\n",
              "      <td>...</td>\n",
              "      <td>...</td>\n",
              "      <td>...</td>\n",
              "      <td>...</td>\n",
              "      <td>...</td>\n",
              "      <td>...</td>\n",
              "      <td>...</td>\n",
              "    </tr>\n",
              "    <tr>\n",
              "      <th>388</th>\n",
              "      <td>11/09/20</td>\n",
              "      <td>1.75</td>\n",
              "      <td>0.50</td>\n",
              "      <td>14.1</td>\n",
              "      <td>28.2</td>\n",
              "      <td>0.0</td>\n",
              "      <td>552</td>\n",
              "      <td>29.5</td>\n",
              "      <td>Tomate ronde cat.I 67-82mm</td>\n",
              "    </tr>\n",
              "    <tr>\n",
              "      <th>19</th>\n",
              "      <td>11/09/20</td>\n",
              "      <td>1.05</td>\n",
              "      <td>0.50</td>\n",
              "      <td>14.1</td>\n",
              "      <td>28.2</td>\n",
              "      <td>0.0</td>\n",
              "      <td>552</td>\n",
              "      <td>29.5</td>\n",
              "      <td>Tomate ronde  cat.I 57-67mm</td>\n",
              "    </tr>\n",
              "    <tr>\n",
              "      <th>373</th>\n",
              "      <td>19/11/20</td>\n",
              "      <td>1.80</td>\n",
              "      <td>0.05</td>\n",
              "      <td>5.8</td>\n",
              "      <td>11.5</td>\n",
              "      <td>0.0</td>\n",
              "      <td>352</td>\n",
              "      <td>61.2</td>\n",
              "      <td>Tomate ronde cat.I 67-82mm</td>\n",
              "    </tr>\n",
              "    <tr>\n",
              "      <th>372</th>\n",
              "      <td>20/11/20</td>\n",
              "      <td>1.50</td>\n",
              "      <td>0.10</td>\n",
              "      <td>-0.1</td>\n",
              "      <td>10.6</td>\n",
              "      <td>0.0</td>\n",
              "      <td>297</td>\n",
              "      <td>26.3</td>\n",
              "      <td>Tomate ronde cat.I 67-82mm</td>\n",
              "    </tr>\n",
              "    <tr>\n",
              "      <th>0</th>\n",
              "      <td>21/06/21</td>\n",
              "      <td>1.50</td>\n",
              "      <td>0.20</td>\n",
              "      <td>15.7</td>\n",
              "      <td>24.9</td>\n",
              "      <td>3.8</td>\n",
              "      <td>423</td>\n",
              "      <td>61.2</td>\n",
              "      <td>Tomate ronde  cat.I 57-67mm</td>\n",
              "    </tr>\n",
              "  </tbody>\n",
              "</table>\n",
              "<p>424 rows × 9 columns</p>\n",
              "</div>"
            ],
            "text/plain": [
              "         Date  ...            catégorie tomates\n",
              "354  01/08/12  ...  Tomate ronde  cat.I 57-67mm\n",
              "333  01/10/12  ...  Tomate ronde  cat.I 57-67mm\n",
              "332  02/10/12  ...  Tomate ronde  cat.I 57-67mm\n",
              "353  03/08/12  ...  Tomate ronde  cat.I 57-67mm\n",
              "342  04/09/12  ...  Tomate ronde  cat.I 57-67mm\n",
              "..        ...  ...                          ...\n",
              "388  11/09/20  ...   Tomate ronde cat.I 67-82mm\n",
              "19   11/09/20  ...  Tomate ronde  cat.I 57-67mm\n",
              "373  19/11/20  ...   Tomate ronde cat.I 67-82mm\n",
              "372  20/11/20  ...   Tomate ronde cat.I 67-82mm\n",
              "0    21/06/21  ...  Tomate ronde  cat.I 57-67mm\n",
              "\n",
              "[424 rows x 9 columns]"
            ]
          },
          "metadata": {},
          "execution_count": 11
        }
      ]
    },
    {
      "cell_type": "code",
      "metadata": {
        "colab": {
          "base_uri": "https://localhost:8080/",
          "height": 423
        },
        "id": "XktchMk8MSJ8",
        "outputId": "3cb168e1-d027-4f1d-e405-14055cbd04a3"
      },
      "source": [
        "dummy_tomate1 = pd.get_dummies(Pop['catégorie tomates'])\n",
        "dummy_tomate1"
      ],
      "execution_count": 12,
      "outputs": [
        {
          "output_type": "execute_result",
          "data": {
            "text/html": [
              "<div>\n",
              "<style scoped>\n",
              "    .dataframe tbody tr th:only-of-type {\n",
              "        vertical-align: middle;\n",
              "    }\n",
              "\n",
              "    .dataframe tbody tr th {\n",
              "        vertical-align: top;\n",
              "    }\n",
              "\n",
              "    .dataframe thead th {\n",
              "        text-align: right;\n",
              "    }\n",
              "</style>\n",
              "<table border=\"1\" class=\"dataframe\">\n",
              "  <thead>\n",
              "    <tr style=\"text-align: right;\">\n",
              "      <th></th>\n",
              "      <th>Tomate ronde  cat.I 57-67mm</th>\n",
              "      <th>Tomate ronde cat.I 67-82mm</th>\n",
              "    </tr>\n",
              "  </thead>\n",
              "  <tbody>\n",
              "    <tr>\n",
              "      <th>354</th>\n",
              "      <td>1</td>\n",
              "      <td>0</td>\n",
              "    </tr>\n",
              "    <tr>\n",
              "      <th>333</th>\n",
              "      <td>1</td>\n",
              "      <td>0</td>\n",
              "    </tr>\n",
              "    <tr>\n",
              "      <th>332</th>\n",
              "      <td>1</td>\n",
              "      <td>0</td>\n",
              "    </tr>\n",
              "    <tr>\n",
              "      <th>353</th>\n",
              "      <td>1</td>\n",
              "      <td>0</td>\n",
              "    </tr>\n",
              "    <tr>\n",
              "      <th>342</th>\n",
              "      <td>1</td>\n",
              "      <td>0</td>\n",
              "    </tr>\n",
              "    <tr>\n",
              "      <th>...</th>\n",
              "      <td>...</td>\n",
              "      <td>...</td>\n",
              "    </tr>\n",
              "    <tr>\n",
              "      <th>388</th>\n",
              "      <td>0</td>\n",
              "      <td>1</td>\n",
              "    </tr>\n",
              "    <tr>\n",
              "      <th>19</th>\n",
              "      <td>1</td>\n",
              "      <td>0</td>\n",
              "    </tr>\n",
              "    <tr>\n",
              "      <th>373</th>\n",
              "      <td>0</td>\n",
              "      <td>1</td>\n",
              "    </tr>\n",
              "    <tr>\n",
              "      <th>372</th>\n",
              "      <td>0</td>\n",
              "      <td>1</td>\n",
              "    </tr>\n",
              "    <tr>\n",
              "      <th>0</th>\n",
              "      <td>1</td>\n",
              "      <td>0</td>\n",
              "    </tr>\n",
              "  </tbody>\n",
              "</table>\n",
              "<p>424 rows × 2 columns</p>\n",
              "</div>"
            ],
            "text/plain": [
              "     Tomate ronde  cat.I 57-67mm  Tomate ronde cat.I 67-82mm\n",
              "354                            1                           0\n",
              "333                            1                           0\n",
              "332                            1                           0\n",
              "353                            1                           0\n",
              "342                            1                           0\n",
              "..                           ...                         ...\n",
              "388                            0                           1\n",
              "19                             1                           0\n",
              "373                            0                           1\n",
              "372                            0                           1\n",
              "0                              1                           0\n",
              "\n",
              "[424 rows x 2 columns]"
            ]
          },
          "metadata": {},
          "execution_count": 12
        }
      ]
    },
    {
      "cell_type": "code",
      "metadata": {
        "colab": {
          "base_uri": "https://localhost:8080/",
          "height": 822
        },
        "id": "N3MMKKgzMSYG",
        "outputId": "6fbce0e5-dd0f-4923-afde-e51bc508dfa2"
      },
      "source": [
        "T =  pd.merge(\n",
        "    left=Pop,\n",
        "    right=dummy_tomate1,\n",
        "    left_index=True,\n",
        "    right_index=True,\n",
        ")\n",
        "\n",
        "T"
      ],
      "execution_count": 13,
      "outputs": [
        {
          "output_type": "execute_result",
          "data": {
            "text/html": [
              "<div>\n",
              "<style scoped>\n",
              "    .dataframe tbody tr th:only-of-type {\n",
              "        vertical-align: middle;\n",
              "    }\n",
              "\n",
              "    .dataframe tbody tr th {\n",
              "        vertical-align: top;\n",
              "    }\n",
              "\n",
              "    .dataframe thead th {\n",
              "        text-align: right;\n",
              "    }\n",
              "</style>\n",
              "<table border=\"1\" class=\"dataframe\">\n",
              "  <thead>\n",
              "    <tr style=\"text-align: right;\">\n",
              "      <th></th>\n",
              "      <th>Date</th>\n",
              "      <th>prix moyen au kg</th>\n",
              "      <th>Production quantité \\ntonne(s)</th>\n",
              "      <th>Température minimale en °C</th>\n",
              "      <th>Température maximale en °C</th>\n",
              "      <th>précipitations en mm</th>\n",
              "      <th>Ensoleillement en min</th>\n",
              "      <th>Rafales (vitesse du vent) en km/h</th>\n",
              "      <th>catégorie tomates</th>\n",
              "      <th>Tomate ronde  cat.I 57-67mm</th>\n",
              "      <th>Tomate ronde cat.I 67-82mm</th>\n",
              "    </tr>\n",
              "  </thead>\n",
              "  <tbody>\n",
              "    <tr>\n",
              "      <th>354</th>\n",
              "      <td>01/08/12</td>\n",
              "      <td>1.30</td>\n",
              "      <td>0.20</td>\n",
              "      <td>11.8</td>\n",
              "      <td>28.0</td>\n",
              "      <td>0.4</td>\n",
              "      <td>445</td>\n",
              "      <td>44.4</td>\n",
              "      <td>Tomate ronde  cat.I 57-67mm</td>\n",
              "      <td>1</td>\n",
              "      <td>0</td>\n",
              "    </tr>\n",
              "    <tr>\n",
              "      <th>333</th>\n",
              "      <td>01/10/12</td>\n",
              "      <td>1.10</td>\n",
              "      <td>0.20</td>\n",
              "      <td>3.5</td>\n",
              "      <td>19.1</td>\n",
              "      <td>0.8</td>\n",
              "      <td>536</td>\n",
              "      <td>40.7</td>\n",
              "      <td>Tomate ronde  cat.I 57-67mm</td>\n",
              "      <td>1</td>\n",
              "      <td>0</td>\n",
              "    </tr>\n",
              "    <tr>\n",
              "      <th>332</th>\n",
              "      <td>02/10/12</td>\n",
              "      <td>1.10</td>\n",
              "      <td>0.20</td>\n",
              "      <td>12.8</td>\n",
              "      <td>18.8</td>\n",
              "      <td>0.2</td>\n",
              "      <td>121</td>\n",
              "      <td>38.9</td>\n",
              "      <td>Tomate ronde  cat.I 57-67mm</td>\n",
              "      <td>1</td>\n",
              "      <td>0</td>\n",
              "    </tr>\n",
              "    <tr>\n",
              "      <th>353</th>\n",
              "      <td>03/08/12</td>\n",
              "      <td>1.25</td>\n",
              "      <td>0.30</td>\n",
              "      <td>12.0</td>\n",
              "      <td>24.1</td>\n",
              "      <td>0.4</td>\n",
              "      <td>330</td>\n",
              "      <td>42.8</td>\n",
              "      <td>Tomate ronde  cat.I 57-67mm</td>\n",
              "      <td>1</td>\n",
              "      <td>0</td>\n",
              "    </tr>\n",
              "    <tr>\n",
              "      <th>342</th>\n",
              "      <td>04/09/12</td>\n",
              "      <td>1.10</td>\n",
              "      <td>0.40</td>\n",
              "      <td>12.8</td>\n",
              "      <td>25.7</td>\n",
              "      <td>0.0</td>\n",
              "      <td>672</td>\n",
              "      <td>37.0</td>\n",
              "      <td>Tomate ronde  cat.I 57-67mm</td>\n",
              "      <td>1</td>\n",
              "      <td>0</td>\n",
              "    </tr>\n",
              "    <tr>\n",
              "      <th>...</th>\n",
              "      <td>...</td>\n",
              "      <td>...</td>\n",
              "      <td>...</td>\n",
              "      <td>...</td>\n",
              "      <td>...</td>\n",
              "      <td>...</td>\n",
              "      <td>...</td>\n",
              "      <td>...</td>\n",
              "      <td>...</td>\n",
              "      <td>...</td>\n",
              "      <td>...</td>\n",
              "    </tr>\n",
              "    <tr>\n",
              "      <th>388</th>\n",
              "      <td>11/09/20</td>\n",
              "      <td>1.75</td>\n",
              "      <td>0.50</td>\n",
              "      <td>14.1</td>\n",
              "      <td>28.2</td>\n",
              "      <td>0.0</td>\n",
              "      <td>552</td>\n",
              "      <td>29.5</td>\n",
              "      <td>Tomate ronde cat.I 67-82mm</td>\n",
              "      <td>0</td>\n",
              "      <td>1</td>\n",
              "    </tr>\n",
              "    <tr>\n",
              "      <th>19</th>\n",
              "      <td>11/09/20</td>\n",
              "      <td>1.05</td>\n",
              "      <td>0.50</td>\n",
              "      <td>14.1</td>\n",
              "      <td>28.2</td>\n",
              "      <td>0.0</td>\n",
              "      <td>552</td>\n",
              "      <td>29.5</td>\n",
              "      <td>Tomate ronde  cat.I 57-67mm</td>\n",
              "      <td>1</td>\n",
              "      <td>0</td>\n",
              "    </tr>\n",
              "    <tr>\n",
              "      <th>373</th>\n",
              "      <td>19/11/20</td>\n",
              "      <td>1.80</td>\n",
              "      <td>0.05</td>\n",
              "      <td>5.8</td>\n",
              "      <td>11.5</td>\n",
              "      <td>0.0</td>\n",
              "      <td>352</td>\n",
              "      <td>61.2</td>\n",
              "      <td>Tomate ronde cat.I 67-82mm</td>\n",
              "      <td>0</td>\n",
              "      <td>1</td>\n",
              "    </tr>\n",
              "    <tr>\n",
              "      <th>372</th>\n",
              "      <td>20/11/20</td>\n",
              "      <td>1.50</td>\n",
              "      <td>0.10</td>\n",
              "      <td>-0.1</td>\n",
              "      <td>10.6</td>\n",
              "      <td>0.0</td>\n",
              "      <td>297</td>\n",
              "      <td>26.3</td>\n",
              "      <td>Tomate ronde cat.I 67-82mm</td>\n",
              "      <td>0</td>\n",
              "      <td>1</td>\n",
              "    </tr>\n",
              "    <tr>\n",
              "      <th>0</th>\n",
              "      <td>21/06/21</td>\n",
              "      <td>1.50</td>\n",
              "      <td>0.20</td>\n",
              "      <td>15.7</td>\n",
              "      <td>24.9</td>\n",
              "      <td>3.8</td>\n",
              "      <td>423</td>\n",
              "      <td>61.2</td>\n",
              "      <td>Tomate ronde  cat.I 57-67mm</td>\n",
              "      <td>1</td>\n",
              "      <td>0</td>\n",
              "    </tr>\n",
              "  </tbody>\n",
              "</table>\n",
              "<p>424 rows × 11 columns</p>\n",
              "</div>"
            ],
            "text/plain": [
              "         Date  ...  Tomate ronde cat.I 67-82mm\n",
              "354  01/08/12  ...                           0\n",
              "333  01/10/12  ...                           0\n",
              "332  02/10/12  ...                           0\n",
              "353  03/08/12  ...                           0\n",
              "342  04/09/12  ...                           0\n",
              "..        ...  ...                         ...\n",
              "388  11/09/20  ...                           1\n",
              "19   11/09/20  ...                           0\n",
              "373  19/11/20  ...                           1\n",
              "372  20/11/20  ...                           1\n",
              "0    21/06/21  ...                           0\n",
              "\n",
              "[424 rows x 11 columns]"
            ]
          },
          "metadata": {},
          "execution_count": 13
        }
      ]
    },
    {
      "cell_type": "code",
      "metadata": {
        "colab": {
          "base_uri": "https://localhost:8080/",
          "height": 476
        },
        "id": "JPKabzASMpKR",
        "outputId": "9eee5dc6-252e-4105-a207-a4ad6b365d28"
      },
      "source": [
        "T = T.drop([\"catégorie tomates\"], axis=1)\n",
        "T"
      ],
      "execution_count": 14,
      "outputs": [
        {
          "output_type": "execute_result",
          "data": {
            "text/html": [
              "<div>\n",
              "<style scoped>\n",
              "    .dataframe tbody tr th:only-of-type {\n",
              "        vertical-align: middle;\n",
              "    }\n",
              "\n",
              "    .dataframe tbody tr th {\n",
              "        vertical-align: top;\n",
              "    }\n",
              "\n",
              "    .dataframe thead th {\n",
              "        text-align: right;\n",
              "    }\n",
              "</style>\n",
              "<table border=\"1\" class=\"dataframe\">\n",
              "  <thead>\n",
              "    <tr style=\"text-align: right;\">\n",
              "      <th></th>\n",
              "      <th>Date</th>\n",
              "      <th>prix moyen au kg</th>\n",
              "      <th>Production quantité \\ntonne(s)</th>\n",
              "      <th>Température minimale en °C</th>\n",
              "      <th>Température maximale en °C</th>\n",
              "      <th>précipitations en mm</th>\n",
              "      <th>Ensoleillement en min</th>\n",
              "      <th>Rafales (vitesse du vent) en km/h</th>\n",
              "      <th>Tomate ronde  cat.I 57-67mm</th>\n",
              "      <th>Tomate ronde cat.I 67-82mm</th>\n",
              "    </tr>\n",
              "  </thead>\n",
              "  <tbody>\n",
              "    <tr>\n",
              "      <th>354</th>\n",
              "      <td>01/08/12</td>\n",
              "      <td>1.30</td>\n",
              "      <td>0.20</td>\n",
              "      <td>11.8</td>\n",
              "      <td>28.0</td>\n",
              "      <td>0.4</td>\n",
              "      <td>445</td>\n",
              "      <td>44.4</td>\n",
              "      <td>1</td>\n",
              "      <td>0</td>\n",
              "    </tr>\n",
              "    <tr>\n",
              "      <th>333</th>\n",
              "      <td>01/10/12</td>\n",
              "      <td>1.10</td>\n",
              "      <td>0.20</td>\n",
              "      <td>3.5</td>\n",
              "      <td>19.1</td>\n",
              "      <td>0.8</td>\n",
              "      <td>536</td>\n",
              "      <td>40.7</td>\n",
              "      <td>1</td>\n",
              "      <td>0</td>\n",
              "    </tr>\n",
              "    <tr>\n",
              "      <th>332</th>\n",
              "      <td>02/10/12</td>\n",
              "      <td>1.10</td>\n",
              "      <td>0.20</td>\n",
              "      <td>12.8</td>\n",
              "      <td>18.8</td>\n",
              "      <td>0.2</td>\n",
              "      <td>121</td>\n",
              "      <td>38.9</td>\n",
              "      <td>1</td>\n",
              "      <td>0</td>\n",
              "    </tr>\n",
              "    <tr>\n",
              "      <th>353</th>\n",
              "      <td>03/08/12</td>\n",
              "      <td>1.25</td>\n",
              "      <td>0.30</td>\n",
              "      <td>12.0</td>\n",
              "      <td>24.1</td>\n",
              "      <td>0.4</td>\n",
              "      <td>330</td>\n",
              "      <td>42.8</td>\n",
              "      <td>1</td>\n",
              "      <td>0</td>\n",
              "    </tr>\n",
              "    <tr>\n",
              "      <th>342</th>\n",
              "      <td>04/09/12</td>\n",
              "      <td>1.10</td>\n",
              "      <td>0.40</td>\n",
              "      <td>12.8</td>\n",
              "      <td>25.7</td>\n",
              "      <td>0.0</td>\n",
              "      <td>672</td>\n",
              "      <td>37.0</td>\n",
              "      <td>1</td>\n",
              "      <td>0</td>\n",
              "    </tr>\n",
              "    <tr>\n",
              "      <th>...</th>\n",
              "      <td>...</td>\n",
              "      <td>...</td>\n",
              "      <td>...</td>\n",
              "      <td>...</td>\n",
              "      <td>...</td>\n",
              "      <td>...</td>\n",
              "      <td>...</td>\n",
              "      <td>...</td>\n",
              "      <td>...</td>\n",
              "      <td>...</td>\n",
              "    </tr>\n",
              "    <tr>\n",
              "      <th>388</th>\n",
              "      <td>11/09/20</td>\n",
              "      <td>1.75</td>\n",
              "      <td>0.50</td>\n",
              "      <td>14.1</td>\n",
              "      <td>28.2</td>\n",
              "      <td>0.0</td>\n",
              "      <td>552</td>\n",
              "      <td>29.5</td>\n",
              "      <td>0</td>\n",
              "      <td>1</td>\n",
              "    </tr>\n",
              "    <tr>\n",
              "      <th>19</th>\n",
              "      <td>11/09/20</td>\n",
              "      <td>1.05</td>\n",
              "      <td>0.50</td>\n",
              "      <td>14.1</td>\n",
              "      <td>28.2</td>\n",
              "      <td>0.0</td>\n",
              "      <td>552</td>\n",
              "      <td>29.5</td>\n",
              "      <td>1</td>\n",
              "      <td>0</td>\n",
              "    </tr>\n",
              "    <tr>\n",
              "      <th>373</th>\n",
              "      <td>19/11/20</td>\n",
              "      <td>1.80</td>\n",
              "      <td>0.05</td>\n",
              "      <td>5.8</td>\n",
              "      <td>11.5</td>\n",
              "      <td>0.0</td>\n",
              "      <td>352</td>\n",
              "      <td>61.2</td>\n",
              "      <td>0</td>\n",
              "      <td>1</td>\n",
              "    </tr>\n",
              "    <tr>\n",
              "      <th>372</th>\n",
              "      <td>20/11/20</td>\n",
              "      <td>1.50</td>\n",
              "      <td>0.10</td>\n",
              "      <td>-0.1</td>\n",
              "      <td>10.6</td>\n",
              "      <td>0.0</td>\n",
              "      <td>297</td>\n",
              "      <td>26.3</td>\n",
              "      <td>0</td>\n",
              "      <td>1</td>\n",
              "    </tr>\n",
              "    <tr>\n",
              "      <th>0</th>\n",
              "      <td>21/06/21</td>\n",
              "      <td>1.50</td>\n",
              "      <td>0.20</td>\n",
              "      <td>15.7</td>\n",
              "      <td>24.9</td>\n",
              "      <td>3.8</td>\n",
              "      <td>423</td>\n",
              "      <td>61.2</td>\n",
              "      <td>1</td>\n",
              "      <td>0</td>\n",
              "    </tr>\n",
              "  </tbody>\n",
              "</table>\n",
              "<p>424 rows × 10 columns</p>\n",
              "</div>"
            ],
            "text/plain": [
              "         Date  ...  Tomate ronde cat.I 67-82mm\n",
              "354  01/08/12  ...                           0\n",
              "333  01/10/12  ...                           0\n",
              "332  02/10/12  ...                           0\n",
              "353  03/08/12  ...                           0\n",
              "342  04/09/12  ...                           0\n",
              "..        ...  ...                         ...\n",
              "388  11/09/20  ...                           1\n",
              "19   11/09/20  ...                           0\n",
              "373  19/11/20  ...                           1\n",
              "372  20/11/20  ...                           1\n",
              "0    21/06/21  ...                           0\n",
              "\n",
              "[424 rows x 10 columns]"
            ]
          },
          "metadata": {},
          "execution_count": 14
        }
      ]
    },
    {
      "cell_type": "code",
      "metadata": {
        "colab": {
          "base_uri": "https://localhost:8080/",
          "height": 649
        },
        "id": "aJ1LHJgeMp3m",
        "outputId": "17c98e1e-24cf-48d2-bd1f-e8bd5bda108f"
      },
      "source": [
        "T['Date'] = pd.to_datetime(T['Date'])\n",
        "T"
      ],
      "execution_count": 15,
      "outputs": [
        {
          "output_type": "execute_result",
          "data": {
            "text/html": [
              "<div>\n",
              "<style scoped>\n",
              "    .dataframe tbody tr th:only-of-type {\n",
              "        vertical-align: middle;\n",
              "    }\n",
              "\n",
              "    .dataframe tbody tr th {\n",
              "        vertical-align: top;\n",
              "    }\n",
              "\n",
              "    .dataframe thead th {\n",
              "        text-align: right;\n",
              "    }\n",
              "</style>\n",
              "<table border=\"1\" class=\"dataframe\">\n",
              "  <thead>\n",
              "    <tr style=\"text-align: right;\">\n",
              "      <th></th>\n",
              "      <th>Date</th>\n",
              "      <th>prix moyen au kg</th>\n",
              "      <th>Production quantité \\ntonne(s)</th>\n",
              "      <th>Température minimale en °C</th>\n",
              "      <th>Température maximale en °C</th>\n",
              "      <th>précipitations en mm</th>\n",
              "      <th>Ensoleillement en min</th>\n",
              "      <th>Rafales (vitesse du vent) en km/h</th>\n",
              "      <th>Tomate ronde  cat.I 57-67mm</th>\n",
              "      <th>Tomate ronde cat.I 67-82mm</th>\n",
              "    </tr>\n",
              "  </thead>\n",
              "  <tbody>\n",
              "    <tr>\n",
              "      <th>354</th>\n",
              "      <td>2012-01-08</td>\n",
              "      <td>1.30</td>\n",
              "      <td>0.20</td>\n",
              "      <td>11.8</td>\n",
              "      <td>28.0</td>\n",
              "      <td>0.4</td>\n",
              "      <td>445</td>\n",
              "      <td>44.4</td>\n",
              "      <td>1</td>\n",
              "      <td>0</td>\n",
              "    </tr>\n",
              "    <tr>\n",
              "      <th>333</th>\n",
              "      <td>2012-01-10</td>\n",
              "      <td>1.10</td>\n",
              "      <td>0.20</td>\n",
              "      <td>3.5</td>\n",
              "      <td>19.1</td>\n",
              "      <td>0.8</td>\n",
              "      <td>536</td>\n",
              "      <td>40.7</td>\n",
              "      <td>1</td>\n",
              "      <td>0</td>\n",
              "    </tr>\n",
              "    <tr>\n",
              "      <th>332</th>\n",
              "      <td>2012-02-10</td>\n",
              "      <td>1.10</td>\n",
              "      <td>0.20</td>\n",
              "      <td>12.8</td>\n",
              "      <td>18.8</td>\n",
              "      <td>0.2</td>\n",
              "      <td>121</td>\n",
              "      <td>38.9</td>\n",
              "      <td>1</td>\n",
              "      <td>0</td>\n",
              "    </tr>\n",
              "    <tr>\n",
              "      <th>353</th>\n",
              "      <td>2012-03-08</td>\n",
              "      <td>1.25</td>\n",
              "      <td>0.30</td>\n",
              "      <td>12.0</td>\n",
              "      <td>24.1</td>\n",
              "      <td>0.4</td>\n",
              "      <td>330</td>\n",
              "      <td>42.8</td>\n",
              "      <td>1</td>\n",
              "      <td>0</td>\n",
              "    </tr>\n",
              "    <tr>\n",
              "      <th>342</th>\n",
              "      <td>2012-04-09</td>\n",
              "      <td>1.10</td>\n",
              "      <td>0.40</td>\n",
              "      <td>12.8</td>\n",
              "      <td>25.7</td>\n",
              "      <td>0.0</td>\n",
              "      <td>672</td>\n",
              "      <td>37.0</td>\n",
              "      <td>1</td>\n",
              "      <td>0</td>\n",
              "    </tr>\n",
              "    <tr>\n",
              "      <th>...</th>\n",
              "      <td>...</td>\n",
              "      <td>...</td>\n",
              "      <td>...</td>\n",
              "      <td>...</td>\n",
              "      <td>...</td>\n",
              "      <td>...</td>\n",
              "      <td>...</td>\n",
              "      <td>...</td>\n",
              "      <td>...</td>\n",
              "      <td>...</td>\n",
              "    </tr>\n",
              "    <tr>\n",
              "      <th>388</th>\n",
              "      <td>2020-11-09</td>\n",
              "      <td>1.75</td>\n",
              "      <td>0.50</td>\n",
              "      <td>14.1</td>\n",
              "      <td>28.2</td>\n",
              "      <td>0.0</td>\n",
              "      <td>552</td>\n",
              "      <td>29.5</td>\n",
              "      <td>0</td>\n",
              "      <td>1</td>\n",
              "    </tr>\n",
              "    <tr>\n",
              "      <th>19</th>\n",
              "      <td>2020-11-09</td>\n",
              "      <td>1.05</td>\n",
              "      <td>0.50</td>\n",
              "      <td>14.1</td>\n",
              "      <td>28.2</td>\n",
              "      <td>0.0</td>\n",
              "      <td>552</td>\n",
              "      <td>29.5</td>\n",
              "      <td>1</td>\n",
              "      <td>0</td>\n",
              "    </tr>\n",
              "    <tr>\n",
              "      <th>373</th>\n",
              "      <td>2020-11-19</td>\n",
              "      <td>1.80</td>\n",
              "      <td>0.05</td>\n",
              "      <td>5.8</td>\n",
              "      <td>11.5</td>\n",
              "      <td>0.0</td>\n",
              "      <td>352</td>\n",
              "      <td>61.2</td>\n",
              "      <td>0</td>\n",
              "      <td>1</td>\n",
              "    </tr>\n",
              "    <tr>\n",
              "      <th>372</th>\n",
              "      <td>2020-11-20</td>\n",
              "      <td>1.50</td>\n",
              "      <td>0.10</td>\n",
              "      <td>-0.1</td>\n",
              "      <td>10.6</td>\n",
              "      <td>0.0</td>\n",
              "      <td>297</td>\n",
              "      <td>26.3</td>\n",
              "      <td>0</td>\n",
              "      <td>1</td>\n",
              "    </tr>\n",
              "    <tr>\n",
              "      <th>0</th>\n",
              "      <td>2021-06-21</td>\n",
              "      <td>1.50</td>\n",
              "      <td>0.20</td>\n",
              "      <td>15.7</td>\n",
              "      <td>24.9</td>\n",
              "      <td>3.8</td>\n",
              "      <td>423</td>\n",
              "      <td>61.2</td>\n",
              "      <td>1</td>\n",
              "      <td>0</td>\n",
              "    </tr>\n",
              "  </tbody>\n",
              "</table>\n",
              "<p>424 rows × 10 columns</p>\n",
              "</div>"
            ],
            "text/plain": [
              "          Date  ...  Tomate ronde cat.I 67-82mm\n",
              "354 2012-01-08  ...                           0\n",
              "333 2012-01-10  ...                           0\n",
              "332 2012-02-10  ...                           0\n",
              "353 2012-03-08  ...                           0\n",
              "342 2012-04-09  ...                           0\n",
              "..         ...  ...                         ...\n",
              "388 2020-11-09  ...                           1\n",
              "19  2020-11-09  ...                           0\n",
              "373 2020-11-19  ...                           1\n",
              "372 2020-11-20  ...                           1\n",
              "0   2021-06-21  ...                           0\n",
              "\n",
              "[424 rows x 10 columns]"
            ]
          },
          "metadata": {},
          "execution_count": 15
        }
      ]
    },
    {
      "cell_type": "code",
      "metadata": {
        "id": "vME9_4bgLzoE"
      },
      "source": [
        "T['mois'] = T['Date'].dt.month\n",
        "T['jour'] = T['Date'].dt.day\n",
        "T['année'] = T['Date'].dt.year"
      ],
      "execution_count": 16,
      "outputs": []
    },
    {
      "cell_type": "code",
      "metadata": {
        "colab": {
          "base_uri": "https://localhost:8080/",
          "height": 476
        },
        "id": "3eiGr83zNPHS",
        "outputId": "d2fc5108-d170-4712-fb5b-7dc8b98360bc"
      },
      "source": [
        "T = T.drop([\"Date\"], axis=1)\n",
        "T"
      ],
      "execution_count": 17,
      "outputs": [
        {
          "output_type": "execute_result",
          "data": {
            "text/html": [
              "<div>\n",
              "<style scoped>\n",
              "    .dataframe tbody tr th:only-of-type {\n",
              "        vertical-align: middle;\n",
              "    }\n",
              "\n",
              "    .dataframe tbody tr th {\n",
              "        vertical-align: top;\n",
              "    }\n",
              "\n",
              "    .dataframe thead th {\n",
              "        text-align: right;\n",
              "    }\n",
              "</style>\n",
              "<table border=\"1\" class=\"dataframe\">\n",
              "  <thead>\n",
              "    <tr style=\"text-align: right;\">\n",
              "      <th></th>\n",
              "      <th>prix moyen au kg</th>\n",
              "      <th>Production quantité \\ntonne(s)</th>\n",
              "      <th>Température minimale en °C</th>\n",
              "      <th>Température maximale en °C</th>\n",
              "      <th>précipitations en mm</th>\n",
              "      <th>Ensoleillement en min</th>\n",
              "      <th>Rafales (vitesse du vent) en km/h</th>\n",
              "      <th>Tomate ronde  cat.I 57-67mm</th>\n",
              "      <th>Tomate ronde cat.I 67-82mm</th>\n",
              "      <th>mois</th>\n",
              "      <th>jour</th>\n",
              "      <th>année</th>\n",
              "    </tr>\n",
              "  </thead>\n",
              "  <tbody>\n",
              "    <tr>\n",
              "      <th>354</th>\n",
              "      <td>1.30</td>\n",
              "      <td>0.20</td>\n",
              "      <td>11.8</td>\n",
              "      <td>28.0</td>\n",
              "      <td>0.4</td>\n",
              "      <td>445</td>\n",
              "      <td>44.4</td>\n",
              "      <td>1</td>\n",
              "      <td>0</td>\n",
              "      <td>1</td>\n",
              "      <td>8</td>\n",
              "      <td>2012</td>\n",
              "    </tr>\n",
              "    <tr>\n",
              "      <th>333</th>\n",
              "      <td>1.10</td>\n",
              "      <td>0.20</td>\n",
              "      <td>3.5</td>\n",
              "      <td>19.1</td>\n",
              "      <td>0.8</td>\n",
              "      <td>536</td>\n",
              "      <td>40.7</td>\n",
              "      <td>1</td>\n",
              "      <td>0</td>\n",
              "      <td>1</td>\n",
              "      <td>10</td>\n",
              "      <td>2012</td>\n",
              "    </tr>\n",
              "    <tr>\n",
              "      <th>332</th>\n",
              "      <td>1.10</td>\n",
              "      <td>0.20</td>\n",
              "      <td>12.8</td>\n",
              "      <td>18.8</td>\n",
              "      <td>0.2</td>\n",
              "      <td>121</td>\n",
              "      <td>38.9</td>\n",
              "      <td>1</td>\n",
              "      <td>0</td>\n",
              "      <td>2</td>\n",
              "      <td>10</td>\n",
              "      <td>2012</td>\n",
              "    </tr>\n",
              "    <tr>\n",
              "      <th>353</th>\n",
              "      <td>1.25</td>\n",
              "      <td>0.30</td>\n",
              "      <td>12.0</td>\n",
              "      <td>24.1</td>\n",
              "      <td>0.4</td>\n",
              "      <td>330</td>\n",
              "      <td>42.8</td>\n",
              "      <td>1</td>\n",
              "      <td>0</td>\n",
              "      <td>3</td>\n",
              "      <td>8</td>\n",
              "      <td>2012</td>\n",
              "    </tr>\n",
              "    <tr>\n",
              "      <th>342</th>\n",
              "      <td>1.10</td>\n",
              "      <td>0.40</td>\n",
              "      <td>12.8</td>\n",
              "      <td>25.7</td>\n",
              "      <td>0.0</td>\n",
              "      <td>672</td>\n",
              "      <td>37.0</td>\n",
              "      <td>1</td>\n",
              "      <td>0</td>\n",
              "      <td>4</td>\n",
              "      <td>9</td>\n",
              "      <td>2012</td>\n",
              "    </tr>\n",
              "    <tr>\n",
              "      <th>...</th>\n",
              "      <td>...</td>\n",
              "      <td>...</td>\n",
              "      <td>...</td>\n",
              "      <td>...</td>\n",
              "      <td>...</td>\n",
              "      <td>...</td>\n",
              "      <td>...</td>\n",
              "      <td>...</td>\n",
              "      <td>...</td>\n",
              "      <td>...</td>\n",
              "      <td>...</td>\n",
              "      <td>...</td>\n",
              "    </tr>\n",
              "    <tr>\n",
              "      <th>388</th>\n",
              "      <td>1.75</td>\n",
              "      <td>0.50</td>\n",
              "      <td>14.1</td>\n",
              "      <td>28.2</td>\n",
              "      <td>0.0</td>\n",
              "      <td>552</td>\n",
              "      <td>29.5</td>\n",
              "      <td>0</td>\n",
              "      <td>1</td>\n",
              "      <td>11</td>\n",
              "      <td>9</td>\n",
              "      <td>2020</td>\n",
              "    </tr>\n",
              "    <tr>\n",
              "      <th>19</th>\n",
              "      <td>1.05</td>\n",
              "      <td>0.50</td>\n",
              "      <td>14.1</td>\n",
              "      <td>28.2</td>\n",
              "      <td>0.0</td>\n",
              "      <td>552</td>\n",
              "      <td>29.5</td>\n",
              "      <td>1</td>\n",
              "      <td>0</td>\n",
              "      <td>11</td>\n",
              "      <td>9</td>\n",
              "      <td>2020</td>\n",
              "    </tr>\n",
              "    <tr>\n",
              "      <th>373</th>\n",
              "      <td>1.80</td>\n",
              "      <td>0.05</td>\n",
              "      <td>5.8</td>\n",
              "      <td>11.5</td>\n",
              "      <td>0.0</td>\n",
              "      <td>352</td>\n",
              "      <td>61.2</td>\n",
              "      <td>0</td>\n",
              "      <td>1</td>\n",
              "      <td>11</td>\n",
              "      <td>19</td>\n",
              "      <td>2020</td>\n",
              "    </tr>\n",
              "    <tr>\n",
              "      <th>372</th>\n",
              "      <td>1.50</td>\n",
              "      <td>0.10</td>\n",
              "      <td>-0.1</td>\n",
              "      <td>10.6</td>\n",
              "      <td>0.0</td>\n",
              "      <td>297</td>\n",
              "      <td>26.3</td>\n",
              "      <td>0</td>\n",
              "      <td>1</td>\n",
              "      <td>11</td>\n",
              "      <td>20</td>\n",
              "      <td>2020</td>\n",
              "    </tr>\n",
              "    <tr>\n",
              "      <th>0</th>\n",
              "      <td>1.50</td>\n",
              "      <td>0.20</td>\n",
              "      <td>15.7</td>\n",
              "      <td>24.9</td>\n",
              "      <td>3.8</td>\n",
              "      <td>423</td>\n",
              "      <td>61.2</td>\n",
              "      <td>1</td>\n",
              "      <td>0</td>\n",
              "      <td>6</td>\n",
              "      <td>21</td>\n",
              "      <td>2021</td>\n",
              "    </tr>\n",
              "  </tbody>\n",
              "</table>\n",
              "<p>424 rows × 12 columns</p>\n",
              "</div>"
            ],
            "text/plain": [
              "     prix moyen au kg  Production quantité \\ntonne(s)  ...  jour  année\n",
              "354              1.30                            0.20  ...     8   2012\n",
              "333              1.10                            0.20  ...    10   2012\n",
              "332              1.10                            0.20  ...    10   2012\n",
              "353              1.25                            0.30  ...     8   2012\n",
              "342              1.10                            0.40  ...     9   2012\n",
              "..                ...                             ...  ...   ...    ...\n",
              "388              1.75                            0.50  ...     9   2020\n",
              "19               1.05                            0.50  ...     9   2020\n",
              "373              1.80                            0.05  ...    19   2020\n",
              "372              1.50                            0.10  ...    20   2020\n",
              "0                1.50                            0.20  ...    21   2021\n",
              "\n",
              "[424 rows x 12 columns]"
            ]
          },
          "metadata": {},
          "execution_count": 17
        }
      ]
    },
    {
      "cell_type": "code",
      "metadata": {
        "id": "76qvZZKTNPVR"
      },
      "source": [
        "dummy_mois = pd.get_dummies(T['mois'])\n",
        "dummy_jour = pd.get_dummies(T['jour'])\n",
        "dummy_a = pd.get_dummies(T['année'])"
      ],
      "execution_count": 18,
      "outputs": []
    },
    {
      "cell_type": "code",
      "metadata": {
        "id": "njfRpqv_NPYn"
      },
      "source": [
        "\n",
        "T1 = pd.merge(\n",
        "    left=T,\n",
        "    right=dummy_mois,\n",
        "    left_index=True,\n",
        "    right_index=True,\n",
        ")\n",
        "\n",
        "T2 = pd.merge(\n",
        "    left=T1,\n",
        "    right=dummy_a,\n",
        "    left_index=True,\n",
        "    right_index=True,\n",
        ")\n",
        "\n",
        "T3 = pd.merge(\n",
        "    left=T2,\n",
        "    right=dummy_jour,\n",
        "    left_index=True,\n",
        "    right_index=True,\n",
        ")"
      ],
      "execution_count": 19,
      "outputs": []
    },
    {
      "cell_type": "code",
      "metadata": {
        "colab": {
          "base_uri": "https://localhost:8080/",
          "height": 513
        },
        "id": "oHQMgbBlNPcd",
        "outputId": "0c36085a-d2b7-4036-f644-d5d05aed7107"
      },
      "source": [
        "T3 = T3.drop([\"mois\",\"jour\",\"année\"], axis=1)\n",
        "T3"
      ],
      "execution_count": 20,
      "outputs": [
        {
          "output_type": "execute_result",
          "data": {
            "text/html": [
              "<div>\n",
              "<style scoped>\n",
              "    .dataframe tbody tr th:only-of-type {\n",
              "        vertical-align: middle;\n",
              "    }\n",
              "\n",
              "    .dataframe tbody tr th {\n",
              "        vertical-align: top;\n",
              "    }\n",
              "\n",
              "    .dataframe thead th {\n",
              "        text-align: right;\n",
              "    }\n",
              "</style>\n",
              "<table border=\"1\" class=\"dataframe\">\n",
              "  <thead>\n",
              "    <tr style=\"text-align: right;\">\n",
              "      <th></th>\n",
              "      <th>prix moyen au kg</th>\n",
              "      <th>Production quantité \\ntonne(s)</th>\n",
              "      <th>Température minimale en °C</th>\n",
              "      <th>Température maximale en °C</th>\n",
              "      <th>précipitations en mm</th>\n",
              "      <th>Ensoleillement en min</th>\n",
              "      <th>Rafales (vitesse du vent) en km/h</th>\n",
              "      <th>Tomate ronde  cat.I 57-67mm</th>\n",
              "      <th>Tomate ronde cat.I 67-82mm</th>\n",
              "      <th>1</th>\n",
              "      <th>2</th>\n",
              "      <th>3</th>\n",
              "      <th>4</th>\n",
              "      <th>5</th>\n",
              "      <th>6_x</th>\n",
              "      <th>7_x</th>\n",
              "      <th>8_x</th>\n",
              "      <th>9_x</th>\n",
              "      <th>10_x</th>\n",
              "      <th>11_x</th>\n",
              "      <th>12_x</th>\n",
              "      <th>2012</th>\n",
              "      <th>2013</th>\n",
              "      <th>2014</th>\n",
              "      <th>2015</th>\n",
              "      <th>2016</th>\n",
              "      <th>2017</th>\n",
              "      <th>2018</th>\n",
              "      <th>2019</th>\n",
              "      <th>2020</th>\n",
              "      <th>2021</th>\n",
              "      <th>6_y</th>\n",
              "      <th>7_y</th>\n",
              "      <th>8_y</th>\n",
              "      <th>9_y</th>\n",
              "      <th>10_y</th>\n",
              "      <th>11_y</th>\n",
              "      <th>12_y</th>\n",
              "      <th>13</th>\n",
              "      <th>14</th>\n",
              "      <th>15</th>\n",
              "      <th>16</th>\n",
              "      <th>17</th>\n",
              "      <th>18</th>\n",
              "      <th>19</th>\n",
              "      <th>20</th>\n",
              "      <th>21</th>\n",
              "      <th>22</th>\n",
              "      <th>23</th>\n",
              "      <th>24</th>\n",
              "      <th>25</th>\n",
              "      <th>26</th>\n",
              "      <th>27</th>\n",
              "      <th>28</th>\n",
              "      <th>29</th>\n",
              "      <th>30</th>\n",
              "      <th>31</th>\n",
              "    </tr>\n",
              "  </thead>\n",
              "  <tbody>\n",
              "    <tr>\n",
              "      <th>354</th>\n",
              "      <td>1.30</td>\n",
              "      <td>0.20</td>\n",
              "      <td>11.8</td>\n",
              "      <td>28.0</td>\n",
              "      <td>0.4</td>\n",
              "      <td>445</td>\n",
              "      <td>44.4</td>\n",
              "      <td>1</td>\n",
              "      <td>0</td>\n",
              "      <td>1</td>\n",
              "      <td>0</td>\n",
              "      <td>0</td>\n",
              "      <td>0</td>\n",
              "      <td>0</td>\n",
              "      <td>0</td>\n",
              "      <td>0</td>\n",
              "      <td>0</td>\n",
              "      <td>0</td>\n",
              "      <td>0</td>\n",
              "      <td>0</td>\n",
              "      <td>0</td>\n",
              "      <td>1</td>\n",
              "      <td>0</td>\n",
              "      <td>0</td>\n",
              "      <td>0</td>\n",
              "      <td>0</td>\n",
              "      <td>0</td>\n",
              "      <td>0</td>\n",
              "      <td>0</td>\n",
              "      <td>0</td>\n",
              "      <td>0</td>\n",
              "      <td>0</td>\n",
              "      <td>0</td>\n",
              "      <td>1</td>\n",
              "      <td>0</td>\n",
              "      <td>0</td>\n",
              "      <td>0</td>\n",
              "      <td>0</td>\n",
              "      <td>0</td>\n",
              "      <td>0</td>\n",
              "      <td>0</td>\n",
              "      <td>0</td>\n",
              "      <td>0</td>\n",
              "      <td>0</td>\n",
              "      <td>0</td>\n",
              "      <td>0</td>\n",
              "      <td>0</td>\n",
              "      <td>0</td>\n",
              "      <td>0</td>\n",
              "      <td>0</td>\n",
              "      <td>0</td>\n",
              "      <td>0</td>\n",
              "      <td>0</td>\n",
              "      <td>0</td>\n",
              "      <td>0</td>\n",
              "      <td>0</td>\n",
              "      <td>0</td>\n",
              "    </tr>\n",
              "    <tr>\n",
              "      <th>333</th>\n",
              "      <td>1.10</td>\n",
              "      <td>0.20</td>\n",
              "      <td>3.5</td>\n",
              "      <td>19.1</td>\n",
              "      <td>0.8</td>\n",
              "      <td>536</td>\n",
              "      <td>40.7</td>\n",
              "      <td>1</td>\n",
              "      <td>0</td>\n",
              "      <td>1</td>\n",
              "      <td>0</td>\n",
              "      <td>0</td>\n",
              "      <td>0</td>\n",
              "      <td>0</td>\n",
              "      <td>0</td>\n",
              "      <td>0</td>\n",
              "      <td>0</td>\n",
              "      <td>0</td>\n",
              "      <td>0</td>\n",
              "      <td>0</td>\n",
              "      <td>0</td>\n",
              "      <td>1</td>\n",
              "      <td>0</td>\n",
              "      <td>0</td>\n",
              "      <td>0</td>\n",
              "      <td>0</td>\n",
              "      <td>0</td>\n",
              "      <td>0</td>\n",
              "      <td>0</td>\n",
              "      <td>0</td>\n",
              "      <td>0</td>\n",
              "      <td>0</td>\n",
              "      <td>0</td>\n",
              "      <td>0</td>\n",
              "      <td>0</td>\n",
              "      <td>1</td>\n",
              "      <td>0</td>\n",
              "      <td>0</td>\n",
              "      <td>0</td>\n",
              "      <td>0</td>\n",
              "      <td>0</td>\n",
              "      <td>0</td>\n",
              "      <td>0</td>\n",
              "      <td>0</td>\n",
              "      <td>0</td>\n",
              "      <td>0</td>\n",
              "      <td>0</td>\n",
              "      <td>0</td>\n",
              "      <td>0</td>\n",
              "      <td>0</td>\n",
              "      <td>0</td>\n",
              "      <td>0</td>\n",
              "      <td>0</td>\n",
              "      <td>0</td>\n",
              "      <td>0</td>\n",
              "      <td>0</td>\n",
              "      <td>0</td>\n",
              "    </tr>\n",
              "    <tr>\n",
              "      <th>332</th>\n",
              "      <td>1.10</td>\n",
              "      <td>0.20</td>\n",
              "      <td>12.8</td>\n",
              "      <td>18.8</td>\n",
              "      <td>0.2</td>\n",
              "      <td>121</td>\n",
              "      <td>38.9</td>\n",
              "      <td>1</td>\n",
              "      <td>0</td>\n",
              "      <td>0</td>\n",
              "      <td>1</td>\n",
              "      <td>0</td>\n",
              "      <td>0</td>\n",
              "      <td>0</td>\n",
              "      <td>0</td>\n",
              "      <td>0</td>\n",
              "      <td>0</td>\n",
              "      <td>0</td>\n",
              "      <td>0</td>\n",
              "      <td>0</td>\n",
              "      <td>0</td>\n",
              "      <td>1</td>\n",
              "      <td>0</td>\n",
              "      <td>0</td>\n",
              "      <td>0</td>\n",
              "      <td>0</td>\n",
              "      <td>0</td>\n",
              "      <td>0</td>\n",
              "      <td>0</td>\n",
              "      <td>0</td>\n",
              "      <td>0</td>\n",
              "      <td>0</td>\n",
              "      <td>0</td>\n",
              "      <td>0</td>\n",
              "      <td>0</td>\n",
              "      <td>1</td>\n",
              "      <td>0</td>\n",
              "      <td>0</td>\n",
              "      <td>0</td>\n",
              "      <td>0</td>\n",
              "      <td>0</td>\n",
              "      <td>0</td>\n",
              "      <td>0</td>\n",
              "      <td>0</td>\n",
              "      <td>0</td>\n",
              "      <td>0</td>\n",
              "      <td>0</td>\n",
              "      <td>0</td>\n",
              "      <td>0</td>\n",
              "      <td>0</td>\n",
              "      <td>0</td>\n",
              "      <td>0</td>\n",
              "      <td>0</td>\n",
              "      <td>0</td>\n",
              "      <td>0</td>\n",
              "      <td>0</td>\n",
              "      <td>0</td>\n",
              "    </tr>\n",
              "    <tr>\n",
              "      <th>353</th>\n",
              "      <td>1.25</td>\n",
              "      <td>0.30</td>\n",
              "      <td>12.0</td>\n",
              "      <td>24.1</td>\n",
              "      <td>0.4</td>\n",
              "      <td>330</td>\n",
              "      <td>42.8</td>\n",
              "      <td>1</td>\n",
              "      <td>0</td>\n",
              "      <td>0</td>\n",
              "      <td>0</td>\n",
              "      <td>1</td>\n",
              "      <td>0</td>\n",
              "      <td>0</td>\n",
              "      <td>0</td>\n",
              "      <td>0</td>\n",
              "      <td>0</td>\n",
              "      <td>0</td>\n",
              "      <td>0</td>\n",
              "      <td>0</td>\n",
              "      <td>0</td>\n",
              "      <td>1</td>\n",
              "      <td>0</td>\n",
              "      <td>0</td>\n",
              "      <td>0</td>\n",
              "      <td>0</td>\n",
              "      <td>0</td>\n",
              "      <td>0</td>\n",
              "      <td>0</td>\n",
              "      <td>0</td>\n",
              "      <td>0</td>\n",
              "      <td>0</td>\n",
              "      <td>0</td>\n",
              "      <td>1</td>\n",
              "      <td>0</td>\n",
              "      <td>0</td>\n",
              "      <td>0</td>\n",
              "      <td>0</td>\n",
              "      <td>0</td>\n",
              "      <td>0</td>\n",
              "      <td>0</td>\n",
              "      <td>0</td>\n",
              "      <td>0</td>\n",
              "      <td>0</td>\n",
              "      <td>0</td>\n",
              "      <td>0</td>\n",
              "      <td>0</td>\n",
              "      <td>0</td>\n",
              "      <td>0</td>\n",
              "      <td>0</td>\n",
              "      <td>0</td>\n",
              "      <td>0</td>\n",
              "      <td>0</td>\n",
              "      <td>0</td>\n",
              "      <td>0</td>\n",
              "      <td>0</td>\n",
              "      <td>0</td>\n",
              "    </tr>\n",
              "    <tr>\n",
              "      <th>342</th>\n",
              "      <td>1.10</td>\n",
              "      <td>0.40</td>\n",
              "      <td>12.8</td>\n",
              "      <td>25.7</td>\n",
              "      <td>0.0</td>\n",
              "      <td>672</td>\n",
              "      <td>37.0</td>\n",
              "      <td>1</td>\n",
              "      <td>0</td>\n",
              "      <td>0</td>\n",
              "      <td>0</td>\n",
              "      <td>0</td>\n",
              "      <td>1</td>\n",
              "      <td>0</td>\n",
              "      <td>0</td>\n",
              "      <td>0</td>\n",
              "      <td>0</td>\n",
              "      <td>0</td>\n",
              "      <td>0</td>\n",
              "      <td>0</td>\n",
              "      <td>0</td>\n",
              "      <td>1</td>\n",
              "      <td>0</td>\n",
              "      <td>0</td>\n",
              "      <td>0</td>\n",
              "      <td>0</td>\n",
              "      <td>0</td>\n",
              "      <td>0</td>\n",
              "      <td>0</td>\n",
              "      <td>0</td>\n",
              "      <td>0</td>\n",
              "      <td>0</td>\n",
              "      <td>0</td>\n",
              "      <td>0</td>\n",
              "      <td>1</td>\n",
              "      <td>0</td>\n",
              "      <td>0</td>\n",
              "      <td>0</td>\n",
              "      <td>0</td>\n",
              "      <td>0</td>\n",
              "      <td>0</td>\n",
              "      <td>0</td>\n",
              "      <td>0</td>\n",
              "      <td>0</td>\n",
              "      <td>0</td>\n",
              "      <td>0</td>\n",
              "      <td>0</td>\n",
              "      <td>0</td>\n",
              "      <td>0</td>\n",
              "      <td>0</td>\n",
              "      <td>0</td>\n",
              "      <td>0</td>\n",
              "      <td>0</td>\n",
              "      <td>0</td>\n",
              "      <td>0</td>\n",
              "      <td>0</td>\n",
              "      <td>0</td>\n",
              "    </tr>\n",
              "    <tr>\n",
              "      <th>...</th>\n",
              "      <td>...</td>\n",
              "      <td>...</td>\n",
              "      <td>...</td>\n",
              "      <td>...</td>\n",
              "      <td>...</td>\n",
              "      <td>...</td>\n",
              "      <td>...</td>\n",
              "      <td>...</td>\n",
              "      <td>...</td>\n",
              "      <td>...</td>\n",
              "      <td>...</td>\n",
              "      <td>...</td>\n",
              "      <td>...</td>\n",
              "      <td>...</td>\n",
              "      <td>...</td>\n",
              "      <td>...</td>\n",
              "      <td>...</td>\n",
              "      <td>...</td>\n",
              "      <td>...</td>\n",
              "      <td>...</td>\n",
              "      <td>...</td>\n",
              "      <td>...</td>\n",
              "      <td>...</td>\n",
              "      <td>...</td>\n",
              "      <td>...</td>\n",
              "      <td>...</td>\n",
              "      <td>...</td>\n",
              "      <td>...</td>\n",
              "      <td>...</td>\n",
              "      <td>...</td>\n",
              "      <td>...</td>\n",
              "      <td>...</td>\n",
              "      <td>...</td>\n",
              "      <td>...</td>\n",
              "      <td>...</td>\n",
              "      <td>...</td>\n",
              "      <td>...</td>\n",
              "      <td>...</td>\n",
              "      <td>...</td>\n",
              "      <td>...</td>\n",
              "      <td>...</td>\n",
              "      <td>...</td>\n",
              "      <td>...</td>\n",
              "      <td>...</td>\n",
              "      <td>...</td>\n",
              "      <td>...</td>\n",
              "      <td>...</td>\n",
              "      <td>...</td>\n",
              "      <td>...</td>\n",
              "      <td>...</td>\n",
              "      <td>...</td>\n",
              "      <td>...</td>\n",
              "      <td>...</td>\n",
              "      <td>...</td>\n",
              "      <td>...</td>\n",
              "      <td>...</td>\n",
              "      <td>...</td>\n",
              "    </tr>\n",
              "    <tr>\n",
              "      <th>388</th>\n",
              "      <td>1.75</td>\n",
              "      <td>0.50</td>\n",
              "      <td>14.1</td>\n",
              "      <td>28.2</td>\n",
              "      <td>0.0</td>\n",
              "      <td>552</td>\n",
              "      <td>29.5</td>\n",
              "      <td>0</td>\n",
              "      <td>1</td>\n",
              "      <td>0</td>\n",
              "      <td>0</td>\n",
              "      <td>0</td>\n",
              "      <td>0</td>\n",
              "      <td>0</td>\n",
              "      <td>0</td>\n",
              "      <td>0</td>\n",
              "      <td>0</td>\n",
              "      <td>0</td>\n",
              "      <td>0</td>\n",
              "      <td>1</td>\n",
              "      <td>0</td>\n",
              "      <td>0</td>\n",
              "      <td>0</td>\n",
              "      <td>0</td>\n",
              "      <td>0</td>\n",
              "      <td>0</td>\n",
              "      <td>0</td>\n",
              "      <td>0</td>\n",
              "      <td>0</td>\n",
              "      <td>1</td>\n",
              "      <td>0</td>\n",
              "      <td>0</td>\n",
              "      <td>0</td>\n",
              "      <td>0</td>\n",
              "      <td>1</td>\n",
              "      <td>0</td>\n",
              "      <td>0</td>\n",
              "      <td>0</td>\n",
              "      <td>0</td>\n",
              "      <td>0</td>\n",
              "      <td>0</td>\n",
              "      <td>0</td>\n",
              "      <td>0</td>\n",
              "      <td>0</td>\n",
              "      <td>0</td>\n",
              "      <td>0</td>\n",
              "      <td>0</td>\n",
              "      <td>0</td>\n",
              "      <td>0</td>\n",
              "      <td>0</td>\n",
              "      <td>0</td>\n",
              "      <td>0</td>\n",
              "      <td>0</td>\n",
              "      <td>0</td>\n",
              "      <td>0</td>\n",
              "      <td>0</td>\n",
              "      <td>0</td>\n",
              "    </tr>\n",
              "    <tr>\n",
              "      <th>19</th>\n",
              "      <td>1.05</td>\n",
              "      <td>0.50</td>\n",
              "      <td>14.1</td>\n",
              "      <td>28.2</td>\n",
              "      <td>0.0</td>\n",
              "      <td>552</td>\n",
              "      <td>29.5</td>\n",
              "      <td>1</td>\n",
              "      <td>0</td>\n",
              "      <td>0</td>\n",
              "      <td>0</td>\n",
              "      <td>0</td>\n",
              "      <td>0</td>\n",
              "      <td>0</td>\n",
              "      <td>0</td>\n",
              "      <td>0</td>\n",
              "      <td>0</td>\n",
              "      <td>0</td>\n",
              "      <td>0</td>\n",
              "      <td>1</td>\n",
              "      <td>0</td>\n",
              "      <td>0</td>\n",
              "      <td>0</td>\n",
              "      <td>0</td>\n",
              "      <td>0</td>\n",
              "      <td>0</td>\n",
              "      <td>0</td>\n",
              "      <td>0</td>\n",
              "      <td>0</td>\n",
              "      <td>1</td>\n",
              "      <td>0</td>\n",
              "      <td>0</td>\n",
              "      <td>0</td>\n",
              "      <td>0</td>\n",
              "      <td>1</td>\n",
              "      <td>0</td>\n",
              "      <td>0</td>\n",
              "      <td>0</td>\n",
              "      <td>0</td>\n",
              "      <td>0</td>\n",
              "      <td>0</td>\n",
              "      <td>0</td>\n",
              "      <td>0</td>\n",
              "      <td>0</td>\n",
              "      <td>0</td>\n",
              "      <td>0</td>\n",
              "      <td>0</td>\n",
              "      <td>0</td>\n",
              "      <td>0</td>\n",
              "      <td>0</td>\n",
              "      <td>0</td>\n",
              "      <td>0</td>\n",
              "      <td>0</td>\n",
              "      <td>0</td>\n",
              "      <td>0</td>\n",
              "      <td>0</td>\n",
              "      <td>0</td>\n",
              "    </tr>\n",
              "    <tr>\n",
              "      <th>373</th>\n",
              "      <td>1.80</td>\n",
              "      <td>0.05</td>\n",
              "      <td>5.8</td>\n",
              "      <td>11.5</td>\n",
              "      <td>0.0</td>\n",
              "      <td>352</td>\n",
              "      <td>61.2</td>\n",
              "      <td>0</td>\n",
              "      <td>1</td>\n",
              "      <td>0</td>\n",
              "      <td>0</td>\n",
              "      <td>0</td>\n",
              "      <td>0</td>\n",
              "      <td>0</td>\n",
              "      <td>0</td>\n",
              "      <td>0</td>\n",
              "      <td>0</td>\n",
              "      <td>0</td>\n",
              "      <td>0</td>\n",
              "      <td>1</td>\n",
              "      <td>0</td>\n",
              "      <td>0</td>\n",
              "      <td>0</td>\n",
              "      <td>0</td>\n",
              "      <td>0</td>\n",
              "      <td>0</td>\n",
              "      <td>0</td>\n",
              "      <td>0</td>\n",
              "      <td>0</td>\n",
              "      <td>1</td>\n",
              "      <td>0</td>\n",
              "      <td>0</td>\n",
              "      <td>0</td>\n",
              "      <td>0</td>\n",
              "      <td>0</td>\n",
              "      <td>0</td>\n",
              "      <td>0</td>\n",
              "      <td>0</td>\n",
              "      <td>0</td>\n",
              "      <td>0</td>\n",
              "      <td>0</td>\n",
              "      <td>0</td>\n",
              "      <td>0</td>\n",
              "      <td>0</td>\n",
              "      <td>1</td>\n",
              "      <td>0</td>\n",
              "      <td>0</td>\n",
              "      <td>0</td>\n",
              "      <td>0</td>\n",
              "      <td>0</td>\n",
              "      <td>0</td>\n",
              "      <td>0</td>\n",
              "      <td>0</td>\n",
              "      <td>0</td>\n",
              "      <td>0</td>\n",
              "      <td>0</td>\n",
              "      <td>0</td>\n",
              "    </tr>\n",
              "    <tr>\n",
              "      <th>372</th>\n",
              "      <td>1.50</td>\n",
              "      <td>0.10</td>\n",
              "      <td>-0.1</td>\n",
              "      <td>10.6</td>\n",
              "      <td>0.0</td>\n",
              "      <td>297</td>\n",
              "      <td>26.3</td>\n",
              "      <td>0</td>\n",
              "      <td>1</td>\n",
              "      <td>0</td>\n",
              "      <td>0</td>\n",
              "      <td>0</td>\n",
              "      <td>0</td>\n",
              "      <td>0</td>\n",
              "      <td>0</td>\n",
              "      <td>0</td>\n",
              "      <td>0</td>\n",
              "      <td>0</td>\n",
              "      <td>0</td>\n",
              "      <td>1</td>\n",
              "      <td>0</td>\n",
              "      <td>0</td>\n",
              "      <td>0</td>\n",
              "      <td>0</td>\n",
              "      <td>0</td>\n",
              "      <td>0</td>\n",
              "      <td>0</td>\n",
              "      <td>0</td>\n",
              "      <td>0</td>\n",
              "      <td>1</td>\n",
              "      <td>0</td>\n",
              "      <td>0</td>\n",
              "      <td>0</td>\n",
              "      <td>0</td>\n",
              "      <td>0</td>\n",
              "      <td>0</td>\n",
              "      <td>0</td>\n",
              "      <td>0</td>\n",
              "      <td>0</td>\n",
              "      <td>0</td>\n",
              "      <td>0</td>\n",
              "      <td>0</td>\n",
              "      <td>0</td>\n",
              "      <td>0</td>\n",
              "      <td>0</td>\n",
              "      <td>1</td>\n",
              "      <td>0</td>\n",
              "      <td>0</td>\n",
              "      <td>0</td>\n",
              "      <td>0</td>\n",
              "      <td>0</td>\n",
              "      <td>0</td>\n",
              "      <td>0</td>\n",
              "      <td>0</td>\n",
              "      <td>0</td>\n",
              "      <td>0</td>\n",
              "      <td>0</td>\n",
              "    </tr>\n",
              "    <tr>\n",
              "      <th>0</th>\n",
              "      <td>1.50</td>\n",
              "      <td>0.20</td>\n",
              "      <td>15.7</td>\n",
              "      <td>24.9</td>\n",
              "      <td>3.8</td>\n",
              "      <td>423</td>\n",
              "      <td>61.2</td>\n",
              "      <td>1</td>\n",
              "      <td>0</td>\n",
              "      <td>0</td>\n",
              "      <td>0</td>\n",
              "      <td>0</td>\n",
              "      <td>0</td>\n",
              "      <td>0</td>\n",
              "      <td>1</td>\n",
              "      <td>0</td>\n",
              "      <td>0</td>\n",
              "      <td>0</td>\n",
              "      <td>0</td>\n",
              "      <td>0</td>\n",
              "      <td>0</td>\n",
              "      <td>0</td>\n",
              "      <td>0</td>\n",
              "      <td>0</td>\n",
              "      <td>0</td>\n",
              "      <td>0</td>\n",
              "      <td>0</td>\n",
              "      <td>0</td>\n",
              "      <td>0</td>\n",
              "      <td>0</td>\n",
              "      <td>1</td>\n",
              "      <td>0</td>\n",
              "      <td>0</td>\n",
              "      <td>0</td>\n",
              "      <td>0</td>\n",
              "      <td>0</td>\n",
              "      <td>0</td>\n",
              "      <td>0</td>\n",
              "      <td>0</td>\n",
              "      <td>0</td>\n",
              "      <td>0</td>\n",
              "      <td>0</td>\n",
              "      <td>0</td>\n",
              "      <td>0</td>\n",
              "      <td>0</td>\n",
              "      <td>0</td>\n",
              "      <td>1</td>\n",
              "      <td>0</td>\n",
              "      <td>0</td>\n",
              "      <td>0</td>\n",
              "      <td>0</td>\n",
              "      <td>0</td>\n",
              "      <td>0</td>\n",
              "      <td>0</td>\n",
              "      <td>0</td>\n",
              "      <td>0</td>\n",
              "      <td>0</td>\n",
              "    </tr>\n",
              "  </tbody>\n",
              "</table>\n",
              "<p>424 rows × 57 columns</p>\n",
              "</div>"
            ],
            "text/plain": [
              "     prix moyen au kg  Production quantité \\ntonne(s)  ...  30  31\n",
              "354              1.30                            0.20  ...   0   0\n",
              "333              1.10                            0.20  ...   0   0\n",
              "332              1.10                            0.20  ...   0   0\n",
              "353              1.25                            0.30  ...   0   0\n",
              "342              1.10                            0.40  ...   0   0\n",
              "..                ...                             ...  ...  ..  ..\n",
              "388              1.75                            0.50  ...   0   0\n",
              "19               1.05                            0.50  ...   0   0\n",
              "373              1.80                            0.05  ...   0   0\n",
              "372              1.50                            0.10  ...   0   0\n",
              "0                1.50                            0.20  ...   0   0\n",
              "\n",
              "[424 rows x 57 columns]"
            ]
          },
          "metadata": {},
          "execution_count": 20
        }
      ]
    },
    {
      "cell_type": "code",
      "metadata": {
        "id": "NBpSr_vXNPgk"
      },
      "source": [
        "Prix = T3['prix moyen au kg'] \n",
        "Production = T3['Production quantité \\ntonne(s)']"
      ],
      "execution_count": 21,
      "outputs": []
    },
    {
      "cell_type": "markdown",
      "metadata": {
        "id": "TwGNaDklWNWn"
      },
      "source": [
        "**Modélisation**"
      ]
    },
    {
      "cell_type": "code",
      "metadata": {
        "id": "QY4zhTmxOjfu"
      },
      "source": [
        "#pour le prix\n",
        "\n",
        "from sklearn.model_selection import train_test_split\n",
        "from sklearn.metrics import mean_squared_error, r2_score\n",
        "\n",
        "\n",
        "X =  T3.drop(['prix moyen au kg'], axis=1)\n",
        "y = Prix\n",
        "\n",
        "X_train, X_test, y_train, y_test = train_test_split(X, y, test_size=0.3, random_state=42)"
      ],
      "execution_count": 22,
      "outputs": []
    },
    {
      "cell_type": "code",
      "metadata": {
        "colab": {
          "base_uri": "https://localhost:8080/"
        },
        "id": "vwokcdNAOjuZ",
        "outputId": "e171b5b2-c353-4057-e2cc-49b5cca765fd"
      },
      "source": [
        "from sklearn import linear_model\n",
        "lr = linear_model.LinearRegression()\n",
        "model = lr.fit(X_train, y_train)\n",
        "model.score(X_test, y_test)"
      ],
      "execution_count": 23,
      "outputs": [
        {
          "output_type": "execute_result",
          "data": {
            "text/plain": [
              "0.5569382648245584"
            ]
          },
          "metadata": {},
          "execution_count": 23
        }
      ]
    },
    {
      "cell_type": "code",
      "metadata": {
        "colab": {
          "base_uri": "https://localhost:8080/"
        },
        "id": "ml6IJD7wOj42",
        "outputId": "54703fd5-5b60-4117-b012-4e3076189931"
      },
      "source": [
        "model.score(X_train, y_train)"
      ],
      "execution_count": 24,
      "outputs": [
        {
          "output_type": "execute_result",
          "data": {
            "text/plain": [
              "0.7200786744944013"
            ]
          },
          "metadata": {},
          "execution_count": 24
        }
      ]
    },
    {
      "cell_type": "code",
      "metadata": {
        "id": "b28KcUasOjzp"
      },
      "source": [
        "y_tr = model.predict(X_train)\n",
        "y_pred = model.predict(X_test)"
      ],
      "execution_count": 25,
      "outputs": []
    },
    {
      "cell_type": "code",
      "metadata": {
        "colab": {
          "base_uri": "https://localhost:8080/"
        },
        "id": "C1yGBrRGOj_n",
        "outputId": "f8ef6ffc-f169-497e-9a52-836089497505"
      },
      "source": [
        "from math import sqrt\n",
        "rmseP1T1LR =sqrt(mean_squared_error(y_test, y_pred))\n",
        "print(rmseP1T1LR)"
      ],
      "execution_count": 26,
      "outputs": [
        {
          "output_type": "stream",
          "name": "stdout",
          "text": [
            "0.1922785980704713\n"
          ]
        }
      ]
    },
    {
      "cell_type": "code",
      "metadata": {
        "colab": {
          "base_uri": "https://localhost:8080/"
        },
        "id": "Hn2N0USnOkDM",
        "outputId": "29636ba4-bfab-4357-fb2c-d84b9600d3cc"
      },
      "source": [
        "sqrt(mean_squared_error(y_train, y_tr))"
      ],
      "execution_count": 27,
      "outputs": [
        {
          "output_type": "execute_result",
          "data": {
            "text/plain": [
              "0.15241745472926257"
            ]
          },
          "metadata": {},
          "execution_count": 27
        }
      ]
    },
    {
      "cell_type": "code",
      "metadata": {
        "colab": {
          "base_uri": "https://localhost:8080/"
        },
        "id": "c4vW5R-YOkHS",
        "outputId": "65c50a47-7711-486d-fece-34640a9b56d0"
      },
      "source": [
        "mean_absolute_error(y_train, y_tr)"
      ],
      "execution_count": 28,
      "outputs": [
        {
          "output_type": "execute_result",
          "data": {
            "text/plain": [
              "0.11338144198877856"
            ]
          },
          "metadata": {},
          "execution_count": 28
        }
      ]
    },
    {
      "cell_type": "code",
      "metadata": {
        "colab": {
          "base_uri": "https://localhost:8080/"
        },
        "id": "3hzHiPvgOkKd",
        "outputId": "fa93b0ef-1681-4a89-bd2c-6f0065d700ea"
      },
      "source": [
        "mean_absolute_error(y_test, y_pred)"
      ],
      "execution_count": 29,
      "outputs": [
        {
          "output_type": "execute_result",
          "data": {
            "text/plain": [
              "0.1433437538466018"
            ]
          },
          "metadata": {},
          "execution_count": 29
        }
      ]
    },
    {
      "cell_type": "code",
      "metadata": {
        "id": "U8jhFaPfw5PF",
        "colab": {
          "base_uri": "https://localhost:8080/"
        },
        "outputId": "3cfef69b-d673-46c3-8c4a-69df92cc0d0a"
      },
      "source": [
        "print(r2_score(y_test, y_pred))\n",
        "print(r2_score(y_train, y_tr))"
      ],
      "execution_count": 30,
      "outputs": [
        {
          "output_type": "stream",
          "name": "stdout",
          "text": [
            "0.5569382648245584\n",
            "0.7200786744944013\n"
          ]
        }
      ]
    },
    {
      "cell_type": "code",
      "metadata": {
        "colab": {
          "base_uri": "https://localhost:8080/",
          "height": 301
        },
        "id": "V_B1gfCKOkOA",
        "outputId": "a25372a3-b3b3-4030-97e5-2265094fe943"
      },
      "source": [
        "plt.scatter(y_test, y_pred, color = 'darkviolet')\n",
        "plt.title('Prix des tomates (modèle linéaire)')\n",
        "plt.xlabel('Prix prédit')\n",
        "plt.ylabel('Prix actuel')\n",
        "z = np.polyfit(y_test, y_pred, 1)\n",
        "p = np.poly1d(z)\n",
        "plt.plot(y_test,p(y_test), color='red')\n",
        "plt.show()"
      ],
      "execution_count": 31,
      "outputs": [
        {
          "output_type": "display_data",
          "data": {
            "image/png": "[encoded data removed]",
            "text/plain": [
              "<Figure size 432x288 with 1 Axes>"
            ]
          },
          "metadata": {
            "needs_background": "light"
          }
        }
      ]
    },
    {
      "cell_type": "code",
      "metadata": {
        "id": "GO95jIOKA2GS"
      },
      "source": [
        "param_grid = {'fit_intercept':[True,False], 'normalize':[True, False], 'copy_X':[True,False]}"
      ],
      "execution_count": 36,
      "outputs": []
    },
    {
      "cell_type": "code",
      "metadata": {
        "colab": {
          "base_uri": "https://localhost:8080/"
        },
        "id": "ol4ifoSuA3ln",
        "outputId": "63f7e0a8-0e21-4d23-9fe2-ccbc03d6af70"
      },
      "source": [
        "g1 = GridSearchCV(lr, param_grid = param_grid, cv = 5)\n",
        "g1.fit(X_train, y_train)"
      ],
      "execution_count": 37,
      "outputs": [
        {
          "output_type": "execute_result",
          "data": {
            "text/plain": [
              "GridSearchCV(cv=5, error_score=nan,\n",
              "             estimator=LinearRegression(copy_X=True, fit_intercept=True,\n",
              "                                        n_jobs=None, normalize=False),\n",
              "             iid='deprecated', n_jobs=None,\n",
              "             param_grid={'copy_X': [True, False],\n",
              "                         'fit_intercept': [True, False],\n",
              "                         'normalize': [True, False]},\n",
              "             pre_dispatch='2*n_jobs', refit=True, return_train_score=False,\n",
              "             scoring=None, verbose=0)"
            ]
          },
          "metadata": {},
          "execution_count": 37
        }
      ]
    },
    {
      "cell_type": "code",
      "metadata": {
        "colab": {
          "base_uri": "https://localhost:8080/"
        },
        "id": "1ygL0RhKA35M",
        "outputId": "fa6bb17d-8600-4c97-9b22-48bdc7e79981"
      },
      "source": [
        "g1.best_score_"
      ],
      "execution_count": 38,
      "outputs": [
        {
          "output_type": "execute_result",
          "data": {
            "text/plain": [
              "0.5400594305100528"
            ]
          },
          "metadata": {},
          "execution_count": 38
        }
      ]
    },
    {
      "cell_type": "code",
      "metadata": {
        "colab": {
          "base_uri": "https://localhost:8080/"
        },
        "id": "Pxxs2iU-A3_R",
        "outputId": "a527a114-3374-459a-d224-91222aa2d9ec"
      },
      "source": [
        "best_modl = g1.best_estimator_\n",
        "print(best_modl)\n",
        "best_preds = best_modl.predict(X_test)\n",
        "print(np.sqrt(mean_squared_error(y_test, best_preds)))"
      ],
      "execution_count": 40,
      "outputs": [
        {
          "output_type": "stream",
          "name": "stdout",
          "text": [
            "LinearRegression(copy_X=True, fit_intercept=True, n_jobs=None, normalize=False)\n",
            "0.1922785980704713\n"
          ]
        }
      ]
    },
    {
      "cell_type": "code",
      "metadata": {
        "id": "kbWucFvvLzt5",
        "colab": {
          "base_uri": "https://localhost:8080/"
        },
        "outputId": "ac413007-ea08-4839-8543-cb60f76890ad"
      },
      "source": [
        "mean_absolute_error(y_test, best_preds)"
      ],
      "execution_count": 41,
      "outputs": [
        {
          "output_type": "execute_result",
          "data": {
            "text/plain": [
              "0.1433437538466018"
            ]
          },
          "metadata": {},
          "execution_count": 41
        }
      ]
    },
    {
      "cell_type": "code",
      "metadata": {
        "colab": {
          "base_uri": "https://localhost:8080/",
          "height": 301
        },
        "id": "6IQ9KiQPSbRH",
        "outputId": "84142d91-46d6-48e2-a8a4-fa8459c79733"
      },
      "source": [
        "plt.scatter(y_test, best_preds, color = 'darkviolet')\n",
        "plt.title('Prix des tomates (modèle linéaire)')\n",
        "plt.xlabel('Prix prédit')\n",
        "plt.ylabel('Prix actuel')\n",
        "z = np.polyfit(y_test, best_preds, 1)\n",
        "p = np.poly1d(z)\n",
        "plt.plot(y_test,p(y_test), color='red')\n",
        "plt.show()"
      ],
      "execution_count": 44,
      "outputs": [
        {
          "output_type": "display_data",
          "data": {
            "image/png": "[encoded data removed]",
            "text/plain": [
              "<Figure size 432x288 with 1 Axes>"
            ]
          },
          "metadata": {
            "needs_background": "light"
          }
        }
      ]
    },
    {
      "cell_type": "code",
      "metadata": {
        "id": "bjApLPFoSuja"
      },
      "source": [
        "#Pour la production\n",
        "\n",
        "from sklearn.model_selection import train_test_split\n",
        "\n",
        "X2 =  T3.drop(\"Production quantité \\ntonne(s)\", axis=1)\n",
        "y2 = Production\n",
        "\n",
        "X_train, X_test, y_train, y_test = train_test_split(X2, y2, test_size=0.3, random_state=42)"
      ],
      "execution_count": 45,
      "outputs": []
    },
    {
      "cell_type": "code",
      "metadata": {
        "colab": {
          "base_uri": "https://localhost:8080/"
        },
        "id": "c_3AhhUpS1YG",
        "outputId": "72ef6c0f-5f90-451b-84e0-3872631c40be"
      },
      "source": [
        "model = lr.fit(X_train, y_train)\n",
        "model.score(X_test, y_test)"
      ],
      "execution_count": 46,
      "outputs": [
        {
          "output_type": "execute_result",
          "data": {
            "text/plain": [
              "-0.18923194583897307"
            ]
          },
          "metadata": {},
          "execution_count": 46
        }
      ]
    },
    {
      "cell_type": "code",
      "metadata": {
        "colab": {
          "base_uri": "https://localhost:8080/"
        },
        "id": "rfobWgreS8V_",
        "outputId": "654915c8-8980-416f-ffb8-51d0e3b74933"
      },
      "source": [
        "model.score(X_train, y_train)"
      ],
      "execution_count": 47,
      "outputs": [
        {
          "output_type": "execute_result",
          "data": {
            "text/plain": [
              "0.3579593781601905"
            ]
          },
          "metadata": {},
          "execution_count": 47
        }
      ]
    },
    {
      "cell_type": "code",
      "metadata": {
        "id": "5kwou9N4TCLp"
      },
      "source": [
        "y_pred = model.predict(X_test)"
      ],
      "execution_count": 48,
      "outputs": []
    },
    {
      "cell_type": "code",
      "metadata": {
        "colab": {
          "base_uri": "https://localhost:8080/"
        },
        "id": "z9tsvG87TCZU",
        "outputId": "650bb4fd-788f-4447-a994-8530f4f892c1"
      },
      "source": [
        "sqrt(mean_squared_error(y_test, y_pred))"
      ],
      "execution_count": 49,
      "outputs": [
        {
          "output_type": "execute_result",
          "data": {
            "text/plain": [
              "0.7848627892857538"
            ]
          },
          "metadata": {},
          "execution_count": 49
        }
      ]
    },
    {
      "cell_type": "code",
      "metadata": {
        "colab": {
          "base_uri": "https://localhost:8080/"
        },
        "id": "zI7VRnlNTCci",
        "outputId": "c5775c09-6764-4be4-ecc5-10dd18c80545"
      },
      "source": [
        "sqrt(mean_squared_error(y_train, y_tr))"
      ],
      "execution_count": 50,
      "outputs": [
        {
          "output_type": "execute_result",
          "data": {
            "text/plain": [
              "1.1779046739848495"
            ]
          },
          "metadata": {},
          "execution_count": 50
        }
      ]
    },
    {
      "cell_type": "code",
      "metadata": {
        "colab": {
          "base_uri": "https://localhost:8080/"
        },
        "id": "yYZi_LBOTCgb",
        "outputId": "a79fd9f3-6025-494c-bd94-2f5112db5474"
      },
      "source": [
        "mean_absolute_error(y_train, y_tr)"
      ],
      "execution_count": 51,
      "outputs": [
        {
          "output_type": "execute_result",
          "data": {
            "text/plain": [
              "1.0213609181968"
            ]
          },
          "metadata": {},
          "execution_count": 51
        }
      ]
    },
    {
      "cell_type": "code",
      "metadata": {
        "colab": {
          "base_uri": "https://localhost:8080/"
        },
        "id": "w2XIyAROTvDY",
        "outputId": "828f7298-6d3c-4017-9598-1c0a0a600cae"
      },
      "source": [
        "mean_absolute_error(y_test, y_pred)"
      ],
      "execution_count": 52,
      "outputs": [
        {
          "output_type": "execute_result",
          "data": {
            "text/plain": [
              "0.43424304426952787"
            ]
          },
          "metadata": {},
          "execution_count": 52
        }
      ]
    },
    {
      "cell_type": "code",
      "metadata": {
        "id": "-MVyls7Zw8eO",
        "colab": {
          "base_uri": "https://localhost:8080/"
        },
        "outputId": "4a60e834-a705-4657-ac9b-eba3526e2e62"
      },
      "source": [
        "print(r2_score(y_test, y_pred))\n",
        "print(r2_score(y_train, y_tr))"
      ],
      "execution_count": 53,
      "outputs": [
        {
          "output_type": "stream",
          "name": "stdout",
          "text": [
            "-0.18923194583897307\n",
            "-1.1823358920996605\n"
          ]
        }
      ]
    },
    {
      "cell_type": "code",
      "metadata": {
        "colab": {
          "base_uri": "https://localhost:8080/",
          "height": 301
        },
        "id": "TIe8-vzGTvIU",
        "outputId": "f428a3f4-3840-4a17-b8e2-0297891922ff"
      },
      "source": [
        "plt.scatter(y_test, y_pred, color = 'gold')\n",
        "plt.title('Production des tomates (modèle linéaire)')\n",
        "plt.xlabel('Production prédite')\n",
        "plt.ylabel('Production actuelle')\n",
        "z = np.polyfit(y_test, y_pred, 1)\n",
        "p = np.poly1d(z)\n",
        "plt.plot(y_test,p(y_test), color='orange')\n",
        "plt.show()"
      ],
      "execution_count": 54,
      "outputs": [
        {
          "output_type": "display_data",
          "data": {
            "image/png": "[encoded data removed]",
            "text/plain": [
              "<Figure size 432x288 with 1 Axes>"
            ]
          },
          "metadata": {
            "needs_background": "light"
          }
        }
      ]
    },
    {
      "cell_type": "code",
      "metadata": {
        "id": "Nl5BcHe0UODk",
        "colab": {
          "base_uri": "https://localhost:8080/"
        },
        "outputId": "c68214b1-9349-4f24-f2b8-4466b6c6c2a2"
      },
      "source": [
        "g2 = GridSearchCV(lr, param_grid = param_grid, cv = 5)\n",
        "g2.fit(X_train, y_train)"
      ],
      "execution_count": 55,
      "outputs": [
        {
          "output_type": "execute_result",
          "data": {
            "text/plain": [
              "GridSearchCV(cv=5, error_score=nan,\n",
              "             estimator=LinearRegression(copy_X=True, fit_intercept=True,\n",
              "                                        n_jobs=None, normalize=False),\n",
              "             iid='deprecated', n_jobs=None,\n",
              "             param_grid={'copy_X': [True, False],\n",
              "                         'fit_intercept': [True, False],\n",
              "                         'normalize': [True, False]},\n",
              "             pre_dispatch='2*n_jobs', refit=True, return_train_score=False,\n",
              "             scoring=None, verbose=0)"
            ]
          },
          "metadata": {},
          "execution_count": 55
        }
      ]
    },
    {
      "cell_type": "code",
      "metadata": {
        "colab": {
          "base_uri": "https://localhost:8080/"
        },
        "id": "yAK4Lm2LUGoT",
        "outputId": "1ca19358-3acb-44fc-b1c3-70ffd21fce10"
      },
      "source": [
        "g2.best_score_"
      ],
      "execution_count": 56,
      "outputs": [
        {
          "output_type": "execute_result",
          "data": {
            "text/plain": [
              "-0.04648051227573784"
            ]
          },
          "metadata": {},
          "execution_count": 56
        }
      ]
    },
    {
      "cell_type": "code",
      "metadata": {
        "colab": {
          "base_uri": "https://localhost:8080/"
        },
        "id": "s_lzVl-mUGsW",
        "outputId": "b4865b5e-a837-4666-d355-00d5148517c2"
      },
      "source": [
        "best_modl = g2.best_estimator_\n",
        "print(best_modl)\n",
        "best_preds = best_modl.predict(X_test)\n",
        "print(np.sqrt(mean_squared_error(y_test, best_preds)))"
      ],
      "execution_count": 57,
      "outputs": [
        {
          "output_type": "stream",
          "name": "stdout",
          "text": [
            "LinearRegression(copy_X=True, fit_intercept=False, n_jobs=None, normalize=True)\n",
            "0.7849139028850467\n"
          ]
        }
      ]
    },
    {
      "cell_type": "code",
      "metadata": {
        "colab": {
          "base_uri": "https://localhost:8080/"
        },
        "id": "rGjo-IJ5UG1Z",
        "outputId": "68641a7c-bf21-4832-ceda-51d6aca090eb"
      },
      "source": [
        "mean_absolute_error(y_test, best_preds)"
      ],
      "execution_count": 58,
      "outputs": [
        {
          "output_type": "execute_result",
          "data": {
            "text/plain": [
              "0.4343315038236292"
            ]
          },
          "metadata": {},
          "execution_count": 58
        }
      ]
    },
    {
      "cell_type": "code",
      "metadata": {
        "colab": {
          "base_uri": "https://localhost:8080/",
          "height": 301
        },
        "id": "Hh2WVER7Tvah",
        "outputId": "e7b50088-ef87-4ba7-ca14-fbc66ca627d8"
      },
      "source": [
        "plt.scatter(y_test, best_preds, color = 'gold')\n",
        "plt.title('Production des tomates (modèle linéaire)')\n",
        "plt.xlabel('Production prédite')\n",
        "plt.ylabel('Production actuelle')\n",
        "z = np.polyfit(y_test, best_preds, 1)\n",
        "p = np.poly1d(z)\n",
        "plt.plot(y_test,p(y_test), color='orange')\n",
        "plt.show()"
      ],
      "execution_count": 59,
      "outputs": [
        {
          "output_type": "display_data",
          "data": {
            "image/png": "[encoded data removed]",
            "text/plain": [
              "<Figure size 432x288 with 1 Axes>"
            ]
          },
          "metadata": {
            "needs_background": "light"
          }
        }
      ]
    }
  ]
}