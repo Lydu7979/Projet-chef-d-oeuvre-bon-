{
  "nbformat": 4,
  "nbformat_minor": 0,
  "metadata": {
    "colab": {
      "name": "Projet_chef_d'oeuvre(Régression linéaire).ipynb",
      "provenance": [],
      "collapsed_sections": []
    },
    "kernelspec": {
      "name": "python3",
      "display_name": "Python 3"
    },
    "language_info": {
      "name": "python"
    }
  },
  "cells": [
    {
      "cell_type": "code",
      "metadata": {
        "id": "xeORs_rVKhsV"
      },
      "source": [
        "import warnings\n",
        "import itertools\n",
        "import numpy as np\n",
        "import matplotlib.pyplot as plt\n",
        "warnings.filterwarnings(\"ignore\")\n",
        "plt.style.use('fivethirtyeight')\n",
        "import pandas as pd\n",
        "import statsmodels.api as sm\n",
        "import matplotlib\n",
        "matplotlib.rcParams['axes.labelsize'] = 14\n",
        "matplotlib.rcParams['xtick.labelsize'] = 12\n",
        "matplotlib.rcParams['ytick.labelsize'] = 12\n",
        "matplotlib.rcParams['text.color'] = 'k'\n",
        "import seaborn as sns\n",
        "sns.set(style=\"white\") #white background style for seaborn plots\n",
        "sns.set(style=\"whitegrid\", color_codes=True)\n",
        "from numpy import array\n",
        "from keras.preprocessing.text import one_hot\n",
        "from keras.preprocessing.sequence import pad_sequences\n",
        "from keras.models import Sequential\n",
        "from keras.layers.core import Activation, Dropout, Dense\n",
        "from keras.layers import Flatten, LSTM\n",
        "from keras.layers import GlobalMaxPooling1D\n",
        "from keras.models import Model\n",
        "from keras.layers.embeddings import Embedding\n",
        "from sklearn.model_selection import train_test_split\n",
        "from keras.preprocessing.text import Tokenizer\n",
        "from keras.layers import Input\n",
        "from keras.layers.merge import Concatenate\n",
        "from keras.layers import Bidirectional\n",
        "import re\n",
        "from statsmodels.tsa.stattools import adfuller\n",
        "from statsmodels.tsa.stattools import acf, pacf\n",
        "from statsmodels.tsa.seasonal import seasonal_decompose\n",
        "from statsmodels.tsa.arima_model import ARIMA\n",
        "from sklearn.model_selection import train_test_split, cross_val_score, GridSearchCV\n",
        "from sklearn.linear_model import LinearRegression\n",
        "import matplotlib.pyplot as plt\n",
        "from statsmodels.graphics.tsaplots import plot_acf,plot_pacf\n",
        "from sklearn.metrics import mean_absolute_error\n",
        "from sklearn.metrics import r2_score"
      ],
      "execution_count": null,
      "outputs": []
    },
    {
      "cell_type": "code",
      "metadata": {
        "colab": {
          "base_uri": "https://localhost:8080/",
          "height": 822
        },
        "id": "Ja_GJ8ZEK0OZ",
        "outputId": "d0ac4527-5d34-4150-bc95-51b28bc4aa4d"
      },
      "source": [
        "Pop = pd.read_csv(\"/content/Tomates+météo - Tableau 1 (1).csv\")\n",
        "Pop=Pop.iloc[pd.to_datetime(Pop.Date.astype(str)).argsort()]\n",
        "Pop"
      ],
      "execution_count": null,
      "outputs": [
        {
          "output_type": "execute_result",
          "data": {
            "text/html": [
              "<div>\n",
              "<style scoped>\n",
              "    .dataframe tbody tr th:only-of-type {\n",
              "        vertical-align: middle;\n",
              "    }\n",
              "\n",
              "    .dataframe tbody tr th {\n",
              "        vertical-align: top;\n",
              "    }\n",
              "\n",
              "    .dataframe thead th {\n",
              "        text-align: right;\n",
              "    }\n",
              "</style>\n",
              "<table border=\"1\" class=\"dataframe\">\n",
              "  <thead>\n",
              "    <tr style=\"text-align: right;\">\n",
              "      <th></th>\n",
              "      <th>Date</th>\n",
              "      <th>prix moyen au kg</th>\n",
              "      <th>prix minimal</th>\n",
              "      <th>prix maximal</th>\n",
              "      <th>Production quantité \\ntonne(s)</th>\n",
              "      <th>Température minimale en °C</th>\n",
              "      <th>Température maximale en °C</th>\n",
              "      <th>précipitations en mm</th>\n",
              "      <th>Ensoleillement en min</th>\n",
              "      <th>Rafales (vitesse du vent) en km/h</th>\n",
              "      <th>catégorie tomates</th>\n",
              "    </tr>\n",
              "  </thead>\n",
              "  <tbody>\n",
              "    <tr>\n",
              "      <th>354</th>\n",
              "      <td>01/08/12</td>\n",
              "      <td>1.30</td>\n",
              "      <td>1.3</td>\n",
              "      <td>1.3</td>\n",
              "      <td>0.20</td>\n",
              "      <td>11.8</td>\n",
              "      <td>28.0</td>\n",
              "      <td>0.4</td>\n",
              "      <td>445</td>\n",
              "      <td>44.4</td>\n",
              "      <td>Tomate ronde  cat.I 57-67mm</td>\n",
              "    </tr>\n",
              "    <tr>\n",
              "      <th>333</th>\n",
              "      <td>01/10/12</td>\n",
              "      <td>1.10</td>\n",
              "      <td>1.1</td>\n",
              "      <td>1.1</td>\n",
              "      <td>0.20</td>\n",
              "      <td>3.5</td>\n",
              "      <td>19.1</td>\n",
              "      <td>0.8</td>\n",
              "      <td>536</td>\n",
              "      <td>40.7</td>\n",
              "      <td>Tomate ronde  cat.I 57-67mm</td>\n",
              "    </tr>\n",
              "    <tr>\n",
              "      <th>332</th>\n",
              "      <td>02/10/12</td>\n",
              "      <td>1.10</td>\n",
              "      <td>1.1</td>\n",
              "      <td>1.1</td>\n",
              "      <td>0.20</td>\n",
              "      <td>12.8</td>\n",
              "      <td>18.8</td>\n",
              "      <td>0.2</td>\n",
              "      <td>121</td>\n",
              "      <td>38.9</td>\n",
              "      <td>Tomate ronde  cat.I 57-67mm</td>\n",
              "    </tr>\n",
              "    <tr>\n",
              "      <th>353</th>\n",
              "      <td>03/08/12</td>\n",
              "      <td>1.25</td>\n",
              "      <td>1.2</td>\n",
              "      <td>1.3</td>\n",
              "      <td>0.30</td>\n",
              "      <td>12.0</td>\n",
              "      <td>24.1</td>\n",
              "      <td>0.4</td>\n",
              "      <td>330</td>\n",
              "      <td>42.8</td>\n",
              "      <td>Tomate ronde  cat.I 57-67mm</td>\n",
              "    </tr>\n",
              "    <tr>\n",
              "      <th>342</th>\n",
              "      <td>04/09/12</td>\n",
              "      <td>1.10</td>\n",
              "      <td>1.1</td>\n",
              "      <td>1.1</td>\n",
              "      <td>0.40</td>\n",
              "      <td>12.8</td>\n",
              "      <td>25.7</td>\n",
              "      <td>0.0</td>\n",
              "      <td>672</td>\n",
              "      <td>37.0</td>\n",
              "      <td>Tomate ronde  cat.I 57-67mm</td>\n",
              "    </tr>\n",
              "    <tr>\n",
              "      <th>...</th>\n",
              "      <td>...</td>\n",
              "      <td>...</td>\n",
              "      <td>...</td>\n",
              "      <td>...</td>\n",
              "      <td>...</td>\n",
              "      <td>...</td>\n",
              "      <td>...</td>\n",
              "      <td>...</td>\n",
              "      <td>...</td>\n",
              "      <td>...</td>\n",
              "      <td>...</td>\n",
              "    </tr>\n",
              "    <tr>\n",
              "      <th>388</th>\n",
              "      <td>11/09/20</td>\n",
              "      <td>1.75</td>\n",
              "      <td>1.7</td>\n",
              "      <td>1.8</td>\n",
              "      <td>0.50</td>\n",
              "      <td>14.1</td>\n",
              "      <td>28.2</td>\n",
              "      <td>0.0</td>\n",
              "      <td>552</td>\n",
              "      <td>29.5</td>\n",
              "      <td>Tomate ronde cat.I 67-82mm</td>\n",
              "    </tr>\n",
              "    <tr>\n",
              "      <th>19</th>\n",
              "      <td>11/09/20</td>\n",
              "      <td>1.05</td>\n",
              "      <td>1.0</td>\n",
              "      <td>1.1</td>\n",
              "      <td>0.50</td>\n",
              "      <td>14.1</td>\n",
              "      <td>28.2</td>\n",
              "      <td>0.0</td>\n",
              "      <td>552</td>\n",
              "      <td>29.5</td>\n",
              "      <td>Tomate ronde  cat.I 57-67mm</td>\n",
              "    </tr>\n",
              "    <tr>\n",
              "      <th>373</th>\n",
              "      <td>19/11/20</td>\n",
              "      <td>1.80</td>\n",
              "      <td>NaN</td>\n",
              "      <td>NaN</td>\n",
              "      <td>0.05</td>\n",
              "      <td>5.8</td>\n",
              "      <td>11.5</td>\n",
              "      <td>0.0</td>\n",
              "      <td>352</td>\n",
              "      <td>61.2</td>\n",
              "      <td>Tomate ronde cat.I 67-82mm</td>\n",
              "    </tr>\n",
              "    <tr>\n",
              "      <th>372</th>\n",
              "      <td>20/11/20</td>\n",
              "      <td>1.50</td>\n",
              "      <td>NaN</td>\n",
              "      <td>NaN</td>\n",
              "      <td>0.10</td>\n",
              "      <td>-0.1</td>\n",
              "      <td>10.6</td>\n",
              "      <td>0.0</td>\n",
              "      <td>297</td>\n",
              "      <td>26.3</td>\n",
              "      <td>Tomate ronde cat.I 67-82mm</td>\n",
              "    </tr>\n",
              "    <tr>\n",
              "      <th>0</th>\n",
              "      <td>21/06/21</td>\n",
              "      <td>1.50</td>\n",
              "      <td>1.5</td>\n",
              "      <td>1.5</td>\n",
              "      <td>0.20</td>\n",
              "      <td>15.7</td>\n",
              "      <td>24.9</td>\n",
              "      <td>3.8</td>\n",
              "      <td>423</td>\n",
              "      <td>61.2</td>\n",
              "      <td>Tomate ronde  cat.I 57-67mm</td>\n",
              "    </tr>\n",
              "  </tbody>\n",
              "</table>\n",
              "<p>424 rows × 11 columns</p>\n",
              "</div>"
            ],
            "text/plain": [
              "         Date  ...            catégorie tomates\n",
              "354  01/08/12  ...  Tomate ronde  cat.I 57-67mm\n",
              "333  01/10/12  ...  Tomate ronde  cat.I 57-67mm\n",
              "332  02/10/12  ...  Tomate ronde  cat.I 57-67mm\n",
              "353  03/08/12  ...  Tomate ronde  cat.I 57-67mm\n",
              "342  04/09/12  ...  Tomate ronde  cat.I 57-67mm\n",
              "..        ...  ...                          ...\n",
              "388  11/09/20  ...   Tomate ronde cat.I 67-82mm\n",
              "19   11/09/20  ...  Tomate ronde  cat.I 57-67mm\n",
              "373  19/11/20  ...   Tomate ronde cat.I 67-82mm\n",
              "372  20/11/20  ...   Tomate ronde cat.I 67-82mm\n",
              "0    21/06/21  ...  Tomate ronde  cat.I 57-67mm\n",
              "\n",
              "[424 rows x 11 columns]"
            ]
          },
          "metadata": {},
          "execution_count": 2
        }
      ]
    },
    {
      "cell_type": "code",
      "metadata": {
        "colab": {
          "base_uri": "https://localhost:8080/",
          "height": 632
        },
        "id": "o8tuVhG7LFH1",
        "outputId": "078b59bf-1da1-4468-be2f-7c2e4e0ba2b0"
      },
      "source": [
        "Pop = Pop.drop([\"prix maximal\",\"prix minimal\"], axis=1)\n",
        "Pop"
      ],
      "execution_count": null,
      "outputs": [
        {
          "output_type": "execute_result",
          "data": {
            "text/html": [
              "<div>\n",
              "<style scoped>\n",
              "    .dataframe tbody tr th:only-of-type {\n",
              "        vertical-align: middle;\n",
              "    }\n",
              "\n",
              "    .dataframe tbody tr th {\n",
              "        vertical-align: top;\n",
              "    }\n",
              "\n",
              "    .dataframe thead th {\n",
              "        text-align: right;\n",
              "    }\n",
              "</style>\n",
              "<table border=\"1\" class=\"dataframe\">\n",
              "  <thead>\n",
              "    <tr style=\"text-align: right;\">\n",
              "      <th></th>\n",
              "      <th>Date</th>\n",
              "      <th>prix moyen au kg</th>\n",
              "      <th>Production quantité \\ntonne(s)</th>\n",
              "      <th>Température minimale en °C</th>\n",
              "      <th>Température maximale en °C</th>\n",
              "      <th>précipitations en mm</th>\n",
              "      <th>Ensoleillement en min</th>\n",
              "      <th>Rafales (vitesse du vent) en km/h</th>\n",
              "      <th>catégorie tomates</th>\n",
              "    </tr>\n",
              "  </thead>\n",
              "  <tbody>\n",
              "    <tr>\n",
              "      <th>354</th>\n",
              "      <td>01/08/12</td>\n",
              "      <td>1.30</td>\n",
              "      <td>0.20</td>\n",
              "      <td>11.8</td>\n",
              "      <td>28.0</td>\n",
              "      <td>0.4</td>\n",
              "      <td>445</td>\n",
              "      <td>44.4</td>\n",
              "      <td>Tomate ronde  cat.I 57-67mm</td>\n",
              "    </tr>\n",
              "    <tr>\n",
              "      <th>333</th>\n",
              "      <td>01/10/12</td>\n",
              "      <td>1.10</td>\n",
              "      <td>0.20</td>\n",
              "      <td>3.5</td>\n",
              "      <td>19.1</td>\n",
              "      <td>0.8</td>\n",
              "      <td>536</td>\n",
              "      <td>40.7</td>\n",
              "      <td>Tomate ronde  cat.I 57-67mm</td>\n",
              "    </tr>\n",
              "    <tr>\n",
              "      <th>332</th>\n",
              "      <td>02/10/12</td>\n",
              "      <td>1.10</td>\n",
              "      <td>0.20</td>\n",
              "      <td>12.8</td>\n",
              "      <td>18.8</td>\n",
              "      <td>0.2</td>\n",
              "      <td>121</td>\n",
              "      <td>38.9</td>\n",
              "      <td>Tomate ronde  cat.I 57-67mm</td>\n",
              "    </tr>\n",
              "    <tr>\n",
              "      <th>353</th>\n",
              "      <td>03/08/12</td>\n",
              "      <td>1.25</td>\n",
              "      <td>0.30</td>\n",
              "      <td>12.0</td>\n",
              "      <td>24.1</td>\n",
              "      <td>0.4</td>\n",
              "      <td>330</td>\n",
              "      <td>42.8</td>\n",
              "      <td>Tomate ronde  cat.I 57-67mm</td>\n",
              "    </tr>\n",
              "    <tr>\n",
              "      <th>342</th>\n",
              "      <td>04/09/12</td>\n",
              "      <td>1.10</td>\n",
              "      <td>0.40</td>\n",
              "      <td>12.8</td>\n",
              "      <td>25.7</td>\n",
              "      <td>0.0</td>\n",
              "      <td>672</td>\n",
              "      <td>37.0</td>\n",
              "      <td>Tomate ronde  cat.I 57-67mm</td>\n",
              "    </tr>\n",
              "    <tr>\n",
              "      <th>...</th>\n",
              "      <td>...</td>\n",
              "      <td>...</td>\n",
              "      <td>...</td>\n",
              "      <td>...</td>\n",
              "      <td>...</td>\n",
              "      <td>...</td>\n",
              "      <td>...</td>\n",
              "      <td>...</td>\n",
              "      <td>...</td>\n",
              "    </tr>\n",
              "    <tr>\n",
              "      <th>388</th>\n",
              "      <td>11/09/20</td>\n",
              "      <td>1.75</td>\n",
              "      <td>0.50</td>\n",
              "      <td>14.1</td>\n",
              "      <td>28.2</td>\n",
              "      <td>0.0</td>\n",
              "      <td>552</td>\n",
              "      <td>29.5</td>\n",
              "      <td>Tomate ronde cat.I 67-82mm</td>\n",
              "    </tr>\n",
              "    <tr>\n",
              "      <th>19</th>\n",
              "      <td>11/09/20</td>\n",
              "      <td>1.05</td>\n",
              "      <td>0.50</td>\n",
              "      <td>14.1</td>\n",
              "      <td>28.2</td>\n",
              "      <td>0.0</td>\n",
              "      <td>552</td>\n",
              "      <td>29.5</td>\n",
              "      <td>Tomate ronde  cat.I 57-67mm</td>\n",
              "    </tr>\n",
              "    <tr>\n",
              "      <th>373</th>\n",
              "      <td>19/11/20</td>\n",
              "      <td>1.80</td>\n",
              "      <td>0.05</td>\n",
              "      <td>5.8</td>\n",
              "      <td>11.5</td>\n",
              "      <td>0.0</td>\n",
              "      <td>352</td>\n",
              "      <td>61.2</td>\n",
              "      <td>Tomate ronde cat.I 67-82mm</td>\n",
              "    </tr>\n",
              "    <tr>\n",
              "      <th>372</th>\n",
              "      <td>20/11/20</td>\n",
              "      <td>1.50</td>\n",
              "      <td>0.10</td>\n",
              "      <td>-0.1</td>\n",
              "      <td>10.6</td>\n",
              "      <td>0.0</td>\n",
              "      <td>297</td>\n",
              "      <td>26.3</td>\n",
              "      <td>Tomate ronde cat.I 67-82mm</td>\n",
              "    </tr>\n",
              "    <tr>\n",
              "      <th>0</th>\n",
              "      <td>21/06/21</td>\n",
              "      <td>1.50</td>\n",
              "      <td>0.20</td>\n",
              "      <td>15.7</td>\n",
              "      <td>24.9</td>\n",
              "      <td>3.8</td>\n",
              "      <td>423</td>\n",
              "      <td>61.2</td>\n",
              "      <td>Tomate ronde  cat.I 57-67mm</td>\n",
              "    </tr>\n",
              "  </tbody>\n",
              "</table>\n",
              "<p>424 rows × 9 columns</p>\n",
              "</div>"
            ],
            "text/plain": [
              "         Date  ...            catégorie tomates\n",
              "354  01/08/12  ...  Tomate ronde  cat.I 57-67mm\n",
              "333  01/10/12  ...  Tomate ronde  cat.I 57-67mm\n",
              "332  02/10/12  ...  Tomate ronde  cat.I 57-67mm\n",
              "353  03/08/12  ...  Tomate ronde  cat.I 57-67mm\n",
              "342  04/09/12  ...  Tomate ronde  cat.I 57-67mm\n",
              "..        ...  ...                          ...\n",
              "388  11/09/20  ...   Tomate ronde cat.I 67-82mm\n",
              "19   11/09/20  ...  Tomate ronde  cat.I 57-67mm\n",
              "373  19/11/20  ...   Tomate ronde cat.I 67-82mm\n",
              "372  20/11/20  ...   Tomate ronde cat.I 67-82mm\n",
              "0    21/06/21  ...  Tomate ronde  cat.I 57-67mm\n",
              "\n",
              "[424 rows x 9 columns]"
            ]
          },
          "metadata": {},
          "execution_count": 3
        }
      ]
    },
    {
      "cell_type": "code",
      "metadata": {
        "colab": {
          "base_uri": "https://localhost:8080/",
          "height": 318
        },
        "id": "Ab8aRs-hLFTT",
        "outputId": "48bc9c09-490f-4d5f-9e19-34beba5abac2"
      },
      "source": [
        "Pop.describe()"
      ],
      "execution_count": null,
      "outputs": [
        {
          "output_type": "execute_result",
          "data": {
            "text/html": [
              "<div>\n",
              "<style scoped>\n",
              "    .dataframe tbody tr th:only-of-type {\n",
              "        vertical-align: middle;\n",
              "    }\n",
              "\n",
              "    .dataframe tbody tr th {\n",
              "        vertical-align: top;\n",
              "    }\n",
              "\n",
              "    .dataframe thead th {\n",
              "        text-align: right;\n",
              "    }\n",
              "</style>\n",
              "<table border=\"1\" class=\"dataframe\">\n",
              "  <thead>\n",
              "    <tr style=\"text-align: right;\">\n",
              "      <th></th>\n",
              "      <th>prix moyen au kg</th>\n",
              "      <th>Production quantité \\ntonne(s)</th>\n",
              "      <th>Température minimale en °C</th>\n",
              "      <th>Température maximale en °C</th>\n",
              "      <th>précipitations en mm</th>\n",
              "      <th>Ensoleillement en min</th>\n",
              "      <th>Rafales (vitesse du vent) en km/h</th>\n",
              "    </tr>\n",
              "  </thead>\n",
              "  <tbody>\n",
              "    <tr>\n",
              "      <th>count</th>\n",
              "      <td>421.000000</td>\n",
              "      <td>424.000000</td>\n",
              "      <td>424.000000</td>\n",
              "      <td>424.000000</td>\n",
              "      <td>424.000000</td>\n",
              "      <td>424.000000</td>\n",
              "      <td>424.000000</td>\n",
              "    </tr>\n",
              "    <tr>\n",
              "      <th>mean</th>\n",
              "      <td>1.264798</td>\n",
              "      <td>0.464830</td>\n",
              "      <td>12.051651</td>\n",
              "      <td>23.908726</td>\n",
              "      <td>1.475236</td>\n",
              "      <td>436.160377</td>\n",
              "      <td>40.075472</td>\n",
              "    </tr>\n",
              "    <tr>\n",
              "      <th>std</th>\n",
              "      <td>0.288990</td>\n",
              "      <td>0.776784</td>\n",
              "      <td>3.965298</td>\n",
              "      <td>5.803186</td>\n",
              "      <td>4.417398</td>\n",
              "      <td>266.967955</td>\n",
              "      <td>12.427627</td>\n",
              "    </tr>\n",
              "    <tr>\n",
              "      <th>min</th>\n",
              "      <td>0.500000</td>\n",
              "      <td>0.016000</td>\n",
              "      <td>-0.100000</td>\n",
              "      <td>6.600000</td>\n",
              "      <td>0.000000</td>\n",
              "      <td>0.000000</td>\n",
              "      <td>14.400000</td>\n",
              "    </tr>\n",
              "    <tr>\n",
              "      <th>25%</th>\n",
              "      <td>1.050000</td>\n",
              "      <td>0.100000</td>\n",
              "      <td>9.800000</td>\n",
              "      <td>20.100000</td>\n",
              "      <td>0.000000</td>\n",
              "      <td>210.000000</td>\n",
              "      <td>31.500000</td>\n",
              "    </tr>\n",
              "    <tr>\n",
              "      <th>50%</th>\n",
              "      <td>1.200000</td>\n",
              "      <td>0.240000</td>\n",
              "      <td>12.300000</td>\n",
              "      <td>23.700000</td>\n",
              "      <td>0.000000</td>\n",
              "      <td>447.500000</td>\n",
              "      <td>38.900000</td>\n",
              "    </tr>\n",
              "    <tr>\n",
              "      <th>75%</th>\n",
              "      <td>1.500000</td>\n",
              "      <td>0.500000</td>\n",
              "      <td>14.700000</td>\n",
              "      <td>28.000000</td>\n",
              "      <td>0.400000</td>\n",
              "      <td>658.500000</td>\n",
              "      <td>46.800000</td>\n",
              "    </tr>\n",
              "    <tr>\n",
              "      <th>max</th>\n",
              "      <td>2.000000</td>\n",
              "      <td>7.680000</td>\n",
              "      <td>23.200000</td>\n",
              "      <td>41.300000</td>\n",
              "      <td>31.900000</td>\n",
              "      <td>906.000000</td>\n",
              "      <td>92.600000</td>\n",
              "    </tr>\n",
              "  </tbody>\n",
              "</table>\n",
              "</div>"
            ],
            "text/plain": [
              "       prix moyen au kg  ...  Rafales (vitesse du vent) en km/h\n",
              "count        421.000000  ...                         424.000000\n",
              "mean           1.264798  ...                          40.075472\n",
              "std            0.288990  ...                          12.427627\n",
              "min            0.500000  ...                          14.400000\n",
              "25%            1.050000  ...                          31.500000\n",
              "50%            1.200000  ...                          38.900000\n",
              "75%            1.500000  ...                          46.800000\n",
              "max            2.000000  ...                          92.600000\n",
              "\n",
              "[8 rows x 7 columns]"
            ]
          },
          "metadata": {},
          "execution_count": 4
        }
      ]
    },
    {
      "cell_type": "code",
      "metadata": {
        "colab": {
          "base_uri": "https://localhost:8080/",
          "height": 318
        },
        "id": "GalzdVVQLO19",
        "outputId": "7ef65409-1d53-486f-fa38-e7a4d345b20a"
      },
      "source": [
        "plt.hist(Pop['prix moyen au kg'],color ='coral')\n",
        "plt.title('Distribution pour le prix')\n",
        "plt.xlabel('prix moyen au kg')\n",
        "plt.ylabel('Densité')\n",
        "plt.show()\n",
        "print (\"skew=\", Pop['prix moyen au kg'].skew())"
      ],
      "execution_count": null,
      "outputs": [
        {
          "output_type": "display_data",
          "data": {
            "image/png": "[encoded data removed]",
            "text/plain": [
              "<Figure size 432x288 with 1 Axes>"
            ]
          },
          "metadata": {
            "needs_background": "light"
          }
        },
        {
          "output_type": "stream",
          "name": "stdout",
          "text": [
            "skew= 0.22827047693351465\n"
          ]
        }
      ]
    },
    {
      "cell_type": "code",
      "metadata": {
        "colab": {
          "base_uri": "https://localhost:8080/",
          "height": 318
        },
        "id": "-j6B6juPLO5A",
        "outputId": "cb6d6143-78f9-4cfd-e7da-624aefe5ad6c"
      },
      "source": [
        "plt.hist(Pop['Production quantité \\ntonne(s)'],color ='violet')\n",
        "plt.title('Distribution pour la production')\n",
        "plt.xlabel('production de tomates')\n",
        "plt.ylabel('Densité')\n",
        "plt.show()\n",
        "print (\"skew=\", Pop['Production quantité \\ntonne(s)'].skew())"
      ],
      "execution_count": null,
      "outputs": [
        {
          "output_type": "display_data",
          "data": {
            "image/png": "[encoded data removed]",
            "text/plain": [
              "<Figure size 432x288 with 1 Axes>"
            ]
          },
          "metadata": {
            "needs_background": "light"
          }
        },
        {
          "output_type": "stream",
          "name": "stdout",
          "text": [
            "skew= 5.583569472053098\n"
          ]
        }
      ]
    },
    {
      "cell_type": "code",
      "metadata": {
        "colab": {
          "base_uri": "https://localhost:8080/",
          "height": 112
        },
        "id": "Y-nfCg2wLO8B",
        "outputId": "e0dcf11b-ef07-4209-83e8-c0eab054835b"
      },
      "source": [
        "Pop['catégorie tomates'].value_counts().to_frame()"
      ],
      "execution_count": null,
      "outputs": [
        {
          "output_type": "execute_result",
          "data": {
            "text/html": [
              "<div>\n",
              "<style scoped>\n",
              "    .dataframe tbody tr th:only-of-type {\n",
              "        vertical-align: middle;\n",
              "    }\n",
              "\n",
              "    .dataframe tbody tr th {\n",
              "        vertical-align: top;\n",
              "    }\n",
              "\n",
              "    .dataframe thead th {\n",
              "        text-align: right;\n",
              "    }\n",
              "</style>\n",
              "<table border=\"1\" class=\"dataframe\">\n",
              "  <thead>\n",
              "    <tr style=\"text-align: right;\">\n",
              "      <th></th>\n",
              "      <th>catégorie tomates</th>\n",
              "    </tr>\n",
              "  </thead>\n",
              "  <tbody>\n",
              "    <tr>\n",
              "      <th>Tomate ronde  cat.I 57-67mm</th>\n",
              "      <td>372</td>\n",
              "    </tr>\n",
              "    <tr>\n",
              "      <th>Tomate ronde cat.I 67-82mm</th>\n",
              "      <td>52</td>\n",
              "    </tr>\n",
              "  </tbody>\n",
              "</table>\n",
              "</div>"
            ],
            "text/plain": [
              "                             catégorie tomates\n",
              "Tomate ronde  cat.I 57-67mm                372\n",
              "Tomate ronde cat.I 67-82mm                  52"
            ]
          },
          "metadata": {},
          "execution_count": 7
        }
      ]
    },
    {
      "cell_type": "code",
      "metadata": {
        "colab": {
          "base_uri": "https://localhost:8080/",
          "height": 513
        },
        "id": "MEZuv3uMLO_O",
        "outputId": "8c8341d3-91e0-48c1-8ec0-1a82f6665085"
      },
      "source": [
        "Pop['catégorie tomates'].value_counts().plot(kind='bar',figsize=(5,5),title= 'catégorie tomates',color ='gold')\n",
        "plt.xlabel('catégorie tomates')\n",
        "plt.ylabel(\"nombre de fois ou la catégorie de tomates apparaît\")\n",
        "plt.show()"
      ],
      "execution_count": null,
      "outputs": [
        {
          "output_type": "display_data",
          "data": {
            "image/png": "[encoded data removed]",
            "text/plain": [
              "<Figure size 360x360 with 1 Axes>"
            ]
          },
          "metadata": {
            "needs_background": "light"
          }
        }
      ]
    },
    {
      "cell_type": "code",
      "metadata": {
        "colab": {
          "base_uri": "https://localhost:8080/",
          "height": 320
        },
        "id": "ckV0_shiLPDE",
        "outputId": "bb202f8b-4fbc-4833-d653-f80919a7dc4f"
      },
      "source": [
        "Pop['catégorie tomates'].value_counts().plot(kind='pie', figsize=[5,5],\n",
        "          autopct=lambda p: '{:.0f}%'.format(p,(p/100)*Pop['catégorie tomates'].value_counts().sum()))"
      ],
      "execution_count": null,
      "outputs": [
        {
          "output_type": "execute_result",
          "data": {
            "text/plain": [
              "<matplotlib.axes._subplots.AxesSubplot at 0x7fad5a0cd210>"
            ]
          },
          "metadata": {},
          "execution_count": 9
        },
        {
          "output_type": "display_data",
          "data": {
            "image/png": "[encoded data removed]",
            "text/plain": [
              "<Figure size 360x360 with 1 Axes>"
            ]
          },
          "metadata": {}
        }
      ]
    },
    {
      "cell_type": "code",
      "metadata": {
        "colab": {
          "base_uri": "https://localhost:8080/",
          "height": 493
        },
        "id": "2As5fmSXLzlC",
        "outputId": "d1689408-28c7-42a2-d909-f4685fb97929"
      },
      "source": [
        "Corr = Pop.corr()\n",
        "\n",
        "\n",
        "f, ax = plt.subplots(figsize=(5,5))\n",
        "plt.title('Corrélation entre variables')\n",
        "\n",
        "\n",
        "sns.heatmap(Corr,linewidths=0.25,vmax=1.0, square=True, cmap=\"plasma\", linecolor='black', annot=True)\n",
        "plt.show()"
      ],
      "execution_count": null,
      "outputs": [
        {
          "output_type": "display_data",
          "data": {
            "image/png": "[encoded data removed]",
            "text/plain": [
              "<Figure size 360x360 with 2 Axes>"
            ]
          },
          "metadata": {
            "needs_background": "light"
          }
        }
      ]
    },
    {
      "cell_type": "code",
      "metadata": {
        "colab": {
          "base_uri": "https://localhost:8080/",
          "height": 632
        },
        "id": "tKJ86869MQpD",
        "outputId": "7514a52c-f937-4432-dd9b-3929b4533cd9"
      },
      "source": [
        "Pop =  Pop.interpolate() #pour remplacer les valeurs nulles par une valeur moyenne\n",
        "Pop"
      ],
      "execution_count": null,
      "outputs": [
        {
          "output_type": "execute_result",
          "data": {
            "text/html": [
              "<div>\n",
              "<style scoped>\n",
              "    .dataframe tbody tr th:only-of-type {\n",
              "        vertical-align: middle;\n",
              "    }\n",
              "\n",
              "    .dataframe tbody tr th {\n",
              "        vertical-align: top;\n",
              "    }\n",
              "\n",
              "    .dataframe thead th {\n",
              "        text-align: right;\n",
              "    }\n",
              "</style>\n",
              "<table border=\"1\" class=\"dataframe\">\n",
              "  <thead>\n",
              "    <tr style=\"text-align: right;\">\n",
              "      <th></th>\n",
              "      <th>Date</th>\n",
              "      <th>prix moyen au kg</th>\n",
              "      <th>Production quantité \\ntonne(s)</th>\n",
              "      <th>Température minimale en °C</th>\n",
              "      <th>Température maximale en °C</th>\n",
              "      <th>précipitations en mm</th>\n",
              "      <th>Ensoleillement en min</th>\n",
              "      <th>Rafales (vitesse du vent) en km/h</th>\n",
              "      <th>catégorie tomates</th>\n",
              "    </tr>\n",
              "  </thead>\n",
              "  <tbody>\n",
              "    <tr>\n",
              "      <th>354</th>\n",
              "      <td>01/08/12</td>\n",
              "      <td>1.30</td>\n",
              "      <td>0.20</td>\n",
              "      <td>11.8</td>\n",
              "      <td>28.0</td>\n",
              "      <td>0.4</td>\n",
              "      <td>445</td>\n",
              "      <td>44.4</td>\n",
              "      <td>Tomate ronde  cat.I 57-67mm</td>\n",
              "    </tr>\n",
              "    <tr>\n",
              "      <th>333</th>\n",
              "      <td>01/10/12</td>\n",
              "      <td>1.10</td>\n",
              "      <td>0.20</td>\n",
              "      <td>3.5</td>\n",
              "      <td>19.1</td>\n",
              "      <td>0.8</td>\n",
              "      <td>536</td>\n",
              "      <td>40.7</td>\n",
              "      <td>Tomate ronde  cat.I 57-67mm</td>\n",
              "    </tr>\n",
              "    <tr>\n",
              "      <th>332</th>\n",
              "      <td>02/10/12</td>\n",
              "      <td>1.10</td>\n",
              "      <td>0.20</td>\n",
              "      <td>12.8</td>\n",
              "      <td>18.8</td>\n",
              "      <td>0.2</td>\n",
              "      <td>121</td>\n",
              "      <td>38.9</td>\n",
              "      <td>Tomate ronde  cat.I 57-67mm</td>\n",
              "    </tr>\n",
              "    <tr>\n",
              "      <th>353</th>\n",
              "      <td>03/08/12</td>\n",
              "      <td>1.25</td>\n",
              "      <td>0.30</td>\n",
              "      <td>12.0</td>\n",
              "      <td>24.1</td>\n",
              "      <td>0.4</td>\n",
              "      <td>330</td>\n",
              "      <td>42.8</td>\n",
              "      <td>Tomate ronde  cat.I 57-67mm</td>\n",
              "    </tr>\n",
              "    <tr>\n",
              "      <th>342</th>\n",
              "      <td>04/09/12</td>\n",
              "      <td>1.10</td>\n",
              "      <td>0.40</td>\n",
              "      <td>12.8</td>\n",
              "      <td>25.7</td>\n",
              "      <td>0.0</td>\n",
              "      <td>672</td>\n",
              "      <td>37.0</td>\n",
              "      <td>Tomate ronde  cat.I 57-67mm</td>\n",
              "    </tr>\n",
              "    <tr>\n",
              "      <th>...</th>\n",
              "      <td>...</td>\n",
              "      <td>...</td>\n",
              "      <td>...</td>\n",
              "      <td>...</td>\n",
              "      <td>...</td>\n",
              "      <td>...</td>\n",
              "      <td>...</td>\n",
              "      <td>...</td>\n",
              "      <td>...</td>\n",
              "    </tr>\n",
              "    <tr>\n",
              "      <th>388</th>\n",
              "      <td>11/09/20</td>\n",
              "      <td>1.75</td>\n",
              "      <td>0.50</td>\n",
              "      <td>14.1</td>\n",
              "      <td>28.2</td>\n",
              "      <td>0.0</td>\n",
              "      <td>552</td>\n",
              "      <td>29.5</td>\n",
              "      <td>Tomate ronde cat.I 67-82mm</td>\n",
              "    </tr>\n",
              "    <tr>\n",
              "      <th>19</th>\n",
              "      <td>11/09/20</td>\n",
              "      <td>1.05</td>\n",
              "      <td>0.50</td>\n",
              "      <td>14.1</td>\n",
              "      <td>28.2</td>\n",
              "      <td>0.0</td>\n",
              "      <td>552</td>\n",
              "      <td>29.5</td>\n",
              "      <td>Tomate ronde  cat.I 57-67mm</td>\n",
              "    </tr>\n",
              "    <tr>\n",
              "      <th>373</th>\n",
              "      <td>19/11/20</td>\n",
              "      <td>1.80</td>\n",
              "      <td>0.05</td>\n",
              "      <td>5.8</td>\n",
              "      <td>11.5</td>\n",
              "      <td>0.0</td>\n",
              "      <td>352</td>\n",
              "      <td>61.2</td>\n",
              "      <td>Tomate ronde cat.I 67-82mm</td>\n",
              "    </tr>\n",
              "    <tr>\n",
              "      <th>372</th>\n",
              "      <td>20/11/20</td>\n",
              "      <td>1.50</td>\n",
              "      <td>0.10</td>\n",
              "      <td>-0.1</td>\n",
              "      <td>10.6</td>\n",
              "      <td>0.0</td>\n",
              "      <td>297</td>\n",
              "      <td>26.3</td>\n",
              "      <td>Tomate ronde cat.I 67-82mm</td>\n",
              "    </tr>\n",
              "    <tr>\n",
              "      <th>0</th>\n",
              "      <td>21/06/21</td>\n",
              "      <td>1.50</td>\n",
              "      <td>0.20</td>\n",
              "      <td>15.7</td>\n",
              "      <td>24.9</td>\n",
              "      <td>3.8</td>\n",
              "      <td>423</td>\n",
              "      <td>61.2</td>\n",
              "      <td>Tomate ronde  cat.I 57-67mm</td>\n",
              "    </tr>\n",
              "  </tbody>\n",
              "</table>\n",
              "<p>424 rows × 9 columns</p>\n",
              "</div>"
            ],
            "text/plain": [
              "         Date  ...            catégorie tomates\n",
              "354  01/08/12  ...  Tomate ronde  cat.I 57-67mm\n",
              "333  01/10/12  ...  Tomate ronde  cat.I 57-67mm\n",
              "332  02/10/12  ...  Tomate ronde  cat.I 57-67mm\n",
              "353  03/08/12  ...  Tomate ronde  cat.I 57-67mm\n",
              "342  04/09/12  ...  Tomate ronde  cat.I 57-67mm\n",
              "..        ...  ...                          ...\n",
              "388  11/09/20  ...   Tomate ronde cat.I 67-82mm\n",
              "19   11/09/20  ...  Tomate ronde  cat.I 57-67mm\n",
              "373  19/11/20  ...   Tomate ronde cat.I 67-82mm\n",
              "372  20/11/20  ...   Tomate ronde cat.I 67-82mm\n",
              "0    21/06/21  ...  Tomate ronde  cat.I 57-67mm\n",
              "\n",
              "[424 rows x 9 columns]"
            ]
          },
          "metadata": {},
          "execution_count": 11
        }
      ]
    },
    {
      "cell_type": "code",
      "metadata": {
        "colab": {
          "base_uri": "https://localhost:8080/",
          "height": 423
        },
        "id": "XktchMk8MSJ8",
        "outputId": "03643027-6bdd-4764-8d85-cb24dddeccf6"
      },
      "source": [
        "dummy_tomate1 = pd.get_dummies(Pop['catégorie tomates'])\n",
        "dummy_tomate1"
      ],
      "execution_count": null,
      "outputs": [
        {
          "output_type": "execute_result",
          "data": {
            "text/html": [
              "<div>\n",
              "<style scoped>\n",
              "    .dataframe tbody tr th:only-of-type {\n",
              "        vertical-align: middle;\n",
              "    }\n",
              "\n",
              "    .dataframe tbody tr th {\n",
              "        vertical-align: top;\n",
              "    }\n",
              "\n",
              "    .dataframe thead th {\n",
              "        text-align: right;\n",
              "    }\n",
              "</style>\n",
              "<table border=\"1\" class=\"dataframe\">\n",
              "  <thead>\n",
              "    <tr style=\"text-align: right;\">\n",
              "      <th></th>\n",
              "      <th>Tomate ronde  cat.I 57-67mm</th>\n",
              "      <th>Tomate ronde cat.I 67-82mm</th>\n",
              "    </tr>\n",
              "  </thead>\n",
              "  <tbody>\n",
              "    <tr>\n",
              "      <th>354</th>\n",
              "      <td>1</td>\n",
              "      <td>0</td>\n",
              "    </tr>\n",
              "    <tr>\n",
              "      <th>333</th>\n",
              "      <td>1</td>\n",
              "      <td>0</td>\n",
              "    </tr>\n",
              "    <tr>\n",
              "      <th>332</th>\n",
              "      <td>1</td>\n",
              "      <td>0</td>\n",
              "    </tr>\n",
              "    <tr>\n",
              "      <th>353</th>\n",
              "      <td>1</td>\n",
              "      <td>0</td>\n",
              "    </tr>\n",
              "    <tr>\n",
              "      <th>342</th>\n",
              "      <td>1</td>\n",
              "      <td>0</td>\n",
              "    </tr>\n",
              "    <tr>\n",
              "      <th>...</th>\n",
              "      <td>...</td>\n",
              "      <td>...</td>\n",
              "    </tr>\n",
              "    <tr>\n",
              "      <th>388</th>\n",
              "      <td>0</td>\n",
              "      <td>1</td>\n",
              "    </tr>\n",
              "    <tr>\n",
              "      <th>19</th>\n",
              "      <td>1</td>\n",
              "      <td>0</td>\n",
              "    </tr>\n",
              "    <tr>\n",
              "      <th>373</th>\n",
              "      <td>0</td>\n",
              "      <td>1</td>\n",
              "    </tr>\n",
              "    <tr>\n",
              "      <th>372</th>\n",
              "      <td>0</td>\n",
              "      <td>1</td>\n",
              "    </tr>\n",
              "    <tr>\n",
              "      <th>0</th>\n",
              "      <td>1</td>\n",
              "      <td>0</td>\n",
              "    </tr>\n",
              "  </tbody>\n",
              "</table>\n",
              "<p>424 rows × 2 columns</p>\n",
              "</div>"
            ],
            "text/plain": [
              "     Tomate ronde  cat.I 57-67mm  Tomate ronde cat.I 67-82mm\n",
              "354                            1                           0\n",
              "333                            1                           0\n",
              "332                            1                           0\n",
              "353                            1                           0\n",
              "342                            1                           0\n",
              "..                           ...                         ...\n",
              "388                            0                           1\n",
              "19                             1                           0\n",
              "373                            0                           1\n",
              "372                            0                           1\n",
              "0                              1                           0\n",
              "\n",
              "[424 rows x 2 columns]"
            ]
          },
          "metadata": {},
          "execution_count": 12
        }
      ]
    },
    {
      "cell_type": "code",
      "metadata": {
        "colab": {
          "base_uri": "https://localhost:8080/",
          "height": 822
        },
        "id": "N3MMKKgzMSYG",
        "outputId": "16159855-a97f-4e5c-8ec9-4f8ed1ddf75e"
      },
      "source": [
        "T =  pd.merge(\n",
        "    left=Pop,\n",
        "    right=dummy_tomate1,\n",
        "    left_index=True,\n",
        "    right_index=True,\n",
        ")\n",
        "\n",
        "T"
      ],
      "execution_count": null,
      "outputs": [
        {
          "output_type": "execute_result",
          "data": {
            "text/html": [
              "<div>\n",
              "<style scoped>\n",
              "    .dataframe tbody tr th:only-of-type {\n",
              "        vertical-align: middle;\n",
              "    }\n",
              "\n",
              "    .dataframe tbody tr th {\n",
              "        vertical-align: top;\n",
              "    }\n",
              "\n",
              "    .dataframe thead th {\n",
              "        text-align: right;\n",
              "    }\n",
              "</style>\n",
              "<table border=\"1\" class=\"dataframe\">\n",
              "  <thead>\n",
              "    <tr style=\"text-align: right;\">\n",
              "      <th></th>\n",
              "      <th>Date</th>\n",
              "      <th>prix moyen au kg</th>\n",
              "      <th>Production quantité \\ntonne(s)</th>\n",
              "      <th>Température minimale en °C</th>\n",
              "      <th>Température maximale en °C</th>\n",
              "      <th>précipitations en mm</th>\n",
              "      <th>Ensoleillement en min</th>\n",
              "      <th>Rafales (vitesse du vent) en km/h</th>\n",
              "      <th>catégorie tomates</th>\n",
              "      <th>Tomate ronde  cat.I 57-67mm</th>\n",
              "      <th>Tomate ronde cat.I 67-82mm</th>\n",
              "    </tr>\n",
              "  </thead>\n",
              "  <tbody>\n",
              "    <tr>\n",
              "      <th>354</th>\n",
              "      <td>01/08/12</td>\n",
              "      <td>1.30</td>\n",
              "      <td>0.20</td>\n",
              "      <td>11.8</td>\n",
              "      <td>28.0</td>\n",
              "      <td>0.4</td>\n",
              "      <td>445</td>\n",
              "      <td>44.4</td>\n",
              "      <td>Tomate ronde  cat.I 57-67mm</td>\n",
              "      <td>1</td>\n",
              "      <td>0</td>\n",
              "    </tr>\n",
              "    <tr>\n",
              "      <th>333</th>\n",
              "      <td>01/10/12</td>\n",
              "      <td>1.10</td>\n",
              "      <td>0.20</td>\n",
              "      <td>3.5</td>\n",
              "      <td>19.1</td>\n",
              "      <td>0.8</td>\n",
              "      <td>536</td>\n",
              "      <td>40.7</td>\n",
              "      <td>Tomate ronde  cat.I 57-67mm</td>\n",
              "      <td>1</td>\n",
              "      <td>0</td>\n",
              "    </tr>\n",
              "    <tr>\n",
              "      <th>332</th>\n",
              "      <td>02/10/12</td>\n",
              "      <td>1.10</td>\n",
              "      <td>0.20</td>\n",
              "      <td>12.8</td>\n",
              "      <td>18.8</td>\n",
              "      <td>0.2</td>\n",
              "      <td>121</td>\n",
              "      <td>38.9</td>\n",
              "      <td>Tomate ronde  cat.I 57-67mm</td>\n",
              "      <td>1</td>\n",
              "      <td>0</td>\n",
              "    </tr>\n",
              "    <tr>\n",
              "      <th>353</th>\n",
              "      <td>03/08/12</td>\n",
              "      <td>1.25</td>\n",
              "      <td>0.30</td>\n",
              "      <td>12.0</td>\n",
              "      <td>24.1</td>\n",
              "      <td>0.4</td>\n",
              "      <td>330</td>\n",
              "      <td>42.8</td>\n",
              "      <td>Tomate ronde  cat.I 57-67mm</td>\n",
              "      <td>1</td>\n",
              "      <td>0</td>\n",
              "    </tr>\n",
              "    <tr>\n",
              "      <th>342</th>\n",
              "      <td>04/09/12</td>\n",
              "      <td>1.10</td>\n",
              "      <td>0.40</td>\n",
              "      <td>12.8</td>\n",
              "      <td>25.7</td>\n",
              "      <td>0.0</td>\n",
              "      <td>672</td>\n",
              "      <td>37.0</td>\n",
              "      <td>Tomate ronde  cat.I 57-67mm</td>\n",
              "      <td>1</td>\n",
              "      <td>0</td>\n",
              "    </tr>\n",
              "    <tr>\n",
              "      <th>...</th>\n",
              "      <td>...</td>\n",
              "      <td>...</td>\n",
              "      <td>...</td>\n",
              "      <td>...</td>\n",
              "      <td>...</td>\n",
              "      <td>...</td>\n",
              "      <td>...</td>\n",
              "      <td>...</td>\n",
              "      <td>...</td>\n",
              "      <td>...</td>\n",
              "      <td>...</td>\n",
              "    </tr>\n",
              "    <tr>\n",
              "      <th>388</th>\n",
              "      <td>11/09/20</td>\n",
              "      <td>1.75</td>\n",
              "      <td>0.50</td>\n",
              "      <td>14.1</td>\n",
              "      <td>28.2</td>\n",
              "      <td>0.0</td>\n",
              "      <td>552</td>\n",
              "      <td>29.5</td>\n",
              "      <td>Tomate ronde cat.I 67-82mm</td>\n",
              "      <td>0</td>\n",
              "      <td>1</td>\n",
              "    </tr>\n",
              "    <tr>\n",
              "      <th>19</th>\n",
              "      <td>11/09/20</td>\n",
              "      <td>1.05</td>\n",
              "      <td>0.50</td>\n",
              "      <td>14.1</td>\n",
              "      <td>28.2</td>\n",
              "      <td>0.0</td>\n",
              "      <td>552</td>\n",
              "      <td>29.5</td>\n",
              "      <td>Tomate ronde  cat.I 57-67mm</td>\n",
              "      <td>1</td>\n",
              "      <td>0</td>\n",
              "    </tr>\n",
              "    <tr>\n",
              "      <th>373</th>\n",
              "      <td>19/11/20</td>\n",
              "      <td>1.80</td>\n",
              "      <td>0.05</td>\n",
              "      <td>5.8</td>\n",
              "      <td>11.5</td>\n",
              "      <td>0.0</td>\n",
              "      <td>352</td>\n",
              "      <td>61.2</td>\n",
              "      <td>Tomate ronde cat.I 67-82mm</td>\n",
              "      <td>0</td>\n",
              "      <td>1</td>\n",
              "    </tr>\n",
              "    <tr>\n",
              "      <th>372</th>\n",
              "      <td>20/11/20</td>\n",
              "      <td>1.50</td>\n",
              "      <td>0.10</td>\n",
              "      <td>-0.1</td>\n",
              "      <td>10.6</td>\n",
              "      <td>0.0</td>\n",
              "      <td>297</td>\n",
              "      <td>26.3</td>\n",
              "      <td>Tomate ronde cat.I 67-82mm</td>\n",
              "      <td>0</td>\n",
              "      <td>1</td>\n",
              "    </tr>\n",
              "    <tr>\n",
              "      <th>0</th>\n",
              "      <td>21/06/21</td>\n",
              "      <td>1.50</td>\n",
              "      <td>0.20</td>\n",
              "      <td>15.7</td>\n",
              "      <td>24.9</td>\n",
              "      <td>3.8</td>\n",
              "      <td>423</td>\n",
              "      <td>61.2</td>\n",
              "      <td>Tomate ronde  cat.I 57-67mm</td>\n",
              "      <td>1</td>\n",
              "      <td>0</td>\n",
              "    </tr>\n",
              "  </tbody>\n",
              "</table>\n",
              "<p>424 rows × 11 columns</p>\n",
              "</div>"
            ],
            "text/plain": [
              "         Date  ...  Tomate ronde cat.I 67-82mm\n",
              "354  01/08/12  ...                           0\n",
              "333  01/10/12  ...                           0\n",
              "332  02/10/12  ...                           0\n",
              "353  03/08/12  ...                           0\n",
              "342  04/09/12  ...                           0\n",
              "..        ...  ...                         ...\n",
              "388  11/09/20  ...                           1\n",
              "19   11/09/20  ...                           0\n",
              "373  19/11/20  ...                           1\n",
              "372  20/11/20  ...                           1\n",
              "0    21/06/21  ...                           0\n",
              "\n",
              "[424 rows x 11 columns]"
            ]
          },
          "metadata": {},
          "execution_count": 13
        }
      ]
    },
    {
      "cell_type": "code",
      "metadata": {
        "colab": {
          "base_uri": "https://localhost:8080/",
          "height": 476
        },
        "id": "JPKabzASMpKR",
        "outputId": "ce8394f1-b927-4e0f-8c16-7457ddddb00a"
      },
      "source": [
        "T = T.drop([\"catégorie tomates\"], axis=1)\n",
        "T"
      ],
      "execution_count": null,
      "outputs": [
        {
          "output_type": "execute_result",
          "data": {
            "text/html": [
              "<div>\n",
              "<style scoped>\n",
              "    .dataframe tbody tr th:only-of-type {\n",
              "        vertical-align: middle;\n",
              "    }\n",
              "\n",
              "    .dataframe tbody tr th {\n",
              "        vertical-align: top;\n",
              "    }\n",
              "\n",
              "    .dataframe thead th {\n",
              "        text-align: right;\n",
              "    }\n",
              "</style>\n",
              "<table border=\"1\" class=\"dataframe\">\n",
              "  <thead>\n",
              "    <tr style=\"text-align: right;\">\n",
              "      <th></th>\n",
              "      <th>Date</th>\n",
              "      <th>prix moyen au kg</th>\n",
              "      <th>Production quantité \\ntonne(s)</th>\n",
              "      <th>Température minimale en °C</th>\n",
              "      <th>Température maximale en °C</th>\n",
              "      <th>précipitations en mm</th>\n",
              "      <th>Ensoleillement en min</th>\n",
              "      <th>Rafales (vitesse du vent) en km/h</th>\n",
              "      <th>Tomate ronde  cat.I 57-67mm</th>\n",
              "      <th>Tomate ronde cat.I 67-82mm</th>\n",
              "    </tr>\n",
              "  </thead>\n",
              "  <tbody>\n",
              "    <tr>\n",
              "      <th>354</th>\n",
              "      <td>01/08/12</td>\n",
              "      <td>1.30</td>\n",
              "      <td>0.20</td>\n",
              "      <td>11.8</td>\n",
              "      <td>28.0</td>\n",
              "      <td>0.4</td>\n",
              "      <td>445</td>\n",
              "      <td>44.4</td>\n",
              "      <td>1</td>\n",
              "      <td>0</td>\n",
              "    </tr>\n",
              "    <tr>\n",
              "      <th>333</th>\n",
              "      <td>01/10/12</td>\n",
              "      <td>1.10</td>\n",
              "      <td>0.20</td>\n",
              "      <td>3.5</td>\n",
              "      <td>19.1</td>\n",
              "      <td>0.8</td>\n",
              "      <td>536</td>\n",
              "      <td>40.7</td>\n",
              "      <td>1</td>\n",
              "      <td>0</td>\n",
              "    </tr>\n",
              "    <tr>\n",
              "      <th>332</th>\n",
              "      <td>02/10/12</td>\n",
              "      <td>1.10</td>\n",
              "      <td>0.20</td>\n",
              "      <td>12.8</td>\n",
              "      <td>18.8</td>\n",
              "      <td>0.2</td>\n",
              "      <td>121</td>\n",
              "      <td>38.9</td>\n",
              "      <td>1</td>\n",
              "      <td>0</td>\n",
              "    </tr>\n",
              "    <tr>\n",
              "      <th>353</th>\n",
              "      <td>03/08/12</td>\n",
              "      <td>1.25</td>\n",
              "      <td>0.30</td>\n",
              "      <td>12.0</td>\n",
              "      <td>24.1</td>\n",
              "      <td>0.4</td>\n",
              "      <td>330</td>\n",
              "      <td>42.8</td>\n",
              "      <td>1</td>\n",
              "      <td>0</td>\n",
              "    </tr>\n",
              "    <tr>\n",
              "      <th>342</th>\n",
              "      <td>04/09/12</td>\n",
              "      <td>1.10</td>\n",
              "      <td>0.40</td>\n",
              "      <td>12.8</td>\n",
              "      <td>25.7</td>\n",
              "      <td>0.0</td>\n",
              "      <td>672</td>\n",
              "      <td>37.0</td>\n",
              "      <td>1</td>\n",
              "      <td>0</td>\n",
              "    </tr>\n",
              "    <tr>\n",
              "      <th>...</th>\n",
              "      <td>...</td>\n",
              "      <td>...</td>\n",
              "      <td>...</td>\n",
              "      <td>...</td>\n",
              "      <td>...</td>\n",
              "      <td>...</td>\n",
              "      <td>...</td>\n",
              "      <td>...</td>\n",
              "      <td>...</td>\n",
              "      <td>...</td>\n",
              "    </tr>\n",
              "    <tr>\n",
              "      <th>388</th>\n",
              "      <td>11/09/20</td>\n",
              "      <td>1.75</td>\n",
              "      <td>0.50</td>\n",
              "      <td>14.1</td>\n",
              "      <td>28.2</td>\n",
              "      <td>0.0</td>\n",
              "      <td>552</td>\n",
              "      <td>29.5</td>\n",
              "      <td>0</td>\n",
              "      <td>1</td>\n",
              "    </tr>\n",
              "    <tr>\n",
              "      <th>19</th>\n",
              "      <td>11/09/20</td>\n",
              "      <td>1.05</td>\n",
              "      <td>0.50</td>\n",
              "      <td>14.1</td>\n",
              "      <td>28.2</td>\n",
              "      <td>0.0</td>\n",
              "      <td>552</td>\n",
              "      <td>29.5</td>\n",
              "      <td>1</td>\n",
              "      <td>0</td>\n",
              "    </tr>\n",
              "    <tr>\n",
              "      <th>373</th>\n",
              "      <td>19/11/20</td>\n",
              "      <td>1.80</td>\n",
              "      <td>0.05</td>\n",
              "      <td>5.8</td>\n",
              "      <td>11.5</td>\n",
              "      <td>0.0</td>\n",
              "      <td>352</td>\n",
              "      <td>61.2</td>\n",
              "      <td>0</td>\n",
              "      <td>1</td>\n",
              "    </tr>\n",
              "    <tr>\n",
              "      <th>372</th>\n",
              "      <td>20/11/20</td>\n",
              "      <td>1.50</td>\n",
              "      <td>0.10</td>\n",
              "      <td>-0.1</td>\n",
              "      <td>10.6</td>\n",
              "      <td>0.0</td>\n",
              "      <td>297</td>\n",
              "      <td>26.3</td>\n",
              "      <td>0</td>\n",
              "      <td>1</td>\n",
              "    </tr>\n",
              "    <tr>\n",
              "      <th>0</th>\n",
              "      <td>21/06/21</td>\n",
              "      <td>1.50</td>\n",
              "      <td>0.20</td>\n",
              "      <td>15.7</td>\n",
              "      <td>24.9</td>\n",
              "      <td>3.8</td>\n",
              "      <td>423</td>\n",
              "      <td>61.2</td>\n",
              "      <td>1</td>\n",
              "      <td>0</td>\n",
              "    </tr>\n",
              "  </tbody>\n",
              "</table>\n",
              "<p>424 rows × 10 columns</p>\n",
              "</div>"
            ],
            "text/plain": [
              "         Date  ...  Tomate ronde cat.I 67-82mm\n",
              "354  01/08/12  ...                           0\n",
              "333  01/10/12  ...                           0\n",
              "332  02/10/12  ...                           0\n",
              "353  03/08/12  ...                           0\n",
              "342  04/09/12  ...                           0\n",
              "..        ...  ...                         ...\n",
              "388  11/09/20  ...                           1\n",
              "19   11/09/20  ...                           0\n",
              "373  19/11/20  ...                           1\n",
              "372  20/11/20  ...                           1\n",
              "0    21/06/21  ...                           0\n",
              "\n",
              "[424 rows x 10 columns]"
            ]
          },
          "metadata": {},
          "execution_count": 14
        }
      ]
    },
    {
      "cell_type": "code",
      "metadata": {
        "colab": {
          "base_uri": "https://localhost:8080/",
          "height": 649
        },
        "id": "aJ1LHJgeMp3m",
        "outputId": "7a911716-89a5-4d53-ad69-9a0e141117af"
      },
      "source": [
        "T['Date'] = pd.to_datetime(T['Date'])\n",
        "T"
      ],
      "execution_count": null,
      "outputs": [
        {
          "output_type": "execute_result",
          "data": {
            "text/html": [
              "<div>\n",
              "<style scoped>\n",
              "    .dataframe tbody tr th:only-of-type {\n",
              "        vertical-align: middle;\n",
              "    }\n",
              "\n",
              "    .dataframe tbody tr th {\n",
              "        vertical-align: top;\n",
              "    }\n",
              "\n",
              "    .dataframe thead th {\n",
              "        text-align: right;\n",
              "    }\n",
              "</style>\n",
              "<table border=\"1\" class=\"dataframe\">\n",
              "  <thead>\n",
              "    <tr style=\"text-align: right;\">\n",
              "      <th></th>\n",
              "      <th>Date</th>\n",
              "      <th>prix moyen au kg</th>\n",
              "      <th>Production quantité \\ntonne(s)</th>\n",
              "      <th>Température minimale en °C</th>\n",
              "      <th>Température maximale en °C</th>\n",
              "      <th>précipitations en mm</th>\n",
              "      <th>Ensoleillement en min</th>\n",
              "      <th>Rafales (vitesse du vent) en km/h</th>\n",
              "      <th>Tomate ronde  cat.I 57-67mm</th>\n",
              "      <th>Tomate ronde cat.I 67-82mm</th>\n",
              "    </tr>\n",
              "  </thead>\n",
              "  <tbody>\n",
              "    <tr>\n",
              "      <th>354</th>\n",
              "      <td>2012-01-08</td>\n",
              "      <td>1.30</td>\n",
              "      <td>0.20</td>\n",
              "      <td>11.8</td>\n",
              "      <td>28.0</td>\n",
              "      <td>0.4</td>\n",
              "      <td>445</td>\n",
              "      <td>44.4</td>\n",
              "      <td>1</td>\n",
              "      <td>0</td>\n",
              "    </tr>\n",
              "    <tr>\n",
              "      <th>333</th>\n",
              "      <td>2012-01-10</td>\n",
              "      <td>1.10</td>\n",
              "      <td>0.20</td>\n",
              "      <td>3.5</td>\n",
              "      <td>19.1</td>\n",
              "      <td>0.8</td>\n",
              "      <td>536</td>\n",
              "      <td>40.7</td>\n",
              "      <td>1</td>\n",
              "      <td>0</td>\n",
              "    </tr>\n",
              "    <tr>\n",
              "      <th>332</th>\n",
              "      <td>2012-02-10</td>\n",
              "      <td>1.10</td>\n",
              "      <td>0.20</td>\n",
              "      <td>12.8</td>\n",
              "      <td>18.8</td>\n",
              "      <td>0.2</td>\n",
              "      <td>121</td>\n",
              "      <td>38.9</td>\n",
              "      <td>1</td>\n",
              "      <td>0</td>\n",
              "    </tr>\n",
              "    <tr>\n",
              "      <th>353</th>\n",
              "      <td>2012-03-08</td>\n",
              "      <td>1.25</td>\n",
              "      <td>0.30</td>\n",
              "      <td>12.0</td>\n",
              "      <td>24.1</td>\n",
              "      <td>0.4</td>\n",
              "      <td>330</td>\n",
              "      <td>42.8</td>\n",
              "      <td>1</td>\n",
              "      <td>0</td>\n",
              "    </tr>\n",
              "    <tr>\n",
              "      <th>342</th>\n",
              "      <td>2012-04-09</td>\n",
              "      <td>1.10</td>\n",
              "      <td>0.40</td>\n",
              "      <td>12.8</td>\n",
              "      <td>25.7</td>\n",
              "      <td>0.0</td>\n",
              "      <td>672</td>\n",
              "      <td>37.0</td>\n",
              "      <td>1</td>\n",
              "      <td>0</td>\n",
              "    </tr>\n",
              "    <tr>\n",
              "      <th>...</th>\n",
              "      <td>...</td>\n",
              "      <td>...</td>\n",
              "      <td>...</td>\n",
              "      <td>...</td>\n",
              "      <td>...</td>\n",
              "      <td>...</td>\n",
              "      <td>...</td>\n",
              "      <td>...</td>\n",
              "      <td>...</td>\n",
              "      <td>...</td>\n",
              "    </tr>\n",
              "    <tr>\n",
              "      <th>388</th>\n",
              "      <td>2020-11-09</td>\n",
              "      <td>1.75</td>\n",
              "      <td>0.50</td>\n",
              "      <td>14.1</td>\n",
              "      <td>28.2</td>\n",
              "      <td>0.0</td>\n",
              "      <td>552</td>\n",
              "      <td>29.5</td>\n",
              "      <td>0</td>\n",
              "      <td>1</td>\n",
              "    </tr>\n",
              "    <tr>\n",
              "      <th>19</th>\n",
              "      <td>2020-11-09</td>\n",
              "      <td>1.05</td>\n",
              "      <td>0.50</td>\n",
              "      <td>14.1</td>\n",
              "      <td>28.2</td>\n",
              "      <td>0.0</td>\n",
              "      <td>552</td>\n",
              "      <td>29.5</td>\n",
              "      <td>1</td>\n",
              "      <td>0</td>\n",
              "    </tr>\n",
              "    <tr>\n",
              "      <th>373</th>\n",
              "      <td>2020-11-19</td>\n",
              "      <td>1.80</td>\n",
              "      <td>0.05</td>\n",
              "      <td>5.8</td>\n",
              "      <td>11.5</td>\n",
              "      <td>0.0</td>\n",
              "      <td>352</td>\n",
              "      <td>61.2</td>\n",
              "      <td>0</td>\n",
              "      <td>1</td>\n",
              "    </tr>\n",
              "    <tr>\n",
              "      <th>372</th>\n",
              "      <td>2020-11-20</td>\n",
              "      <td>1.50</td>\n",
              "      <td>0.10</td>\n",
              "      <td>-0.1</td>\n",
              "      <td>10.6</td>\n",
              "      <td>0.0</td>\n",
              "      <td>297</td>\n",
              "      <td>26.3</td>\n",
              "      <td>0</td>\n",
              "      <td>1</td>\n",
              "    </tr>\n",
              "    <tr>\n",
              "      <th>0</th>\n",
              "      <td>2021-06-21</td>\n",
              "      <td>1.50</td>\n",
              "      <td>0.20</td>\n",
              "      <td>15.7</td>\n",
              "      <td>24.9</td>\n",
              "      <td>3.8</td>\n",
              "      <td>423</td>\n",
              "      <td>61.2</td>\n",
              "      <td>1</td>\n",
              "      <td>0</td>\n",
              "    </tr>\n",
              "  </tbody>\n",
              "</table>\n",
              "<p>424 rows × 10 columns</p>\n",
              "</div>"
            ],
            "text/plain": [
              "          Date  ...  Tomate ronde cat.I 67-82mm\n",
              "354 2012-01-08  ...                           0\n",
              "333 2012-01-10  ...                           0\n",
              "332 2012-02-10  ...                           0\n",
              "353 2012-03-08  ...                           0\n",
              "342 2012-04-09  ...                           0\n",
              "..         ...  ...                         ...\n",
              "388 2020-11-09  ...                           1\n",
              "19  2020-11-09  ...                           0\n",
              "373 2020-11-19  ...                           1\n",
              "372 2020-11-20  ...                           1\n",
              "0   2021-06-21  ...                           0\n",
              "\n",
              "[424 rows x 10 columns]"
            ]
          },
          "metadata": {},
          "execution_count": 15
        }
      ]
    },
    {
      "cell_type": "code",
      "metadata": {
        "id": "vME9_4bgLzoE"
      },
      "source": [
        "T['mois'] = T['Date'].dt.month\n",
        "T['jour'] = T['Date'].dt.day\n",
        "T['année'] = T['Date'].dt.year"
      ],
      "execution_count": null,
      "outputs": []
    },
    {
      "cell_type": "code",
      "metadata": {
        "colab": {
          "base_uri": "https://localhost:8080/",
          "height": 476
        },
        "id": "3eiGr83zNPHS",
        "outputId": "2dbecf45-9404-48e2-da0c-ac45d5c1ea14"
      },
      "source": [
        "T = T.drop([\"Date\"], axis=1)\n",
        "T"
      ],
      "execution_count": null,
      "outputs": [
        {
          "output_type": "execute_result",
          "data": {
            "text/html": [
              "<div>\n",
              "<style scoped>\n",
              "    .dataframe tbody tr th:only-of-type {\n",
              "        vertical-align: middle;\n",
              "    }\n",
              "\n",
              "    .dataframe tbody tr th {\n",
              "        vertical-align: top;\n",
              "    }\n",
              "\n",
              "    .dataframe thead th {\n",
              "        text-align: right;\n",
              "    }\n",
              "</style>\n",
              "<table border=\"1\" class=\"dataframe\">\n",
              "  <thead>\n",
              "    <tr style=\"text-align: right;\">\n",
              "      <th></th>\n",
              "      <th>prix moyen au kg</th>\n",
              "      <th>Production quantité \\ntonne(s)</th>\n",
              "      <th>Température minimale en °C</th>\n",
              "      <th>Température maximale en °C</th>\n",
              "      <th>précipitations en mm</th>\n",
              "      <th>Ensoleillement en min</th>\n",
              "      <th>Rafales (vitesse du vent) en km/h</th>\n",
              "      <th>Tomate ronde  cat.I 57-67mm</th>\n",
              "      <th>Tomate ronde cat.I 67-82mm</th>\n",
              "      <th>mois</th>\n",
              "      <th>jour</th>\n",
              "      <th>année</th>\n",
              "    </tr>\n",
              "  </thead>\n",
              "  <tbody>\n",
              "    <tr>\n",
              "      <th>354</th>\n",
              "      <td>1.30</td>\n",
              "      <td>0.20</td>\n",
              "      <td>11.8</td>\n",
              "      <td>28.0</td>\n",
              "      <td>0.4</td>\n",
              "      <td>445</td>\n",
              "      <td>44.4</td>\n",
              "      <td>1</td>\n",
              "      <td>0</td>\n",
              "      <td>1</td>\n",
              "      <td>8</td>\n",
              "      <td>2012</td>\n",
              "    </tr>\n",
              "    <tr>\n",
              "      <th>333</th>\n",
              "      <td>1.10</td>\n",
              "      <td>0.20</td>\n",
              "      <td>3.5</td>\n",
              "      <td>19.1</td>\n",
              "      <td>0.8</td>\n",
              "      <td>536</td>\n",
              "      <td>40.7</td>\n",
              "      <td>1</td>\n",
              "      <td>0</td>\n",
              "      <td>1</td>\n",
              "      <td>10</td>\n",
              "      <td>2012</td>\n",
              "    </tr>\n",
              "    <tr>\n",
              "      <th>332</th>\n",
              "      <td>1.10</td>\n",
              "      <td>0.20</td>\n",
              "      <td>12.8</td>\n",
              "      <td>18.8</td>\n",
              "      <td>0.2</td>\n",
              "      <td>121</td>\n",
              "      <td>38.9</td>\n",
              "      <td>1</td>\n",
              "      <td>0</td>\n",
              "      <td>2</td>\n",
              "      <td>10</td>\n",
              "      <td>2012</td>\n",
              "    </tr>\n",
              "    <tr>\n",
              "      <th>353</th>\n",
              "      <td>1.25</td>\n",
              "      <td>0.30</td>\n",
              "      <td>12.0</td>\n",
              "      <td>24.1</td>\n",
              "      <td>0.4</td>\n",
              "      <td>330</td>\n",
              "      <td>42.8</td>\n",
              "      <td>1</td>\n",
              "      <td>0</td>\n",
              "      <td>3</td>\n",
              "      <td>8</td>\n",
              "      <td>2012</td>\n",
              "    </tr>\n",
              "    <tr>\n",
              "      <th>342</th>\n",
              "      <td>1.10</td>\n",
              "      <td>0.40</td>\n",
              "      <td>12.8</td>\n",
              "      <td>25.7</td>\n",
              "      <td>0.0</td>\n",
              "      <td>672</td>\n",
              "      <td>37.0</td>\n",
              "      <td>1</td>\n",
              "      <td>0</td>\n",
              "      <td>4</td>\n",
              "      <td>9</td>\n",
              "      <td>2012</td>\n",
              "    </tr>\n",
              "    <tr>\n",
              "      <th>...</th>\n",
              "      <td>...</td>\n",
              "      <td>...</td>\n",
              "      <td>...</td>\n",
              "      <td>...</td>\n",
              "      <td>...</td>\n",
              "      <td>...</td>\n",
              "      <td>...</td>\n",
              "      <td>...</td>\n",
              "      <td>...</td>\n",
              "      <td>...</td>\n",
              "      <td>...</td>\n",
              "      <td>...</td>\n",
              "    </tr>\n",
              "    <tr>\n",
              "      <th>388</th>\n",
              "      <td>1.75</td>\n",
              "      <td>0.50</td>\n",
              "      <td>14.1</td>\n",
              "      <td>28.2</td>\n",
              "      <td>0.0</td>\n",
              "      <td>552</td>\n",
              "      <td>29.5</td>\n",
              "      <td>0</td>\n",
              "      <td>1</td>\n",
              "      <td>11</td>\n",
              "      <td>9</td>\n",
              "      <td>2020</td>\n",
              "    </tr>\n",
              "    <tr>\n",
              "      <th>19</th>\n",
              "      <td>1.05</td>\n",
              "      <td>0.50</td>\n",
              "      <td>14.1</td>\n",
              "      <td>28.2</td>\n",
              "      <td>0.0</td>\n",
              "      <td>552</td>\n",
              "      <td>29.5</td>\n",
              "      <td>1</td>\n",
              "      <td>0</td>\n",
              "      <td>11</td>\n",
              "      <td>9</td>\n",
              "      <td>2020</td>\n",
              "    </tr>\n",
              "    <tr>\n",
              "      <th>373</th>\n",
              "      <td>1.80</td>\n",
              "      <td>0.05</td>\n",
              "      <td>5.8</td>\n",
              "      <td>11.5</td>\n",
              "      <td>0.0</td>\n",
              "      <td>352</td>\n",
              "      <td>61.2</td>\n",
              "      <td>0</td>\n",
              "      <td>1</td>\n",
              "      <td>11</td>\n",
              "      <td>19</td>\n",
              "      <td>2020</td>\n",
              "    </tr>\n",
              "    <tr>\n",
              "      <th>372</th>\n",
              "      <td>1.50</td>\n",
              "      <td>0.10</td>\n",
              "      <td>-0.1</td>\n",
              "      <td>10.6</td>\n",
              "      <td>0.0</td>\n",
              "      <td>297</td>\n",
              "      <td>26.3</td>\n",
              "      <td>0</td>\n",
              "      <td>1</td>\n",
              "      <td>11</td>\n",
              "      <td>20</td>\n",
              "      <td>2020</td>\n",
              "    </tr>\n",
              "    <tr>\n",
              "      <th>0</th>\n",
              "      <td>1.50</td>\n",
              "      <td>0.20</td>\n",
              "      <td>15.7</td>\n",
              "      <td>24.9</td>\n",
              "      <td>3.8</td>\n",
              "      <td>423</td>\n",
              "      <td>61.2</td>\n",
              "      <td>1</td>\n",
              "      <td>0</td>\n",
              "      <td>6</td>\n",
              "      <td>21</td>\n",
              "      <td>2021</td>\n",
              "    </tr>\n",
              "  </tbody>\n",
              "</table>\n",
              "<p>424 rows × 12 columns</p>\n",
              "</div>"
            ],
            "text/plain": [
              "     prix moyen au kg  Production quantité \\ntonne(s)  ...  jour  année\n",
              "354              1.30                            0.20  ...     8   2012\n",
              "333              1.10                            0.20  ...    10   2012\n",
              "332              1.10                            0.20  ...    10   2012\n",
              "353              1.25                            0.30  ...     8   2012\n",
              "342              1.10                            0.40  ...     9   2012\n",
              "..                ...                             ...  ...   ...    ...\n",
              "388              1.75                            0.50  ...     9   2020\n",
              "19               1.05                            0.50  ...     9   2020\n",
              "373              1.80                            0.05  ...    19   2020\n",
              "372              1.50                            0.10  ...    20   2020\n",
              "0                1.50                            0.20  ...    21   2021\n",
              "\n",
              "[424 rows x 12 columns]"
            ]
          },
          "metadata": {},
          "execution_count": 17
        }
      ]
    },
    {
      "cell_type": "code",
      "metadata": {
        "id": "76qvZZKTNPVR"
      },
      "source": [
        "dummy_mois = pd.get_dummies(T['mois'])\n",
        "dummy_jour = pd.get_dummies(T['jour'])\n",
        "dummy_a = pd.get_dummies(T['année'])"
      ],
      "execution_count": null,
      "outputs": []
    },
    {
      "cell_type": "code",
      "metadata": {
        "id": "njfRpqv_NPYn"
      },
      "source": [
        "\n",
        "T1 = pd.merge(\n",
        "    left=T,\n",
        "    right=dummy_mois,\n",
        "    left_index=True,\n",
        "    right_index=True,\n",
        ")\n",
        "\n",
        "T2 = pd.merge(\n",
        "    left=T1,\n",
        "    right=dummy_a,\n",
        "    left_index=True,\n",
        "    right_index=True,\n",
        ")\n",
        "\n",
        "T3 = pd.merge(\n",
        "    left=T2,\n",
        "    right=dummy_jour,\n",
        "    left_index=True,\n",
        "    right_index=True,\n",
        ")"
      ],
      "execution_count": null,
      "outputs": []
    },
    {
      "cell_type": "code",
      "metadata": {
        "colab": {
          "base_uri": "https://localhost:8080/",
          "height": 513
        },
        "id": "oHQMgbBlNPcd",
        "outputId": "26d7b431-3c37-4879-a159-e28cb86e55d8"
      },
      "source": [
        "T3 = T3.drop([\"mois\",\"jour\",\"année\"], axis=1)\n",
        "T3"
      ],
      "execution_count": null,
      "outputs": [
        {
          "output_type": "execute_result",
          "data": {
            "text/html": [
              "<div>\n",
              "<style scoped>\n",
              "    .dataframe tbody tr th:only-of-type {\n",
              "        vertical-align: middle;\n",
              "    }\n",
              "\n",
              "    .dataframe tbody tr th {\n",
              "        vertical-align: top;\n",
              "    }\n",
              "\n",
              "    .dataframe thead th {\n",
              "        text-align: right;\n",
              "    }\n",
              "</style>\n",
              "<table border=\"1\" class=\"dataframe\">\n",
              "  <thead>\n",
              "    <tr style=\"text-align: right;\">\n",
              "      <th></th>\n",
              "      <th>prix moyen au kg</th>\n",
              "      <th>Production quantité \\ntonne(s)</th>\n",
              "      <th>Température minimale en °C</th>\n",
              "      <th>Température maximale en °C</th>\n",
              "      <th>précipitations en mm</th>\n",
              "      <th>Ensoleillement en min</th>\n",
              "      <th>Rafales (vitesse du vent) en km/h</th>\n",
              "      <th>Tomate ronde  cat.I 57-67mm</th>\n",
              "      <th>Tomate ronde cat.I 67-82mm</th>\n",
              "      <th>1</th>\n",
              "      <th>2</th>\n",
              "      <th>3</th>\n",
              "      <th>4</th>\n",
              "      <th>5</th>\n",
              "      <th>6_x</th>\n",
              "      <th>7_x</th>\n",
              "      <th>8_x</th>\n",
              "      <th>9_x</th>\n",
              "      <th>10_x</th>\n",
              "      <th>11_x</th>\n",
              "      <th>12_x</th>\n",
              "      <th>2012</th>\n",
              "      <th>2013</th>\n",
              "      <th>2014</th>\n",
              "      <th>2015</th>\n",
              "      <th>2016</th>\n",
              "      <th>2017</th>\n",
              "      <th>2018</th>\n",
              "      <th>2019</th>\n",
              "      <th>2020</th>\n",
              "      <th>2021</th>\n",
              "      <th>6_y</th>\n",
              "      <th>7_y</th>\n",
              "      <th>8_y</th>\n",
              "      <th>9_y</th>\n",
              "      <th>10_y</th>\n",
              "      <th>11_y</th>\n",
              "      <th>12_y</th>\n",
              "      <th>13</th>\n",
              "      <th>14</th>\n",
              "      <th>15</th>\n",
              "      <th>16</th>\n",
              "      <th>17</th>\n",
              "      <th>18</th>\n",
              "      <th>19</th>\n",
              "      <th>20</th>\n",
              "      <th>21</th>\n",
              "      <th>22</th>\n",
              "      <th>23</th>\n",
              "      <th>24</th>\n",
              "      <th>25</th>\n",
              "      <th>26</th>\n",
              "      <th>27</th>\n",
              "      <th>28</th>\n",
              "      <th>29</th>\n",
              "      <th>30</th>\n",
              "      <th>31</th>\n",
              "    </tr>\n",
              "  </thead>\n",
              "  <tbody>\n",
              "    <tr>\n",
              "      <th>354</th>\n",
              "      <td>1.30</td>\n",
              "      <td>0.20</td>\n",
              "      <td>11.8</td>\n",
              "      <td>28.0</td>\n",
              "      <td>0.4</td>\n",
              "      <td>445</td>\n",
              "      <td>44.4</td>\n",
              "      <td>1</td>\n",
              "      <td>0</td>\n",
              "      <td>1</td>\n",
              "      <td>0</td>\n",
              "      <td>0</td>\n",
              "      <td>0</td>\n",
              "      <td>0</td>\n",
              "      <td>0</td>\n",
              "      <td>0</td>\n",
              "      <td>0</td>\n",
              "      <td>0</td>\n",
              "      <td>0</td>\n",
              "      <td>0</td>\n",
              "      <td>0</td>\n",
              "      <td>1</td>\n",
              "      <td>0</td>\n",
              "      <td>0</td>\n",
              "      <td>0</td>\n",
              "      <td>0</td>\n",
              "      <td>0</td>\n",
              "      <td>0</td>\n",
              "      <td>0</td>\n",
              "      <td>0</td>\n",
              "      <td>0</td>\n",
              "      <td>0</td>\n",
              "      <td>0</td>\n",
              "      <td>1</td>\n",
              "      <td>0</td>\n",
              "      <td>0</td>\n",
              "      <td>0</td>\n",
              "      <td>0</td>\n",
              "      <td>0</td>\n",
              "      <td>0</td>\n",
              "      <td>0</td>\n",
              "      <td>0</td>\n",
              "      <td>0</td>\n",
              "      <td>0</td>\n",
              "      <td>0</td>\n",
              "      <td>0</td>\n",
              "      <td>0</td>\n",
              "      <td>0</td>\n",
              "      <td>0</td>\n",
              "      <td>0</td>\n",
              "      <td>0</td>\n",
              "      <td>0</td>\n",
              "      <td>0</td>\n",
              "      <td>0</td>\n",
              "      <td>0</td>\n",
              "      <td>0</td>\n",
              "      <td>0</td>\n",
              "    </tr>\n",
              "    <tr>\n",
              "      <th>333</th>\n",
              "      <td>1.10</td>\n",
              "      <td>0.20</td>\n",
              "      <td>3.5</td>\n",
              "      <td>19.1</td>\n",
              "      <td>0.8</td>\n",
              "      <td>536</td>\n",
              "      <td>40.7</td>\n",
              "      <td>1</td>\n",
              "      <td>0</td>\n",
              "      <td>1</td>\n",
              "      <td>0</td>\n",
              "      <td>0</td>\n",
              "      <td>0</td>\n",
              "      <td>0</td>\n",
              "      <td>0</td>\n",
              "      <td>0</td>\n",
              "      <td>0</td>\n",
              "      <td>0</td>\n",
              "      <td>0</td>\n",
              "      <td>0</td>\n",
              "      <td>0</td>\n",
              "      <td>1</td>\n",
              "      <td>0</td>\n",
              "      <td>0</td>\n",
              "      <td>0</td>\n",
              "      <td>0</td>\n",
              "      <td>0</td>\n",
              "      <td>0</td>\n",
              "      <td>0</td>\n",
              "      <td>0</td>\n",
              "      <td>0</td>\n",
              "      <td>0</td>\n",
              "      <td>0</td>\n",
              "      <td>0</td>\n",
              "      <td>0</td>\n",
              "      <td>1</td>\n",
              "      <td>0</td>\n",
              "      <td>0</td>\n",
              "      <td>0</td>\n",
              "      <td>0</td>\n",
              "      <td>0</td>\n",
              "      <td>0</td>\n",
              "      <td>0</td>\n",
              "      <td>0</td>\n",
              "      <td>0</td>\n",
              "      <td>0</td>\n",
              "      <td>0</td>\n",
              "      <td>0</td>\n",
              "      <td>0</td>\n",
              "      <td>0</td>\n",
              "      <td>0</td>\n",
              "      <td>0</td>\n",
              "      <td>0</td>\n",
              "      <td>0</td>\n",
              "      <td>0</td>\n",
              "      <td>0</td>\n",
              "      <td>0</td>\n",
              "    </tr>\n",
              "    <tr>\n",
              "      <th>332</th>\n",
              "      <td>1.10</td>\n",
              "      <td>0.20</td>\n",
              "      <td>12.8</td>\n",
              "      <td>18.8</td>\n",
              "      <td>0.2</td>\n",
              "      <td>121</td>\n",
              "      <td>38.9</td>\n",
              "      <td>1</td>\n",
              "      <td>0</td>\n",
              "      <td>0</td>\n",
              "      <td>1</td>\n",
              "      <td>0</td>\n",
              "      <td>0</td>\n",
              "      <td>0</td>\n",
              "      <td>0</td>\n",
              "      <td>0</td>\n",
              "      <td>0</td>\n",
              "      <td>0</td>\n",
              "      <td>0</td>\n",
              "      <td>0</td>\n",
              "      <td>0</td>\n",
              "      <td>1</td>\n",
              "      <td>0</td>\n",
              "      <td>0</td>\n",
              "      <td>0</td>\n",
              "      <td>0</td>\n",
              "      <td>0</td>\n",
              "      <td>0</td>\n",
              "      <td>0</td>\n",
              "      <td>0</td>\n",
              "      <td>0</td>\n",
              "      <td>0</td>\n",
              "      <td>0</td>\n",
              "      <td>0</td>\n",
              "      <td>0</td>\n",
              "      <td>1</td>\n",
              "      <td>0</td>\n",
              "      <td>0</td>\n",
              "      <td>0</td>\n",
              "      <td>0</td>\n",
              "      <td>0</td>\n",
              "      <td>0</td>\n",
              "      <td>0</td>\n",
              "      <td>0</td>\n",
              "      <td>0</td>\n",
              "      <td>0</td>\n",
              "      <td>0</td>\n",
              "      <td>0</td>\n",
              "      <td>0</td>\n",
              "      <td>0</td>\n",
              "      <td>0</td>\n",
              "      <td>0</td>\n",
              "      <td>0</td>\n",
              "      <td>0</td>\n",
              "      <td>0</td>\n",
              "      <td>0</td>\n",
              "      <td>0</td>\n",
              "    </tr>\n",
              "    <tr>\n",
              "      <th>353</th>\n",
              "      <td>1.25</td>\n",
              "      <td>0.30</td>\n",
              "      <td>12.0</td>\n",
              "      <td>24.1</td>\n",
              "      <td>0.4</td>\n",
              "      <td>330</td>\n",
              "      <td>42.8</td>\n",
              "      <td>1</td>\n",
              "      <td>0</td>\n",
              "      <td>0</td>\n",
              "      <td>0</td>\n",
              "      <td>1</td>\n",
              "      <td>0</td>\n",
              "      <td>0</td>\n",
              "      <td>0</td>\n",
              "      <td>0</td>\n",
              "      <td>0</td>\n",
              "      <td>0</td>\n",
              "      <td>0</td>\n",
              "      <td>0</td>\n",
              "      <td>0</td>\n",
              "      <td>1</td>\n",
              "      <td>0</td>\n",
              "      <td>0</td>\n",
              "      <td>0</td>\n",
              "      <td>0</td>\n",
              "      <td>0</td>\n",
              "      <td>0</td>\n",
              "      <td>0</td>\n",
              "      <td>0</td>\n",
              "      <td>0</td>\n",
              "      <td>0</td>\n",
              "      <td>0</td>\n",
              "      <td>1</td>\n",
              "      <td>0</td>\n",
              "      <td>0</td>\n",
              "      <td>0</td>\n",
              "      <td>0</td>\n",
              "      <td>0</td>\n",
              "      <td>0</td>\n",
              "      <td>0</td>\n",
              "      <td>0</td>\n",
              "      <td>0</td>\n",
              "      <td>0</td>\n",
              "      <td>0</td>\n",
              "      <td>0</td>\n",
              "      <td>0</td>\n",
              "      <td>0</td>\n",
              "      <td>0</td>\n",
              "      <td>0</td>\n",
              "      <td>0</td>\n",
              "      <td>0</td>\n",
              "      <td>0</td>\n",
              "      <td>0</td>\n",
              "      <td>0</td>\n",
              "      <td>0</td>\n",
              "      <td>0</td>\n",
              "    </tr>\n",
              "    <tr>\n",
              "      <th>342</th>\n",
              "      <td>1.10</td>\n",
              "      <td>0.40</td>\n",
              "      <td>12.8</td>\n",
              "      <td>25.7</td>\n",
              "      <td>0.0</td>\n",
              "      <td>672</td>\n",
              "      <td>37.0</td>\n",
              "      <td>1</td>\n",
              "      <td>0</td>\n",
              "      <td>0</td>\n",
              "      <td>0</td>\n",
              "      <td>0</td>\n",
              "      <td>1</td>\n",
              "      <td>0</td>\n",
              "      <td>0</td>\n",
              "      <td>0</td>\n",
              "      <td>0</td>\n",
              "      <td>0</td>\n",
              "      <td>0</td>\n",
              "      <td>0</td>\n",
              "      <td>0</td>\n",
              "      <td>1</td>\n",
              "      <td>0</td>\n",
              "      <td>0</td>\n",
              "      <td>0</td>\n",
              "      <td>0</td>\n",
              "      <td>0</td>\n",
              "      <td>0</td>\n",
              "      <td>0</td>\n",
              "      <td>0</td>\n",
              "      <td>0</td>\n",
              "      <td>0</td>\n",
              "      <td>0</td>\n",
              "      <td>0</td>\n",
              "      <td>1</td>\n",
              "      <td>0</td>\n",
              "      <td>0</td>\n",
              "      <td>0</td>\n",
              "      <td>0</td>\n",
              "      <td>0</td>\n",
              "      <td>0</td>\n",
              "      <td>0</td>\n",
              "      <td>0</td>\n",
              "      <td>0</td>\n",
              "      <td>0</td>\n",
              "      <td>0</td>\n",
              "      <td>0</td>\n",
              "      <td>0</td>\n",
              "      <td>0</td>\n",
              "      <td>0</td>\n",
              "      <td>0</td>\n",
              "      <td>0</td>\n",
              "      <td>0</td>\n",
              "      <td>0</td>\n",
              "      <td>0</td>\n",
              "      <td>0</td>\n",
              "      <td>0</td>\n",
              "    </tr>\n",
              "    <tr>\n",
              "      <th>...</th>\n",
              "      <td>...</td>\n",
              "      <td>...</td>\n",
              "      <td>...</td>\n",
              "      <td>...</td>\n",
              "      <td>...</td>\n",
              "      <td>...</td>\n",
              "      <td>...</td>\n",
              "      <td>...</td>\n",
              "      <td>...</td>\n",
              "      <td>...</td>\n",
              "      <td>...</td>\n",
              "      <td>...</td>\n",
              "      <td>...</td>\n",
              "      <td>...</td>\n",
              "      <td>...</td>\n",
              "      <td>...</td>\n",
              "      <td>...</td>\n",
              "      <td>...</td>\n",
              "      <td>...</td>\n",
              "      <td>...</td>\n",
              "      <td>...</td>\n",
              "      <td>...</td>\n",
              "      <td>...</td>\n",
              "      <td>...</td>\n",
              "      <td>...</td>\n",
              "      <td>...</td>\n",
              "      <td>...</td>\n",
              "      <td>...</td>\n",
              "      <td>...</td>\n",
              "      <td>...</td>\n",
              "      <td>...</td>\n",
              "      <td>...</td>\n",
              "      <td>...</td>\n",
              "      <td>...</td>\n",
              "      <td>...</td>\n",
              "      <td>...</td>\n",
              "      <td>...</td>\n",
              "      <td>...</td>\n",
              "      <td>...</td>\n",
              "      <td>...</td>\n",
              "      <td>...</td>\n",
              "      <td>...</td>\n",
              "      <td>...</td>\n",
              "      <td>...</td>\n",
              "      <td>...</td>\n",
              "      <td>...</td>\n",
              "      <td>...</td>\n",
              "      <td>...</td>\n",
              "      <td>...</td>\n",
              "      <td>...</td>\n",
              "      <td>...</td>\n",
              "      <td>...</td>\n",
              "      <td>...</td>\n",
              "      <td>...</td>\n",
              "      <td>...</td>\n",
              "      <td>...</td>\n",
              "      <td>...</td>\n",
              "    </tr>\n",
              "    <tr>\n",
              "      <th>388</th>\n",
              "      <td>1.75</td>\n",
              "      <td>0.50</td>\n",
              "      <td>14.1</td>\n",
              "      <td>28.2</td>\n",
              "      <td>0.0</td>\n",
              "      <td>552</td>\n",
              "      <td>29.5</td>\n",
              "      <td>0</td>\n",
              "      <td>1</td>\n",
              "      <td>0</td>\n",
              "      <td>0</td>\n",
              "      <td>0</td>\n",
              "      <td>0</td>\n",
              "      <td>0</td>\n",
              "      <td>0</td>\n",
              "      <td>0</td>\n",
              "      <td>0</td>\n",
              "      <td>0</td>\n",
              "      <td>0</td>\n",
              "      <td>1</td>\n",
              "      <td>0</td>\n",
              "      <td>0</td>\n",
              "      <td>0</td>\n",
              "      <td>0</td>\n",
              "      <td>0</td>\n",
              "      <td>0</td>\n",
              "      <td>0</td>\n",
              "      <td>0</td>\n",
              "      <td>0</td>\n",
              "      <td>1</td>\n",
              "      <td>0</td>\n",
              "      <td>0</td>\n",
              "      <td>0</td>\n",
              "      <td>0</td>\n",
              "      <td>1</td>\n",
              "      <td>0</td>\n",
              "      <td>0</td>\n",
              "      <td>0</td>\n",
              "      <td>0</td>\n",
              "      <td>0</td>\n",
              "      <td>0</td>\n",
              "      <td>0</td>\n",
              "      <td>0</td>\n",
              "      <td>0</td>\n",
              "      <td>0</td>\n",
              "      <td>0</td>\n",
              "      <td>0</td>\n",
              "      <td>0</td>\n",
              "      <td>0</td>\n",
              "      <td>0</td>\n",
              "      <td>0</td>\n",
              "      <td>0</td>\n",
              "      <td>0</td>\n",
              "      <td>0</td>\n",
              "      <td>0</td>\n",
              "      <td>0</td>\n",
              "      <td>0</td>\n",
              "    </tr>\n",
              "    <tr>\n",
              "      <th>19</th>\n",
              "      <td>1.05</td>\n",
              "      <td>0.50</td>\n",
              "      <td>14.1</td>\n",
              "      <td>28.2</td>\n",
              "      <td>0.0</td>\n",
              "      <td>552</td>\n",
              "      <td>29.5</td>\n",
              "      <td>1</td>\n",
              "      <td>0</td>\n",
              "      <td>0</td>\n",
              "      <td>0</td>\n",
              "      <td>0</td>\n",
              "      <td>0</td>\n",
              "      <td>0</td>\n",
              "      <td>0</td>\n",
              "      <td>0</td>\n",
              "      <td>0</td>\n",
              "      <td>0</td>\n",
              "      <td>0</td>\n",
              "      <td>1</td>\n",
              "      <td>0</td>\n",
              "      <td>0</td>\n",
              "      <td>0</td>\n",
              "      <td>0</td>\n",
              "      <td>0</td>\n",
              "      <td>0</td>\n",
              "      <td>0</td>\n",
              "      <td>0</td>\n",
              "      <td>0</td>\n",
              "      <td>1</td>\n",
              "      <td>0</td>\n",
              "      <td>0</td>\n",
              "      <td>0</td>\n",
              "      <td>0</td>\n",
              "      <td>1</td>\n",
              "      <td>0</td>\n",
              "      <td>0</td>\n",
              "      <td>0</td>\n",
              "      <td>0</td>\n",
              "      <td>0</td>\n",
              "      <td>0</td>\n",
              "      <td>0</td>\n",
              "      <td>0</td>\n",
              "      <td>0</td>\n",
              "      <td>0</td>\n",
              "      <td>0</td>\n",
              "      <td>0</td>\n",
              "      <td>0</td>\n",
              "      <td>0</td>\n",
              "      <td>0</td>\n",
              "      <td>0</td>\n",
              "      <td>0</td>\n",
              "      <td>0</td>\n",
              "      <td>0</td>\n",
              "      <td>0</td>\n",
              "      <td>0</td>\n",
              "      <td>0</td>\n",
              "    </tr>\n",
              "    <tr>\n",
              "      <th>373</th>\n",
              "      <td>1.80</td>\n",
              "      <td>0.05</td>\n",
              "      <td>5.8</td>\n",
              "      <td>11.5</td>\n",
              "      <td>0.0</td>\n",
              "      <td>352</td>\n",
              "      <td>61.2</td>\n",
              "      <td>0</td>\n",
              "      <td>1</td>\n",
              "      <td>0</td>\n",
              "      <td>0</td>\n",
              "      <td>0</td>\n",
              "      <td>0</td>\n",
              "      <td>0</td>\n",
              "      <td>0</td>\n",
              "      <td>0</td>\n",
              "      <td>0</td>\n",
              "      <td>0</td>\n",
              "      <td>0</td>\n",
              "      <td>1</td>\n",
              "      <td>0</td>\n",
              "      <td>0</td>\n",
              "      <td>0</td>\n",
              "      <td>0</td>\n",
              "      <td>0</td>\n",
              "      <td>0</td>\n",
              "      <td>0</td>\n",
              "      <td>0</td>\n",
              "      <td>0</td>\n",
              "      <td>1</td>\n",
              "      <td>0</td>\n",
              "      <td>0</td>\n",
              "      <td>0</td>\n",
              "      <td>0</td>\n",
              "      <td>0</td>\n",
              "      <td>0</td>\n",
              "      <td>0</td>\n",
              "      <td>0</td>\n",
              "      <td>0</td>\n",
              "      <td>0</td>\n",
              "      <td>0</td>\n",
              "      <td>0</td>\n",
              "      <td>0</td>\n",
              "      <td>0</td>\n",
              "      <td>1</td>\n",
              "      <td>0</td>\n",
              "      <td>0</td>\n",
              "      <td>0</td>\n",
              "      <td>0</td>\n",
              "      <td>0</td>\n",
              "      <td>0</td>\n",
              "      <td>0</td>\n",
              "      <td>0</td>\n",
              "      <td>0</td>\n",
              "      <td>0</td>\n",
              "      <td>0</td>\n",
              "      <td>0</td>\n",
              "    </tr>\n",
              "    <tr>\n",
              "      <th>372</th>\n",
              "      <td>1.50</td>\n",
              "      <td>0.10</td>\n",
              "      <td>-0.1</td>\n",
              "      <td>10.6</td>\n",
              "      <td>0.0</td>\n",
              "      <td>297</td>\n",
              "      <td>26.3</td>\n",
              "      <td>0</td>\n",
              "      <td>1</td>\n",
              "      <td>0</td>\n",
              "      <td>0</td>\n",
              "      <td>0</td>\n",
              "      <td>0</td>\n",
              "      <td>0</td>\n",
              "      <td>0</td>\n",
              "      <td>0</td>\n",
              "      <td>0</td>\n",
              "      <td>0</td>\n",
              "      <td>0</td>\n",
              "      <td>1</td>\n",
              "      <td>0</td>\n",
              "      <td>0</td>\n",
              "      <td>0</td>\n",
              "      <td>0</td>\n",
              "      <td>0</td>\n",
              "      <td>0</td>\n",
              "      <td>0</td>\n",
              "      <td>0</td>\n",
              "      <td>0</td>\n",
              "      <td>1</td>\n",
              "      <td>0</td>\n",
              "      <td>0</td>\n",
              "      <td>0</td>\n",
              "      <td>0</td>\n",
              "      <td>0</td>\n",
              "      <td>0</td>\n",
              "      <td>0</td>\n",
              "      <td>0</td>\n",
              "      <td>0</td>\n",
              "      <td>0</td>\n",
              "      <td>0</td>\n",
              "      <td>0</td>\n",
              "      <td>0</td>\n",
              "      <td>0</td>\n",
              "      <td>0</td>\n",
              "      <td>1</td>\n",
              "      <td>0</td>\n",
              "      <td>0</td>\n",
              "      <td>0</td>\n",
              "      <td>0</td>\n",
              "      <td>0</td>\n",
              "      <td>0</td>\n",
              "      <td>0</td>\n",
              "      <td>0</td>\n",
              "      <td>0</td>\n",
              "      <td>0</td>\n",
              "      <td>0</td>\n",
              "    </tr>\n",
              "    <tr>\n",
              "      <th>0</th>\n",
              "      <td>1.50</td>\n",
              "      <td>0.20</td>\n",
              "      <td>15.7</td>\n",
              "      <td>24.9</td>\n",
              "      <td>3.8</td>\n",
              "      <td>423</td>\n",
              "      <td>61.2</td>\n",
              "      <td>1</td>\n",
              "      <td>0</td>\n",
              "      <td>0</td>\n",
              "      <td>0</td>\n",
              "      <td>0</td>\n",
              "      <td>0</td>\n",
              "      <td>0</td>\n",
              "      <td>1</td>\n",
              "      <td>0</td>\n",
              "      <td>0</td>\n",
              "      <td>0</td>\n",
              "      <td>0</td>\n",
              "      <td>0</td>\n",
              "      <td>0</td>\n",
              "      <td>0</td>\n",
              "      <td>0</td>\n",
              "      <td>0</td>\n",
              "      <td>0</td>\n",
              "      <td>0</td>\n",
              "      <td>0</td>\n",
              "      <td>0</td>\n",
              "      <td>0</td>\n",
              "      <td>0</td>\n",
              "      <td>1</td>\n",
              "      <td>0</td>\n",
              "      <td>0</td>\n",
              "      <td>0</td>\n",
              "      <td>0</td>\n",
              "      <td>0</td>\n",
              "      <td>0</td>\n",
              "      <td>0</td>\n",
              "      <td>0</td>\n",
              "      <td>0</td>\n",
              "      <td>0</td>\n",
              "      <td>0</td>\n",
              "      <td>0</td>\n",
              "      <td>0</td>\n",
              "      <td>0</td>\n",
              "      <td>0</td>\n",
              "      <td>1</td>\n",
              "      <td>0</td>\n",
              "      <td>0</td>\n",
              "      <td>0</td>\n",
              "      <td>0</td>\n",
              "      <td>0</td>\n",
              "      <td>0</td>\n",
              "      <td>0</td>\n",
              "      <td>0</td>\n",
              "      <td>0</td>\n",
              "      <td>0</td>\n",
              "    </tr>\n",
              "  </tbody>\n",
              "</table>\n",
              "<p>424 rows × 57 columns</p>\n",
              "</div>"
            ],
            "text/plain": [
              "     prix moyen au kg  Production quantité \\ntonne(s)  ...  30  31\n",
              "354              1.30                            0.20  ...   0   0\n",
              "333              1.10                            0.20  ...   0   0\n",
              "332              1.10                            0.20  ...   0   0\n",
              "353              1.25                            0.30  ...   0   0\n",
              "342              1.10                            0.40  ...   0   0\n",
              "..                ...                             ...  ...  ..  ..\n",
              "388              1.75                            0.50  ...   0   0\n",
              "19               1.05                            0.50  ...   0   0\n",
              "373              1.80                            0.05  ...   0   0\n",
              "372              1.50                            0.10  ...   0   0\n",
              "0                1.50                            0.20  ...   0   0\n",
              "\n",
              "[424 rows x 57 columns]"
            ]
          },
          "metadata": {},
          "execution_count": 20
        }
      ]
    },
    {
      "cell_type": "code",
      "metadata": {
        "id": "NBpSr_vXNPgk"
      },
      "source": [
        "Prix = T3['prix moyen au kg'] \n",
        "Production = T3['Production quantité \\ntonne(s)']"
      ],
      "execution_count": null,
      "outputs": []
    },
    {
      "cell_type": "markdown",
      "metadata": {
        "id": "TwGNaDklWNWn"
      },
      "source": [
        "**Modélisation**"
      ]
    },
    {
      "cell_type": "code",
      "metadata": {
        "id": "QY4zhTmxOjfu"
      },
      "source": [
        "#pour le prix\n",
        "\n",
        "from sklearn.model_selection import train_test_split\n",
        "from sklearn.metrics import mean_squared_error, r2_score\n",
        "\n",
        "\n",
        "X =  T3.drop(['prix moyen au kg'], axis=1)\n",
        "y = Prix\n",
        "\n",
        "X_train, X_test, y_train, y_test = train_test_split(X, y, test_size=0.3, random_state=42)"
      ],
      "execution_count": null,
      "outputs": []
    },
    {
      "cell_type": "code",
      "metadata": {
        "colab": {
          "base_uri": "https://localhost:8080/"
        },
        "id": "vwokcdNAOjuZ",
        "outputId": "00fd9cac-245c-45d1-adc5-b4b3c0f918d9"
      },
      "source": [
        "from sklearn import linear_model\n",
        "lr = linear_model.LinearRegression()\n",
        "model = lr.fit(X_train, y_train)\n",
        "model.score(X_test, y_test)"
      ],
      "execution_count": null,
      "outputs": [
        {
          "output_type": "execute_result",
          "data": {
            "text/plain": [
              "0.5569382648245584"
            ]
          },
          "metadata": {},
          "execution_count": 23
        }
      ]
    },
    {
      "cell_type": "code",
      "metadata": {
        "colab": {
          "base_uri": "https://localhost:8080/"
        },
        "id": "ml6IJD7wOj42",
        "outputId": "ac96b638-81cb-4767-a9d4-d2685f80eb01"
      },
      "source": [
        "model.score(X_train, y_train)"
      ],
      "execution_count": null,
      "outputs": [
        {
          "output_type": "execute_result",
          "data": {
            "text/plain": [
              "0.7200786744944013"
            ]
          },
          "metadata": {},
          "execution_count": 24
        }
      ]
    },
    {
      "cell_type": "code",
      "metadata": {
        "id": "b28KcUasOjzp"
      },
      "source": [
        "y_tr = model.predict(X_train)\n",
        "y_pred = model.predict(X_test)"
      ],
      "execution_count": null,
      "outputs": []
    },
    {
      "cell_type": "code",
      "metadata": {
        "colab": {
          "base_uri": "https://localhost:8080/"
        },
        "id": "C1yGBrRGOj_n",
        "outputId": "2af30e91-7dc0-4ea9-9250-4239df89e842"
      },
      "source": [
        "from math import sqrt\n",
        "rmseP1T1LR =sqrt(mean_squared_error(y_test, y_pred))\n",
        "print(rmseP1T1LR)"
      ],
      "execution_count": null,
      "outputs": [
        {
          "output_type": "stream",
          "name": "stdout",
          "text": [
            "0.1922785980704713\n"
          ]
        }
      ]
    },
    {
      "cell_type": "code",
      "metadata": {
        "colab": {
          "base_uri": "https://localhost:8080/"
        },
        "id": "Hn2N0USnOkDM",
        "outputId": "75197a09-bf0f-4b04-f018-751ed5b4ab70"
      },
      "source": [
        "sqrt(mean_squared_error(y_train, y_tr))"
      ],
      "execution_count": null,
      "outputs": [
        {
          "output_type": "execute_result",
          "data": {
            "text/plain": [
              "0.15241745472926257"
            ]
          },
          "metadata": {},
          "execution_count": 27
        }
      ]
    },
    {
      "cell_type": "code",
      "metadata": {
        "colab": {
          "base_uri": "https://localhost:8080/"
        },
        "id": "c4vW5R-YOkHS",
        "outputId": "0a9e05cc-5371-48d6-b3de-24dafc522687"
      },
      "source": [
        "mean_absolute_error(y_train, y_tr)"
      ],
      "execution_count": null,
      "outputs": [
        {
          "output_type": "execute_result",
          "data": {
            "text/plain": [
              "0.11338144198877856"
            ]
          },
          "metadata": {},
          "execution_count": 28
        }
      ]
    },
    {
      "cell_type": "code",
      "metadata": {
        "colab": {
          "base_uri": "https://localhost:8080/"
        },
        "id": "3hzHiPvgOkKd",
        "outputId": "ceee37e5-48be-419f-dd98-d29b21fcf001"
      },
      "source": [
        "mean_absolute_error(y_test, y_pred)"
      ],
      "execution_count": null,
      "outputs": [
        {
          "output_type": "execute_result",
          "data": {
            "text/plain": [
              "0.1433437538466018"
            ]
          },
          "metadata": {},
          "execution_count": 29
        }
      ]
    },
    {
      "cell_type": "code",
      "metadata": {
        "id": "U8jhFaPfw5PF",
        "colab": {
          "base_uri": "https://localhost:8080/"
        },
        "outputId": "f74bd9d0-1777-4cf9-a219-ead90bc28b03"
      },
      "source": [
        "print(r2_score(y_test, y_pred))\n",
        "print(r2_score(y_train, y_tr))"
      ],
      "execution_count": null,
      "outputs": [
        {
          "output_type": "stream",
          "name": "stdout",
          "text": [
            "0.5569382648245584\n",
            "0.7200786744944013\n"
          ]
        }
      ]
    },
    {
      "cell_type": "code",
      "metadata": {
        "colab": {
          "base_uri": "https://localhost:8080/",
          "height": 301
        },
        "id": "V_B1gfCKOkOA",
        "outputId": "eb14e1b6-27a9-43c0-95d2-453e0c07a997"
      },
      "source": [
        "plt.scatter(y_test, y_pred, color = 'darkviolet')\n",
        "plt.title('Prix des tomates (modèle linéaire)')\n",
        "plt.xlabel('Prix prédit')\n",
        "plt.ylabel('Prix actuel')\n",
        "z = np.polyfit(y_test, y_pred, 1)\n",
        "p = np.poly1d(z)\n",
        "plt.plot(y_test,p(y_test), color='red')\n",
        "plt.show()"
      ],
      "execution_count": null,
      "outputs": [
        {
          "output_type": "display_data",
          "data": {
            "image/png": "[encoded data removed]",
            "text/plain": [
              "<Figure size 432x288 with 1 Axes>"
            ]
          },
          "metadata": {
            "needs_background": "light"
          }
        }
      ]
    },
    {
      "cell_type": "code",
      "metadata": {
        "colab": {
          "base_uri": "https://localhost:8080/"
        },
        "id": "9sH_wKrXLzrG",
        "outputId": "c0363626-99bc-4f26-f605-50805725d30a"
      },
      "source": [
        "from sklearn.model_selection import cross_val_score\n",
        "scores = cross_val_score(model, X_train, y_train, cv = 5)\n",
        "\n",
        "print (scores, np.mean(scores), np.std(scores))\n"
      ],
      "execution_count": null,
      "outputs": [
        {
          "output_type": "stream",
          "name": "stdout",
          "text": [
            "[0.49691933 0.61188789 0.74332777 0.69728193 0.15088023] 0.5400594305100528 0.21190458841741233\n"
          ]
        }
      ]
    },
    {
      "cell_type": "code",
      "metadata": {
        "id": "kbWucFvvLzt5"
      },
      "source": [
        "from sklearn.model_selection import cross_val_predict\n",
        "predictionsp1t = cross_val_predict(model, X_test, y_test, cv = 5) "
      ],
      "execution_count": null,
      "outputs": []
    },
    {
      "cell_type": "code",
      "metadata": {
        "colab": {
          "base_uri": "https://localhost:8080/"
        },
        "id": "4LQ9PiTzLzw8",
        "outputId": "127cb1eb-ada9-431b-e05d-51e02f1fe84b"
      },
      "source": [
        "sqrt(mean_squared_error(y_test, predictionsp1t))"
      ],
      "execution_count": null,
      "outputs": [
        {
          "output_type": "execute_result",
          "data": {
            "text/plain": [
              "0.22847487860628166"
            ]
          },
          "metadata": {},
          "execution_count": 34
        }
      ]
    },
    {
      "cell_type": "code",
      "metadata": {
        "colab": {
          "base_uri": "https://localhost:8080/"
        },
        "id": "NDa-0W7mLzzr",
        "outputId": "e6b8223c-2a20-486a-da8b-27610459ef50"
      },
      "source": [
        "predictionsp1T = cross_val_predict(model, X_train, y_train, cv = 5) \n",
        "sqrt(mean_squared_error(y_train, predictionsp1T))"
      ],
      "execution_count": null,
      "outputs": [
        {
          "output_type": "execute_result",
          "data": {
            "text/plain": [
              "0.19332956668833567"
            ]
          },
          "metadata": {},
          "execution_count": 35
        }
      ]
    },
    {
      "cell_type": "code",
      "metadata": {
        "colab": {
          "base_uri": "https://localhost:8080/"
        },
        "id": "eBQ_ZsxORymM",
        "outputId": "4a8fa96f-9ae9-4e3e-f939-72b6dfab5f0b"
      },
      "source": [
        "mean_absolute_error(y_train, predictionsp1T)"
      ],
      "execution_count": null,
      "outputs": [
        {
          "output_type": "execute_result",
          "data": {
            "text/plain": [
              "0.1455446084646085"
            ]
          },
          "metadata": {},
          "execution_count": 36
        }
      ]
    },
    {
      "cell_type": "code",
      "metadata": {
        "colab": {
          "base_uri": "https://localhost:8080/"
        },
        "id": "-x6NiLSeRy2J",
        "outputId": "71342f42-f119-4b54-a7d1-66be18935a12"
      },
      "source": [
        "mean_absolute_error(y_test, predictionsp1t)"
      ],
      "execution_count": null,
      "outputs": [
        {
          "output_type": "execute_result",
          "data": {
            "text/plain": [
              "0.17257559677925405"
            ]
          },
          "metadata": {},
          "execution_count": 37
        }
      ]
    },
    {
      "cell_type": "code",
      "metadata": {
        "colab": {
          "base_uri": "https://localhost:8080/",
          "height": 301
        },
        "id": "6IQ9KiQPSbRH",
        "outputId": "bea1774e-5eea-42ee-d106-1e8c5a2ffc56"
      },
      "source": [
        "plt.scatter(y_test, predictionsp1t, color = 'darkviolet')\n",
        "plt.title('Prix des tomates (modèle linéaire)')\n",
        "plt.xlabel('Prix prédit')\n",
        "plt.ylabel('Prix actuel')\n",
        "z = np.polyfit(y_test, predictionsp1t, 1)\n",
        "p = np.poly1d(z)\n",
        "plt.plot(y_test,p(y_test), color='red')\n",
        "plt.show()"
      ],
      "execution_count": null,
      "outputs": [
        {
          "output_type": "display_data",
          "data": {
            "image/png": "[encoded data removed]",
            "text/plain": [
              "<Figure size 432x288 with 1 Axes>"
            ]
          },
          "metadata": {
            "needs_background": "light"
          }
        }
      ]
    },
    {
      "cell_type": "code",
      "metadata": {
        "id": "bjApLPFoSuja"
      },
      "source": [
        "#Pour la production\n",
        "\n",
        "from sklearn.model_selection import train_test_split\n",
        "\n",
        "X2 =  T3.drop(\"Production quantité \\ntonne(s)\", axis=1)\n",
        "y2 = Production\n",
        "\n",
        "X_train, X_test, y_train, y_test = train_test_split(X2, y2, test_size=0.3, random_state=42)"
      ],
      "execution_count": null,
      "outputs": []
    },
    {
      "cell_type": "code",
      "metadata": {
        "colab": {
          "base_uri": "https://localhost:8080/"
        },
        "id": "c_3AhhUpS1YG",
        "outputId": "e01214ff-a315-406f-b952-80dbf8043cf5"
      },
      "source": [
        "model = lr.fit(X_train, y_train)\n",
        "model.score(X_test, y_test)"
      ],
      "execution_count": null,
      "outputs": [
        {
          "output_type": "execute_result",
          "data": {
            "text/plain": [
              "-0.18923194583897307"
            ]
          },
          "metadata": {},
          "execution_count": 40
        }
      ]
    },
    {
      "cell_type": "code",
      "metadata": {
        "colab": {
          "base_uri": "https://localhost:8080/"
        },
        "id": "rfobWgreS8V_",
        "outputId": "824cfda4-9bcc-4832-82ed-20766c96f027"
      },
      "source": [
        "model.score(X_train, y_train)"
      ],
      "execution_count": null,
      "outputs": [
        {
          "output_type": "execute_result",
          "data": {
            "text/plain": [
              "0.3579593781601905"
            ]
          },
          "metadata": {},
          "execution_count": 41
        }
      ]
    },
    {
      "cell_type": "code",
      "metadata": {
        "id": "5kwou9N4TCLp"
      },
      "source": [
        "y_pred = model.predict(X_test)"
      ],
      "execution_count": null,
      "outputs": []
    },
    {
      "cell_type": "code",
      "metadata": {
        "colab": {
          "base_uri": "https://localhost:8080/"
        },
        "id": "z9tsvG87TCZU",
        "outputId": "a9094833-d8bf-4ef9-975a-5faabf0f1524"
      },
      "source": [
        "sqrt(mean_squared_error(y_test, y_pred))"
      ],
      "execution_count": null,
      "outputs": [
        {
          "output_type": "execute_result",
          "data": {
            "text/plain": [
              "0.7848627892857538"
            ]
          },
          "metadata": {},
          "execution_count": 43
        }
      ]
    },
    {
      "cell_type": "code",
      "metadata": {
        "colab": {
          "base_uri": "https://localhost:8080/"
        },
        "id": "zI7VRnlNTCci",
        "outputId": "7bb336f3-dd37-4c74-a256-bb9396beb627"
      },
      "source": [
        "sqrt(mean_squared_error(y_train, y_tr))"
      ],
      "execution_count": null,
      "outputs": [
        {
          "output_type": "execute_result",
          "data": {
            "text/plain": [
              "1.1779046739848495"
            ]
          },
          "metadata": {},
          "execution_count": 44
        }
      ]
    },
    {
      "cell_type": "code",
      "metadata": {
        "colab": {
          "base_uri": "https://localhost:8080/"
        },
        "id": "yYZi_LBOTCgb",
        "outputId": "65c0bd88-63ce-467e-c4f2-70aaa5e5c5a6"
      },
      "source": [
        "mean_absolute_error(y_train, y_tr)"
      ],
      "execution_count": null,
      "outputs": [
        {
          "output_type": "execute_result",
          "data": {
            "text/plain": [
              "1.0213609181968"
            ]
          },
          "metadata": {},
          "execution_count": 45
        }
      ]
    },
    {
      "cell_type": "code",
      "metadata": {
        "colab": {
          "base_uri": "https://localhost:8080/"
        },
        "id": "w2XIyAROTvDY",
        "outputId": "24ec7ffe-8906-4ad5-a197-0d8fe1fbd4d9"
      },
      "source": [
        "mean_absolute_error(y_test, y_pred)"
      ],
      "execution_count": null,
      "outputs": [
        {
          "output_type": "execute_result",
          "data": {
            "text/plain": [
              "0.43424304426952787"
            ]
          },
          "metadata": {},
          "execution_count": 46
        }
      ]
    },
    {
      "cell_type": "code",
      "metadata": {
        "id": "-MVyls7Zw8eO",
        "colab": {
          "base_uri": "https://localhost:8080/"
        },
        "outputId": "84a5168c-70ab-41ca-b597-d97424436166"
      },
      "source": [
        "print(r2_score(y_test, y_pred))\n",
        "print(r2_score(y_train, y_tr))"
      ],
      "execution_count": null,
      "outputs": [
        {
          "output_type": "stream",
          "name": "stdout",
          "text": [
            "-0.18923194583897307\n",
            "-1.1823358920996605\n"
          ]
        }
      ]
    },
    {
      "cell_type": "code",
      "metadata": {
        "colab": {
          "base_uri": "https://localhost:8080/",
          "height": 301
        },
        "id": "TIe8-vzGTvIU",
        "outputId": "119af1e9-bbb7-402c-f93b-6d4b1f72787f"
      },
      "source": [
        "plt.scatter(y_test, y_pred, color = 'gold')\n",
        "plt.title('Production des tomates (modèle linéaire)')\n",
        "plt.xlabel('Production prédite')\n",
        "plt.ylabel('Production actuelle')\n",
        "z = np.polyfit(y_test, y_pred, 1)\n",
        "p = np.poly1d(z)\n",
        "plt.plot(y_test,p(y_test), color='orange')\n",
        "plt.show()"
      ],
      "execution_count": null,
      "outputs": [
        {
          "output_type": "display_data",
          "data": {
            "image/png": "[encoded data removed]",
            "text/plain": [
              "<Figure size 432x288 with 1 Axes>"
            ]
          },
          "metadata": {
            "needs_background": "light"
          }
        }
      ]
    },
    {
      "cell_type": "code",
      "metadata": {
        "id": "Nl5BcHe0UODk"
      },
      "source": [
        "predictionsp2t = cross_val_predict(model, X_test, y_test, cv = 5) \n",
        "predictionsp2T = cross_val_predict(model, X_train, y_train, cv = 5) "
      ],
      "execution_count": null,
      "outputs": []
    },
    {
      "cell_type": "code",
      "metadata": {
        "colab": {
          "base_uri": "https://localhost:8080/"
        },
        "id": "yAK4Lm2LUGoT",
        "outputId": "565359d1-1dff-4e6e-cf99-d2f6204a9ab6"
      },
      "source": [
        "sqrt(mean_squared_error(y_test, predictionsp2t))"
      ],
      "execution_count": null,
      "outputs": [
        {
          "output_type": "execute_result",
          "data": {
            "text/plain": [
              "0.9008642687157702"
            ]
          },
          "metadata": {},
          "execution_count": 50
        }
      ]
    },
    {
      "cell_type": "code",
      "metadata": {
        "colab": {
          "base_uri": "https://localhost:8080/"
        },
        "id": "s_lzVl-mUGsW",
        "outputId": "b663d967-e36c-4f99-aa0a-1ff2c9db61f2"
      },
      "source": [
        "sqrt(mean_squared_error(y_train, predictionsp2T))"
      ],
      "execution_count": null,
      "outputs": [
        {
          "output_type": "execute_result",
          "data": {
            "text/plain": [
              "0.7936959268764038"
            ]
          },
          "metadata": {},
          "execution_count": 51
        }
      ]
    },
    {
      "cell_type": "code",
      "metadata": {
        "colab": {
          "base_uri": "https://localhost:8080/"
        },
        "id": "x2C76i0qUGxW",
        "outputId": "805e9640-6233-460b-9f35-a3700bd4d141"
      },
      "source": [
        "mean_absolute_error(y_train, predictionsp2T)"
      ],
      "execution_count": null,
      "outputs": [
        {
          "output_type": "execute_result",
          "data": {
            "text/plain": [
              "0.4556273508064612"
            ]
          },
          "metadata": {},
          "execution_count": 52
        }
      ]
    },
    {
      "cell_type": "code",
      "metadata": {
        "colab": {
          "base_uri": "https://localhost:8080/"
        },
        "id": "rGjo-IJ5UG1Z",
        "outputId": "3713461e-5ccd-4db7-8b96-5369ce30f087"
      },
      "source": [
        "mean_absolute_error(y_test, predictionsp2t)"
      ],
      "execution_count": null,
      "outputs": [
        {
          "output_type": "execute_result",
          "data": {
            "text/plain": [
              "0.5349929527670816"
            ]
          },
          "metadata": {},
          "execution_count": 53
        }
      ]
    },
    {
      "cell_type": "code",
      "metadata": {
        "colab": {
          "base_uri": "https://localhost:8080/",
          "height": 301
        },
        "id": "Hh2WVER7Tvah",
        "outputId": "df417199-8af2-485d-8e33-c219631dd6f8"
      },
      "source": [
        "plt.scatter(y_test, predictionsp2t, color = 'gold')\n",
        "plt.title('Production des tomates (modèle linéaire)')\n",
        "plt.xlabel('Production prédite')\n",
        "plt.ylabel('Production actuelle')\n",
        "z = np.polyfit(y_test, predictionsp2t, 1)\n",
        "p = np.poly1d(z)\n",
        "plt.plot(y_test,p(y_test), color='orange')\n",
        "plt.show()"
      ],
      "execution_count": null,
      "outputs": [
        {
          "output_type": "display_data",
          "data": {
            "image/png": "[encoded data removed]",
            "text/plain": [
              "<Figure size 432x288 with 1 Axes>"
            ]
          },
          "metadata": {
            "needs_background": "light"
          }
        }
      ]
    }
  ]
}