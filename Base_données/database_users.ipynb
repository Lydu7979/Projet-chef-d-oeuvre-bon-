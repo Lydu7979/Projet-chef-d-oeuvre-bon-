{
  "nbformat": 4,
  "nbformat_minor": 0,
  "metadata": {
    "colab": {
      "name": "database_users.ipynb",
      "provenance": []
    },
    "kernelspec": {
      "name": "python3",
      "display_name": "Python 3"
    },
    "language_info": {
      "name": "python"
    }
  },
  "cells": [
    {
      "cell_type": "code",
      "metadata": {
        "id": "llj-a7gmkMi1"
      },
      "source": [
        "import sqlite3\n",
        "import pandas as pd\n",
        "import hashlib\n",
        "from sqlalchemy import create_engine"
      ],
      "execution_count": 1,
      "outputs": []
    },
    {
      "cell_type": "code",
      "metadata": {
        "id": "IpNTE-djlww8"
      },
      "source": [
        "conn = sqlite3.connect(\"data.db\")\n",
        "\n",
        "df = pd.read_sql(\"select * from  userstable\", con=conn)\n",
        "\n",
        "conn.close()"
      ],
      "execution_count": 2,
      "outputs": []
    },
    {
      "cell_type": "code",
      "metadata": {
        "colab": {
          "base_uri": "https://localhost:8080/",
          "height": 819
        },
        "id": "lVJ7eruDsT9a",
        "outputId": "103b2c05-a563-45e7-cb7a-1abafed7f426"
      },
      "source": [
        "df['pwd_n'] = df['password'].apply(\n",
        "    lambda x: \n",
        "        hashlib.sha256(x.encode()).hexdigest()\n",
        ")\n",
        "df = df.drop([\"password\"], axis=1)\n",
        "df = df.rename(index=str, columns= {'pwd_n': 'password'})\n",
        "df"
      ],
      "execution_count": 3,
      "outputs": [
        {
          "output_type": "execute_result",
          "data": {
            "text/html": [
              "<div>\n",
              "<style scoped>\n",
              "    .dataframe tbody tr th:only-of-type {\n",
              "        vertical-align: middle;\n",
              "    }\n",
              "\n",
              "    .dataframe tbody tr th {\n",
              "        vertical-align: top;\n",
              "    }\n",
              "\n",
              "    .dataframe thead th {\n",
              "        text-align: right;\n",
              "    }\n",
              "</style>\n",
              "<table border=\"1\" class=\"dataframe\">\n",
              "  <thead>\n",
              "    <tr style=\"text-align: right;\">\n",
              "      <th></th>\n",
              "      <th>username</th>\n",
              "      <th>password</th>\n",
              "    </tr>\n",
              "  </thead>\n",
              "  <tbody>\n",
              "    <tr>\n",
              "      <th>0</th>\n",
              "      <td>Jaslo</td>\n",
              "      <td>5994471abb01112afcc18159f6cc74b4f511b99806da59...</td>\n",
              "    </tr>\n",
              "    <tr>\n",
              "      <th>1</th>\n",
              "      <td>toto</td>\n",
              "      <td>a665a45920422f9d417e4867efdc4fb8a04a1f3fff1fa0...</td>\n",
              "    </tr>\n",
              "    <tr>\n",
              "      <th>2</th>\n",
              "      <td>Sino9Z</td>\n",
              "      <td>dce88c29de615438681a0196eace3d34df3b1d37b17b7b...</td>\n",
              "    </tr>\n",
              "    <tr>\n",
              "      <th>3</th>\n",
              "      <td>moi34</td>\n",
              "      <td>dd9f4e6d863f5f4e01b23ea5ba15ab177ca58dae82ae2f...</td>\n",
              "    </tr>\n",
              "    <tr>\n",
              "      <th>4</th>\n",
              "      <td>aze4</td>\n",
              "      <td>68f7a91ee05e239acab5df5dcf15dfca9970951347b1e4...</td>\n",
              "    </tr>\n",
              "    <tr>\n",
              "      <th>5</th>\n",
              "      <td></td>\n",
              "      <td>e3b0c44298fc1c149afbf4c8996fb92427ae41e4649b93...</td>\n",
              "    </tr>\n",
              "    <tr>\n",
              "      <th>6</th>\n",
              "      <td>Nom_utilisateur</td>\n",
              "      <td>487f2799e99aefa322824849f561e6e3b29c2ce51bc0d7...</td>\n",
              "    </tr>\n",
              "    <tr>\n",
              "      <th>7</th>\n",
              "      <td>Nom_utilisateur</td>\n",
              "      <td>487f2799e99aefa322824849f561e6e3b29c2ce51bc0d7...</td>\n",
              "    </tr>\n",
              "    <tr>\n",
              "      <th>8</th>\n",
              "      <td>Nom_utilisateur</td>\n",
              "      <td>487f2799e99aefa322824849f561e6e3b29c2ce51bc0d7...</td>\n",
              "    </tr>\n",
              "    <tr>\n",
              "      <th>9</th>\n",
              "      <td>Nom_utilisateur</td>\n",
              "      <td>487f2799e99aefa322824849f561e6e3b29c2ce51bc0d7...</td>\n",
              "    </tr>\n",
              "    <tr>\n",
              "      <th>10</th>\n",
              "      <td>Ludo</td>\n",
              "      <td>9363f895169a58019e050825ee138dcd8e03df82a3d657...</td>\n",
              "    </tr>\n",
              "    <tr>\n",
              "      <th>11</th>\n",
              "      <td>Nom_utilisateur</td>\n",
              "      <td>487f2799e99aefa322824849f561e6e3b29c2ce51bc0d7...</td>\n",
              "    </tr>\n",
              "    <tr>\n",
              "      <th>12</th>\n",
              "      <td>Nom_utilisateur</td>\n",
              "      <td>487f2799e99aefa322824849f561e6e3b29c2ce51bc0d7...</td>\n",
              "    </tr>\n",
              "    <tr>\n",
              "      <th>13</th>\n",
              "      <td>Nom_utilisateur</td>\n",
              "      <td>487f2799e99aefa322824849f561e6e3b29c2ce51bc0d7...</td>\n",
              "    </tr>\n",
              "    <tr>\n",
              "      <th>14</th>\n",
              "      <td>Nom_utilisateur</td>\n",
              "      <td>487f2799e99aefa322824849f561e6e3b29c2ce51bc0d7...</td>\n",
              "    </tr>\n",
              "    <tr>\n",
              "      <th>15</th>\n",
              "      <td>Nom_utilisateur</td>\n",
              "      <td>487f2799e99aefa322824849f561e6e3b29c2ce51bc0d7...</td>\n",
              "    </tr>\n",
              "    <tr>\n",
              "      <th>16</th>\n",
              "      <td>Nom_utilisateur</td>\n",
              "      <td>487f2799e99aefa322824849f561e6e3b29c2ce51bc0d7...</td>\n",
              "    </tr>\n",
              "    <tr>\n",
              "      <th>17</th>\n",
              "      <td>Nom_utilisateur</td>\n",
              "      <td>487f2799e99aefa322824849f561e6e3b29c2ce51bc0d7...</td>\n",
              "    </tr>\n",
              "    <tr>\n",
              "      <th>18</th>\n",
              "      <td>Nom_utilisateur</td>\n",
              "      <td>487f2799e99aefa322824849f561e6e3b29c2ce51bc0d7...</td>\n",
              "    </tr>\n",
              "    <tr>\n",
              "      <th>19</th>\n",
              "      <td>Nom_utilisateur</td>\n",
              "      <td>487f2799e99aefa322824849f561e6e3b29c2ce51bc0d7...</td>\n",
              "    </tr>\n",
              "    <tr>\n",
              "      <th>20</th>\n",
              "      <td>Nom_utilisateur</td>\n",
              "      <td>487f2799e99aefa322824849f561e6e3b29c2ce51bc0d7...</td>\n",
              "    </tr>\n",
              "    <tr>\n",
              "      <th>21</th>\n",
              "      <td>Nom_utilisateur</td>\n",
              "      <td>487f2799e99aefa322824849f561e6e3b29c2ce51bc0d7...</td>\n",
              "    </tr>\n",
              "    <tr>\n",
              "      <th>22</th>\n",
              "      <td>Nom_utilisateur</td>\n",
              "      <td>487f2799e99aefa322824849f561e6e3b29c2ce51bc0d7...</td>\n",
              "    </tr>\n",
              "    <tr>\n",
              "      <th>23</th>\n",
              "      <td>Nom_utilisateur</td>\n",
              "      <td>487f2799e99aefa322824849f561e6e3b29c2ce51bc0d7...</td>\n",
              "    </tr>\n",
              "    <tr>\n",
              "      <th>24</th>\n",
              "      <td>Molop</td>\n",
              "      <td>1d72b6d9326cf6738851ccc592ff93df00bb605609b7f6...</td>\n",
              "    </tr>\n",
              "  </tbody>\n",
              "</table>\n",
              "</div>"
            ],
            "text/plain": [
              "           username                                           password\n",
              "0             Jaslo  5994471abb01112afcc18159f6cc74b4f511b99806da59...\n",
              "1              toto  a665a45920422f9d417e4867efdc4fb8a04a1f3fff1fa0...\n",
              "2            Sino9Z  dce88c29de615438681a0196eace3d34df3b1d37b17b7b...\n",
              "3             moi34  dd9f4e6d863f5f4e01b23ea5ba15ab177ca58dae82ae2f...\n",
              "4              aze4  68f7a91ee05e239acab5df5dcf15dfca9970951347b1e4...\n",
              "5                    e3b0c44298fc1c149afbf4c8996fb92427ae41e4649b93...\n",
              "6   Nom_utilisateur  487f2799e99aefa322824849f561e6e3b29c2ce51bc0d7...\n",
              "7   Nom_utilisateur  487f2799e99aefa322824849f561e6e3b29c2ce51bc0d7...\n",
              "8   Nom_utilisateur  487f2799e99aefa322824849f561e6e3b29c2ce51bc0d7...\n",
              "9   Nom_utilisateur  487f2799e99aefa322824849f561e6e3b29c2ce51bc0d7...\n",
              "10             Ludo  9363f895169a58019e050825ee138dcd8e03df82a3d657...\n",
              "11  Nom_utilisateur  487f2799e99aefa322824849f561e6e3b29c2ce51bc0d7...\n",
              "12  Nom_utilisateur  487f2799e99aefa322824849f561e6e3b29c2ce51bc0d7...\n",
              "13  Nom_utilisateur  487f2799e99aefa322824849f561e6e3b29c2ce51bc0d7...\n",
              "14  Nom_utilisateur  487f2799e99aefa322824849f561e6e3b29c2ce51bc0d7...\n",
              "15  Nom_utilisateur  487f2799e99aefa322824849f561e6e3b29c2ce51bc0d7...\n",
              "16  Nom_utilisateur  487f2799e99aefa322824849f561e6e3b29c2ce51bc0d7...\n",
              "17  Nom_utilisateur  487f2799e99aefa322824849f561e6e3b29c2ce51bc0d7...\n",
              "18  Nom_utilisateur  487f2799e99aefa322824849f561e6e3b29c2ce51bc0d7...\n",
              "19  Nom_utilisateur  487f2799e99aefa322824849f561e6e3b29c2ce51bc0d7...\n",
              "20  Nom_utilisateur  487f2799e99aefa322824849f561e6e3b29c2ce51bc0d7...\n",
              "21  Nom_utilisateur  487f2799e99aefa322824849f561e6e3b29c2ce51bc0d7...\n",
              "22  Nom_utilisateur  487f2799e99aefa322824849f561e6e3b29c2ce51bc0d7...\n",
              "23  Nom_utilisateur  487f2799e99aefa322824849f561e6e3b29c2ce51bc0d7...\n",
              "24            Molop  1d72b6d9326cf6738851ccc592ff93df00bb605609b7f6..."
            ]
          },
          "metadata": {},
          "execution_count": 3
        }
      ]
    },
    {
      "cell_type": "code",
      "metadata": {
        "id": "mq7wAKVIwecx"
      },
      "source": [
        "df.to_csv('Users.csv') #pour sauvegarder la nouvelle database sous forme csv"
      ],
      "execution_count": 4,
      "outputs": []
    },
    {
      "cell_type": "code",
      "metadata": {
        "colab": {
          "base_uri": "https://localhost:8080/"
        },
        "id": "bvNJGqrlwrRG",
        "outputId": "7fbb5b3c-dfef-4f7c-de75-31fce6dc6f5a"
      },
      "source": [
        "engine = create_engine('sqlite:////content/Users.db', echo=False)\n",
        "\n",
        "df.to_sql('Users', con = engine, if_exists='replace',\n",
        "           index_label='id' )\n",
        "\n",
        "engine.execute(\"SELECT * FROM Users\").fetchall()"
      ],
      "execution_count": 5,
      "outputs": [
        {
          "output_type": "execute_result",
          "data": {
            "text/plain": [
              "[('0', 'Jaslo', '5994471abb01112afcc18159f6cc74b4f511b99806da59b3caf5a9c173cacfc5'),\n",
              " ('1', 'toto', 'a665a45920422f9d417e4867efdc4fb8a04a1f3fff1fa07e998e86f7f7a27ae3'),\n",
              " ('2', 'Sino9Z', 'dce88c29de615438681a0196eace3d34df3b1d37b17b7b1dade0801220589b59'),\n",
              " ('3', 'moi34', 'dd9f4e6d863f5f4e01b23ea5ba15ab177ca58dae82ae2f6979477805f3ee21a3'),\n",
              " ('4', 'aze4', '68f7a91ee05e239acab5df5dcf15dfca9970951347b1e42c8c108bfa48e5277d'),\n",
              " ('5', '', 'e3b0c44298fc1c149afbf4c8996fb92427ae41e4649b934ca495991b7852b855'),\n",
              " ('6', 'Nom_utilisateur', '487f2799e99aefa322824849f561e6e3b29c2ce51bc0d7f22ef38f2dd4f5099c'),\n",
              " ('7', 'Nom_utilisateur', '487f2799e99aefa322824849f561e6e3b29c2ce51bc0d7f22ef38f2dd4f5099c'),\n",
              " ('8', 'Nom_utilisateur', '487f2799e99aefa322824849f561e6e3b29c2ce51bc0d7f22ef38f2dd4f5099c'),\n",
              " ('9', 'Nom_utilisateur', '487f2799e99aefa322824849f561e6e3b29c2ce51bc0d7f22ef38f2dd4f5099c'),\n",
              " ('10', 'Ludo', '9363f895169a58019e050825ee138dcd8e03df82a3d6575807427f002713eeb5'),\n",
              " ('11', 'Nom_utilisateur', '487f2799e99aefa322824849f561e6e3b29c2ce51bc0d7f22ef38f2dd4f5099c'),\n",
              " ('12', 'Nom_utilisateur', '487f2799e99aefa322824849f561e6e3b29c2ce51bc0d7f22ef38f2dd4f5099c'),\n",
              " ('13', 'Nom_utilisateur', '487f2799e99aefa322824849f561e6e3b29c2ce51bc0d7f22ef38f2dd4f5099c'),\n",
              " ('14', 'Nom_utilisateur', '487f2799e99aefa322824849f561e6e3b29c2ce51bc0d7f22ef38f2dd4f5099c'),\n",
              " ('15', 'Nom_utilisateur', '487f2799e99aefa322824849f561e6e3b29c2ce51bc0d7f22ef38f2dd4f5099c'),\n",
              " ('16', 'Nom_utilisateur', '487f2799e99aefa322824849f561e6e3b29c2ce51bc0d7f22ef38f2dd4f5099c'),\n",
              " ('17', 'Nom_utilisateur', '487f2799e99aefa322824849f561e6e3b29c2ce51bc0d7f22ef38f2dd4f5099c'),\n",
              " ('18', 'Nom_utilisateur', '487f2799e99aefa322824849f561e6e3b29c2ce51bc0d7f22ef38f2dd4f5099c'),\n",
              " ('19', 'Nom_utilisateur', '487f2799e99aefa322824849f561e6e3b29c2ce51bc0d7f22ef38f2dd4f5099c'),\n",
              " ('20', 'Nom_utilisateur', '487f2799e99aefa322824849f561e6e3b29c2ce51bc0d7f22ef38f2dd4f5099c'),\n",
              " ('21', 'Nom_utilisateur', '487f2799e99aefa322824849f561e6e3b29c2ce51bc0d7f22ef38f2dd4f5099c'),\n",
              " ('22', 'Nom_utilisateur', '487f2799e99aefa322824849f561e6e3b29c2ce51bc0d7f22ef38f2dd4f5099c'),\n",
              " ('23', 'Nom_utilisateur', '487f2799e99aefa322824849f561e6e3b29c2ce51bc0d7f22ef38f2dd4f5099c'),\n",
              " ('24', 'Molop', '1d72b6d9326cf6738851ccc592ff93df00bb605609b7f6e525d7eeab513af494')]"
            ]
          },
          "metadata": {},
          "execution_count": 5
        }
      ]
    }
  ]
}